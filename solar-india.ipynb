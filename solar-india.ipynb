{
 "cells": [
  {
   "cell_type": "markdown",
   "metadata": {
    "id": "DqupkZYoi-Un"
   },
   "source": [
    "### Data Analysis with Python: Zero to Pandas - Course Project Guidelines\n",
    "#### (remove this cell before submission)\n",
    "\n",
    "Make submissions here:  https://jovian.ml/learn/data-analysis-with-python-zero-to-pandas/assignment/course-project\n",
    "\n",
    "This is the starter notebook for the course project for [Data Analysis with Python: Zero to Pandas](https://jovian.ml/learn/data-analysis-with-python-zero-to-pandas). For the course project, you will pick a real-world dataset of your choice and apply the concepts learned in this course to perform exploratory data analysis. Use this starter notebook as an outline for your project (you can also start with an empty new notebook). Focus on the documentation and presentation - this Jupyter notebook will also serve as a project report, so make sure to include detailed explanations wherever possible using Markdown cells.\n",
    "\n",
    "#### Step 1: Select a real-world dataset \n",
    "\n",
    "- Find and download an interesting real-world dataset (see the Recommended Datasets section below for ideas). \n",
    "\n",
    "- The dataset should contain tabular data (rows & columns), preferably in CSV/JSON/XLS or other formats that can be read using Pandas. If it's not in a compatible format, you may have to write some code to convert it to a desired format.\n",
    "- The dataset should contain at least 3 columns and 150 rows of data. You can also combine data from multiple sources to create a large enough dataset.\n",
    "\n",
    "\n",
    "#### Step 2: Perform data preparation & cleaning\n",
    "\n",
    "- Load the dataset into a data frame using Pandas\n",
    "- Explore the number of rows & columns, ranges of values etc.\n",
    "- Handle missing, incorrect and invalid data\n",
    "- Perform any additional steps (parsing dates, creating additional columns, merging multiple dataset etc.)\n",
    "\n",
    "\n",
    "#### Step 3: Perform exploratory Analysis & Visualization\n",
    "\n",
    "- Compute the mean, sum, range and other interesting statistics for numeric columns\n",
    "- Explore distributions of numeric columns using histograms etc.\n",
    "- Explore relationship between columns using scatter plots, bar charts etc.\n",
    "- Make a note of interesting insights from the exploratory analysis\n",
    "\n",
    "#### Step 4: Ask & answer questions about the data\n",
    "\n",
    "- Ask at least 5 interesting questions about your dataset\n",
    "- Answer the questions either by computing the results using Numpy/Pandas or by plotting graphs using Matplotlib/Seaborn\n",
    "- Create new columns, merge multiple datasets and perform grouping/aggregation wherever necessary\n",
    "- Wherever you're using a library function from Pandas/Numpy/Matplotlib etc. explain briefly what it does\n",
    "\n",
    "\n",
    "#### Step 5: Summarize your inferences & write a conclusion\n",
    "\n",
    "- Write a summary of what you've learned from the analysis\n",
    "- Include interesting insights and graphs from previous sections\n",
    "- Share ideas for future work on the same topic using other relevant datasets\n",
    "- Share links to resources you found useful during your analysis\n",
    "\n",
    "\n",
    "#### Step 6: Make a submission & share your work\n",
    "\n",
    "- Upload your notebook to your Jovian.ml profile using `jovian.commit`.\n",
    "- **Make a submission here**: https://jovian.ml/learn/data-analysis-with-python-zero-to-pandas/assignment/course-project\n",
    "- Share your work on the forum: https://jovian.ml/forum/t/course-project-on-exploratory-data-analysis-discuss-and-share-your-work/11684\n",
    "\n",
    "- Browse through projects shared by other participants and give feedback\n",
    "\n",
    "\n",
    "#### (Optional) Step 7: Write a blog post\n",
    "\n",
    "- A blog post is a great way to present and showcase your work.  \n",
    "- Sign up on [Medium.com](https://medium.com) to write a blog post for your project.\n",
    "- Copy over the explanations from your Jupyter notebook into your blog post, and [embed code cells & outputs](https://medium.com/jovianml/share-and-embed-jupyter-notebooks-online-with-jovian-ml-df709a03064e)\n",
    "- Check out the Jovian.ml Medium publication for inspiration: https://medium.com/jovianml\n",
    "\n",
    "\n",
    "\n",
    "### Recommended Datasets\n",
    "\n",
    "\n",
    "Use the following resources for finding interesting datasets:\n",
    "\n",
    "- [Recommended datasets for the course project](https://jovian.ml/forum/t/recommended-datasets-for-course-project/11711)\n",
    "- [Kaggle datasets](https://www.kaggle.com/datasets)\n",
    "- [UCI Machine Learning Repository](http://archive.ics.uci.edu/ml/index.php)\n",
    "- [awesome-public-datasets](https://github.com/awesomedata/awesome-public-datasets)\n",
    "- [Google Dataset Search](https://datasetsearch.research.google.com)\n",
    "- [Your personal data from online services](https://www.popsci.com/download-digital-personal-information/)\n",
    "\n",
    "\n",
    "\n",
    "### Example Projects\n",
    "\n",
    "Refer to these projects for inspiration:\n",
    "\n",
    "* [Analyzing your browser history using Pandas & Seaborn](https://medium.com/free-code-camp/understanding-my-browsing-pattern-using-pandas-and-seaborn-162b97e33e51)\n",
    "\n",
    "* [WhatsApp Chat Data Analysis](https://jovian.ml/PrajwalPrashanth/whatsapp-chat-data-analysis)\n",
    "\n",
    "* [Analyzing Covid-19 data using Pandas](https://jovian.ml/aakashns/python-pandas-data-analysis) \n",
    "\n",
    "* [Understanding the Gender Divide in Data Science Roles](https://medium.com/datadriveninvestor/exploratory-data-analysis-eda-understanding-the-gender-divide-in-data-science-roles-9faa5da44f5b)\n",
    "\n",
    "* [2019 State of Javascript Survey Results](https://2019.stateofjs.com/demographics/)\n",
    "\n",
    "* [2020 Stack Overflow Developer Survey Results](https://insights.stackoverflow.com/survey/2020)\n",
    "\n",
    "\n",
    "### Evaluation Criteria\n",
    "\n",
    "Your submission will be evaluated using the following criteria:\n",
    "\n",
    "* Dataset must contain at least 3 columns and 150 rows of data\n",
    "* You must ask and answer at least 5 questions about the dataset\n",
    "* Your submission must include at least 5 visualizations (graphs)\n",
    "* Your submission must include explanations using markdown cells, apart from the code.\n",
    "* Your work must not be plagiarized i.e. copy-pasted from somewhere else.\n",
    "\n",
    "\n",
    "**NOTE**: Remove this cell containing the instructions before making your submission. You can do using the \"Edit > Delete Cells\" menu option."
   ]
  },
  {
   "cell_type": "markdown",
   "metadata": {
    "id": "UlnMnt-li-Un"
   },
   "source": [
    "# Solar India\n",
    "\n",
    "An analysis of two solar plants in India, based on the awesome Solar Power Generation Dataset.\n",
    "\n"
   ]
  },
  {
   "cell_type": "code",
   "execution_count": 1,
   "metadata": {
    "id": "UE9uY5hzi-Un"
   },
   "outputs": [],
   "source": [
    "project_name = \"solar-india\" \n",
    "filename=project_name+\".ipynb\""
   ]
  },
  {
   "source": [
    "Install and import all the needed packages"
   ],
   "cell_type": "markdown",
   "metadata": {}
  },
  {
   "cell_type": "code",
   "execution_count": 2,
   "metadata": {
    "id": "qOM9hODEi-Un"
   },
   "outputs": [],
   "source": [
    "!pip install jovian opendatasets gitpython  -U -q"
   ]
  },
  {
   "cell_type": "code",
   "execution_count": 3,
   "metadata": {
    "id": "dSXuHjzyi-Uo"
   },
   "outputs": [
    {
     "output_type": "display_data",
     "data": {
      "text/plain": "<IPython.core.display.Javascript object>",
      "application/javascript": "if (window.IPython && IPython.notebook.kernel) IPython.notebook.kernel.execute('jovian.utils.jupyter.get_notebook_name_saved = lambda: \"' + IPython.notebook.notebook_name + '\"')"
     },
     "metadata": {}
    }
   ],
   "source": [
    "import jovian\n",
    "import opendatasets as od\n",
    "import matplotlib.pyplot as plt\n",
    "import seaborn as sns\n",
    "import pandas as pd\n",
    "import numpy as np\n",
    "import os\n",
    "from os.path import isfile, join\n",
    "from git import Repo\n",
    "%matplotlib inline"
   ]
  },
  {
   "cell_type": "markdown",
   "source": [
    "#### Commit method\n",
    "This is a commit method that will simultaniously upload to [jovian.ai](https://jovian.ai/charitarthchugh/solar-india) and [github.com](https://github.com/charitarthchugh/solar-india).\n",
    "This will only update in Github when there is a Git repository present because the Jovian library's commit feature only works when a git repository is detected. This function is able to push directly to the origin repository from the remote."
   ],
   "metadata": {
    "collapsed": false,
    "pycharm": {
     "name": "#%% md\n"
    }
   }
  },
  {
   "cell_type": "code",
   "execution_count": 4,
   "metadata": {
    "id": "eHRgI1aei-Up"
   },
   "outputs": [],
   "source": [
    "files=[f for f in os.listdir(os.getcwd()+ \"/data\") if isfile(join(os.getcwd()+ \"/data\", f))]\n",
    "def commit():\n",
    "    \"\"\"\n",
    "\n",
    "    :return: None\n",
    "    \"\"\"\n",
    "\n",
    "    jovian.commit(\n",
    "        project=project_name, \n",
    "        filename=filename,\n",
    "        files=files,\n",
    "        git_commit=True,\n",
    "        environment=\"conda\")\n",
    "    # We have to perform a manual check ourselves if there is a git repository present.\n",
    "    git_dir = os.getcwd()+\"/.git\"\n",
    "    if os.path.exists(git_dir):\n",
    "        #\n",
    "        # noinspection PyBroadException\n",
    "        try:\n",
    "            repo = Repo(git_dir)\n",
    "            origin = repo.remote(name=\"origin\")\n",
    "            origin.push()\n",
    "            print(\"Pushed Successfully!\")\n",
    "        # If there is a Failure in pushing to origin.\n",
    "        except:\n",
    "            print(\"Error occurred while pushing repository to origin\")\n",
    "    else:\n",
    "        print(\"Not in a git repository, skipping\")"
   ]
  },
  {
   "cell_type": "markdown",
   "metadata": {
    "id": "wnEowoDVi-Up"
   },
   "source": [
    "## Data Preparation and Cleaning\n",
    "  \n",
    "**TODO:**\n",
    "    \n",
    "1.  Download the dataset\n",
    "2.  Import into Pandas\n",
    "3.  Clean redundant data\n",
    "4.  Create Class for each plant\n",
    "\n",
    "\n",
    "\n"
   ]
  },
  {
   "cell_type": "code",
   "execution_count": 5,
   "metadata": {
    "colab": {
     "base_uri": "https://localhost:8080/",
     "height": 647
    },
    "id": "TX7jfyphi-Up",
    "outputId": "9ebe6533-efe9-4e26-d1e2-3108df0d1836"
   },
   "outputs": [],
   "source": [
    "# Download the dataset from Kaggle using opendatasets only if it does not exist already locally. Needs a Kaggle Account.\n",
    "#if not os.path.isfile(files[0]):\n",
    " #   od.download(\"https://www.kaggle.com/anikannal/solar-power-generation-data\", data_dir=os.getcwd().join(\"/data\"))"
   ]
  },
  {
   "cell_type": "markdown",
   "source": [
    "### Dataset Information\n",
    "\"This data has been gathered at two solar power plants in India over a 34 day period. It has two pairs of files - each pair has one power generation dataset and one sensor readings dataset. The power generation datasets are gathered at the inverter level - each inverter has multiple lines of solar panels attached to it. The sensor data is gathered at a plant level - single array of sensors optimally placed at the plant.\"(Kaggle dataset description. Author: Ani Kannal)  \n",
    "Here is the dataset column information, split into two sections- Generation and Weather.\n",
    "\n",
    "**Generation Data**\n",
    "\n",
    "| Field                                | Description                                                                                          |\n",
    "|:------------------------------------:|:---------------------------------------------------------------------------------------------------- |\n",
    "| `DATE_TIME`                          | Date and time for each observation. Observations recorded at 15 minute intervals.                    |\n",
    "| `PLANT_ID`                           | Unique numerical ID for each solar plant.                                                            |\n",
    "| `SOURCE_KEY` (used as `INVERTER_ID`) | Unique alphanumerical ID for each inverter                                                           |\n",
    "| `DC_POWER`                           | Amount of DC power generated by the inverter `SOURCE_KEY`, in kilowatts, in this 15 minute interval. |\n",
    "| `AC_POWER`                           | Amount of AC power generated by the inverter `SOURCE_KEY`, in kilowatts, in this 15 minute interval. |\n",
    "| `TOTAL_YEILD`                        | This is the total yield for the inverter till that point in time. Does not start at 0.               |\n",
    "\n",
    "**Weather Data**\n",
    "\n",
    "| Field                                      | Description                                                                                                                 |\n",
    "|:------------------------------------------:| --------------------------------------------------------------------------------------------------------------------------- |\n",
    "| `DATE_TIME`                                | Date and time for each observation. Observations recorded at 15 minute intervals.                                           |\n",
    "| `PLANT_ID`                                 | Unique numerical ID for each solar plant.                                                                                   |\n",
    "| `SOURCE_KEY`   (used as `sensor_panel_id`) | Stands for the sensor panel id. This will be common for the entire file because there's only one sensor panel for the plant |\n",
    "| `AMBIENT_TEMPERATURE`                      | This is the ambient temperature at the plant.                                                                               |\n",
    "| `MODULE_TEMPERATURE`                       | There's a module (solar panel) attached to the sensor panel. This is the temperature reading for that module.               |\n",
    "| `IRRIDATION`                               | Amount of irradiation for the 15 minute interval.                                                                           |"
   ],
   "metadata": {
    "collapsed": false,
    "pycharm": {
     "name": "#%% md\n"
    }
   }
  },
  {
   "cell_type": "markdown",
   "source": [
    "### Load the Data"
   ],
   "metadata": {
    "collapsed": false,
    "pycharm": {
     "name": "#%% md\n"
    }
   }
  },
  {
   "cell_type": "markdown",
   "source": [
    "#### Pandas Library\n",
    "I am going to be using the [Pandas](https://pandas.pydata.org) library to interact with my dataset.\n",
    "It is a high performance library for Python to interact with datasets of many sizes that "
   ],
   "metadata": {
    "collapsed": false,
    "pycharm": {
     "name": "#%% md\n"
    }
   }
  },
  {
   "cell_type": "code",
   "metadata": {
    "id": "a2IGvzyri-Up",
    "pycharm": {
     "name": "#%%\n"
    }
   },
   "source": [
    "def weather_sensor_df(dataset: int) -> pd.core.frame.DataFrame:\n",
    "    tmp=pd.core.frame.DataFrame\n",
    "    if dataset==1:\n",
    "        tmp=pd.read_csv(os.getcwd()+\"/data/solar-power-generation/Plant_1_Weather_Sensor_Data.csv\")\n",
    "    elif dataset==2:\n",
    "        tmp=pd.read_csv(os.getcwd()+\"/data/solar-power-generation/Plant_2_Weather_Sensor_Data.csv\")\n",
    "    # Drop SOURCE_KEY too for same reason--> now it is sensor_panel_id, a property of this class\n",
    "    tmp.drop(columns=[\"PLANT_ID\",\"SOURCE_KEY\"], inplace=True)\n",
    "    return tmp\n",
    "def generation_df(dataset):\n",
    "    tmp=pd.core.frame.DataFrame\n",
    "    if dataset==1:\n",
    "        tmp=pd.read_csv(os.getcwd()+\"/data/solar-power-generation/Plant_1_Generation_Data.csv\")\n",
    "    elif dataset==2:\n",
    "        tmp=pd.read_csv(os.getcwd()+\"/data/solar-power-generation/Plant_2_Generation_Data.csv\")\n",
    "    # Have already saved the PLANT_ID as id, a property of this class\n",
    "    tmp.drop(columns=[\"PLANT_ID\"], inplace=True)\n",
    "    # Rename SOURCE_KEY to INVERTER_ID to make it clearer\n",
    "    tmp.rename(columns={ \"SOURCE_KEY\":\"INVERTER_ID\"},inplace=True)\n",
    "    return tmp"
   ],
   "execution_count": 6,
   "outputs": []
  },
  {
   "cell_type": "markdown",
   "source": [
    "#### Create Class for Plant 1 and initialize it"
   ],
   "metadata": {
    "collapsed": false,
    "pycharm": {
     "name": "#%% md\n"
    }
   }
  },
  {
   "cell_type": "code",
   "execution_count": 7,
   "outputs": [],
   "source": [
    "class Plant1:\n",
    "    id = 4135001\n",
    "    sensor_panel_id = \"HmiyD2TTLFNqkNe\"\n",
    "    generation_df = generation_df(1)\n",
    "    weather_sensor_df = weather_sensor_df(1)"
   ],
   "metadata": {
    "collapsed": false,
    "pycharm": {
     "name": "#%%\n"
    }
   }
  },
  {
   "cell_type": "code",
   "metadata": {
    "colab": {
     "base_uri": "https://localhost:8080/",
     "height": 307
    },
    "id": "eRRdcG96i-Up",
    "outputId": "e5336529-7028-4766-a246-467fc0bc2f0c",
    "pycharm": {
     "name": "#%%\n"
    }
   },
   "source": [
    "plant1=Plant1()\n",
    "plant1.generation_df"
   ],
   "execution_count": 8,
   "outputs": [
    {
     "output_type": "execute_result",
     "data": {
      "text/plain": [
       "              DATE_TIME      INVERTER_ID  DC_POWER  AC_POWER  DAILY_YIELD  \\\n",
       "0      15-05-2020 00:00  1BY6WEcLGh8j5v7       0.0       0.0        0.000   \n",
       "1      15-05-2020 00:00  1IF53ai7Xc0U56Y       0.0       0.0        0.000   \n",
       "2      15-05-2020 00:00  3PZuoBAID5Wc2HD       0.0       0.0        0.000   \n",
       "3      15-05-2020 00:00  7JYdWkrLSPkdwr4       0.0       0.0        0.000   \n",
       "4      15-05-2020 00:00  McdE0feGgRqW7Ca       0.0       0.0        0.000   \n",
       "...                 ...              ...       ...       ...          ...   \n",
       "68773  17-06-2020 23:45  uHbuxQJl8lW7ozc       0.0       0.0     5967.000   \n",
       "68774  17-06-2020 23:45  wCURE6d3bPkepu2       0.0       0.0     5147.625   \n",
       "68775  17-06-2020 23:45  z9Y9gH1T5YWrNuG       0.0       0.0     5819.000   \n",
       "68776  17-06-2020 23:45  zBIq5rxdHJRwDNY       0.0       0.0     5817.000   \n",
       "68777  17-06-2020 23:45  zVJPv84UY57bAof       0.0       0.0     5910.000   \n",
       "\n",
       "       TOTAL_YIELD  \n",
       "0        6259559.0  \n",
       "1        6183645.0  \n",
       "2        6987759.0  \n",
       "3        7602960.0  \n",
       "4        7158964.0  \n",
       "...            ...  \n",
       "68773    7287002.0  \n",
       "68774    7028601.0  \n",
       "68775    7251204.0  \n",
       "68776    6583369.0  \n",
       "68777    7363272.0  \n",
       "\n",
       "[68778 rows x 6 columns]"
      ],
      "text/html": "<div>\n<style scoped>\n    .dataframe tbody tr th:only-of-type {\n        vertical-align: middle;\n    }\n\n    .dataframe tbody tr th {\n        vertical-align: top;\n    }\n\n    .dataframe thead th {\n        text-align: right;\n    }\n</style>\n<table border=\"1\" class=\"dataframe\">\n  <thead>\n    <tr style=\"text-align: right;\">\n      <th></th>\n      <th>DATE_TIME</th>\n      <th>INVERTER_ID</th>\n      <th>DC_POWER</th>\n      <th>AC_POWER</th>\n      <th>DAILY_YIELD</th>\n      <th>TOTAL_YIELD</th>\n    </tr>\n  </thead>\n  <tbody>\n    <tr>\n      <th>0</th>\n      <td>15-05-2020 00:00</td>\n      <td>1BY6WEcLGh8j5v7</td>\n      <td>0.0</td>\n      <td>0.0</td>\n      <td>0.000</td>\n      <td>6259559.0</td>\n    </tr>\n    <tr>\n      <th>1</th>\n      <td>15-05-2020 00:00</td>\n      <td>1IF53ai7Xc0U56Y</td>\n      <td>0.0</td>\n      <td>0.0</td>\n      <td>0.000</td>\n      <td>6183645.0</td>\n    </tr>\n    <tr>\n      <th>2</th>\n      <td>15-05-2020 00:00</td>\n      <td>3PZuoBAID5Wc2HD</td>\n      <td>0.0</td>\n      <td>0.0</td>\n      <td>0.000</td>\n      <td>6987759.0</td>\n    </tr>\n    <tr>\n      <th>3</th>\n      <td>15-05-2020 00:00</td>\n      <td>7JYdWkrLSPkdwr4</td>\n      <td>0.0</td>\n      <td>0.0</td>\n      <td>0.000</td>\n      <td>7602960.0</td>\n    </tr>\n    <tr>\n      <th>4</th>\n      <td>15-05-2020 00:00</td>\n      <td>McdE0feGgRqW7Ca</td>\n      <td>0.0</td>\n      <td>0.0</td>\n      <td>0.000</td>\n      <td>7158964.0</td>\n    </tr>\n    <tr>\n      <th>...</th>\n      <td>...</td>\n      <td>...</td>\n      <td>...</td>\n      <td>...</td>\n      <td>...</td>\n      <td>...</td>\n    </tr>\n    <tr>\n      <th>68773</th>\n      <td>17-06-2020 23:45</td>\n      <td>uHbuxQJl8lW7ozc</td>\n      <td>0.0</td>\n      <td>0.0</td>\n      <td>5967.000</td>\n      <td>7287002.0</td>\n    </tr>\n    <tr>\n      <th>68774</th>\n      <td>17-06-2020 23:45</td>\n      <td>wCURE6d3bPkepu2</td>\n      <td>0.0</td>\n      <td>0.0</td>\n      <td>5147.625</td>\n      <td>7028601.0</td>\n    </tr>\n    <tr>\n      <th>68775</th>\n      <td>17-06-2020 23:45</td>\n      <td>z9Y9gH1T5YWrNuG</td>\n      <td>0.0</td>\n      <td>0.0</td>\n      <td>5819.000</td>\n      <td>7251204.0</td>\n    </tr>\n    <tr>\n      <th>68776</th>\n      <td>17-06-2020 23:45</td>\n      <td>zBIq5rxdHJRwDNY</td>\n      <td>0.0</td>\n      <td>0.0</td>\n      <td>5817.000</td>\n      <td>6583369.0</td>\n    </tr>\n    <tr>\n      <th>68777</th>\n      <td>17-06-2020 23:45</td>\n      <td>zVJPv84UY57bAof</td>\n      <td>0.0</td>\n      <td>0.0</td>\n      <td>5910.000</td>\n      <td>7363272.0</td>\n    </tr>\n  </tbody>\n</table>\n<p>68778 rows × 6 columns</p>\n</div>"
     },
     "metadata": {},
     "execution_count": 8
    }
   ]
  },
  {
   "cell_type": "markdown",
   "source": [
    "#### Create Class for Plant 2 and initialize it"
   ],
   "metadata": {
    "collapsed": false
   }
  },
  {
   "cell_type": "code",
   "execution_count": 9,
   "outputs": [],
   "source": [
    "class Plant2:\n",
    "    id = 4136001\n",
    "    sensor_panel_id = \"iq8k7ZNt4Mwm3w0\"\n",
    "    generation_df = generation_df(2)\n",
    "    weather_sensor_df = weather_sensor_df(2)"
   ],
   "metadata": {
    "collapsed": false,
    "pycharm": {
     "name": "#%%\n"
    }
   }
  },
  {
   "cell_type": "code",
   "execution_count": 10,
   "metadata": {},
   "outputs": [
    {
     "output_type": "execute_result",
     "data": {
      "text/plain": [
       "                 DATE_TIME      INVERTER_ID  DC_POWER  AC_POWER  DAILY_YIELD  \\\n",
       "0      2020-05-15 00:00:00  4UPUqMRk7TRMgml       0.0       0.0  9425.000000   \n",
       "1      2020-05-15 00:00:00  81aHJ1q11NBPMrL       0.0       0.0     0.000000   \n",
       "2      2020-05-15 00:00:00  9kRcWv60rDACzjR       0.0       0.0  3075.333333   \n",
       "3      2020-05-15 00:00:00  Et9kgGMDl729KT4       0.0       0.0   269.933333   \n",
       "4      2020-05-15 00:00:00  IQ2d7wF4YD8zU1Q       0.0       0.0  3177.000000   \n",
       "...                    ...              ...       ...       ...          ...   \n",
       "67693  2020-06-17 23:45:00  q49J1IKaHRwDQnt       0.0       0.0  4157.000000   \n",
       "67694  2020-06-17 23:45:00  rrq4fwE8jgrTyWY       0.0       0.0  3931.000000   \n",
       "67695  2020-06-17 23:45:00  vOuJvMaM2sgwLmb       0.0       0.0  4322.000000   \n",
       "67696  2020-06-17 23:45:00  xMbIugepa2P7lBB       0.0       0.0  4218.000000   \n",
       "67697  2020-06-17 23:45:00  xoJJ8DcxJEcupym       0.0       0.0  4316.000000   \n",
       "\n",
       "        TOTAL_YIELD  \n",
       "0      2.429011e+06  \n",
       "1      1.215279e+09  \n",
       "2      2.247720e+09  \n",
       "3      1.704250e+06  \n",
       "4      1.994153e+07  \n",
       "...             ...  \n",
       "67693  5.207580e+05  \n",
       "67694  1.211314e+08  \n",
       "67695  2.427691e+06  \n",
       "67696  1.068964e+08  \n",
       "67697  2.093357e+08  \n",
       "\n",
       "[67698 rows x 6 columns]"
      ],
      "text/html": "<div>\n<style scoped>\n    .dataframe tbody tr th:only-of-type {\n        vertical-align: middle;\n    }\n\n    .dataframe tbody tr th {\n        vertical-align: top;\n    }\n\n    .dataframe thead th {\n        text-align: right;\n    }\n</style>\n<table border=\"1\" class=\"dataframe\">\n  <thead>\n    <tr style=\"text-align: right;\">\n      <th></th>\n      <th>DATE_TIME</th>\n      <th>INVERTER_ID</th>\n      <th>DC_POWER</th>\n      <th>AC_POWER</th>\n      <th>DAILY_YIELD</th>\n      <th>TOTAL_YIELD</th>\n    </tr>\n  </thead>\n  <tbody>\n    <tr>\n      <th>0</th>\n      <td>2020-05-15 00:00:00</td>\n      <td>4UPUqMRk7TRMgml</td>\n      <td>0.0</td>\n      <td>0.0</td>\n      <td>9425.000000</td>\n      <td>2.429011e+06</td>\n    </tr>\n    <tr>\n      <th>1</th>\n      <td>2020-05-15 00:00:00</td>\n      <td>81aHJ1q11NBPMrL</td>\n      <td>0.0</td>\n      <td>0.0</td>\n      <td>0.000000</td>\n      <td>1.215279e+09</td>\n    </tr>\n    <tr>\n      <th>2</th>\n      <td>2020-05-15 00:00:00</td>\n      <td>9kRcWv60rDACzjR</td>\n      <td>0.0</td>\n      <td>0.0</td>\n      <td>3075.333333</td>\n      <td>2.247720e+09</td>\n    </tr>\n    <tr>\n      <th>3</th>\n      <td>2020-05-15 00:00:00</td>\n      <td>Et9kgGMDl729KT4</td>\n      <td>0.0</td>\n      <td>0.0</td>\n      <td>269.933333</td>\n      <td>1.704250e+06</td>\n    </tr>\n    <tr>\n      <th>4</th>\n      <td>2020-05-15 00:00:00</td>\n      <td>IQ2d7wF4YD8zU1Q</td>\n      <td>0.0</td>\n      <td>0.0</td>\n      <td>3177.000000</td>\n      <td>1.994153e+07</td>\n    </tr>\n    <tr>\n      <th>...</th>\n      <td>...</td>\n      <td>...</td>\n      <td>...</td>\n      <td>...</td>\n      <td>...</td>\n      <td>...</td>\n    </tr>\n    <tr>\n      <th>67693</th>\n      <td>2020-06-17 23:45:00</td>\n      <td>q49J1IKaHRwDQnt</td>\n      <td>0.0</td>\n      <td>0.0</td>\n      <td>4157.000000</td>\n      <td>5.207580e+05</td>\n    </tr>\n    <tr>\n      <th>67694</th>\n      <td>2020-06-17 23:45:00</td>\n      <td>rrq4fwE8jgrTyWY</td>\n      <td>0.0</td>\n      <td>0.0</td>\n      <td>3931.000000</td>\n      <td>1.211314e+08</td>\n    </tr>\n    <tr>\n      <th>67695</th>\n      <td>2020-06-17 23:45:00</td>\n      <td>vOuJvMaM2sgwLmb</td>\n      <td>0.0</td>\n      <td>0.0</td>\n      <td>4322.000000</td>\n      <td>2.427691e+06</td>\n    </tr>\n    <tr>\n      <th>67696</th>\n      <td>2020-06-17 23:45:00</td>\n      <td>xMbIugepa2P7lBB</td>\n      <td>0.0</td>\n      <td>0.0</td>\n      <td>4218.000000</td>\n      <td>1.068964e+08</td>\n    </tr>\n    <tr>\n      <th>67697</th>\n      <td>2020-06-17 23:45:00</td>\n      <td>xoJJ8DcxJEcupym</td>\n      <td>0.0</td>\n      <td>0.0</td>\n      <td>4316.000000</td>\n      <td>2.093357e+08</td>\n    </tr>\n  </tbody>\n</table>\n<p>67698 rows × 6 columns</p>\n</div>"
     },
     "metadata": {},
     "execution_count": 10
    }
   ],
   "source": [
    "plant2=Plant2()\n",
    "plant2.generation_df"
   ]
  },
  {
   "cell_type": "markdown",
   "metadata": {
    "id": "5rEc8REjx8Bs"
   },
   "source": [
    "Update in Jovian"
   ]
  },
  {
   "cell_type": "code",
   "execution_count": 11,
   "metadata": {
    "id": "_SGX48qri-Up"
   },
   "outputs": [],
   "source": [
    "#commit()"
   ]
  },
  {
   "cell_type": "markdown",
   "metadata": {
    "id": "iG1u7rq1i-Uq"
   },
   "source": [
    "## Exploratory Analysis and Visualization\n",
    "\n",
    "**TODO**  \n",
    "Answer exploratory questions.  \n",
    "1.   What is the distribution of ambient temperature in May-June 2015 for each of the solar plants?  \n",
    "2.   How many unique inverters are there for each plant? What is the total yeild of each inverter over a period of 34 days?    \n",
    "3.   What is the average total yeild for the inverters at each plant?  \n"
   ]
  },
  {
   "cell_type": "markdown",
   "source": [
    "### Question 2: How many unique inverters are there for each plant? How much energy(DC and AC) does each inverter generate during a period of 34 days?\n",
    "\n",
    "**STEPS**  \n",
    "\n",
    "1. Get and save the list of unique inverters using `pd.dataframe.unique` for each plant\n",
    "    * I will be storing this in NumPy arrays. NumPy is a high performace library for numerical computing and analysis. \n",
    "2. Count the number of inverters.\n",
    "3. For every inverter in the list, do final yeild-initial yeild to find the change in the yeild.\n"
   ],
   "metadata": {
    "collapsed": false,
    "pycharm": {
     "name": "#%% md\n"
    }
   }
  },
  {
   "cell_type": "code",
   "metadata": {
    "id": "GAdrhcUDi-Uq",
    "pycharm": {
     "name": "#%%\n"
    }
   },
   "source": [
    "# Get the list of inverters at every plant.\n",
    "plant_1_inverters = plant1.generation_df.INVERTER_ID.unique()\n",
    "plant_2_inverters = plant2.generation_df.INVERTER_ID.unique()\n",
    "print(\"Inverters at plant 1:\\n{}\".format(plant_1_inverters))\n",
    "print(\"\\nInverters at plant 2:\\n{}\".format(plant_2_inverters))"
   ],
   "execution_count": 12,
   "outputs": [
    {
     "output_type": "stream",
     "name": "stdout",
     "text": [
      "Inverters at plant 1:\n['1BY6WEcLGh8j5v7' '1IF53ai7Xc0U56Y' '3PZuoBAID5Wc2HD' '7JYdWkrLSPkdwr4'\n 'McdE0feGgRqW7Ca' 'VHMLBKoKgIrUVDU' 'WRmjgnKYAwPKWDb' 'ZnxXDlPa8U1GXgE'\n 'ZoEaEvLYb1n2sOq' 'adLQvlD726eNBSB' 'bvBOhCH3iADSZry' 'iCRJl6heRkivqQ3'\n 'ih0vzX44oOqAx2f' 'pkci93gMrogZuBj' 'rGa61gmuvPhdLxV' 'sjndEbLyjtCKgGv'\n 'uHbuxQJl8lW7ozc' 'wCURE6d3bPkepu2' 'z9Y9gH1T5YWrNuG' 'zBIq5rxdHJRwDNY'\n 'zVJPv84UY57bAof' 'YxYtjZvoooNbGkE']\n\nInverters at plant 2:\n['4UPUqMRk7TRMgml' '81aHJ1q11NBPMrL' '9kRcWv60rDACzjR' 'Et9kgGMDl729KT4'\n 'IQ2d7wF4YD8zU1Q' 'LYwnQax7tkwH5Cb' 'LlT2YUhhzqhg5Sw' 'Mx2yZCDsyf6DPfv'\n 'NgDl19wMapZy17u' 'PeE6FRyGXUgsRhN' 'Qf4GUc1pJu5T6c6' 'Quc1TzYxW2pYoWX'\n 'V94E5Ben1TlhnDV' 'WcxssY2VbP4hApt' 'mqwcsP2rE7J0TFp' 'oZ35aAeoifZaQzV'\n 'oZZkBaNadn6DNKz' 'q49J1IKaHRwDQnt' 'rrq4fwE8jgrTyWY' 'vOuJvMaM2sgwLmb'\n 'xMbIugepa2P7lBB' 'xoJJ8DcxJEcupym']\n"
     ]
    }
   ]
  },
  {
   "cell_type": "code",
   "execution_count": 13,
   "metadata": {
    "id": "dyX4YlYui-Uq"
   },
   "outputs": [
    {
     "output_type": "stream",
     "name": "stdout",
     "text": [
      "# of inverters at Plant 1: 22\n# of inverters at Plant 2: 22\n"
     ]
    }
   ],
   "source": [
    "# Count the number of inverters\n",
    "plant_1_inverters_count=len(plant_1_inverters)\n",
    "plant_2_inverters_count=len(plant_2_inverters)\n",
    "print(\"# of inverters at Plant 1: {}\".format(plant_1_inverters_count))\n",
    "print(\"# of inverters at Plant 2: {}\".format(plant_2_inverters_count))"
   ]
  },
  {
   "source": [
    "#### Get the Yeilds for each inverter at each plant.  \n",
    "**STEPS**  \n",
    "1. Get the minimum and maximum values of each inverter using `pd.groupby()`  \n",
    "2. Compute the delta and add it to the dataframe.  \n",
    "3. Create numerical aliases for each inverter.  \n"
   ],
   "cell_type": "markdown",
   "metadata": {}
  },
  {
   "cell_type": "code",
   "execution_count": 14,
   "metadata": {},
   "outputs": [],
   "source": [
    "def get_yields( df : pd.core.frame.DataFrame) -> pd.core.frame.DataFrame:\n",
    "    # Gets the min and max \n",
    "    result = df.groupby('INVERTER_ID')['TOTAL_YIELD'].agg(['max','min'])\n",
    "    result['delta'] = result['max']-result['min']\n",
    "    \n",
    "    # Creates aliases\n",
    "    alias = np.zeros(result.shape[0]).astype(int)\n",
    "    for i in range(result.shape[0]):\n",
    "        alias[i] = i+1\n",
    "    result['alias'] = alias\n",
    "    \n",
    "    return result\n",
    "      "
   ]
  },
  {
   "cell_type": "code",
   "execution_count": 15,
   "metadata": {
    "id": "5v4qdwq0i-Uq",
    "tags": []
   },
   "outputs": [
    {
     "output_type": "execute_result",
     "data": {
      "text/plain": [
       "                       max        min     delta  alias\n",
       "INVERTER_ID                                           \n",
       "1BY6WEcLGh8j5v7  6485319.0  6259559.0  225760.0      1\n",
       "1IF53ai7Xc0U56Y  6433566.0  6183645.0  249921.0      2\n",
       "3PZuoBAID5Wc2HD  7237425.0  6987759.0  249666.0      3\n",
       "7JYdWkrLSPkdwr4  7846821.0  7602960.0  243861.0      4\n",
       "McdE0feGgRqW7Ca  7408587.0  7158964.0  249623.0      5\n",
       "VHMLBKoKgIrUVDU  7456208.0  7206408.0  249800.0      6\n",
       "WRmjgnKYAwPKWDb  7273532.0  7028673.0  244859.0      7\n",
       "YxYtjZvoooNbGkE  7425442.0  7179966.0  245476.0      8\n",
       "ZnxXDlPa8U1GXgE  6770737.0  6522172.0  248565.0      9\n",
       "ZoEaEvLYb1n2sOq  7341753.0  7098099.0  243654.0     10\n",
       "adLQvlD726eNBSB  6524508.0  6271355.0  253153.0     11\n",
       "bvBOhCH3iADSZry  6539009.0  6316803.0  222206.0     12\n",
       "iCRJl6heRkivqQ3  7426263.0  7177992.0  248271.0     13\n",
       "ih0vzX44oOqAx2f  6426129.0  6185184.0  240945.0     14\n",
       "pkci93gMrogZuBj  7415430.0  7169102.0  246328.0     15\n",
       "rGa61gmuvPhdLxV  7356897.0  7111493.0  245404.0     16\n",
       "sjndEbLyjtCKgGv  7261681.0  7016832.0  244849.0     17\n",
       "uHbuxQJl8lW7ozc  7287002.0  7038681.0  248321.0     18\n",
       "wCURE6d3bPkepu2  7028601.0  6782598.0  246003.0     19\n",
       "z9Y9gH1T5YWrNuG  7251204.0  7007866.0  243338.0     20\n",
       "zBIq5rxdHJRwDNY  6583369.0  6339380.0  243989.0     21\n",
       "zVJPv84UY57bAof  7363272.0  7116151.0  247121.0     22"
      ],
      "text/html": "<div>\n<style scoped>\n    .dataframe tbody tr th:only-of-type {\n        vertical-align: middle;\n    }\n\n    .dataframe tbody tr th {\n        vertical-align: top;\n    }\n\n    .dataframe thead th {\n        text-align: right;\n    }\n</style>\n<table border=\"1\" class=\"dataframe\">\n  <thead>\n    <tr style=\"text-align: right;\">\n      <th></th>\n      <th>max</th>\n      <th>min</th>\n      <th>delta</th>\n      <th>alias</th>\n    </tr>\n    <tr>\n      <th>INVERTER_ID</th>\n      <th></th>\n      <th></th>\n      <th></th>\n      <th></th>\n    </tr>\n  </thead>\n  <tbody>\n    <tr>\n      <th>1BY6WEcLGh8j5v7</th>\n      <td>6485319.0</td>\n      <td>6259559.0</td>\n      <td>225760.0</td>\n      <td>1</td>\n    </tr>\n    <tr>\n      <th>1IF53ai7Xc0U56Y</th>\n      <td>6433566.0</td>\n      <td>6183645.0</td>\n      <td>249921.0</td>\n      <td>2</td>\n    </tr>\n    <tr>\n      <th>3PZuoBAID5Wc2HD</th>\n      <td>7237425.0</td>\n      <td>6987759.0</td>\n      <td>249666.0</td>\n      <td>3</td>\n    </tr>\n    <tr>\n      <th>7JYdWkrLSPkdwr4</th>\n      <td>7846821.0</td>\n      <td>7602960.0</td>\n      <td>243861.0</td>\n      <td>4</td>\n    </tr>\n    <tr>\n      <th>McdE0feGgRqW7Ca</th>\n      <td>7408587.0</td>\n      <td>7158964.0</td>\n      <td>249623.0</td>\n      <td>5</td>\n    </tr>\n    <tr>\n      <th>VHMLBKoKgIrUVDU</th>\n      <td>7456208.0</td>\n      <td>7206408.0</td>\n      <td>249800.0</td>\n      <td>6</td>\n    </tr>\n    <tr>\n      <th>WRmjgnKYAwPKWDb</th>\n      <td>7273532.0</td>\n      <td>7028673.0</td>\n      <td>244859.0</td>\n      <td>7</td>\n    </tr>\n    <tr>\n      <th>YxYtjZvoooNbGkE</th>\n      <td>7425442.0</td>\n      <td>7179966.0</td>\n      <td>245476.0</td>\n      <td>8</td>\n    </tr>\n    <tr>\n      <th>ZnxXDlPa8U1GXgE</th>\n      <td>6770737.0</td>\n      <td>6522172.0</td>\n      <td>248565.0</td>\n      <td>9</td>\n    </tr>\n    <tr>\n      <th>ZoEaEvLYb1n2sOq</th>\n      <td>7341753.0</td>\n      <td>7098099.0</td>\n      <td>243654.0</td>\n      <td>10</td>\n    </tr>\n    <tr>\n      <th>adLQvlD726eNBSB</th>\n      <td>6524508.0</td>\n      <td>6271355.0</td>\n      <td>253153.0</td>\n      <td>11</td>\n    </tr>\n    <tr>\n      <th>bvBOhCH3iADSZry</th>\n      <td>6539009.0</td>\n      <td>6316803.0</td>\n      <td>222206.0</td>\n      <td>12</td>\n    </tr>\n    <tr>\n      <th>iCRJl6heRkivqQ3</th>\n      <td>7426263.0</td>\n      <td>7177992.0</td>\n      <td>248271.0</td>\n      <td>13</td>\n    </tr>\n    <tr>\n      <th>ih0vzX44oOqAx2f</th>\n      <td>6426129.0</td>\n      <td>6185184.0</td>\n      <td>240945.0</td>\n      <td>14</td>\n    </tr>\n    <tr>\n      <th>pkci93gMrogZuBj</th>\n      <td>7415430.0</td>\n      <td>7169102.0</td>\n      <td>246328.0</td>\n      <td>15</td>\n    </tr>\n    <tr>\n      <th>rGa61gmuvPhdLxV</th>\n      <td>7356897.0</td>\n      <td>7111493.0</td>\n      <td>245404.0</td>\n      <td>16</td>\n    </tr>\n    <tr>\n      <th>sjndEbLyjtCKgGv</th>\n      <td>7261681.0</td>\n      <td>7016832.0</td>\n      <td>244849.0</td>\n      <td>17</td>\n    </tr>\n    <tr>\n      <th>uHbuxQJl8lW7ozc</th>\n      <td>7287002.0</td>\n      <td>7038681.0</td>\n      <td>248321.0</td>\n      <td>18</td>\n    </tr>\n    <tr>\n      <th>wCURE6d3bPkepu2</th>\n      <td>7028601.0</td>\n      <td>6782598.0</td>\n      <td>246003.0</td>\n      <td>19</td>\n    </tr>\n    <tr>\n      <th>z9Y9gH1T5YWrNuG</th>\n      <td>7251204.0</td>\n      <td>7007866.0</td>\n      <td>243338.0</td>\n      <td>20</td>\n    </tr>\n    <tr>\n      <th>zBIq5rxdHJRwDNY</th>\n      <td>6583369.0</td>\n      <td>6339380.0</td>\n      <td>243989.0</td>\n      <td>21</td>\n    </tr>\n    <tr>\n      <th>zVJPv84UY57bAof</th>\n      <td>7363272.0</td>\n      <td>7116151.0</td>\n      <td>247121.0</td>\n      <td>22</td>\n    </tr>\n  </tbody>\n</table>\n</div>"
     },
     "metadata": {},
     "execution_count": 15
    }
   ],
   "source": [
    "plant_1_yields = get_yields(plant1.generation_df)\n",
    "plant_1_yields"
   ]
  },
  {
   "cell_type": "code",
   "execution_count": 16,
   "metadata": {},
   "outputs": [
    {
     "output_type": "execute_result",
     "data": {
      "text/plain": [
       "Text(0, 0.5, 'Energy Generated')"
      ]
     },
     "metadata": {},
     "execution_count": 16
    },
    {
     "output_type": "display_data",
     "data": {
      "text/plain": "<Figure size 432x288 with 1 Axes>",
      "image/svg+xml": "<?xml version=\"1.0\" encoding=\"utf-8\" standalone=\"no\"?>\n<!DOCTYPE svg PUBLIC \"-//W3C//DTD SVG 1.1//EN\"\n  \"http://www.w3.org/Graphics/SVG/1.1/DTD/svg11.dtd\">\n<!-- Created with matplotlib (https://matplotlib.org/) -->\n<svg height=\"262.19625pt\" version=\"1.1\" viewBox=\"0 0 408.053125 262.19625\" width=\"408.053125pt\" xmlns=\"http://www.w3.org/2000/svg\" xmlns:xlink=\"http://www.w3.org/1999/xlink\">\n <metadata>\n  <rdf:RDF xmlns:cc=\"http://creativecommons.org/ns#\" xmlns:dc=\"http://purl.org/dc/elements/1.1/\" xmlns:rdf=\"http://www.w3.org/1999/02/22-rdf-syntax-ns#\">\n   <cc:Work>\n    <dc:type rdf:resource=\"http://purl.org/dc/dcmitype/StillImage\"/>\n    <dc:date>2020-12-15T07:57:25.474988</dc:date>\n    <dc:format>image/svg+xml</dc:format>\n    <dc:creator>\n     <cc:Agent>\n      <dc:title>Matplotlib v3.3.0, https://matplotlib.org/</dc:title>\n     </cc:Agent>\n    </dc:creator>\n   </cc:Work>\n  </rdf:RDF>\n </metadata>\n <defs>\n  <style type=\"text/css\">*{stroke-linecap:butt;stroke-linejoin:round;}</style>\n </defs>\n <g id=\"figure_1\">\n  <g id=\"patch_1\">\n   <path d=\"M 0 262.19625 \nL 408.053125 262.19625 \nL 408.053125 0 \nL 0 0 \nz\n\" style=\"fill:#ffffff;\"/>\n  </g>\n  <g id=\"axes_1\">\n   <g id=\"patch_2\">\n    <path d=\"M 66.053125 224.64 \nL 400.853125 224.64 \nL 400.853125 7.2 \nL 66.053125 7.2 \nz\n\" style=\"fill:#ffffff;\"/>\n   </g>\n   <g id=\"matplotlib.axis_1\">\n    <g id=\"xtick_1\">\n     <g id=\"text_1\">\n      <!-- 0 -->\n      <g style=\"fill:#262626;\" transform=\"translate(69.713076 239.238438)scale(0.1 -0.1)\">\n       <defs>\n        <path d=\"M 31.78125 66.40625 \nQ 24.171875 66.40625 20.328125 58.90625 \nQ 16.5 51.421875 16.5 36.375 \nQ 16.5 21.390625 20.328125 13.890625 \nQ 24.171875 6.390625 31.78125 6.390625 \nQ 39.453125 6.390625 43.28125 13.890625 \nQ 47.125 21.390625 47.125 36.375 \nQ 47.125 51.421875 43.28125 58.90625 \nQ 39.453125 66.40625 31.78125 66.40625 \nz\nM 31.78125 74.21875 \nQ 44.046875 74.21875 50.515625 64.515625 \nQ 56.984375 54.828125 56.984375 36.375 \nQ 56.984375 17.96875 50.515625 8.265625 \nQ 44.046875 -1.421875 31.78125 -1.421875 \nQ 19.53125 -1.421875 13.0625 8.265625 \nQ 6.59375 17.96875 6.59375 36.375 \nQ 6.59375 54.828125 13.0625 64.515625 \nQ 19.53125 74.21875 31.78125 74.21875 \nz\n\" id=\"DejaVuSans-48\"/>\n       </defs>\n       <use xlink:href=\"#DejaVuSans-48\"/>\n      </g>\n     </g>\n    </g>\n    <g id=\"xtick_2\">\n     <g id=\"text_2\">\n      <!-- 5 -->\n      <g style=\"fill:#262626;\" transform=\"translate(139.521249 239.238438)scale(0.1 -0.1)\">\n       <defs>\n        <path d=\"M 10.796875 72.90625 \nL 49.515625 72.90625 \nL 49.515625 64.59375 \nL 19.828125 64.59375 \nL 19.828125 46.734375 \nQ 21.96875 47.46875 24.109375 47.828125 \nQ 26.265625 48.1875 28.421875 48.1875 \nQ 40.625 48.1875 47.75 41.5 \nQ 54.890625 34.8125 54.890625 23.390625 \nQ 54.890625 11.625 47.5625 5.09375 \nQ 40.234375 -1.421875 26.90625 -1.421875 \nQ 22.3125 -1.421875 17.546875 -0.640625 \nQ 12.796875 0.140625 7.71875 1.703125 \nL 7.71875 11.625 \nQ 12.109375 9.234375 16.796875 8.0625 \nQ 21.484375 6.890625 26.703125 6.890625 \nQ 35.15625 6.890625 40.078125 11.328125 \nQ 45.015625 15.765625 45.015625 23.390625 \nQ 45.015625 31 40.078125 35.4375 \nQ 35.15625 39.890625 26.703125 39.890625 \nQ 22.75 39.890625 18.8125 39.015625 \nQ 14.890625 38.140625 10.796875 36.28125 \nz\n\" id=\"DejaVuSans-53\"/>\n       </defs>\n       <use xlink:href=\"#DejaVuSans-53\"/>\n      </g>\n     </g>\n    </g>\n    <g id=\"xtick_3\">\n     <g id=\"text_3\">\n      <!-- 10 -->\n      <g style=\"fill:#262626;\" transform=\"translate(206.148173 239.238438)scale(0.1 -0.1)\">\n       <defs>\n        <path d=\"M 12.40625 8.296875 \nL 28.515625 8.296875 \nL 28.515625 63.921875 \nL 10.984375 60.40625 \nL 10.984375 69.390625 \nL 28.421875 72.90625 \nL 38.28125 72.90625 \nL 38.28125 8.296875 \nL 54.390625 8.296875 \nL 54.390625 0 \nL 12.40625 0 \nz\n\" id=\"DejaVuSans-49\"/>\n       </defs>\n       <use xlink:href=\"#DejaVuSans-49\"/>\n       <use x=\"63.623047\" xlink:href=\"#DejaVuSans-48\"/>\n      </g>\n     </g>\n    </g>\n    <g id=\"xtick_4\">\n     <g id=\"text_4\">\n      <!-- 15 -->\n      <g style=\"fill:#262626;\" transform=\"translate(275.956346 239.238438)scale(0.1 -0.1)\">\n       <use xlink:href=\"#DejaVuSans-49\"/>\n       <use x=\"63.623047\" xlink:href=\"#DejaVuSans-53\"/>\n      </g>\n     </g>\n    </g>\n    <g id=\"xtick_5\">\n     <g id=\"text_5\">\n      <!-- 20 -->\n      <g style=\"fill:#262626;\" transform=\"translate(345.76452 239.238438)scale(0.1 -0.1)\">\n       <defs>\n        <path d=\"M 19.1875 8.296875 \nL 53.609375 8.296875 \nL 53.609375 0 \nL 7.328125 0 \nL 7.328125 8.296875 \nQ 12.9375 14.109375 22.625 23.890625 \nQ 32.328125 33.6875 34.8125 36.53125 \nQ 39.546875 41.84375 41.421875 45.53125 \nQ 43.3125 49.21875 43.3125 52.78125 \nQ 43.3125 58.59375 39.234375 62.25 \nQ 35.15625 65.921875 28.609375 65.921875 \nQ 23.96875 65.921875 18.8125 64.3125 \nQ 13.671875 62.703125 7.8125 59.421875 \nL 7.8125 69.390625 \nQ 13.765625 71.78125 18.9375 73 \nQ 24.125 74.21875 28.421875 74.21875 \nQ 39.75 74.21875 46.484375 68.546875 \nQ 53.21875 62.890625 53.21875 53.421875 \nQ 53.21875 48.921875 51.53125 44.890625 \nQ 49.859375 40.875 45.40625 35.40625 \nQ 44.1875 33.984375 37.640625 27.21875 \nQ 31.109375 20.453125 19.1875 8.296875 \nz\n\" id=\"DejaVuSans-50\"/>\n       </defs>\n       <use xlink:href=\"#DejaVuSans-50\"/>\n       <use x=\"63.623047\" xlink:href=\"#DejaVuSans-48\"/>\n      </g>\n     </g>\n    </g>\n    <g id=\"text_6\">\n     <!-- Inverters -->\n     <g style=\"fill:#262626;\" transform=\"translate(211.021094 252.916563)scale(0.1 -0.1)\">\n      <defs>\n       <path d=\"M 9.8125 72.90625 \nL 19.671875 72.90625 \nL 19.671875 0 \nL 9.8125 0 \nz\n\" id=\"DejaVuSans-73\"/>\n       <path d=\"M 54.890625 33.015625 \nL 54.890625 0 \nL 45.90625 0 \nL 45.90625 32.71875 \nQ 45.90625 40.484375 42.875 44.328125 \nQ 39.84375 48.1875 33.796875 48.1875 \nQ 26.515625 48.1875 22.3125 43.546875 \nQ 18.109375 38.921875 18.109375 30.90625 \nL 18.109375 0 \nL 9.078125 0 \nL 9.078125 54.6875 \nL 18.109375 54.6875 \nL 18.109375 46.1875 \nQ 21.34375 51.125 25.703125 53.5625 \nQ 30.078125 56 35.796875 56 \nQ 45.21875 56 50.046875 50.171875 \nQ 54.890625 44.34375 54.890625 33.015625 \nz\n\" id=\"DejaVuSans-110\"/>\n       <path d=\"M 2.984375 54.6875 \nL 12.5 54.6875 \nL 29.59375 8.796875 \nL 46.6875 54.6875 \nL 56.203125 54.6875 \nL 35.6875 0 \nL 23.484375 0 \nz\n\" id=\"DejaVuSans-118\"/>\n       <path d=\"M 56.203125 29.59375 \nL 56.203125 25.203125 \nL 14.890625 25.203125 \nQ 15.484375 15.921875 20.484375 11.0625 \nQ 25.484375 6.203125 34.421875 6.203125 \nQ 39.59375 6.203125 44.453125 7.46875 \nQ 49.3125 8.734375 54.109375 11.28125 \nL 54.109375 2.78125 \nQ 49.265625 0.734375 44.1875 -0.34375 \nQ 39.109375 -1.421875 33.890625 -1.421875 \nQ 20.796875 -1.421875 13.15625 6.1875 \nQ 5.515625 13.8125 5.515625 26.8125 \nQ 5.515625 40.234375 12.765625 48.109375 \nQ 20.015625 56 32.328125 56 \nQ 43.359375 56 49.78125 48.890625 \nQ 56.203125 41.796875 56.203125 29.59375 \nz\nM 47.21875 32.234375 \nQ 47.125 39.59375 43.09375 43.984375 \nQ 39.0625 48.390625 32.421875 48.390625 \nQ 24.90625 48.390625 20.390625 44.140625 \nQ 15.875 39.890625 15.1875 32.171875 \nz\n\" id=\"DejaVuSans-101\"/>\n       <path d=\"M 41.109375 46.296875 \nQ 39.59375 47.171875 37.8125 47.578125 \nQ 36.03125 48 33.890625 48 \nQ 26.265625 48 22.1875 43.046875 \nQ 18.109375 38.09375 18.109375 28.8125 \nL 18.109375 0 \nL 9.078125 0 \nL 9.078125 54.6875 \nL 18.109375 54.6875 \nL 18.109375 46.1875 \nQ 20.953125 51.171875 25.484375 53.578125 \nQ 30.03125 56 36.53125 56 \nQ 37.453125 56 38.578125 55.875 \nQ 39.703125 55.765625 41.0625 55.515625 \nz\n\" id=\"DejaVuSans-114\"/>\n       <path d=\"M 18.3125 70.21875 \nL 18.3125 54.6875 \nL 36.8125 54.6875 \nL 36.8125 47.703125 \nL 18.3125 47.703125 \nL 18.3125 18.015625 \nQ 18.3125 11.328125 20.140625 9.421875 \nQ 21.96875 7.515625 27.59375 7.515625 \nL 36.8125 7.515625 \nL 36.8125 0 \nL 27.59375 0 \nQ 17.1875 0 13.234375 3.875 \nQ 9.28125 7.765625 9.28125 18.015625 \nL 9.28125 47.703125 \nL 2.6875 47.703125 \nL 2.6875 54.6875 \nL 9.28125 54.6875 \nL 9.28125 70.21875 \nz\n\" id=\"DejaVuSans-116\"/>\n       <path d=\"M 44.28125 53.078125 \nL 44.28125 44.578125 \nQ 40.484375 46.53125 36.375 47.5 \nQ 32.28125 48.484375 27.875 48.484375 \nQ 21.1875 48.484375 17.84375 46.4375 \nQ 14.5 44.390625 14.5 40.28125 \nQ 14.5 37.15625 16.890625 35.375 \nQ 19.28125 33.59375 26.515625 31.984375 \nL 29.59375 31.296875 \nQ 39.15625 29.25 43.1875 25.515625 \nQ 47.21875 21.78125 47.21875 15.09375 \nQ 47.21875 7.46875 41.1875 3.015625 \nQ 35.15625 -1.421875 24.609375 -1.421875 \nQ 20.21875 -1.421875 15.453125 -0.5625 \nQ 10.6875 0.296875 5.421875 2 \nL 5.421875 11.28125 \nQ 10.40625 8.6875 15.234375 7.390625 \nQ 20.0625 6.109375 24.8125 6.109375 \nQ 31.15625 6.109375 34.5625 8.28125 \nQ 37.984375 10.453125 37.984375 14.40625 \nQ 37.984375 18.0625 35.515625 20.015625 \nQ 33.0625 21.96875 24.703125 23.78125 \nL 21.578125 24.515625 \nQ 13.234375 26.265625 9.515625 29.90625 \nQ 5.8125 33.546875 5.8125 39.890625 \nQ 5.8125 47.609375 11.28125 51.796875 \nQ 16.75 56 26.8125 56 \nQ 31.78125 56 36.171875 55.265625 \nQ 40.578125 54.546875 44.28125 53.078125 \nz\n\" id=\"DejaVuSans-115\"/>\n      </defs>\n      <use xlink:href=\"#DejaVuSans-73\"/>\n      <use x=\"29.492188\" xlink:href=\"#DejaVuSans-110\"/>\n      <use x=\"92.871094\" xlink:href=\"#DejaVuSans-118\"/>\n      <use x=\"152.050781\" xlink:href=\"#DejaVuSans-101\"/>\n      <use x=\"213.574219\" xlink:href=\"#DejaVuSans-114\"/>\n      <use x=\"254.6875\" xlink:href=\"#DejaVuSans-116\"/>\n      <use x=\"293.896484\" xlink:href=\"#DejaVuSans-101\"/>\n      <use x=\"355.419922\" xlink:href=\"#DejaVuSans-114\"/>\n      <use x=\"396.533203\" xlink:href=\"#DejaVuSans-115\"/>\n     </g>\n    </g>\n   </g>\n   <g id=\"matplotlib.axis_2\">\n    <g id=\"ytick_1\">\n     <g id=\"text_7\">\n      <!-- 200000 -->\n      <g style=\"fill:#262626;\" transform=\"translate(20.878125 228.439219)scale(0.1 -0.1)\">\n       <use xlink:href=\"#DejaVuSans-50\"/>\n       <use x=\"63.623047\" xlink:href=\"#DejaVuSans-48\"/>\n       <use x=\"127.246094\" xlink:href=\"#DejaVuSans-48\"/>\n       <use x=\"190.869141\" xlink:href=\"#DejaVuSans-48\"/>\n       <use x=\"254.492188\" xlink:href=\"#DejaVuSans-48\"/>\n       <use x=\"318.115234\" xlink:href=\"#DejaVuSans-48\"/>\n      </g>\n     </g>\n    </g>\n    <g id=\"ytick_2\">\n     <g id=\"text_8\">\n      <!-- 210000 -->\n      <g style=\"fill:#262626;\" transform=\"translate(20.878125 189.478913)scale(0.1 -0.1)\">\n       <use xlink:href=\"#DejaVuSans-50\"/>\n       <use x=\"63.623047\" xlink:href=\"#DejaVuSans-49\"/>\n       <use x=\"127.246094\" xlink:href=\"#DejaVuSans-48\"/>\n       <use x=\"190.869141\" xlink:href=\"#DejaVuSans-48\"/>\n       <use x=\"254.492188\" xlink:href=\"#DejaVuSans-48\"/>\n       <use x=\"318.115234\" xlink:href=\"#DejaVuSans-48\"/>\n      </g>\n     </g>\n    </g>\n    <g id=\"ytick_3\">\n     <g id=\"text_9\">\n      <!-- 220000 -->\n      <g style=\"fill:#262626;\" transform=\"translate(20.878125 150.518607)scale(0.1 -0.1)\">\n       <use xlink:href=\"#DejaVuSans-50\"/>\n       <use x=\"63.623047\" xlink:href=\"#DejaVuSans-50\"/>\n       <use x=\"127.246094\" xlink:href=\"#DejaVuSans-48\"/>\n       <use x=\"190.869141\" xlink:href=\"#DejaVuSans-48\"/>\n       <use x=\"254.492188\" xlink:href=\"#DejaVuSans-48\"/>\n       <use x=\"318.115234\" xlink:href=\"#DejaVuSans-48\"/>\n      </g>\n     </g>\n    </g>\n    <g id=\"ytick_4\">\n     <g id=\"text_10\">\n      <!-- 230000 -->\n      <g style=\"fill:#262626;\" transform=\"translate(20.878125 111.558301)scale(0.1 -0.1)\">\n       <defs>\n        <path d=\"M 40.578125 39.3125 \nQ 47.65625 37.796875 51.625 33 \nQ 55.609375 28.21875 55.609375 21.1875 \nQ 55.609375 10.40625 48.1875 4.484375 \nQ 40.765625 -1.421875 27.09375 -1.421875 \nQ 22.515625 -1.421875 17.65625 -0.515625 \nQ 12.796875 0.390625 7.625 2.203125 \nL 7.625 11.71875 \nQ 11.71875 9.328125 16.59375 8.109375 \nQ 21.484375 6.890625 26.8125 6.890625 \nQ 36.078125 6.890625 40.9375 10.546875 \nQ 45.796875 14.203125 45.796875 21.1875 \nQ 45.796875 27.640625 41.28125 31.265625 \nQ 36.765625 34.90625 28.71875 34.90625 \nL 20.21875 34.90625 \nL 20.21875 43.015625 \nL 29.109375 43.015625 \nQ 36.375 43.015625 40.234375 45.921875 \nQ 44.09375 48.828125 44.09375 54.296875 \nQ 44.09375 59.90625 40.109375 62.90625 \nQ 36.140625 65.921875 28.71875 65.921875 \nQ 24.65625 65.921875 20.015625 65.03125 \nQ 15.375 64.15625 9.8125 62.3125 \nL 9.8125 71.09375 \nQ 15.4375 72.65625 20.34375 73.4375 \nQ 25.25 74.21875 29.59375 74.21875 \nQ 40.828125 74.21875 47.359375 69.109375 \nQ 53.90625 64.015625 53.90625 55.328125 \nQ 53.90625 49.265625 50.4375 45.09375 \nQ 46.96875 40.921875 40.578125 39.3125 \nz\n\" id=\"DejaVuSans-51\"/>\n       </defs>\n       <use xlink:href=\"#DejaVuSans-50\"/>\n       <use x=\"63.623047\" xlink:href=\"#DejaVuSans-51\"/>\n       <use x=\"127.246094\" xlink:href=\"#DejaVuSans-48\"/>\n       <use x=\"190.869141\" xlink:href=\"#DejaVuSans-48\"/>\n       <use x=\"254.492188\" xlink:href=\"#DejaVuSans-48\"/>\n       <use x=\"318.115234\" xlink:href=\"#DejaVuSans-48\"/>\n      </g>\n     </g>\n    </g>\n    <g id=\"ytick_5\">\n     <g id=\"text_11\">\n      <!-- 240000 -->\n      <g style=\"fill:#262626;\" transform=\"translate(20.878125 72.597995)scale(0.1 -0.1)\">\n       <defs>\n        <path d=\"M 37.796875 64.3125 \nL 12.890625 25.390625 \nL 37.796875 25.390625 \nz\nM 35.203125 72.90625 \nL 47.609375 72.90625 \nL 47.609375 25.390625 \nL 58.015625 25.390625 \nL 58.015625 17.1875 \nL 47.609375 17.1875 \nL 47.609375 0 \nL 37.796875 0 \nL 37.796875 17.1875 \nL 4.890625 17.1875 \nL 4.890625 26.703125 \nz\n\" id=\"DejaVuSans-52\"/>\n       </defs>\n       <use xlink:href=\"#DejaVuSans-50\"/>\n       <use x=\"63.623047\" xlink:href=\"#DejaVuSans-52\"/>\n       <use x=\"127.246094\" xlink:href=\"#DejaVuSans-48\"/>\n       <use x=\"190.869141\" xlink:href=\"#DejaVuSans-48\"/>\n       <use x=\"254.492188\" xlink:href=\"#DejaVuSans-48\"/>\n       <use x=\"318.115234\" xlink:href=\"#DejaVuSans-48\"/>\n      </g>\n     </g>\n    </g>\n    <g id=\"ytick_6\">\n     <g id=\"text_12\">\n      <!-- 250000 -->\n      <g style=\"fill:#262626;\" transform=\"translate(20.878125 33.637689)scale(0.1 -0.1)\">\n       <use xlink:href=\"#DejaVuSans-50\"/>\n       <use x=\"63.623047\" xlink:href=\"#DejaVuSans-53\"/>\n       <use x=\"127.246094\" xlink:href=\"#DejaVuSans-48\"/>\n       <use x=\"190.869141\" xlink:href=\"#DejaVuSans-48\"/>\n       <use x=\"254.492188\" xlink:href=\"#DejaVuSans-48\"/>\n       <use x=\"318.115234\" xlink:href=\"#DejaVuSans-48\"/>\n      </g>\n     </g>\n    </g>\n    <g id=\"text_13\">\n     <!-- Energy Generated -->\n     <g style=\"fill:#262626;\" transform=\"translate(14.798438 161.541875)rotate(-90)scale(0.1 -0.1)\">\n      <defs>\n       <path d=\"M 9.8125 72.90625 \nL 55.90625 72.90625 \nL 55.90625 64.59375 \nL 19.671875 64.59375 \nL 19.671875 43.015625 \nL 54.390625 43.015625 \nL 54.390625 34.71875 \nL 19.671875 34.71875 \nL 19.671875 8.296875 \nL 56.78125 8.296875 \nL 56.78125 0 \nL 9.8125 0 \nz\n\" id=\"DejaVuSans-69\"/>\n       <path d=\"M 45.40625 27.984375 \nQ 45.40625 37.75 41.375 43.109375 \nQ 37.359375 48.484375 30.078125 48.484375 \nQ 22.859375 48.484375 18.828125 43.109375 \nQ 14.796875 37.75 14.796875 27.984375 \nQ 14.796875 18.265625 18.828125 12.890625 \nQ 22.859375 7.515625 30.078125 7.515625 \nQ 37.359375 7.515625 41.375 12.890625 \nQ 45.40625 18.265625 45.40625 27.984375 \nz\nM 54.390625 6.78125 \nQ 54.390625 -7.171875 48.1875 -13.984375 \nQ 42 -20.796875 29.203125 -20.796875 \nQ 24.46875 -20.796875 20.265625 -20.09375 \nQ 16.0625 -19.390625 12.109375 -17.921875 \nL 12.109375 -9.1875 \nQ 16.0625 -11.328125 19.921875 -12.34375 \nQ 23.78125 -13.375 27.78125 -13.375 \nQ 36.625 -13.375 41.015625 -8.765625 \nQ 45.40625 -4.15625 45.40625 5.171875 \nL 45.40625 9.625 \nQ 42.625 4.78125 38.28125 2.390625 \nQ 33.9375 0 27.875 0 \nQ 17.828125 0 11.671875 7.65625 \nQ 5.515625 15.328125 5.515625 27.984375 \nQ 5.515625 40.671875 11.671875 48.328125 \nQ 17.828125 56 27.875 56 \nQ 33.9375 56 38.28125 53.609375 \nQ 42.625 51.21875 45.40625 46.390625 \nL 45.40625 54.6875 \nL 54.390625 54.6875 \nz\n\" id=\"DejaVuSans-103\"/>\n       <path d=\"M 32.171875 -5.078125 \nQ 28.375 -14.84375 24.75 -17.8125 \nQ 21.140625 -20.796875 15.09375 -20.796875 \nL 7.90625 -20.796875 \nL 7.90625 -13.28125 \nL 13.1875 -13.28125 \nQ 16.890625 -13.28125 18.9375 -11.515625 \nQ 21 -9.765625 23.484375 -3.21875 \nL 25.09375 0.875 \nL 2.984375 54.6875 \nL 12.5 54.6875 \nL 29.59375 11.921875 \nL 46.6875 54.6875 \nL 56.203125 54.6875 \nz\n\" id=\"DejaVuSans-121\"/>\n       <path id=\"DejaVuSans-32\"/>\n       <path d=\"M 59.515625 10.40625 \nL 59.515625 29.984375 \nL 43.40625 29.984375 \nL 43.40625 38.09375 \nL 69.28125 38.09375 \nL 69.28125 6.78125 \nQ 63.578125 2.734375 56.6875 0.65625 \nQ 49.8125 -1.421875 42 -1.421875 \nQ 24.90625 -1.421875 15.25 8.5625 \nQ 5.609375 18.5625 5.609375 36.375 \nQ 5.609375 54.25 15.25 64.234375 \nQ 24.90625 74.21875 42 74.21875 \nQ 49.125 74.21875 55.546875 72.453125 \nQ 61.96875 70.703125 67.390625 67.28125 \nL 67.390625 56.78125 \nQ 61.921875 61.421875 55.765625 63.765625 \nQ 49.609375 66.109375 42.828125 66.109375 \nQ 29.4375 66.109375 22.71875 58.640625 \nQ 16.015625 51.171875 16.015625 36.375 \nQ 16.015625 21.625 22.71875 14.15625 \nQ 29.4375 6.6875 42.828125 6.6875 \nQ 48.046875 6.6875 52.140625 7.59375 \nQ 56.25 8.5 59.515625 10.40625 \nz\n\" id=\"DejaVuSans-71\"/>\n       <path d=\"M 34.28125 27.484375 \nQ 23.390625 27.484375 19.1875 25 \nQ 14.984375 22.515625 14.984375 16.5 \nQ 14.984375 11.71875 18.140625 8.90625 \nQ 21.296875 6.109375 26.703125 6.109375 \nQ 34.1875 6.109375 38.703125 11.40625 \nQ 43.21875 16.703125 43.21875 25.484375 \nL 43.21875 27.484375 \nz\nM 52.203125 31.203125 \nL 52.203125 0 \nL 43.21875 0 \nL 43.21875 8.296875 \nQ 40.140625 3.328125 35.546875 0.953125 \nQ 30.953125 -1.421875 24.3125 -1.421875 \nQ 15.921875 -1.421875 10.953125 3.296875 \nQ 6 8.015625 6 15.921875 \nQ 6 25.140625 12.171875 29.828125 \nQ 18.359375 34.515625 30.609375 34.515625 \nL 43.21875 34.515625 \nL 43.21875 35.40625 \nQ 43.21875 41.609375 39.140625 45 \nQ 35.0625 48.390625 27.6875 48.390625 \nQ 23 48.390625 18.546875 47.265625 \nQ 14.109375 46.140625 10.015625 43.890625 \nL 10.015625 52.203125 \nQ 14.9375 54.109375 19.578125 55.046875 \nQ 24.21875 56 28.609375 56 \nQ 40.484375 56 46.34375 49.84375 \nQ 52.203125 43.703125 52.203125 31.203125 \nz\n\" id=\"DejaVuSans-97\"/>\n       <path d=\"M 45.40625 46.390625 \nL 45.40625 75.984375 \nL 54.390625 75.984375 \nL 54.390625 0 \nL 45.40625 0 \nL 45.40625 8.203125 \nQ 42.578125 3.328125 38.25 0.953125 \nQ 33.9375 -1.421875 27.875 -1.421875 \nQ 17.96875 -1.421875 11.734375 6.484375 \nQ 5.515625 14.40625 5.515625 27.296875 \nQ 5.515625 40.1875 11.734375 48.09375 \nQ 17.96875 56 27.875 56 \nQ 33.9375 56 38.25 53.625 \nQ 42.578125 51.265625 45.40625 46.390625 \nz\nM 14.796875 27.296875 \nQ 14.796875 17.390625 18.875 11.75 \nQ 22.953125 6.109375 30.078125 6.109375 \nQ 37.203125 6.109375 41.296875 11.75 \nQ 45.40625 17.390625 45.40625 27.296875 \nQ 45.40625 37.203125 41.296875 42.84375 \nQ 37.203125 48.484375 30.078125 48.484375 \nQ 22.953125 48.484375 18.875 42.84375 \nQ 14.796875 37.203125 14.796875 27.296875 \nz\n\" id=\"DejaVuSans-100\"/>\n      </defs>\n      <use xlink:href=\"#DejaVuSans-69\"/>\n      <use x=\"63.183594\" xlink:href=\"#DejaVuSans-110\"/>\n      <use x=\"126.5625\" xlink:href=\"#DejaVuSans-101\"/>\n      <use x=\"188.085938\" xlink:href=\"#DejaVuSans-114\"/>\n      <use x=\"227.449219\" xlink:href=\"#DejaVuSans-103\"/>\n      <use x=\"290.925781\" xlink:href=\"#DejaVuSans-121\"/>\n      <use x=\"350.105469\" xlink:href=\"#DejaVuSans-32\"/>\n      <use x=\"381.892578\" xlink:href=\"#DejaVuSans-71\"/>\n      <use x=\"459.382812\" xlink:href=\"#DejaVuSans-101\"/>\n      <use x=\"520.90625\" xlink:href=\"#DejaVuSans-110\"/>\n      <use x=\"584.285156\" xlink:href=\"#DejaVuSans-101\"/>\n      <use x=\"645.808594\" xlink:href=\"#DejaVuSans-114\"/>\n      <use x=\"686.921875\" xlink:href=\"#DejaVuSans-97\"/>\n      <use x=\"748.201172\" xlink:href=\"#DejaVuSans-116\"/>\n      <use x=\"787.410156\" xlink:href=\"#DejaVuSans-101\"/>\n      <use x=\"848.933594\" xlink:href=\"#DejaVuSans-100\"/>\n     </g>\n    </g>\n   </g>\n   <g id=\"patch_3\">\n    <path clip-path=\"url(#p7644120592)\" d=\"M 81.271307 224.64 \nL 92.440615 224.64 \nL 92.440615 124.278252 \nL 81.271307 124.278252 \nz\n\" style=\"fill:#8dd3c7;stroke:#ffffff;stroke-linejoin:miter;\"/>\n   </g>\n   <g id=\"patch_4\">\n    <path clip-path=\"url(#p7644120592)\" d=\"M 95.232942 224.64 \nL 106.402249 224.64 \nL 106.402249 30.146257 \nL 95.232942 30.146257 \nz\n\" style=\"fill:#8dd3c7;stroke:#ffffff;stroke-linejoin:miter;\"/>\n   </g>\n   <g id=\"patch_5\">\n    <path clip-path=\"url(#p7644120592)\" d=\"M 109.194576 224.64 \nL 120.363884 224.64 \nL 120.363884 31.139744 \nL 109.194576 31.139744 \nz\n\" style=\"fill:#8dd3c7;stroke:#ffffff;stroke-linejoin:miter;\"/>\n   </g>\n   <g id=\"patch_6\">\n    <path clip-path=\"url(#p7644120592)\" d=\"M 123.156211 224.64 \nL 134.325519 224.64 \nL 134.325519 53.756202 \nL 123.156211 53.756202 \nz\n\" style=\"fill:#8dd3c7;stroke:#ffffff;stroke-linejoin:miter;\"/>\n   </g>\n   <g id=\"patch_7\">\n    <path clip-path=\"url(#p7644120592)\" d=\"M 137.117846 224.64 \nL 148.287153 224.64 \nL 148.287153 31.307274 \nL 137.117846 31.307274 \nz\n\" style=\"fill:#8dd3c7;stroke:#ffffff;stroke-linejoin:miter;\"/>\n   </g>\n   <g id=\"patch_8\">\n    <path clip-path=\"url(#p7644120592)\" d=\"M 151.07948 224.64 \nL 162.248788 224.64 \nL 162.248788 30.617676 \nL 151.07948 30.617676 \nz\n\" style=\"fill:#8dd3c7;stroke:#ffffff;stroke-linejoin:miter;\"/>\n   </g>\n   <g id=\"patch_9\">\n    <path clip-path=\"url(#p7644120592)\" d=\"M 165.041115 224.64 \nL 176.210423 224.64 \nL 176.210423 49.867963 \nL 165.041115 49.867963 \nz\n\" style=\"fill:#8dd3c7;stroke:#ffffff;stroke-linejoin:miter;\"/>\n   </g>\n   <g id=\"patch_10\">\n    <path clip-path=\"url(#p7644120592)\" d=\"M 179.00275 224.64 \nL 190.172057 224.64 \nL 190.172057 47.464113 \nL 179.00275 47.464113 \nz\n\" style=\"fill:#8dd3c7;stroke:#ffffff;stroke-linejoin:miter;\"/>\n   </g>\n   <g id=\"patch_11\">\n    <path clip-path=\"url(#p7644120592)\" d=\"M 192.964384 224.64 \nL 204.133692 224.64 \nL 204.133692 35.429274 \nL 192.964384 35.429274 \nz\n\" style=\"fill:#8dd3c7;stroke:#ffffff;stroke-linejoin:miter;\"/>\n   </g>\n   <g id=\"patch_12\">\n    <path clip-path=\"url(#p7644120592)\" d=\"M 206.926019 224.64 \nL 218.095327 224.64 \nL 218.095327 54.56268 \nL 206.926019 54.56268 \nz\n\" style=\"fill:#8dd3c7;stroke:#ffffff;stroke-linejoin:miter;\"/>\n   </g>\n   <g id=\"patch_13\">\n    <path clip-path=\"url(#p7644120592)\" d=\"M 220.887654 224.64 \nL 232.056962 224.64 \nL 232.056962 17.554286 \nL 220.887654 17.554286 \nz\n\" style=\"fill:#8dd3c7;stroke:#ffffff;stroke-linejoin:miter;\"/>\n   </g>\n   <g id=\"patch_14\">\n    <path clip-path=\"url(#p7644120592)\" d=\"M 234.849288 224.64 \nL 246.018596 224.64 \nL 246.018596 138.124745 \nL 234.849288 138.124745 \nz\n\" style=\"fill:#8dd3c7;stroke:#ffffff;stroke-linejoin:miter;\"/>\n   </g>\n   <g id=\"patch_15\">\n    <path clip-path=\"url(#p7644120592)\" d=\"M 248.810923 224.64 \nL 259.980231 224.64 \nL 259.980231 36.574707 \nL 248.810923 36.574707 \nz\n\" style=\"fill:#8dd3c7;stroke:#ffffff;stroke-linejoin:miter;\"/>\n   </g>\n   <g id=\"patch_16\">\n    <path clip-path=\"url(#p7644120592)\" d=\"M 262.772558 224.64 \nL 273.941866 224.64 \nL 273.941866 65.117027 \nL 262.772558 65.117027 \nz\n\" style=\"fill:#8dd3c7;stroke:#ffffff;stroke-linejoin:miter;\"/>\n   </g>\n   <g id=\"patch_17\">\n    <path clip-path=\"url(#p7644120592)\" d=\"M 276.734193 224.64 \nL 287.9035 224.64 \nL 287.9035 44.144695 \nL 276.734193 44.144695 \nz\n\" style=\"fill:#8dd3c7;stroke:#ffffff;stroke-linejoin:miter;\"/>\n   </g>\n   <g id=\"patch_18\">\n    <path clip-path=\"url(#p7644120592)\" d=\"M 290.695827 224.64 \nL 301.865135 224.64 \nL 301.865135 47.744627 \nL 290.695827 47.744627 \nz\n\" style=\"fill:#8dd3c7;stroke:#ffffff;stroke-linejoin:miter;\"/>\n   </g>\n   <g id=\"patch_19\">\n    <path clip-path=\"url(#p7644120592)\" d=\"M 304.657462 224.64 \nL 315.82677 224.64 \nL 315.82677 49.906924 \nL 304.657462 49.906924 \nz\n\" style=\"fill:#8dd3c7;stroke:#ffffff;stroke-linejoin:miter;\"/>\n   </g>\n   <g id=\"patch_20\">\n    <path clip-path=\"url(#p7644120592)\" d=\"M 318.619097 224.64 \nL 329.788404 224.64 \nL 329.788404 36.379906 \nL 318.619097 36.379906 \nz\n\" style=\"fill:#8dd3c7;stroke:#ffffff;stroke-linejoin:miter;\"/>\n   </g>\n   <g id=\"patch_21\">\n    <path clip-path=\"url(#p7644120592)\" d=\"M 332.580731 224.64 \nL 343.750039 224.64 \nL 343.750039 45.410904 \nL 332.580731 45.410904 \nz\n\" style=\"fill:#8dd3c7;stroke:#ffffff;stroke-linejoin:miter;\"/>\n   </g>\n   <g id=\"patch_22\">\n    <path clip-path=\"url(#p7644120592)\" d=\"M 346.542366 224.64 \nL 357.711674 224.64 \nL 357.711674 55.793826 \nL 346.542366 55.793826 \nz\n\" style=\"fill:#8dd3c7;stroke:#ffffff;stroke-linejoin:miter;\"/>\n   </g>\n   <g id=\"patch_23\">\n    <path clip-path=\"url(#p7644120592)\" d=\"M 360.504001 224.64 \nL 371.673308 224.64 \nL 371.673308 53.25751 \nL 360.504001 53.25751 \nz\n\" style=\"fill:#8dd3c7;stroke:#ffffff;stroke-linejoin:miter;\"/>\n   </g>\n   <g id=\"patch_24\">\n    <path clip-path=\"url(#p7644120592)\" d=\"M 374.465635 224.64 \nL 385.634943 224.64 \nL 385.634943 41.055142 \nL 374.465635 41.055142 \nz\n\" style=\"fill:#8dd3c7;stroke:#ffffff;stroke-linejoin:miter;\"/>\n   </g>\n   <g id=\"patch_25\">\n    <path d=\"M 66.053125 224.64 \nL 66.053125 7.2 \n\" style=\"fill:none;stroke:#262626;stroke-linecap:square;stroke-linejoin:miter;stroke-width:0.8;\"/>\n   </g>\n   <g id=\"patch_26\">\n    <path d=\"M 400.853125 224.64 \nL 400.853125 7.2 \n\" style=\"fill:none;stroke:#262626;stroke-linecap:square;stroke-linejoin:miter;stroke-width:0.8;\"/>\n   </g>\n   <g id=\"patch_27\">\n    <path d=\"M 66.053125 224.64 \nL 400.853125 224.64 \n\" style=\"fill:none;stroke:#262626;stroke-linecap:square;stroke-linejoin:miter;stroke-width:0.8;\"/>\n   </g>\n   <g id=\"patch_28\">\n    <path d=\"M 66.053125 7.2 \nL 400.853125 7.2 \n\" style=\"fill:none;stroke:#262626;stroke-linecap:square;stroke-linejoin:miter;stroke-width:0.8;\"/>\n   </g>\n  </g>\n </g>\n <defs>\n  <clipPath id=\"p7644120592\">\n   <rect height=\"217.44\" width=\"334.8\" x=\"66.053125\" y=\"7.2\"/>\n  </clipPath>\n </defs>\n</svg>\n",
      "image/png": "[encoded data removed]"
     },
     "metadata": {}
    }
   ],
   "source": [
    "sns.set_style(\"white\")\n",
    "# This allows use to exxagerate the difference.\n",
    "delta=plant_1_yields.delta-200000\n",
    "plt.bar(plant_1_yields.alias,delta,bottom=200000)\n",
    "plt.xlabel(\"Inverters\")\n",
    "plt.ylabel(\"Energy Generated\")\n"
   ]
  },
  {
   "cell_type": "code",
   "execution_count": 17,
   "metadata": {},
   "outputs": [
    {
     "output_type": "execute_result",
     "data": {
      "text/plain": [
       "                          max  min         delta  alias\n",
       "INVERTER_ID                                            \n",
       "4UPUqMRk7TRMgml  2.653495e+06  0.0  2.653495e+06      1\n",
       "81aHJ1q11NBPMrL  1.215486e+09  0.0  1.215486e+09      2\n",
       "9kRcWv60rDACzjR  2.247916e+09  0.0  2.247916e+09      3\n",
       "Et9kgGMDl729KT4  1.854162e+06  0.0  1.854162e+06      4\n",
       "IQ2d7wF4YD8zU1Q  2.018506e+07  0.0  2.018506e+07      5\n",
       "LYwnQax7tkwH5Cb  1.795116e+09  0.0  1.795116e+09      6\n",
       "LlT2YUhhzqhg5Sw  2.827890e+08  0.0  2.827890e+08      7\n",
       "Mx2yZCDsyf6DPfv  2.683351e+06  0.0  2.683351e+06      8\n",
       "NgDl19wMapZy17u  1.117460e+08  0.0  1.117460e+08      9\n",
       "PeE6FRyGXUgsRhN  1.348549e+09  0.0  1.348549e+09     10\n",
       "Qf4GUc1pJu5T6c6  8.386467e+08  0.0  8.386467e+08     11\n",
       "Quc1TzYxW2pYoWX  3.296459e+08  0.0  3.296459e+08     12\n",
       "V94E5Ben1TlhnDV  1.412293e+09  0.0  1.412293e+09     13\n",
       "WcxssY2VbP4hApt  1.819119e+08  0.0  1.819119e+08     14\n",
       "mqwcsP2rE7J0TFp  5.938150e+08  0.0  5.938150e+08     15\n",
       "oZ35aAeoifZaQzV  1.660189e+09  0.0  1.660189e+09     16\n",
       "oZZkBaNadn6DNKz  1.708288e+09  0.0  1.708288e+09     17\n",
       "q49J1IKaHRwDQnt  5.207580e+05  0.0  5.207580e+05     18\n",
       "rrq4fwE8jgrTyWY  1.211314e+08  0.0  1.211314e+08     19\n",
       "vOuJvMaM2sgwLmb  2.427691e+06  0.0  2.427691e+06     20\n",
       "xMbIugepa2P7lBB  1.068964e+08  0.0  1.068964e+08     21\n",
       "xoJJ8DcxJEcupym  2.093357e+08  0.0  2.093357e+08     22"
      ],
      "text/html": "<div>\n<style scoped>\n    .dataframe tbody tr th:only-of-type {\n        vertical-align: middle;\n    }\n\n    .dataframe tbody tr th {\n        vertical-align: top;\n    }\n\n    .dataframe thead th {\n        text-align: right;\n    }\n</style>\n<table border=\"1\" class=\"dataframe\">\n  <thead>\n    <tr style=\"text-align: right;\">\n      <th></th>\n      <th>max</th>\n      <th>min</th>\n      <th>delta</th>\n      <th>alias</th>\n    </tr>\n    <tr>\n      <th>INVERTER_ID</th>\n      <th></th>\n      <th></th>\n      <th></th>\n      <th></th>\n    </tr>\n  </thead>\n  <tbody>\n    <tr>\n      <th>4UPUqMRk7TRMgml</th>\n      <td>2.653495e+06</td>\n      <td>0.0</td>\n      <td>2.653495e+06</td>\n      <td>1</td>\n    </tr>\n    <tr>\n      <th>81aHJ1q11NBPMrL</th>\n      <td>1.215486e+09</td>\n      <td>0.0</td>\n      <td>1.215486e+09</td>\n      <td>2</td>\n    </tr>\n    <tr>\n      <th>9kRcWv60rDACzjR</th>\n      <td>2.247916e+09</td>\n      <td>0.0</td>\n      <td>2.247916e+09</td>\n      <td>3</td>\n    </tr>\n    <tr>\n      <th>Et9kgGMDl729KT4</th>\n      <td>1.854162e+06</td>\n      <td>0.0</td>\n      <td>1.854162e+06</td>\n      <td>4</td>\n    </tr>\n    <tr>\n      <th>IQ2d7wF4YD8zU1Q</th>\n      <td>2.018506e+07</td>\n      <td>0.0</td>\n      <td>2.018506e+07</td>\n      <td>5</td>\n    </tr>\n    <tr>\n      <th>LYwnQax7tkwH5Cb</th>\n      <td>1.795116e+09</td>\n      <td>0.0</td>\n      <td>1.795116e+09</td>\n      <td>6</td>\n    </tr>\n    <tr>\n      <th>LlT2YUhhzqhg5Sw</th>\n      <td>2.827890e+08</td>\n      <td>0.0</td>\n      <td>2.827890e+08</td>\n      <td>7</td>\n    </tr>\n    <tr>\n      <th>Mx2yZCDsyf6DPfv</th>\n      <td>2.683351e+06</td>\n      <td>0.0</td>\n      <td>2.683351e+06</td>\n      <td>8</td>\n    </tr>\n    <tr>\n      <th>NgDl19wMapZy17u</th>\n      <td>1.117460e+08</td>\n      <td>0.0</td>\n      <td>1.117460e+08</td>\n      <td>9</td>\n    </tr>\n    <tr>\n      <th>PeE6FRyGXUgsRhN</th>\n      <td>1.348549e+09</td>\n      <td>0.0</td>\n      <td>1.348549e+09</td>\n      <td>10</td>\n    </tr>\n    <tr>\n      <th>Qf4GUc1pJu5T6c6</th>\n      <td>8.386467e+08</td>\n      <td>0.0</td>\n      <td>8.386467e+08</td>\n      <td>11</td>\n    </tr>\n    <tr>\n      <th>Quc1TzYxW2pYoWX</th>\n      <td>3.296459e+08</td>\n      <td>0.0</td>\n      <td>3.296459e+08</td>\n      <td>12</td>\n    </tr>\n    <tr>\n      <th>V94E5Ben1TlhnDV</th>\n      <td>1.412293e+09</td>\n      <td>0.0</td>\n      <td>1.412293e+09</td>\n      <td>13</td>\n    </tr>\n    <tr>\n      <th>WcxssY2VbP4hApt</th>\n      <td>1.819119e+08</td>\n      <td>0.0</td>\n      <td>1.819119e+08</td>\n      <td>14</td>\n    </tr>\n    <tr>\n      <th>mqwcsP2rE7J0TFp</th>\n      <td>5.938150e+08</td>\n      <td>0.0</td>\n      <td>5.938150e+08</td>\n      <td>15</td>\n    </tr>\n    <tr>\n      <th>oZ35aAeoifZaQzV</th>\n      <td>1.660189e+09</td>\n      <td>0.0</td>\n      <td>1.660189e+09</td>\n      <td>16</td>\n    </tr>\n    <tr>\n      <th>oZZkBaNadn6DNKz</th>\n      <td>1.708288e+09</td>\n      <td>0.0</td>\n      <td>1.708288e+09</td>\n      <td>17</td>\n    </tr>\n    <tr>\n      <th>q49J1IKaHRwDQnt</th>\n      <td>5.207580e+05</td>\n      <td>0.0</td>\n      <td>5.207580e+05</td>\n      <td>18</td>\n    </tr>\n    <tr>\n      <th>rrq4fwE8jgrTyWY</th>\n      <td>1.211314e+08</td>\n      <td>0.0</td>\n      <td>1.211314e+08</td>\n      <td>19</td>\n    </tr>\n    <tr>\n      <th>vOuJvMaM2sgwLmb</th>\n      <td>2.427691e+06</td>\n      <td>0.0</td>\n      <td>2.427691e+06</td>\n      <td>20</td>\n    </tr>\n    <tr>\n      <th>xMbIugepa2P7lBB</th>\n      <td>1.068964e+08</td>\n      <td>0.0</td>\n      <td>1.068964e+08</td>\n      <td>21</td>\n    </tr>\n    <tr>\n      <th>xoJJ8DcxJEcupym</th>\n      <td>2.093357e+08</td>\n      <td>0.0</td>\n      <td>2.093357e+08</td>\n      <td>22</td>\n    </tr>\n  </tbody>\n</table>\n</div>"
     },
     "metadata": {},
     "execution_count": 17
    }
   ],
   "source": [
    "plant_2_yields = get_yields(plant2.generation_df)\n",
    "plant_2_yields"
   ]
  },
  {
   "cell_type": "code",
   "execution_count": 18,
   "metadata": {},
   "outputs": [
    {
     "output_type": "execute_result",
     "data": {
      "text/plain": [
       "Text(0, 0.5, 'Energy Generated')"
      ]
     },
     "metadata": {},
     "execution_count": 18
    },
    {
     "output_type": "display_data",
     "data": {
      "text/plain": "<Figure size 432x288 with 1 Axes>",
      "image/svg+xml": "<?xml version=\"1.0\" encoding=\"utf-8\" standalone=\"no\"?>\n<!DOCTYPE svg PUBLIC \"-//W3C//DTD SVG 1.1//EN\"\n  \"http://www.w3.org/Graphics/SVG/1.1/DTD/svg11.dtd\">\n<!-- Created with matplotlib (https://matplotlib.org/) -->\n<svg height=\"272.794688pt\" version=\"1.1\" viewBox=\"0 0 385.78125 272.794688\" width=\"385.78125pt\" xmlns=\"http://www.w3.org/2000/svg\" xmlns:xlink=\"http://www.w3.org/1999/xlink\">\n <metadata>\n  <rdf:RDF xmlns:cc=\"http://creativecommons.org/ns#\" xmlns:dc=\"http://purl.org/dc/elements/1.1/\" xmlns:rdf=\"http://www.w3.org/1999/02/22-rdf-syntax-ns#\">\n   <cc:Work>\n    <dc:type rdf:resource=\"http://purl.org/dc/dcmitype/StillImage\"/>\n    <dc:date>2020-12-15T07:57:26.445729</dc:date>\n    <dc:format>image/svg+xml</dc:format>\n    <dc:creator>\n     <cc:Agent>\n      <dc:title>Matplotlib v3.3.0, https://matplotlib.org/</dc:title>\n     </cc:Agent>\n    </dc:creator>\n   </cc:Work>\n  </rdf:RDF>\n </metadata>\n <defs>\n  <style type=\"text/css\">*{stroke-linecap:butt;stroke-linejoin:round;}</style>\n </defs>\n <g id=\"figure_1\">\n  <g id=\"patch_1\">\n   <path d=\"M 0 272.794688 \nL 385.78125 272.794688 \nL 385.78125 0 \nL 0 0 \nz\n\" style=\"fill:#ffffff;\"/>\n  </g>\n  <g id=\"axes_1\">\n   <g id=\"patch_2\">\n    <path d=\"M 43.78125 235.238438 \nL 378.58125 235.238438 \nL 378.58125 17.798438 \nL 43.78125 17.798438 \nz\n\" style=\"fill:#ffffff;\"/>\n   </g>\n   <g id=\"matplotlib.axis_1\">\n    <g id=\"xtick_1\">\n     <g id=\"text_1\">\n      <!-- 1 -->\n      <g style=\"fill:#262626;\" transform=\"translate(48.209091 249.836875)scale(0.1 -0.1)\">\n       <defs>\n        <path d=\"M 12.40625 8.296875 \nL 28.515625 8.296875 \nL 28.515625 63.921875 \nL 10.984375 60.40625 \nL 10.984375 69.390625 \nL 28.421875 72.90625 \nL 38.28125 72.90625 \nL 38.28125 8.296875 \nL 54.390625 8.296875 \nL 54.390625 0 \nL 12.40625 0 \nz\n\" id=\"DejaVuSans-49\"/>\n       </defs>\n       <use xlink:href=\"#DejaVuSans-49\"/>\n      </g>\n     </g>\n    </g>\n    <g id=\"xtick_2\">\n     <g id=\"text_2\">\n      <!-- 2 -->\n      <g style=\"fill:#262626;\" transform=\"translate(63.427273 249.836875)scale(0.1 -0.1)\">\n       <defs>\n        <path d=\"M 19.1875 8.296875 \nL 53.609375 8.296875 \nL 53.609375 0 \nL 7.328125 0 \nL 7.328125 8.296875 \nQ 12.9375 14.109375 22.625 23.890625 \nQ 32.328125 33.6875 34.8125 36.53125 \nQ 39.546875 41.84375 41.421875 45.53125 \nQ 43.3125 49.21875 43.3125 52.78125 \nQ 43.3125 58.59375 39.234375 62.25 \nQ 35.15625 65.921875 28.609375 65.921875 \nQ 23.96875 65.921875 18.8125 64.3125 \nQ 13.671875 62.703125 7.8125 59.421875 \nL 7.8125 69.390625 \nQ 13.765625 71.78125 18.9375 73 \nQ 24.125 74.21875 28.421875 74.21875 \nQ 39.75 74.21875 46.484375 68.546875 \nQ 53.21875 62.890625 53.21875 53.421875 \nQ 53.21875 48.921875 51.53125 44.890625 \nQ 49.859375 40.875 45.40625 35.40625 \nQ 44.1875 33.984375 37.640625 27.21875 \nQ 31.109375 20.453125 19.1875 8.296875 \nz\n\" id=\"DejaVuSans-50\"/>\n       </defs>\n       <use xlink:href=\"#DejaVuSans-50\"/>\n      </g>\n     </g>\n    </g>\n    <g id=\"xtick_3\">\n     <g id=\"text_3\">\n      <!-- 3 -->\n      <g style=\"fill:#262626;\" transform=\"translate(78.645455 249.836875)scale(0.1 -0.1)\">\n       <defs>\n        <path d=\"M 40.578125 39.3125 \nQ 47.65625 37.796875 51.625 33 \nQ 55.609375 28.21875 55.609375 21.1875 \nQ 55.609375 10.40625 48.1875 4.484375 \nQ 40.765625 -1.421875 27.09375 -1.421875 \nQ 22.515625 -1.421875 17.65625 -0.515625 \nQ 12.796875 0.390625 7.625 2.203125 \nL 7.625 11.71875 \nQ 11.71875 9.328125 16.59375 8.109375 \nQ 21.484375 6.890625 26.8125 6.890625 \nQ 36.078125 6.890625 40.9375 10.546875 \nQ 45.796875 14.203125 45.796875 21.1875 \nQ 45.796875 27.640625 41.28125 31.265625 \nQ 36.765625 34.90625 28.71875 34.90625 \nL 20.21875 34.90625 \nL 20.21875 43.015625 \nL 29.109375 43.015625 \nQ 36.375 43.015625 40.234375 45.921875 \nQ 44.09375 48.828125 44.09375 54.296875 \nQ 44.09375 59.90625 40.109375 62.90625 \nQ 36.140625 65.921875 28.71875 65.921875 \nQ 24.65625 65.921875 20.015625 65.03125 \nQ 15.375 64.15625 9.8125 62.3125 \nL 9.8125 71.09375 \nQ 15.4375 72.65625 20.34375 73.4375 \nQ 25.25 74.21875 29.59375 74.21875 \nQ 40.828125 74.21875 47.359375 69.109375 \nQ 53.90625 64.015625 53.90625 55.328125 \nQ 53.90625 49.265625 50.4375 45.09375 \nQ 46.96875 40.921875 40.578125 39.3125 \nz\n\" id=\"DejaVuSans-51\"/>\n       </defs>\n       <use xlink:href=\"#DejaVuSans-51\"/>\n      </g>\n     </g>\n    </g>\n    <g id=\"xtick_4\">\n     <g id=\"text_4\">\n      <!-- 4 -->\n      <g style=\"fill:#262626;\" transform=\"translate(93.863636 249.836875)scale(0.1 -0.1)\">\n       <defs>\n        <path d=\"M 37.796875 64.3125 \nL 12.890625 25.390625 \nL 37.796875 25.390625 \nz\nM 35.203125 72.90625 \nL 47.609375 72.90625 \nL 47.609375 25.390625 \nL 58.015625 25.390625 \nL 58.015625 17.1875 \nL 47.609375 17.1875 \nL 47.609375 0 \nL 37.796875 0 \nL 37.796875 17.1875 \nL 4.890625 17.1875 \nL 4.890625 26.703125 \nz\n\" id=\"DejaVuSans-52\"/>\n       </defs>\n       <use xlink:href=\"#DejaVuSans-52\"/>\n      </g>\n     </g>\n    </g>\n    <g id=\"xtick_5\">\n     <g id=\"text_5\">\n      <!-- 5 -->\n      <g style=\"fill:#262626;\" transform=\"translate(109.081818 249.836875)scale(0.1 -0.1)\">\n       <defs>\n        <path d=\"M 10.796875 72.90625 \nL 49.515625 72.90625 \nL 49.515625 64.59375 \nL 19.828125 64.59375 \nL 19.828125 46.734375 \nQ 21.96875 47.46875 24.109375 47.828125 \nQ 26.265625 48.1875 28.421875 48.1875 \nQ 40.625 48.1875 47.75 41.5 \nQ 54.890625 34.8125 54.890625 23.390625 \nQ 54.890625 11.625 47.5625 5.09375 \nQ 40.234375 -1.421875 26.90625 -1.421875 \nQ 22.3125 -1.421875 17.546875 -0.640625 \nQ 12.796875 0.140625 7.71875 1.703125 \nL 7.71875 11.625 \nQ 12.109375 9.234375 16.796875 8.0625 \nQ 21.484375 6.890625 26.703125 6.890625 \nQ 35.15625 6.890625 40.078125 11.328125 \nQ 45.015625 15.765625 45.015625 23.390625 \nQ 45.015625 31 40.078125 35.4375 \nQ 35.15625 39.890625 26.703125 39.890625 \nQ 22.75 39.890625 18.8125 39.015625 \nQ 14.890625 38.140625 10.796875 36.28125 \nz\n\" id=\"DejaVuSans-53\"/>\n       </defs>\n       <use xlink:href=\"#DejaVuSans-53\"/>\n      </g>\n     </g>\n    </g>\n    <g id=\"xtick_6\">\n     <g id=\"text_6\">\n      <!-- 6 -->\n      <g style=\"fill:#262626;\" transform=\"translate(124.3 249.836875)scale(0.1 -0.1)\">\n       <defs>\n        <path d=\"M 33.015625 40.375 \nQ 26.375 40.375 22.484375 35.828125 \nQ 18.609375 31.296875 18.609375 23.390625 \nQ 18.609375 15.53125 22.484375 10.953125 \nQ 26.375 6.390625 33.015625 6.390625 \nQ 39.65625 6.390625 43.53125 10.953125 \nQ 47.40625 15.53125 47.40625 23.390625 \nQ 47.40625 31.296875 43.53125 35.828125 \nQ 39.65625 40.375 33.015625 40.375 \nz\nM 52.59375 71.296875 \nL 52.59375 62.3125 \nQ 48.875 64.0625 45.09375 64.984375 \nQ 41.3125 65.921875 37.59375 65.921875 \nQ 27.828125 65.921875 22.671875 59.328125 \nQ 17.53125 52.734375 16.796875 39.40625 \nQ 19.671875 43.65625 24.015625 45.921875 \nQ 28.375 48.1875 33.59375 48.1875 \nQ 44.578125 48.1875 50.953125 41.515625 \nQ 57.328125 34.859375 57.328125 23.390625 \nQ 57.328125 12.15625 50.6875 5.359375 \nQ 44.046875 -1.421875 33.015625 -1.421875 \nQ 20.359375 -1.421875 13.671875 8.265625 \nQ 6.984375 17.96875 6.984375 36.375 \nQ 6.984375 53.65625 15.1875 63.9375 \nQ 23.390625 74.21875 37.203125 74.21875 \nQ 40.921875 74.21875 44.703125 73.484375 \nQ 48.484375 72.75 52.59375 71.296875 \nz\n\" id=\"DejaVuSans-54\"/>\n       </defs>\n       <use xlink:href=\"#DejaVuSans-54\"/>\n      </g>\n     </g>\n    </g>\n    <g id=\"xtick_7\">\n     <g id=\"text_7\">\n      <!-- 7 -->\n      <g style=\"fill:#262626;\" transform=\"translate(139.518182 249.836875)scale(0.1 -0.1)\">\n       <defs>\n        <path d=\"M 8.203125 72.90625 \nL 55.078125 72.90625 \nL 55.078125 68.703125 \nL 28.609375 0 \nL 18.3125 0 \nL 43.21875 64.59375 \nL 8.203125 64.59375 \nz\n\" id=\"DejaVuSans-55\"/>\n       </defs>\n       <use xlink:href=\"#DejaVuSans-55\"/>\n      </g>\n     </g>\n    </g>\n    <g id=\"xtick_8\">\n     <g id=\"text_8\">\n      <!-- 8 -->\n      <g style=\"fill:#262626;\" transform=\"translate(154.736364 249.836875)scale(0.1 -0.1)\">\n       <defs>\n        <path d=\"M 31.78125 34.625 \nQ 24.75 34.625 20.71875 30.859375 \nQ 16.703125 27.09375 16.703125 20.515625 \nQ 16.703125 13.921875 20.71875 10.15625 \nQ 24.75 6.390625 31.78125 6.390625 \nQ 38.8125 6.390625 42.859375 10.171875 \nQ 46.921875 13.96875 46.921875 20.515625 \nQ 46.921875 27.09375 42.890625 30.859375 \nQ 38.875 34.625 31.78125 34.625 \nz\nM 21.921875 38.8125 \nQ 15.578125 40.375 12.03125 44.71875 \nQ 8.5 49.078125 8.5 55.328125 \nQ 8.5 64.0625 14.71875 69.140625 \nQ 20.953125 74.21875 31.78125 74.21875 \nQ 42.671875 74.21875 48.875 69.140625 \nQ 55.078125 64.0625 55.078125 55.328125 \nQ 55.078125 49.078125 51.53125 44.71875 \nQ 48 40.375 41.703125 38.8125 \nQ 48.828125 37.15625 52.796875 32.3125 \nQ 56.78125 27.484375 56.78125 20.515625 \nQ 56.78125 9.90625 50.3125 4.234375 \nQ 43.84375 -1.421875 31.78125 -1.421875 \nQ 19.734375 -1.421875 13.25 4.234375 \nQ 6.78125 9.90625 6.78125 20.515625 \nQ 6.78125 27.484375 10.78125 32.3125 \nQ 14.796875 37.15625 21.921875 38.8125 \nz\nM 18.3125 54.390625 \nQ 18.3125 48.734375 21.84375 45.5625 \nQ 25.390625 42.390625 31.78125 42.390625 \nQ 38.140625 42.390625 41.71875 45.5625 \nQ 45.3125 48.734375 45.3125 54.390625 \nQ 45.3125 60.0625 41.71875 63.234375 \nQ 38.140625 66.40625 31.78125 66.40625 \nQ 25.390625 66.40625 21.84375 63.234375 \nQ 18.3125 60.0625 18.3125 54.390625 \nz\n\" id=\"DejaVuSans-56\"/>\n       </defs>\n       <use xlink:href=\"#DejaVuSans-56\"/>\n      </g>\n     </g>\n    </g>\n    <g id=\"xtick_9\">\n     <g id=\"text_9\">\n      <!-- 9 -->\n      <g style=\"fill:#262626;\" transform=\"translate(169.954545 249.836875)scale(0.1 -0.1)\">\n       <defs>\n        <path d=\"M 10.984375 1.515625 \nL 10.984375 10.5 \nQ 14.703125 8.734375 18.5 7.8125 \nQ 22.3125 6.890625 25.984375 6.890625 \nQ 35.75 6.890625 40.890625 13.453125 \nQ 46.046875 20.015625 46.78125 33.40625 \nQ 43.953125 29.203125 39.59375 26.953125 \nQ 35.25 24.703125 29.984375 24.703125 \nQ 19.046875 24.703125 12.671875 31.3125 \nQ 6.296875 37.9375 6.296875 49.421875 \nQ 6.296875 60.640625 12.9375 67.421875 \nQ 19.578125 74.21875 30.609375 74.21875 \nQ 43.265625 74.21875 49.921875 64.515625 \nQ 56.59375 54.828125 56.59375 36.375 \nQ 56.59375 19.140625 48.40625 8.859375 \nQ 40.234375 -1.421875 26.421875 -1.421875 \nQ 22.703125 -1.421875 18.890625 -0.6875 \nQ 15.09375 0.046875 10.984375 1.515625 \nz\nM 30.609375 32.421875 \nQ 37.25 32.421875 41.125 36.953125 \nQ 45.015625 41.5 45.015625 49.421875 \nQ 45.015625 57.28125 41.125 61.84375 \nQ 37.25 66.40625 30.609375 66.40625 \nQ 23.96875 66.40625 20.09375 61.84375 \nQ 16.21875 57.28125 16.21875 49.421875 \nQ 16.21875 41.5 20.09375 36.953125 \nQ 23.96875 32.421875 30.609375 32.421875 \nz\n\" id=\"DejaVuSans-57\"/>\n       </defs>\n       <use xlink:href=\"#DejaVuSans-57\"/>\n      </g>\n     </g>\n    </g>\n    <g id=\"xtick_10\">\n     <g id=\"text_10\">\n      <!-- 10 -->\n      <g style=\"fill:#262626;\" transform=\"translate(181.991477 249.836875)scale(0.1 -0.1)\">\n       <defs>\n        <path d=\"M 31.78125 66.40625 \nQ 24.171875 66.40625 20.328125 58.90625 \nQ 16.5 51.421875 16.5 36.375 \nQ 16.5 21.390625 20.328125 13.890625 \nQ 24.171875 6.390625 31.78125 6.390625 \nQ 39.453125 6.390625 43.28125 13.890625 \nQ 47.125 21.390625 47.125 36.375 \nQ 47.125 51.421875 43.28125 58.90625 \nQ 39.453125 66.40625 31.78125 66.40625 \nz\nM 31.78125 74.21875 \nQ 44.046875 74.21875 50.515625 64.515625 \nQ 56.984375 54.828125 56.984375 36.375 \nQ 56.984375 17.96875 50.515625 8.265625 \nQ 44.046875 -1.421875 31.78125 -1.421875 \nQ 19.53125 -1.421875 13.0625 8.265625 \nQ 6.59375 17.96875 6.59375 36.375 \nQ 6.59375 54.828125 13.0625 64.515625 \nQ 19.53125 74.21875 31.78125 74.21875 \nz\n\" id=\"DejaVuSans-48\"/>\n       </defs>\n       <use xlink:href=\"#DejaVuSans-49\"/>\n       <use x=\"63.623047\" xlink:href=\"#DejaVuSans-48\"/>\n      </g>\n     </g>\n    </g>\n    <g id=\"xtick_11\">\n     <g id=\"text_11\">\n      <!-- 11 -->\n      <g style=\"fill:#262626;\" transform=\"translate(197.209659 249.836875)scale(0.1 -0.1)\">\n       <use xlink:href=\"#DejaVuSans-49\"/>\n       <use x=\"63.623047\" xlink:href=\"#DejaVuSans-49\"/>\n      </g>\n     </g>\n    </g>\n    <g id=\"xtick_12\">\n     <g id=\"text_12\">\n      <!-- 12 -->\n      <g style=\"fill:#262626;\" transform=\"translate(212.427841 249.836875)scale(0.1 -0.1)\">\n       <use xlink:href=\"#DejaVuSans-49\"/>\n       <use x=\"63.623047\" xlink:href=\"#DejaVuSans-50\"/>\n      </g>\n     </g>\n    </g>\n    <g id=\"xtick_13\">\n     <g id=\"text_13\">\n      <!-- 13 -->\n      <g style=\"fill:#262626;\" transform=\"translate(227.646023 249.836875)scale(0.1 -0.1)\">\n       <use xlink:href=\"#DejaVuSans-49\"/>\n       <use x=\"63.623047\" xlink:href=\"#DejaVuSans-51\"/>\n      </g>\n     </g>\n    </g>\n    <g id=\"xtick_14\">\n     <g id=\"text_14\">\n      <!-- 14 -->\n      <g style=\"fill:#262626;\" transform=\"translate(242.864205 249.836875)scale(0.1 -0.1)\">\n       <use xlink:href=\"#DejaVuSans-49\"/>\n       <use x=\"63.623047\" xlink:href=\"#DejaVuSans-52\"/>\n      </g>\n     </g>\n    </g>\n    <g id=\"xtick_15\">\n     <g id=\"text_15\">\n      <!-- 15 -->\n      <g style=\"fill:#262626;\" transform=\"translate(258.082386 249.836875)scale(0.1 -0.1)\">\n       <use xlink:href=\"#DejaVuSans-49\"/>\n       <use x=\"63.623047\" xlink:href=\"#DejaVuSans-53\"/>\n      </g>\n     </g>\n    </g>\n    <g id=\"xtick_16\">\n     <g id=\"text_16\">\n      <!-- 16 -->\n      <g style=\"fill:#262626;\" transform=\"translate(273.300568 249.836875)scale(0.1 -0.1)\">\n       <use xlink:href=\"#DejaVuSans-49\"/>\n       <use x=\"63.623047\" xlink:href=\"#DejaVuSans-54\"/>\n      </g>\n     </g>\n    </g>\n    <g id=\"xtick_17\">\n     <g id=\"text_17\">\n      <!-- 17 -->\n      <g style=\"fill:#262626;\" transform=\"translate(288.51875 249.836875)scale(0.1 -0.1)\">\n       <use xlink:href=\"#DejaVuSans-49\"/>\n       <use x=\"63.623047\" xlink:href=\"#DejaVuSans-55\"/>\n      </g>\n     </g>\n    </g>\n    <g id=\"xtick_18\">\n     <g id=\"text_18\">\n      <!-- 18 -->\n      <g style=\"fill:#262626;\" transform=\"translate(303.736932 249.836875)scale(0.1 -0.1)\">\n       <use xlink:href=\"#DejaVuSans-49\"/>\n       <use x=\"63.623047\" xlink:href=\"#DejaVuSans-56\"/>\n      </g>\n     </g>\n    </g>\n    <g id=\"xtick_19\">\n     <g id=\"text_19\">\n      <!-- 19 -->\n      <g style=\"fill:#262626;\" transform=\"translate(318.955114 249.836875)scale(0.1 -0.1)\">\n       <use xlink:href=\"#DejaVuSans-49\"/>\n       <use x=\"63.623047\" xlink:href=\"#DejaVuSans-57\"/>\n      </g>\n     </g>\n    </g>\n    <g id=\"xtick_20\">\n     <g id=\"text_20\">\n      <!-- 20 -->\n      <g style=\"fill:#262626;\" transform=\"translate(334.173295 249.836875)scale(0.1 -0.1)\">\n       <use xlink:href=\"#DejaVuSans-50\"/>\n       <use x=\"63.623047\" xlink:href=\"#DejaVuSans-48\"/>\n      </g>\n     </g>\n    </g>\n    <g id=\"xtick_21\">\n     <g id=\"text_21\">\n      <!-- 21 -->\n      <g style=\"fill:#262626;\" transform=\"translate(349.391477 249.836875)scale(0.1 -0.1)\">\n       <use xlink:href=\"#DejaVuSans-50\"/>\n       <use x=\"63.623047\" xlink:href=\"#DejaVuSans-49\"/>\n      </g>\n     </g>\n    </g>\n    <g id=\"xtick_22\">\n     <g id=\"text_22\">\n      <!-- 22 -->\n      <g style=\"fill:#262626;\" transform=\"translate(364.609659 249.836875)scale(0.1 -0.1)\">\n       <use xlink:href=\"#DejaVuSans-50\"/>\n       <use x=\"63.623047\" xlink:href=\"#DejaVuSans-50\"/>\n      </g>\n     </g>\n    </g>\n    <g id=\"text_23\">\n     <!-- Inverters -->\n     <g style=\"fill:#262626;\" transform=\"translate(188.749219 263.515)scale(0.1 -0.1)\">\n      <defs>\n       <path d=\"M 9.8125 72.90625 \nL 19.671875 72.90625 \nL 19.671875 0 \nL 9.8125 0 \nz\n\" id=\"DejaVuSans-73\"/>\n       <path d=\"M 54.890625 33.015625 \nL 54.890625 0 \nL 45.90625 0 \nL 45.90625 32.71875 \nQ 45.90625 40.484375 42.875 44.328125 \nQ 39.84375 48.1875 33.796875 48.1875 \nQ 26.515625 48.1875 22.3125 43.546875 \nQ 18.109375 38.921875 18.109375 30.90625 \nL 18.109375 0 \nL 9.078125 0 \nL 9.078125 54.6875 \nL 18.109375 54.6875 \nL 18.109375 46.1875 \nQ 21.34375 51.125 25.703125 53.5625 \nQ 30.078125 56 35.796875 56 \nQ 45.21875 56 50.046875 50.171875 \nQ 54.890625 44.34375 54.890625 33.015625 \nz\n\" id=\"DejaVuSans-110\"/>\n       <path d=\"M 2.984375 54.6875 \nL 12.5 54.6875 \nL 29.59375 8.796875 \nL 46.6875 54.6875 \nL 56.203125 54.6875 \nL 35.6875 0 \nL 23.484375 0 \nz\n\" id=\"DejaVuSans-118\"/>\n       <path d=\"M 56.203125 29.59375 \nL 56.203125 25.203125 \nL 14.890625 25.203125 \nQ 15.484375 15.921875 20.484375 11.0625 \nQ 25.484375 6.203125 34.421875 6.203125 \nQ 39.59375 6.203125 44.453125 7.46875 \nQ 49.3125 8.734375 54.109375 11.28125 \nL 54.109375 2.78125 \nQ 49.265625 0.734375 44.1875 -0.34375 \nQ 39.109375 -1.421875 33.890625 -1.421875 \nQ 20.796875 -1.421875 13.15625 6.1875 \nQ 5.515625 13.8125 5.515625 26.8125 \nQ 5.515625 40.234375 12.765625 48.109375 \nQ 20.015625 56 32.328125 56 \nQ 43.359375 56 49.78125 48.890625 \nQ 56.203125 41.796875 56.203125 29.59375 \nz\nM 47.21875 32.234375 \nQ 47.125 39.59375 43.09375 43.984375 \nQ 39.0625 48.390625 32.421875 48.390625 \nQ 24.90625 48.390625 20.390625 44.140625 \nQ 15.875 39.890625 15.1875 32.171875 \nz\n\" id=\"DejaVuSans-101\"/>\n       <path d=\"M 41.109375 46.296875 \nQ 39.59375 47.171875 37.8125 47.578125 \nQ 36.03125 48 33.890625 48 \nQ 26.265625 48 22.1875 43.046875 \nQ 18.109375 38.09375 18.109375 28.8125 \nL 18.109375 0 \nL 9.078125 0 \nL 9.078125 54.6875 \nL 18.109375 54.6875 \nL 18.109375 46.1875 \nQ 20.953125 51.171875 25.484375 53.578125 \nQ 30.03125 56 36.53125 56 \nQ 37.453125 56 38.578125 55.875 \nQ 39.703125 55.765625 41.0625 55.515625 \nz\n\" id=\"DejaVuSans-114\"/>\n       <path d=\"M 18.3125 70.21875 \nL 18.3125 54.6875 \nL 36.8125 54.6875 \nL 36.8125 47.703125 \nL 18.3125 47.703125 \nL 18.3125 18.015625 \nQ 18.3125 11.328125 20.140625 9.421875 \nQ 21.96875 7.515625 27.59375 7.515625 \nL 36.8125 7.515625 \nL 36.8125 0 \nL 27.59375 0 \nQ 17.1875 0 13.234375 3.875 \nQ 9.28125 7.765625 9.28125 18.015625 \nL 9.28125 47.703125 \nL 2.6875 47.703125 \nL 2.6875 54.6875 \nL 9.28125 54.6875 \nL 9.28125 70.21875 \nz\n\" id=\"DejaVuSans-116\"/>\n       <path d=\"M 44.28125 53.078125 \nL 44.28125 44.578125 \nQ 40.484375 46.53125 36.375 47.5 \nQ 32.28125 48.484375 27.875 48.484375 \nQ 21.1875 48.484375 17.84375 46.4375 \nQ 14.5 44.390625 14.5 40.28125 \nQ 14.5 37.15625 16.890625 35.375 \nQ 19.28125 33.59375 26.515625 31.984375 \nL 29.59375 31.296875 \nQ 39.15625 29.25 43.1875 25.515625 \nQ 47.21875 21.78125 47.21875 15.09375 \nQ 47.21875 7.46875 41.1875 3.015625 \nQ 35.15625 -1.421875 24.609375 -1.421875 \nQ 20.21875 -1.421875 15.453125 -0.5625 \nQ 10.6875 0.296875 5.421875 2 \nL 5.421875 11.28125 \nQ 10.40625 8.6875 15.234375 7.390625 \nQ 20.0625 6.109375 24.8125 6.109375 \nQ 31.15625 6.109375 34.5625 8.28125 \nQ 37.984375 10.453125 37.984375 14.40625 \nQ 37.984375 18.0625 35.515625 20.015625 \nQ 33.0625 21.96875 24.703125 23.78125 \nL 21.578125 24.515625 \nQ 13.234375 26.265625 9.515625 29.90625 \nQ 5.8125 33.546875 5.8125 39.890625 \nQ 5.8125 47.609375 11.28125 51.796875 \nQ 16.75 56 26.8125 56 \nQ 31.78125 56 36.171875 55.265625 \nQ 40.578125 54.546875 44.28125 53.078125 \nz\n\" id=\"DejaVuSans-115\"/>\n      </defs>\n      <use xlink:href=\"#DejaVuSans-73\"/>\n      <use x=\"29.492188\" xlink:href=\"#DejaVuSans-110\"/>\n      <use x=\"92.871094\" xlink:href=\"#DejaVuSans-118\"/>\n      <use x=\"152.050781\" xlink:href=\"#DejaVuSans-101\"/>\n      <use x=\"213.574219\" xlink:href=\"#DejaVuSans-114\"/>\n      <use x=\"254.6875\" xlink:href=\"#DejaVuSans-116\"/>\n      <use x=\"293.896484\" xlink:href=\"#DejaVuSans-101\"/>\n      <use x=\"355.419922\" xlink:href=\"#DejaVuSans-114\"/>\n      <use x=\"396.533203\" xlink:href=\"#DejaVuSans-115\"/>\n     </g>\n    </g>\n   </g>\n   <g id=\"matplotlib.axis_2\">\n    <g id=\"ytick_1\">\n     <g id=\"text_24\">\n      <!-- 0.0 -->\n      <g style=\"fill:#262626;\" transform=\"translate(20.878125 239.037656)scale(0.1 -0.1)\">\n       <defs>\n        <path d=\"M 10.6875 12.40625 \nL 21 12.40625 \nL 21 0 \nL 10.6875 0 \nz\n\" id=\"DejaVuSans-46\"/>\n       </defs>\n       <use xlink:href=\"#DejaVuSans-48\"/>\n       <use x=\"63.623047\" xlink:href=\"#DejaVuSans-46\"/>\n       <use x=\"95.410156\" xlink:href=\"#DejaVuSans-48\"/>\n      </g>\n     </g>\n    </g>\n    <g id=\"ytick_2\">\n     <g id=\"text_25\">\n      <!-- 0.5 -->\n      <g style=\"fill:#262626;\" transform=\"translate(20.878125 192.975951)scale(0.1 -0.1)\">\n       <use xlink:href=\"#DejaVuSans-48\"/>\n       <use x=\"63.623047\" xlink:href=\"#DejaVuSans-46\"/>\n       <use x=\"95.410156\" xlink:href=\"#DejaVuSans-53\"/>\n      </g>\n     </g>\n    </g>\n    <g id=\"ytick_3\">\n     <g id=\"text_26\">\n      <!-- 1.0 -->\n      <g style=\"fill:#262626;\" transform=\"translate(20.878125 146.914246)scale(0.1 -0.1)\">\n       <use xlink:href=\"#DejaVuSans-49\"/>\n       <use x=\"63.623047\" xlink:href=\"#DejaVuSans-46\"/>\n       <use x=\"95.410156\" xlink:href=\"#DejaVuSans-48\"/>\n      </g>\n     </g>\n    </g>\n    <g id=\"ytick_4\">\n     <g id=\"text_27\">\n      <!-- 1.5 -->\n      <g style=\"fill:#262626;\" transform=\"translate(20.878125 100.852541)scale(0.1 -0.1)\">\n       <use xlink:href=\"#DejaVuSans-49\"/>\n       <use x=\"63.623047\" xlink:href=\"#DejaVuSans-46\"/>\n       <use x=\"95.410156\" xlink:href=\"#DejaVuSans-53\"/>\n      </g>\n     </g>\n    </g>\n    <g id=\"ytick_5\">\n     <g id=\"text_28\">\n      <!-- 2.0 -->\n      <g style=\"fill:#262626;\" transform=\"translate(20.878125 54.790836)scale(0.1 -0.1)\">\n       <use xlink:href=\"#DejaVuSans-50\"/>\n       <use x=\"63.623047\" xlink:href=\"#DejaVuSans-46\"/>\n       <use x=\"95.410156\" xlink:href=\"#DejaVuSans-48\"/>\n      </g>\n     </g>\n    </g>\n    <g id=\"text_29\">\n     <!-- Energy Generated -->\n     <g style=\"fill:#262626;\" transform=\"translate(14.798438 172.140312)rotate(-90)scale(0.1 -0.1)\">\n      <defs>\n       <path d=\"M 9.8125 72.90625 \nL 55.90625 72.90625 \nL 55.90625 64.59375 \nL 19.671875 64.59375 \nL 19.671875 43.015625 \nL 54.390625 43.015625 \nL 54.390625 34.71875 \nL 19.671875 34.71875 \nL 19.671875 8.296875 \nL 56.78125 8.296875 \nL 56.78125 0 \nL 9.8125 0 \nz\n\" id=\"DejaVuSans-69\"/>\n       <path d=\"M 45.40625 27.984375 \nQ 45.40625 37.75 41.375 43.109375 \nQ 37.359375 48.484375 30.078125 48.484375 \nQ 22.859375 48.484375 18.828125 43.109375 \nQ 14.796875 37.75 14.796875 27.984375 \nQ 14.796875 18.265625 18.828125 12.890625 \nQ 22.859375 7.515625 30.078125 7.515625 \nQ 37.359375 7.515625 41.375 12.890625 \nQ 45.40625 18.265625 45.40625 27.984375 \nz\nM 54.390625 6.78125 \nQ 54.390625 -7.171875 48.1875 -13.984375 \nQ 42 -20.796875 29.203125 -20.796875 \nQ 24.46875 -20.796875 20.265625 -20.09375 \nQ 16.0625 -19.390625 12.109375 -17.921875 \nL 12.109375 -9.1875 \nQ 16.0625 -11.328125 19.921875 -12.34375 \nQ 23.78125 -13.375 27.78125 -13.375 \nQ 36.625 -13.375 41.015625 -8.765625 \nQ 45.40625 -4.15625 45.40625 5.171875 \nL 45.40625 9.625 \nQ 42.625 4.78125 38.28125 2.390625 \nQ 33.9375 0 27.875 0 \nQ 17.828125 0 11.671875 7.65625 \nQ 5.515625 15.328125 5.515625 27.984375 \nQ 5.515625 40.671875 11.671875 48.328125 \nQ 17.828125 56 27.875 56 \nQ 33.9375 56 38.28125 53.609375 \nQ 42.625 51.21875 45.40625 46.390625 \nL 45.40625 54.6875 \nL 54.390625 54.6875 \nz\n\" id=\"DejaVuSans-103\"/>\n       <path d=\"M 32.171875 -5.078125 \nQ 28.375 -14.84375 24.75 -17.8125 \nQ 21.140625 -20.796875 15.09375 -20.796875 \nL 7.90625 -20.796875 \nL 7.90625 -13.28125 \nL 13.1875 -13.28125 \nQ 16.890625 -13.28125 18.9375 -11.515625 \nQ 21 -9.765625 23.484375 -3.21875 \nL 25.09375 0.875 \nL 2.984375 54.6875 \nL 12.5 54.6875 \nL 29.59375 11.921875 \nL 46.6875 54.6875 \nL 56.203125 54.6875 \nz\n\" id=\"DejaVuSans-121\"/>\n       <path id=\"DejaVuSans-32\"/>\n       <path d=\"M 59.515625 10.40625 \nL 59.515625 29.984375 \nL 43.40625 29.984375 \nL 43.40625 38.09375 \nL 69.28125 38.09375 \nL 69.28125 6.78125 \nQ 63.578125 2.734375 56.6875 0.65625 \nQ 49.8125 -1.421875 42 -1.421875 \nQ 24.90625 -1.421875 15.25 8.5625 \nQ 5.609375 18.5625 5.609375 36.375 \nQ 5.609375 54.25 15.25 64.234375 \nQ 24.90625 74.21875 42 74.21875 \nQ 49.125 74.21875 55.546875 72.453125 \nQ 61.96875 70.703125 67.390625 67.28125 \nL 67.390625 56.78125 \nQ 61.921875 61.421875 55.765625 63.765625 \nQ 49.609375 66.109375 42.828125 66.109375 \nQ 29.4375 66.109375 22.71875 58.640625 \nQ 16.015625 51.171875 16.015625 36.375 \nQ 16.015625 21.625 22.71875 14.15625 \nQ 29.4375 6.6875 42.828125 6.6875 \nQ 48.046875 6.6875 52.140625 7.59375 \nQ 56.25 8.5 59.515625 10.40625 \nz\n\" id=\"DejaVuSans-71\"/>\n       <path d=\"M 34.28125 27.484375 \nQ 23.390625 27.484375 19.1875 25 \nQ 14.984375 22.515625 14.984375 16.5 \nQ 14.984375 11.71875 18.140625 8.90625 \nQ 21.296875 6.109375 26.703125 6.109375 \nQ 34.1875 6.109375 38.703125 11.40625 \nQ 43.21875 16.703125 43.21875 25.484375 \nL 43.21875 27.484375 \nz\nM 52.203125 31.203125 \nL 52.203125 0 \nL 43.21875 0 \nL 43.21875 8.296875 \nQ 40.140625 3.328125 35.546875 0.953125 \nQ 30.953125 -1.421875 24.3125 -1.421875 \nQ 15.921875 -1.421875 10.953125 3.296875 \nQ 6 8.015625 6 15.921875 \nQ 6 25.140625 12.171875 29.828125 \nQ 18.359375 34.515625 30.609375 34.515625 \nL 43.21875 34.515625 \nL 43.21875 35.40625 \nQ 43.21875 41.609375 39.140625 45 \nQ 35.0625 48.390625 27.6875 48.390625 \nQ 23 48.390625 18.546875 47.265625 \nQ 14.109375 46.140625 10.015625 43.890625 \nL 10.015625 52.203125 \nQ 14.9375 54.109375 19.578125 55.046875 \nQ 24.21875 56 28.609375 56 \nQ 40.484375 56 46.34375 49.84375 \nQ 52.203125 43.703125 52.203125 31.203125 \nz\n\" id=\"DejaVuSans-97\"/>\n       <path d=\"M 45.40625 46.390625 \nL 45.40625 75.984375 \nL 54.390625 75.984375 \nL 54.390625 0 \nL 45.40625 0 \nL 45.40625 8.203125 \nQ 42.578125 3.328125 38.25 0.953125 \nQ 33.9375 -1.421875 27.875 -1.421875 \nQ 17.96875 -1.421875 11.734375 6.484375 \nQ 5.515625 14.40625 5.515625 27.296875 \nQ 5.515625 40.1875 11.734375 48.09375 \nQ 17.96875 56 27.875 56 \nQ 33.9375 56 38.25 53.625 \nQ 42.578125 51.265625 45.40625 46.390625 \nz\nM 14.796875 27.296875 \nQ 14.796875 17.390625 18.875 11.75 \nQ 22.953125 6.109375 30.078125 6.109375 \nQ 37.203125 6.109375 41.296875 11.75 \nQ 45.40625 17.390625 45.40625 27.296875 \nQ 45.40625 37.203125 41.296875 42.84375 \nQ 37.203125 48.484375 30.078125 48.484375 \nQ 22.953125 48.484375 18.875 42.84375 \nQ 14.796875 37.203125 14.796875 27.296875 \nz\n\" id=\"DejaVuSans-100\"/>\n      </defs>\n      <use xlink:href=\"#DejaVuSans-69\"/>\n      <use x=\"63.183594\" xlink:href=\"#DejaVuSans-110\"/>\n      <use x=\"126.5625\" xlink:href=\"#DejaVuSans-101\"/>\n      <use x=\"188.085938\" xlink:href=\"#DejaVuSans-114\"/>\n      <use x=\"227.449219\" xlink:href=\"#DejaVuSans-103\"/>\n      <use x=\"290.925781\" xlink:href=\"#DejaVuSans-121\"/>\n      <use x=\"350.105469\" xlink:href=\"#DejaVuSans-32\"/>\n      <use x=\"381.892578\" xlink:href=\"#DejaVuSans-71\"/>\n      <use x=\"459.382812\" xlink:href=\"#DejaVuSans-101\"/>\n      <use x=\"520.90625\" xlink:href=\"#DejaVuSans-110\"/>\n      <use x=\"584.285156\" xlink:href=\"#DejaVuSans-101\"/>\n      <use x=\"645.808594\" xlink:href=\"#DejaVuSans-114\"/>\n      <use x=\"686.921875\" xlink:href=\"#DejaVuSans-97\"/>\n      <use x=\"748.201172\" xlink:href=\"#DejaVuSans-116\"/>\n      <use x=\"787.410156\" xlink:href=\"#DejaVuSans-101\"/>\n      <use x=\"848.933594\" xlink:href=\"#DejaVuSans-100\"/>\n     </g>\n    </g>\n    <g id=\"text_30\">\n     <!-- 1e9 -->\n     <g style=\"fill:#262626;\" transform=\"translate(43.78125 14.798437)scale(0.1 -0.1)\">\n      <use xlink:href=\"#DejaVuSans-49\"/>\n      <use x=\"63.623047\" xlink:href=\"#DejaVuSans-101\"/>\n      <use x=\"125.146484\" xlink:href=\"#DejaVuSans-57\"/>\n     </g>\n    </g>\n   </g>\n   <g id=\"patch_3\">\n    <path clip-path=\"url(#p7d9d64a613)\" d=\"M 45.303068 235.238438 \nL 57.477614 235.238438 \nL 57.477614 234.993988 \nL 45.303068 234.993988 \nz\n\" style=\"fill:#ea96a3;stroke:#ffffff;stroke-linejoin:miter;\"/>\n   </g>\n   <g id=\"patch_4\">\n    <path clip-path=\"url(#p7d9d64a613)\" d=\"M 60.52125 235.238438 \nL 72.695795 235.238438 \nL 72.695795 123.263741 \nL 60.52125 123.263741 \nz\n\" style=\"fill:#e89687;stroke:#ffffff;stroke-linejoin:miter;\"/>\n   </g>\n   <g id=\"patch_5\">\n    <path clip-path=\"url(#p7d9d64a613)\" d=\"M 75.739432 235.238438 \nL 87.913977 235.238438 \nL 87.913977 28.152723 \nL 75.739432 28.152723 \nz\n\" style=\"fill:#dc924e;stroke:#ffffff;stroke-linejoin:miter;\"/>\n   </g>\n   <g id=\"patch_6\">\n    <path clip-path=\"url(#p7d9d64a613)\" d=\"M 90.957614 235.238438 \nL 103.132159 235.238438 \nL 103.132159 235.067626 \nL 90.957614 235.067626 \nz\n\" style=\"fill:#c5994b;stroke:#ffffff;stroke-linejoin:miter;\"/>\n   </g>\n   <g id=\"patch_7\">\n    <path clip-path=\"url(#p7d9d64a613)\" d=\"M 106.175795 235.238438 \nL 118.350341 235.238438 \nL 118.350341 233.37892 \nL 106.175795 233.37892 \nz\n\" style=\"fill:#b39d48;stroke:#ffffff;stroke-linejoin:miter;\"/>\n   </g>\n   <g id=\"patch_8\">\n    <path clip-path=\"url(#p7d9d64a613)\" d=\"M 121.393977 235.238438 \nL 133.568523 235.238438 \nL 133.568523 69.866241 \nL 121.393977 69.866241 \nz\n\" style=\"fill:#a09f45;stroke:#ffffff;stroke-linejoin:miter;\"/>\n   </g>\n   <g id=\"patch_9\">\n    <path clip-path=\"url(#p7d9d64a613)\" d=\"M 136.612159 235.238438 \nL 148.786705 235.238438 \nL 148.786705 209.186954 \nL 136.612159 209.186954 \nz\n\" style=\"fill:#8ea546;stroke:#ffffff;stroke-linejoin:miter;\"/>\n   </g>\n   <g id=\"patch_10\">\n    <path clip-path=\"url(#p7d9d64a613)\" d=\"M 151.830341 235.238438 \nL 164.004886 235.238438 \nL 164.004886 234.991238 \nL 151.830341 234.991238 \nz\n\" style=\"fill:#71ac47;stroke:#ffffff;stroke-linejoin:miter;\"/>\n   </g>\n   <g id=\"patch_11\">\n    <path clip-path=\"url(#p7d9d64a613)\" d=\"M 167.048523 235.238438 \nL 179.223068 235.238438 \nL 179.223068 224.944018 \nL 167.048523 224.944018 \nz\n\" style=\"fill:#48b067;stroke:#ffffff;stroke-linejoin:miter;\"/>\n   </g>\n   <g id=\"patch_12\">\n    <path clip-path=\"url(#p7d9d64a613)\" d=\"M 182.266705 235.238438 \nL 194.44125 235.238438 \nL 194.44125 111.005485 \nL 182.266705 111.005485 \nz\n\" style=\"fill:#49ae87;stroke:#ffffff;stroke-linejoin:miter;\"/>\n   </g>\n   <g id=\"patch_13\">\n    <path clip-path=\"url(#p7d9d64a613)\" d=\"M 197.484886 235.238438 \nL 209.659432 235.238438 \nL 209.659432 157.979446 \nL 197.484886 157.979446 \nz\n\" style=\"fill:#4aac98;stroke:#ffffff;stroke-linejoin:miter;\"/>\n   </g>\n   <g id=\"patch_14\">\n    <path clip-path=\"url(#p7d9d64a613)\" d=\"M 212.703068 235.238438 \nL 224.877614 235.238438 \nL 224.877614 204.870335 \nL 212.703068 204.870335 \nz\n\" style=\"fill:#4baba4;stroke:#ffffff;stroke-linejoin:miter;\"/>\n   </g>\n   <g id=\"patch_15\">\n    <path clip-path=\"url(#p7d9d64a613)\" d=\"M 227.92125 235.238438 \nL 240.095795 235.238438 \nL 240.095795 105.133235 \nL 227.92125 105.133235 \nz\n\" style=\"fill:#4dabb0;stroke:#ffffff;stroke-linejoin:miter;\"/>\n   </g>\n   <g id=\"patch_16\">\n    <path clip-path=\"url(#p7d9d64a613)\" d=\"M 243.139432 235.238438 \nL 255.313977 235.238438 \nL 255.313977 218.480091 \nL 243.139432 218.480091 \nz\n\" style=\"fill:#50acbf;stroke:#ffffff;stroke-linejoin:miter;\"/>\n   </g>\n   <g id=\"patch_17\">\n    <path clip-path=\"url(#p7d9d64a613)\" d=\"M 258.357614 235.238438 \nL 270.532159 235.238438 \nL 270.532159 180.534174 \nL 258.357614 180.534174 \nz\n\" style=\"fill:#54acd3;stroke:#ffffff;stroke-linejoin:miter;\"/>\n   </g>\n   <g id=\"patch_18\">\n    <path clip-path=\"url(#p7d9d64a613)\" d=\"M 273.575795 235.238438 \nL 285.750341 235.238438 \nL 285.750341 82.296176 \nL 273.575795 82.296176 \nz\n\" style=\"fill:#82aee5;stroke:#ffffff;stroke-linejoin:miter;\"/>\n   </g>\n   <g id=\"patch_19\">\n    <path clip-path=\"url(#p7d9d64a613)\" d=\"M 288.793977 235.238438 \nL 300.968523 235.238438 \nL 300.968523 77.865147 \nL 288.793977 77.865147 \nz\n\" style=\"fill:#a9aceb;stroke:#ffffff;stroke-linejoin:miter;\"/>\n   </g>\n   <g id=\"patch_20\">\n    <path clip-path=\"url(#p7d9d64a613)\" d=\"M 304.012159 235.238438 \nL 316.186705 235.238438 \nL 316.186705 235.190463 \nL 304.012159 235.190463 \nz\n\" style=\"fill:#c1a2ea;stroke:#ffffff;stroke-linejoin:miter;\"/>\n   </g>\n   <g id=\"patch_21\">\n    <path clip-path=\"url(#p7d9d64a613)\" d=\"M 319.230341 235.238438 \nL 331.404886 235.238438 \nL 331.404886 224.079404 \nL 319.230341 224.079404 \nz\n\" style=\"fill:#d795e8;stroke:#ffffff;stroke-linejoin:miter;\"/>\n   </g>\n   <g id=\"patch_22\">\n    <path clip-path=\"url(#p7d9d64a613)\" d=\"M 334.448523 235.238438 \nL 346.623068 235.238438 \nL 346.623068 235.01479 \nL 334.448523 235.01479 \nz\n\" style=\"fill:#e78bdd;stroke:#ffffff;stroke-linejoin:miter;\"/>\n   </g>\n   <g id=\"patch_23\">\n    <path clip-path=\"url(#p7d9d64a613)\" d=\"M 349.666705 235.238438 \nL 361.84125 235.238438 \nL 361.84125 225.390777 \nL 349.666705 225.390777 \nz\n\" style=\"fill:#e88fc9;stroke:#ffffff;stroke-linejoin:miter;\"/>\n   </g>\n   <g id=\"patch_24\">\n    <path clip-path=\"url(#p7d9d64a613)\" d=\"M 364.884886 235.238438 \nL 377.059432 235.238438 \nL 377.059432 215.953715 \nL 364.884886 215.953715 \nz\n\" style=\"fill:#e993b7;stroke:#ffffff;stroke-linejoin:miter;\"/>\n   </g>\n   <g id=\"line2d_1\">\n    <path clip-path=\"url(#p7d9d64a613)\" d=\"M 0 0 \n\" style=\"fill:none;stroke:#424242;stroke-linecap:round;stroke-width:2.7;\"/>\n   </g>\n   <g id=\"line2d_2\">\n    <path clip-path=\"url(#p7d9d64a613)\" d=\"M 0 0 \n\" style=\"fill:none;stroke:#424242;stroke-linecap:round;stroke-width:2.7;\"/>\n   </g>\n   <g id=\"line2d_3\">\n    <path clip-path=\"url(#p7d9d64a613)\" d=\"M 0 0 \n\" style=\"fill:none;stroke:#424242;stroke-linecap:round;stroke-width:2.7;\"/>\n   </g>\n   <g id=\"line2d_4\">\n    <path clip-path=\"url(#p7d9d64a613)\" d=\"M 0 0 \n\" style=\"fill:none;stroke:#424242;stroke-linecap:round;stroke-width:2.7;\"/>\n   </g>\n   <g id=\"line2d_5\">\n    <path clip-path=\"url(#p7d9d64a613)\" d=\"M 0 0 \n\" style=\"fill:none;stroke:#424242;stroke-linecap:round;stroke-width:2.7;\"/>\n   </g>\n   <g id=\"line2d_6\">\n    <path clip-path=\"url(#p7d9d64a613)\" d=\"M 0 0 \n\" style=\"fill:none;stroke:#424242;stroke-linecap:round;stroke-width:2.7;\"/>\n   </g>\n   <g id=\"line2d_7\">\n    <path clip-path=\"url(#p7d9d64a613)\" d=\"M 0 0 \n\" style=\"fill:none;stroke:#424242;stroke-linecap:round;stroke-width:2.7;\"/>\n   </g>\n   <g id=\"line2d_8\">\n    <path clip-path=\"url(#p7d9d64a613)\" d=\"M 0 0 \n\" style=\"fill:none;stroke:#424242;stroke-linecap:round;stroke-width:2.7;\"/>\n   </g>\n   <g id=\"line2d_9\">\n    <path clip-path=\"url(#p7d9d64a613)\" d=\"M 0 0 \n\" style=\"fill:none;stroke:#424242;stroke-linecap:round;stroke-width:2.7;\"/>\n   </g>\n   <g id=\"line2d_10\">\n    <path clip-path=\"url(#p7d9d64a613)\" d=\"M 0 0 \n\" style=\"fill:none;stroke:#424242;stroke-linecap:round;stroke-width:2.7;\"/>\n   </g>\n   <g id=\"line2d_11\">\n    <path clip-path=\"url(#p7d9d64a613)\" d=\"M 0 0 \n\" style=\"fill:none;stroke:#424242;stroke-linecap:round;stroke-width:2.7;\"/>\n   </g>\n   <g id=\"line2d_12\">\n    <path clip-path=\"url(#p7d9d64a613)\" d=\"M 0 0 \n\" style=\"fill:none;stroke:#424242;stroke-linecap:round;stroke-width:2.7;\"/>\n   </g>\n   <g id=\"line2d_13\">\n    <path clip-path=\"url(#p7d9d64a613)\" d=\"M 0 0 \n\" style=\"fill:none;stroke:#424242;stroke-linecap:round;stroke-width:2.7;\"/>\n   </g>\n   <g id=\"line2d_14\">\n    <path clip-path=\"url(#p7d9d64a613)\" d=\"M 0 0 \n\" style=\"fill:none;stroke:#424242;stroke-linecap:round;stroke-width:2.7;\"/>\n   </g>\n   <g id=\"line2d_15\">\n    <path clip-path=\"url(#p7d9d64a613)\" d=\"M 0 0 \n\" style=\"fill:none;stroke:#424242;stroke-linecap:round;stroke-width:2.7;\"/>\n   </g>\n   <g id=\"line2d_16\">\n    <path clip-path=\"url(#p7d9d64a613)\" d=\"M 0 0 \n\" style=\"fill:none;stroke:#424242;stroke-linecap:round;stroke-width:2.7;\"/>\n   </g>\n   <g id=\"line2d_17\">\n    <path clip-path=\"url(#p7d9d64a613)\" d=\"M 0 0 \n\" style=\"fill:none;stroke:#424242;stroke-linecap:round;stroke-width:2.7;\"/>\n   </g>\n   <g id=\"line2d_18\">\n    <path clip-path=\"url(#p7d9d64a613)\" d=\"M 0 0 \n\" style=\"fill:none;stroke:#424242;stroke-linecap:round;stroke-width:2.7;\"/>\n   </g>\n   <g id=\"line2d_19\">\n    <path clip-path=\"url(#p7d9d64a613)\" d=\"M 0 0 \n\" style=\"fill:none;stroke:#424242;stroke-linecap:round;stroke-width:2.7;\"/>\n   </g>\n   <g id=\"line2d_20\">\n    <path clip-path=\"url(#p7d9d64a613)\" d=\"M 0 0 \n\" style=\"fill:none;stroke:#424242;stroke-linecap:round;stroke-width:2.7;\"/>\n   </g>\n   <g id=\"line2d_21\">\n    <path clip-path=\"url(#p7d9d64a613)\" d=\"M 0 0 \n\" style=\"fill:none;stroke:#424242;stroke-linecap:round;stroke-width:2.7;\"/>\n   </g>\n   <g id=\"line2d_22\">\n    <path clip-path=\"url(#p7d9d64a613)\" d=\"M 0 0 \n\" style=\"fill:none;stroke:#424242;stroke-linecap:round;stroke-width:2.7;\"/>\n   </g>\n   <g id=\"patch_25\">\n    <path d=\"M 43.78125 235.238438 \nL 43.78125 17.798438 \n\" style=\"fill:none;stroke:#262626;stroke-linecap:square;stroke-linejoin:miter;stroke-width:0.8;\"/>\n   </g>\n   <g id=\"patch_26\">\n    <path d=\"M 378.58125 235.238438 \nL 378.58125 17.798438 \n\" style=\"fill:none;stroke:#262626;stroke-linecap:square;stroke-linejoin:miter;stroke-width:0.8;\"/>\n   </g>\n   <g id=\"patch_27\">\n    <path d=\"M 43.78125 235.238438 \nL 378.58125 235.238438 \n\" style=\"fill:none;stroke:#262626;stroke-linecap:square;stroke-linejoin:miter;stroke-width:0.8;\"/>\n   </g>\n   <g id=\"patch_28\">\n    <path d=\"M 43.78125 17.798438 \nL 378.58125 17.798438 \n\" style=\"fill:none;stroke:#262626;stroke-linecap:square;stroke-linejoin:miter;stroke-width:0.8;\"/>\n   </g>\n  </g>\n </g>\n <defs>\n  <clipPath id=\"p7d9d64a613\">\n   <rect height=\"217.44\" width=\"334.8\" x=\"43.78125\" y=\"17.798438\"/>\n  </clipPath>\n </defs>\n</svg>\n",
      "image/png": "[encoded data removed]"
     },
     "metadata": {}
    }
   ],
   "source": [
    "sns.barplot(x=plant_2_yields.alias, y=plant_2_yields.delta)\n",
    "plt.xlabel(\"Inverters\")\n",
    "plt.ylabel(\"Energy Generated\")"
   ]
  },
  {
   "cell_type": "code",
   "execution_count": 30,
   "metadata": {
    "id": "yZzF_nc0i-Uq"
   },
   "outputs": [
    {
     "data": {
      "text/plain": "<IPython.core.display.Javascript object>",
      "application/javascript": "window.require && require([\"base/js/namespace\"],function(Jupyter){Jupyter.notebook.save_checkpoint()})"
     },
     "metadata": {},
     "output_type": "display_data"
    },
    {
     "name": "stdout",
     "output_type": "stream",
     "text": [
      "[jovian] Attempting to save notebook..\u001b[0m\n",
      "[jovian] Updating notebook \"charitarthchugh/solar-india\" on https://jovian.ai/\u001b[0m\n",
      "[jovian] Uploading notebook..\u001b[0m\n",
      "[jovian] Capturing environment..\u001b[0m\n",
      "[jovian] Git repository identified. Performing git commit...\u001b[0m\n",
      "[jovian] Attaching records (metrics, hyperparameters, dataset etc.)\u001b[0m\n",
      "[jovian] Committed successfully! https://jovian.ai/charitarthchugh/solar-india\u001b[0m\n",
      "Pushed Successfully!\n"
     ]
    }
   ],
   "source": [
    "commit()"
   ]
  },
  {
   "cell_type": "markdown",
   "metadata": {
    "id": "VkqoTN9fi-Uq"
   },
   "source": [
    "## Asking and Answering Questions\n",
    "\n",
    "**TODO**\n",
    "\n",
    "1.   [Can we identify faulty or suboptimally performing equipment during the time period?](https://www.kaggle.com/anikannal/solar-power-generation-data?select=Plant_2_Weather_Sensor_Data.csv)\n",
    "2.   [Can we identify the need for panel cleaning/maintenance during the time period?](https://www.kaggle.com/anikannal/solar-power-generation-data?select=Plant_2_Weather_Sensor_Data.csv)\n",
    "\n"
   ]
  },
  {
   "cell_type": "code",
   "execution_count": null,
   "metadata": {
    "id": "jJrnDiO-i-Uq"
   },
   "outputs": [],
   "source": [
    "### Can we identify faulty or suboptimally performing equipment during the time period?\n",
    " "
   ]
  },
  {
   "cell_type": "code",
   "execution_count": null,
   "metadata": {
    "id": "e1FI8qE6i-Uq"
   },
   "outputs": [],
   "source": []
  },
  {
   "cell_type": "code",
   "execution_count": null,
   "metadata": {
    "id": "a50z-ePii-Uq"
   },
   "outputs": [],
   "source": []
  },
  {
   "cell_type": "code",
   "execution_count": null,
   "metadata": {
    "id": "UYMPOlqZi-Uq"
   },
   "outputs": [],
   "source": []
  },
  {
   "cell_type": "code",
   "execution_count": null,
   "metadata": {
    "id": "G9RfCjR-i-Uq"
   },
   "outputs": [],
   "source": []
  },
  {
   "cell_type": "code",
   "execution_count": null,
   "metadata": {
    "id": "NNBwU4KMi-Uq"
   },
   "outputs": [],
   "source": []
  },
  {
   "cell_type": "code",
   "execution_count": null,
   "metadata": {
    "id": "oTxLLV5gi-Uq"
   },
   "outputs": [],
   "source": []
  },
  {
   "cell_type": "code",
   "execution_count": null,
   "metadata": {
    "id": "KJfeEG7Fi-Uq"
   },
   "outputs": [],
   "source": [
    "#commit()"
   ]
  },
  {
   "cell_type": "markdown",
   "metadata": {
    "id": "xj3srQ4Ri-Uq"
   },
   "source": [
    "## Inferences and Conclusion\n",
    "\n"
   ]
  },
  {
   "cell_type": "code",
   "execution_count": null,
   "metadata": {
    "id": "4js0mZx3i-Uq"
   },
   "outputs": [],
   "source": [
    "#commit()"
   ]
  },
  {
   "cell_type": "markdown",
   "metadata": {
    "id": "3x_zyDCFi-Ur"
   },
   "source": [
    "## References and Future Work\n",
    "\n"
   ]
  },
  {
   "cell_type": "code",
   "execution_count": null,
   "metadata": {
    "id": "ezzi4hrJi-Ur"
   },
   "outputs": [],
   "source": [
    "#commit()"
   ]
  },
  {
   "cell_type": "code",
   "execution_count": null,
   "metadata": {
    "id": "NXUiVbbli-Ur"
   },
   "outputs": [],
   "source": []
  }
 ],
 "metadata": {
  "colab": {
   "collapsed_sections": [
    "iG1u7rq1i-Uq",
    "VkqoTN9fi-Uq",
    "xj3srQ4Ri-Uq",
    "3x_zyDCFi-Ur"
   ],
   "name": "solar-india.ipynb",
   "provenance": []
  },
  "kernelspec": {
   "display_name": "solar-india",
   "language": "python",
   "name": "solar-india"
  },
  "language_info": {
   "codemirror_mode": {
    "name": "ipython",
    "version": 3
   },
   "file_extension": ".py",
   "mimetype": "text/x-python",
   "name": "python",
   "nbconvert_exporter": "python",
   "pygments_lexer": "ipython3",
   "version": "3.8.5-final"
  }
 },
 "nbformat": 4,
 "nbformat_minor": 1
}