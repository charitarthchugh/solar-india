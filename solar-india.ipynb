{
 "cells": [
  {
   "cell_type": "markdown",
   "metadata": {
    "id": "DqupkZYoi-Un"
   },
   "source": [
    "### Data Analysis with Python: Zero to Pandas - Course Project Guidelines\n",
    "#### (remove this cell before submission)\n",
    "\n",
    "Make submissions here:  https://jovian.ml/learn/data-analysis-with-python-zero-to-pandas/assignment/course-project\n",
    "\n",
    "This is the starter notebook for the course project for [Data Analysis with Python: Zero to Pandas](https://jovian.ml/learn/data-analysis-with-python-zero-to-pandas). For the course project, you will pick a real-world dataset of your choice and apply the concepts learned in this course to perform exploratory data analysis. Use this starter notebook as an outline for your project (you can also start with an empty new notebook). Focus on the documentation and presentation - this Jupyter notebook will also serve as a project report, so make sure to include detailed explanations wherever possible using Markdown cells.\n",
    "\n",
    "#### Step 1: Select a real-world dataset \n",
    "\n",
    "- Find and download an interesting real-world dataset (see the Recommended Datasets section below for ideas). \n",
    "\n",
    "- The dataset should contain tabular data (rows & columns), preferably in CSV/JSON/XLS or other formats that can be read using Pandas. If it's not in a compatible format, you may have to write some code to convert it to a desired format.\n",
    "- The dataset should contain at least 3 columns and 150 rows of data. You can also combine data from multiple sources to create a large enough dataset.\n",
    "\n",
    "\n",
    "#### Step 2: Perform data preparation & cleaning\n",
    "\n",
    "- Load the dataset into a data frame using Pandas\n",
    "- Explore the number of rows & columns, ranges of values etc.\n",
    "- Handle missing, incorrect and invalid data\n",
    "- Perform any additional steps (parsing dates, creating additional columns, merging multiple dataset etc.)\n",
    "\n",
    "\n",
    "#### Step 3: Perform exploratory Analysis & Visualization\n",
    "\n",
    "- Compute the mean, sum, range and other interesting statistics for numeric columns\n",
    "- Explore distributions of numeric columns using histograms etc.\n",
    "- Explore relationship between columns using scatter plots, bar charts etc.\n",
    "- Make a note of interesting insights from the exploratory analysis\n",
    "\n",
    "#### Step 4: Ask & answer questions about the data\n",
    "\n",
    "- Ask at least 5 interesting questions about your dataset\n",
    "- Answer the questions either by computing the results using Numpy/Pandas or by plotting graphs using Matplotlib/Seaborn\n",
    "- Create new columns, merge multiple datasets and perform grouping/aggregation wherever necessary\n",
    "- Wherever you're using a library function from Pandas/Numpy/Matplotlib etc. explain briefly what it does\n",
    "\n",
    "\n",
    "#### Step 5: Summarize your inferences & write a conclusion\n",
    "\n",
    "- Write a summary of what you've learned from the analysis\n",
    "- Include interesting insights and graphs from previous sections\n",
    "- Share ideas for future work on the same topic using other relevant datasets\n",
    "- Share links to resources you found useful during your analysis\n",
    "\n",
    "\n",
    "#### Step 6: Make a submission & share your work\n",
    "\n",
    "- Upload your notebook to your Jovian.ml profile using `jovian.commit`.\n",
    "- **Make a submission here**: https://jovian.ml/learn/data-analysis-with-python-zero-to-pandas/assignment/course-project\n",
    "- Share your work on the forum: https://jovian.ml/forum/t/course-project-on-exploratory-data-analysis-discuss-and-share-your-work/11684\n",
    "\n",
    "- Browse through projects shared by other participants and give feedback\n",
    "\n",
    "\n",
    "#### (Optional) Step 7: Write a blog post\n",
    "\n",
    "- A blog post is a great way to present and showcase your work.  \n",
    "- Sign up on [Medium.com](https://medium.com) to write a blog post for your project.\n",
    "- Copy over the explanations from your Jupyter notebook into your blog post, and [embed code cells & outputs](https://medium.com/jovianml/share-and-embed-jupyter-notebooks-online-with-jovian-ml-df709a03064e)\n",
    "- Check out the Jovian.ml Medium publication for inspiration: https://medium.com/jovianml\n",
    "\n",
    "\n",
    "\n",
    "### Recommended Datasets\n",
    "\n",
    "\n",
    "Use the following resources for finding interesting datasets:\n",
    "\n",
    "- [Recommended datasets for the course project](https://jovian.ml/forum/t/recommended-datasets-for-course-project/11711)\n",
    "- [Kaggle datasets](https://www.kaggle.com/datasets)\n",
    "- [UCI Machine Learning Repository](http://archive.ics.uci.edu/ml/index.php)\n",
    "- [awesome-public-datasets](https://github.com/awesomedata/awesome-public-datasets)\n",
    "- [Google Dataset Search](https://datasetsearch.research.google.com)\n",
    "- [Your personal data from online services](https://www.popsci.com/download-digital-personal-information/)\n",
    "\n",
    "\n",
    "\n",
    "### Example Projects\n",
    "\n",
    "Refer to these projects for inspiration:\n",
    "\n",
    "* [Analyzing your browser history using Pandas & Seaborn](https://medium.com/free-code-camp/understanding-my-browsing-pattern-using-pandas-and-seaborn-162b97e33e51)\n",
    "\n",
    "* [WhatsApp Chat Data Analysis](https://jovian.ml/PrajwalPrashanth/whatsapp-chat-data-analysis)\n",
    "\n",
    "* [Analyzing Covid-19 data using Pandas](https://jovian.ml/aakashns/python-pandas-data-analysis) \n",
    "\n",
    "* [Understanding the Gender Divide in Data Science Roles](https://medium.com/datadriveninvestor/exploratory-data-analysis-eda-understanding-the-gender-divide-in-data-science-roles-9faa5da44f5b)\n",
    "\n",
    "* [2019 State of Javascript Survey Results](https://2019.stateofjs.com/demographics/)\n",
    "\n",
    "* [2020 Stack Overflow Developer Survey Results](https://insights.stackoverflow.com/survey/2020)\n",
    "\n",
    "\n",
    "### Evaluation Criteria\n",
    "\n",
    "Your submission will be evaluated using the following criteria:\n",
    "\n",
    "* Dataset must contain at least 3 columns and 150 rows of data\n",
    "* You must ask and answer at least 5 questions about the dataset\n",
    "* Your submission must include at least 5 visualizations (graphs)\n",
    "* Your submission must include explanations using markdown cells, apart from the code.\n",
    "* Your work must not be plagiarized i.e. copy-pasted from somewhere else.\n",
    "\n",
    "\n",
    "**NOTE**: Remove this cell containing the instructions before making your submission. You can do using the \"Edit > Delete Cells\" menu option."
   ]
  },
  {
   "cell_type": "markdown",
   "metadata": {
    "id": "UlnMnt-li-Un"
   },
   "source": [
    "# Solar India\n",
    "\n",
    "An analysis of two solar plants in India, based on the awesome Solar Power Generation Dataset.\n",
    "\n"
   ]
  },
  {
   "cell_type": "code",
   "execution_count": 1,
   "metadata": {
    "id": "UE9uY5hzi-Un"
   },
   "outputs": [],
   "source": [
    "project_name = \"solar-india\" \n",
    "filename=project_name+\".ipynb\""
   ]
  },
  {
   "source": [
    "Install and import all the needed packages"
   ],
   "cell_type": "markdown",
   "metadata": {}
  },
  {
   "cell_type": "code",
   "execution_count": 2,
   "metadata": {
    "id": "qOM9hODEi-Un"
   },
   "outputs": [],
   "source": [
    "!pip install jovian opendatasets gitpython  -U -q"
   ]
  },
  {
   "cell_type": "code",
   "execution_count": 3,
   "metadata": {
    "id": "dSXuHjzyi-Uo"
   },
   "outputs": [
    {
     "data": {
      "text/plain": "<IPython.core.display.Javascript object>",
      "application/javascript": "if (window.IPython && IPython.notebook.kernel) IPython.notebook.kernel.execute('jovian.utils.jupyter.get_notebook_name_saved = lambda: \"' + IPython.notebook.notebook_name + '\"')"
     },
     "metadata": {},
     "output_type": "display_data"
    }
   ],
   "source": [
    "import jovian\n",
    "import opendatasets as od\n",
    "import matplotlib.pyplot as plt\n",
    "import seaborn as sns\n",
    "import pandas as pd\n",
    "import numpy as np\n",
    "import os\n",
    "from os.path import isfile, join\n",
    "from git import Repo\n",
    "%matplotlib inline"
   ]
  },
  {
   "cell_type": "markdown",
   "source": [
    "#### Commit method\n",
    "This is a commit method that will simultaniously upload to [jovian.ai](https://jovian.ai/charitarthchugh/solar-india) and [github.com](https://github.com/charitarthchugh/solar-india).\n",
    "This will only update in Github when there is a Git repository present because the Jovian library's commit feature only works when a git repository is detected. This function is able to push directly to the origin repository from the remote."
   ],
   "metadata": {
    "collapsed": false,
    "pycharm": {
     "name": "#%% md\n"
    }
   }
  },
  {
   "cell_type": "code",
   "execution_count": 4,
   "metadata": {
    "id": "eHRgI1aei-Up"
   },
   "outputs": [],
   "source": [
    "files=[f for f in os.listdir(os.getcwd()+ \"/data\") if isfile(join(os.getcwd()+ \"/data\", f))]\n",
    "def commit():\n",
    "    \"\"\"\n",
    "\n",
    "    :return: None\n",
    "    \"\"\"\n",
    "\n",
    "    jovian.commit(\n",
    "        project=project_name, \n",
    "        filename=filename,\n",
    "        files=files,\n",
    "        git_commit=True,\n",
    "        environment=\"conda\")\n",
    "    # We have to perform a manual check ourselves if there is a git repository present.\n",
    "    git_dir = os.getcwd()+\"/.git\"\n",
    "    if os.path.exists(git_dir):\n",
    "        #\n",
    "        # noinspection PyBroadException\n",
    "        try:\n",
    "            repo = Repo(git_dir)\n",
    "            origin = repo.remote(name=\"origin\")\n",
    "            origin.push()\n",
    "            print(\"Pushed Successfully!\")\n",
    "        # If there is a Failure in pushing to origin.\n",
    "        except:\n",
    "            print(\"Error occurred while pushing repository to origin\")\n",
    "    else:\n",
    "        print(\"Not in a git repository, skipping\")"
   ]
  },
  {
   "cell_type": "markdown",
   "metadata": {
    "id": "wnEowoDVi-Up"
   },
   "source": [
    "## Data Preparation and Cleaning\n",
    "  \n",
    "**TODO:**\n",
    "    \n",
    "1.  Download the dataset\n",
    "2.  Import into Pandas\n",
    "3.  Clean redundant data\n",
    "4.  Create Class for each plant\n",
    "\n",
    "\n",
    "\n"
   ]
  },
  {
   "cell_type": "code",
   "execution_count": 5,
   "metadata": {
    "colab": {
     "base_uri": "https://localhost:8080/",
     "height": 647
    },
    "id": "TX7jfyphi-Up",
    "outputId": "9ebe6533-efe9-4e26-d1e2-3108df0d1836"
   },
   "outputs": [],
   "source": [
    "# Download the dataset from Kaggle using opendatasets only if it does not exist already locally. Needs a Kaggle Account.\n",
    "#if not os.path.isfile(files[0]):\n",
    " #   od.download(\"https://www.kaggle.com/anikannal/solar-power-generation-data\", data_dir=os.getcwd().join(\"/data\"))"
   ]
  },
  {
   "cell_type": "markdown",
   "source": [
    "### Dataset Information\n",
    "\"This data has been gathered at two solar power plants in India over a 34 day period. It has two pairs of files - each pair has one power generation dataset and one sensor readings dataset. The power generation datasets are gathered at the inverter level - each inverter has multiple lines of solar panels attached to it. The sensor data is gathered at a plant level - single array of sensors optimally placed at the plant.\"(Kaggle dataset description. Author: Ani Kannal)  \n",
    "Here is the dataset column information, split into two sections- Generation and Weather.\n",
    "\n",
    "**Generation Data**\n",
    "\n",
    "| Field                                | Description                                                                                          |\n",
    "|:------------------------------------:|:---------------------------------------------------------------------------------------------------- |\n",
    "| `DATE_TIME`                          | Date and time for each observation. Observations recorded at 15 minute intervals.                    |\n",
    "| `PLANT_ID`                           | Unique numerical ID for each solar plant.                                                            |\n",
    "| `SOURCE_KEY` (used as `INVERTER_ID`) | Unique alphanumerical ID for each inverter                                                           |\n",
    "| `DC_POWER`                           | Amount of DC power generated by the inverter `SOURCE_KEY`, in kilowatts, in this 15 minute interval. |\n",
    "| `AC_POWER`                           | Amount of AC power generated by the inverter `SOURCE_KEY`, in kilowatts, in this 15 minute interval. |\n",
    "| `TOTAL_YEILD`                        | This is the total yield for the inverter till that point in time. Does not start at 0.               |\n",
    "\n",
    "**Weather Data**\n",
    "\n",
    "| Field                                      | Description                                                                                                                 |\n",
    "|:------------------------------------------:| --------------------------------------------------------------------------------------------------------------------------- |\n",
    "| `DATE_TIME`                                | Date and time for each observation. Observations recorded at 15 minute intervals.                                           |\n",
    "| `PLANT_ID`                                 | Unique numerical ID for each solar plant.                                                                                   |\n",
    "| `SOURCE_KEY`   (used as `sensor_panel_id`) | Stands for the sensor panel id. This will be common for the entire file because there's only one sensor panel for the plant |\n",
    "| `AMBIENT_TEMPERATURE`                      | This is the ambient temperature at the plant.                                                                               |\n",
    "| `MODULE_TEMPERATURE`                       | There's a module (solar panel) attached to the sensor panel. This is the temperature reading for that module.               |\n",
    "| `IRRIDATION`                               | Amount of irradiation for the 15 minute interval.                                                                           |"
   ],
   "metadata": {
    "collapsed": false,
    "pycharm": {
     "name": "#%% md\n"
    }
   }
  },
  {
   "cell_type": "markdown",
   "source": [
    "### Load the Data"
   ],
   "metadata": {
    "collapsed": false,
    "pycharm": {
     "name": "#%% md\n"
    }
   }
  },
  {
   "cell_type": "markdown",
   "source": [
    "#### Pandas Library\n",
    "I am going to be using the [Pandas](https://pandas.pydata.org) library to interact with my dataset.\n",
    "It is a high performance library for Python to interact with datasets of many sizes that "
   ],
   "metadata": {
    "collapsed": false,
    "pycharm": {
     "name": "#%% md\n"
    }
   }
  },
  {
   "cell_type": "code",
   "metadata": {
    "id": "a2IGvzyri-Up",
    "pycharm": {
     "name": "#%%\n"
    }
   },
   "source": [
    "def weather_sensor_df(dataset: int) -> pd.core.frame.DataFrame:\n",
    "    tmp=pd.core.frame.DataFrame\n",
    "    if dataset==1:\n",
    "        tmp=pd.read_csv(os.getcwd()+\"/data/solar-power-generation/Plant_1_Weather_Sensor_Data.csv\")\n",
    "    elif dataset==2:\n",
    "        tmp=pd.read_csv(os.getcwd()+\"/data/solar-power-generation/Plant_2_Weather_Sensor_Data.csv\")\n",
    "    # Drop SOURCE_KEY too for same reason--> now it is sensor_panel_id, a property of this class\n",
    "    tmp.drop(columns=[\"PLANT_ID\",\"SOURCE_KEY\"], inplace=True)\n",
    "    return tmp\n",
    "def generation_df(dataset):\n",
    "    tmp=pd.core.frame.DataFrame\n",
    "    if dataset==1:\n",
    "        tmp=pd.read_csv(os.getcwd()+\"/data/solar-power-generation/Plant_1_Generation_Data.csv\")\n",
    "    elif dataset==2:\n",
    "        tmp=pd.read_csv(os.getcwd()+\"/data/solar-power-generation/Plant_2_Generation_Data.csv\")\n",
    "    # Have already saved the PLANT_ID as id, a property of this class\n",
    "    tmp.drop(columns=[\"PLANT_ID\"], inplace=True)\n",
    "    # Rename SOURCE_KEY to INVERTER_ID to make it clearer\n",
    "    tmp.rename(columns={ \"SOURCE_KEY\":\"INVERTER_ID\"},inplace=True)\n",
    "    return tmp"
   ],
   "execution_count": 6,
   "outputs": []
  },
  {
   "cell_type": "markdown",
   "source": [
    "#### Create Class for Plant 1 and initialize it"
   ],
   "metadata": {
    "collapsed": false,
    "pycharm": {
     "name": "#%% md\n"
    }
   }
  },
  {
   "cell_type": "code",
   "execution_count": 7,
   "outputs": [],
   "source": [
    "class Plant1:\n",
    "    id = 4135001\n",
    "    sensor_panel_id = \"HmiyD2TTLFNqkNe\"\n",
    "    generation_df = generation_df(1)\n",
    "    weather_sensor_df = weather_sensor_df(1)"
   ],
   "metadata": {
    "collapsed": false,
    "pycharm": {
     "name": "#%%\n"
    }
   }
  },
  {
   "cell_type": "code",
   "metadata": {
    "colab": {
     "base_uri": "https://localhost:8080/",
     "height": 307
    },
    "id": "eRRdcG96i-Up",
    "outputId": "e5336529-7028-4766-a246-467fc0bc2f0c",
    "pycharm": {
     "name": "#%%\n"
    }
   },
   "source": [
    "plant1=Plant1()\n",
    "plant1.generation_df"
   ],
   "execution_count": 8,
   "outputs": [
    {
     "data": {
      "text/plain": "              DATE_TIME      INVERTER_ID  DC_POWER  AC_POWER  DAILY_YIELD  \\\n0      15-05-2020 00:00  1BY6WEcLGh8j5v7       0.0       0.0        0.000   \n1      15-05-2020 00:00  1IF53ai7Xc0U56Y       0.0       0.0        0.000   \n2      15-05-2020 00:00  3PZuoBAID5Wc2HD       0.0       0.0        0.000   \n3      15-05-2020 00:00  7JYdWkrLSPkdwr4       0.0       0.0        0.000   \n4      15-05-2020 00:00  McdE0feGgRqW7Ca       0.0       0.0        0.000   \n...                 ...              ...       ...       ...          ...   \n68773  17-06-2020 23:45  uHbuxQJl8lW7ozc       0.0       0.0     5967.000   \n68774  17-06-2020 23:45  wCURE6d3bPkepu2       0.0       0.0     5147.625   \n68775  17-06-2020 23:45  z9Y9gH1T5YWrNuG       0.0       0.0     5819.000   \n68776  17-06-2020 23:45  zBIq5rxdHJRwDNY       0.0       0.0     5817.000   \n68777  17-06-2020 23:45  zVJPv84UY57bAof       0.0       0.0     5910.000   \n\n       TOTAL_YIELD  \n0        6259559.0  \n1        6183645.0  \n2        6987759.0  \n3        7602960.0  \n4        7158964.0  \n...            ...  \n68773    7287002.0  \n68774    7028601.0  \n68775    7251204.0  \n68776    6583369.0  \n68777    7363272.0  \n\n[68778 rows x 6 columns]",
      "text/html": "<div>\n<style scoped>\n    .dataframe tbody tr th:only-of-type {\n        vertical-align: middle;\n    }\n\n    .dataframe tbody tr th {\n        vertical-align: top;\n    }\n\n    .dataframe thead th {\n        text-align: right;\n    }\n</style>\n<table border=\"1\" class=\"dataframe\">\n  <thead>\n    <tr style=\"text-align: right;\">\n      <th></th>\n      <th>DATE_TIME</th>\n      <th>INVERTER_ID</th>\n      <th>DC_POWER</th>\n      <th>AC_POWER</th>\n      <th>DAILY_YIELD</th>\n      <th>TOTAL_YIELD</th>\n    </tr>\n  </thead>\n  <tbody>\n    <tr>\n      <th>0</th>\n      <td>15-05-2020 00:00</td>\n      <td>1BY6WEcLGh8j5v7</td>\n      <td>0.0</td>\n      <td>0.0</td>\n      <td>0.000</td>\n      <td>6259559.0</td>\n    </tr>\n    <tr>\n      <th>1</th>\n      <td>15-05-2020 00:00</td>\n      <td>1IF53ai7Xc0U56Y</td>\n      <td>0.0</td>\n      <td>0.0</td>\n      <td>0.000</td>\n      <td>6183645.0</td>\n    </tr>\n    <tr>\n      <th>2</th>\n      <td>15-05-2020 00:00</td>\n      <td>3PZuoBAID5Wc2HD</td>\n      <td>0.0</td>\n      <td>0.0</td>\n      <td>0.000</td>\n      <td>6987759.0</td>\n    </tr>\n    <tr>\n      <th>3</th>\n      <td>15-05-2020 00:00</td>\n      <td>7JYdWkrLSPkdwr4</td>\n      <td>0.0</td>\n      <td>0.0</td>\n      <td>0.000</td>\n      <td>7602960.0</td>\n    </tr>\n    <tr>\n      <th>4</th>\n      <td>15-05-2020 00:00</td>\n      <td>McdE0feGgRqW7Ca</td>\n      <td>0.0</td>\n      <td>0.0</td>\n      <td>0.000</td>\n      <td>7158964.0</td>\n    </tr>\n    <tr>\n      <th>...</th>\n      <td>...</td>\n      <td>...</td>\n      <td>...</td>\n      <td>...</td>\n      <td>...</td>\n      <td>...</td>\n    </tr>\n    <tr>\n      <th>68773</th>\n      <td>17-06-2020 23:45</td>\n      <td>uHbuxQJl8lW7ozc</td>\n      <td>0.0</td>\n      <td>0.0</td>\n      <td>5967.000</td>\n      <td>7287002.0</td>\n    </tr>\n    <tr>\n      <th>68774</th>\n      <td>17-06-2020 23:45</td>\n      <td>wCURE6d3bPkepu2</td>\n      <td>0.0</td>\n      <td>0.0</td>\n      <td>5147.625</td>\n      <td>7028601.0</td>\n    </tr>\n    <tr>\n      <th>68775</th>\n      <td>17-06-2020 23:45</td>\n      <td>z9Y9gH1T5YWrNuG</td>\n      <td>0.0</td>\n      <td>0.0</td>\n      <td>5819.000</td>\n      <td>7251204.0</td>\n    </tr>\n    <tr>\n      <th>68776</th>\n      <td>17-06-2020 23:45</td>\n      <td>zBIq5rxdHJRwDNY</td>\n      <td>0.0</td>\n      <td>0.0</td>\n      <td>5817.000</td>\n      <td>6583369.0</td>\n    </tr>\n    <tr>\n      <th>68777</th>\n      <td>17-06-2020 23:45</td>\n      <td>zVJPv84UY57bAof</td>\n      <td>0.0</td>\n      <td>0.0</td>\n      <td>5910.000</td>\n      <td>7363272.0</td>\n    </tr>\n  </tbody>\n</table>\n<p>68778 rows × 6 columns</p>\n</div>"
     },
     "execution_count": 8,
     "metadata": {},
     "output_type": "execute_result"
    }
   ]
  },
  {
   "cell_type": "markdown",
   "source": [
    "#### Create Class for Plant 2 and initialize it"
   ],
   "metadata": {
    "collapsed": false
   }
  },
  {
   "cell_type": "code",
   "execution_count": 9,
   "outputs": [],
   "source": [
    "class Plant2:\n",
    "    id = 4136001\n",
    "    sensor_panel_id = \"iq8k7ZNt4Mwm3w0\"\n",
    "    generation_df = generation_df(2)\n",
    "    weather_sensor_df = weather_sensor_df(2)"
   ],
   "metadata": {
    "collapsed": false,
    "pycharm": {
     "name": "#%%\n"
    }
   }
  },
  {
   "cell_type": "code",
   "execution_count": 29,
   "metadata": {},
   "outputs": [
    {
     "data": {
      "text/plain": "                 DATE_TIME      INVERTER_ID  DC_POWER  AC_POWER  DAILY_YIELD  \\\n0      2020-05-15 00:00:00  4UPUqMRk7TRMgml       0.0       0.0  9425.000000   \n1      2020-05-15 00:00:00  81aHJ1q11NBPMrL       0.0       0.0     0.000000   \n2      2020-05-15 00:00:00  9kRcWv60rDACzjR       0.0       0.0  3075.333333   \n3      2020-05-15 00:00:00  Et9kgGMDl729KT4       0.0       0.0   269.933333   \n4      2020-05-15 00:00:00  IQ2d7wF4YD8zU1Q       0.0       0.0  3177.000000   \n...                    ...              ...       ...       ...          ...   \n67693  2020-06-17 23:45:00  q49J1IKaHRwDQnt       0.0       0.0  4157.000000   \n67694  2020-06-17 23:45:00  rrq4fwE8jgrTyWY       0.0       0.0  3931.000000   \n67695  2020-06-17 23:45:00  vOuJvMaM2sgwLmb       0.0       0.0  4322.000000   \n67696  2020-06-17 23:45:00  xMbIugepa2P7lBB       0.0       0.0  4218.000000   \n67697  2020-06-17 23:45:00  xoJJ8DcxJEcupym       0.0       0.0  4316.000000   \n\n        TOTAL_YIELD  \n0      2.429011e+06  \n1      1.215279e+09  \n2      2.247720e+09  \n3      1.704250e+06  \n4      1.994153e+07  \n...             ...  \n67693  5.207580e+05  \n67694  1.211314e+08  \n67695  2.427691e+06  \n67696  1.068964e+08  \n67697  2.093357e+08  \n\n[67698 rows x 6 columns]",
      "text/html": "<div>\n<style scoped>\n    .dataframe tbody tr th:only-of-type {\n        vertical-align: middle;\n    }\n\n    .dataframe tbody tr th {\n        vertical-align: top;\n    }\n\n    .dataframe thead th {\n        text-align: right;\n    }\n</style>\n<table border=\"1\" class=\"dataframe\">\n  <thead>\n    <tr style=\"text-align: right;\">\n      <th></th>\n      <th>DATE_TIME</th>\n      <th>INVERTER_ID</th>\n      <th>DC_POWER</th>\n      <th>AC_POWER</th>\n      <th>DAILY_YIELD</th>\n      <th>TOTAL_YIELD</th>\n    </tr>\n  </thead>\n  <tbody>\n    <tr>\n      <th>0</th>\n      <td>2020-05-15 00:00:00</td>\n      <td>4UPUqMRk7TRMgml</td>\n      <td>0.0</td>\n      <td>0.0</td>\n      <td>9425.000000</td>\n      <td>2.429011e+06</td>\n    </tr>\n    <tr>\n      <th>1</th>\n      <td>2020-05-15 00:00:00</td>\n      <td>81aHJ1q11NBPMrL</td>\n      <td>0.0</td>\n      <td>0.0</td>\n      <td>0.000000</td>\n      <td>1.215279e+09</td>\n    </tr>\n    <tr>\n      <th>2</th>\n      <td>2020-05-15 00:00:00</td>\n      <td>9kRcWv60rDACzjR</td>\n      <td>0.0</td>\n      <td>0.0</td>\n      <td>3075.333333</td>\n      <td>2.247720e+09</td>\n    </tr>\n    <tr>\n      <th>3</th>\n      <td>2020-05-15 00:00:00</td>\n      <td>Et9kgGMDl729KT4</td>\n      <td>0.0</td>\n      <td>0.0</td>\n      <td>269.933333</td>\n      <td>1.704250e+06</td>\n    </tr>\n    <tr>\n      <th>4</th>\n      <td>2020-05-15 00:00:00</td>\n      <td>IQ2d7wF4YD8zU1Q</td>\n      <td>0.0</td>\n      <td>0.0</td>\n      <td>3177.000000</td>\n      <td>1.994153e+07</td>\n    </tr>\n    <tr>\n      <th>...</th>\n      <td>...</td>\n      <td>...</td>\n      <td>...</td>\n      <td>...</td>\n      <td>...</td>\n      <td>...</td>\n    </tr>\n    <tr>\n      <th>67693</th>\n      <td>2020-06-17 23:45:00</td>\n      <td>q49J1IKaHRwDQnt</td>\n      <td>0.0</td>\n      <td>0.0</td>\n      <td>4157.000000</td>\n      <td>5.207580e+05</td>\n    </tr>\n    <tr>\n      <th>67694</th>\n      <td>2020-06-17 23:45:00</td>\n      <td>rrq4fwE8jgrTyWY</td>\n      <td>0.0</td>\n      <td>0.0</td>\n      <td>3931.000000</td>\n      <td>1.211314e+08</td>\n    </tr>\n    <tr>\n      <th>67695</th>\n      <td>2020-06-17 23:45:00</td>\n      <td>vOuJvMaM2sgwLmb</td>\n      <td>0.0</td>\n      <td>0.0</td>\n      <td>4322.000000</td>\n      <td>2.427691e+06</td>\n    </tr>\n    <tr>\n      <th>67696</th>\n      <td>2020-06-17 23:45:00</td>\n      <td>xMbIugepa2P7lBB</td>\n      <td>0.0</td>\n      <td>0.0</td>\n      <td>4218.000000</td>\n      <td>1.068964e+08</td>\n    </tr>\n    <tr>\n      <th>67697</th>\n      <td>2020-06-17 23:45:00</td>\n      <td>xoJJ8DcxJEcupym</td>\n      <td>0.0</td>\n      <td>0.0</td>\n      <td>4316.000000</td>\n      <td>2.093357e+08</td>\n    </tr>\n  </tbody>\n</table>\n<p>67698 rows × 6 columns</p>\n</div>"
     },
     "execution_count": 29,
     "metadata": {},
     "output_type": "execute_result"
    }
   ],
   "source": [
    "plant2=Plant2()\n",
    "plant2.generation_df"
   ]
  },
  {
   "cell_type": "markdown",
   "metadata": {
    "id": "5rEc8REjx8Bs"
   },
   "source": [
    "Update in Jovian"
   ]
  },
  {
   "cell_type": "code",
   "execution_count": 11,
   "metadata": {
    "id": "_SGX48qri-Up"
   },
   "outputs": [],
   "source": [
    "#commit()"
   ]
  },
  {
   "cell_type": "markdown",
   "metadata": {
    "id": "iG1u7rq1i-Uq"
   },
   "source": [
    "## Exploratory Analysis and Visualization\n",
    "\n",
    "**TODO**  \n",
    "Answer exploratory questions.  \n",
    "1.   What is the distribution of ambient temperature in May-June 2015 for each of the solar plants?  \n",
    "2.   How many unique inverters are there for each plant? What is the total yeild of each inverter over a period of 34 days?    \n",
    "3.   What is the average total yeild for the inverters at each plant?  \n"
   ]
  },
  {
   "cell_type": "markdown",
   "source": [
    "### Question 2: How many unique inverters are there for each plant? How much energy(DC and AC) does each inverter generate during a period of 34 days?\n",
    "\n",
    "**STEPS**  \n",
    "\n",
    "1. Get and save the list of unique inverters using `pd.dataframe.unique` for each plant\n",
    "    * I will be storing this in NumPy arrays. NumPy is a high performace library for numerical computing and analysis. \n",
    "2. Count the number of inverters.\n",
    "3. For every inverter in the list, do final yeild-initial yeild to find the change in the yeild.\n"
   ],
   "metadata": {
    "collapsed": false,
    "pycharm": {
     "name": "#%% md\n"
    }
   }
  },
  {
   "cell_type": "code",
   "metadata": {
    "id": "GAdrhcUDi-Uq",
    "pycharm": {
     "name": "#%%\n"
    }
   },
   "source": [
    "# Get the list of inverters at every plant.\n",
    "plant_1_inverters = np.array(plant1.generation_df.INVERTER_ID.unique())\n",
    "plant_2_inverters = np.array(plant2.generation_df.INVERTER_ID.unique())\n",
    "print(plant_1_inverters)\n",
    "print(plant_2_inverters)"
   ],
   "execution_count": 12,
   "outputs": [
    {
     "name": "stdout",
     "output_type": "stream",
     "text": [
      "['1BY6WEcLGh8j5v7' '1IF53ai7Xc0U56Y' '3PZuoBAID5Wc2HD' '7JYdWkrLSPkdwr4'\n",
      " 'McdE0feGgRqW7Ca' 'VHMLBKoKgIrUVDU' 'WRmjgnKYAwPKWDb' 'ZnxXDlPa8U1GXgE'\n",
      " 'ZoEaEvLYb1n2sOq' 'adLQvlD726eNBSB' 'bvBOhCH3iADSZry' 'iCRJl6heRkivqQ3'\n",
      " 'ih0vzX44oOqAx2f' 'pkci93gMrogZuBj' 'rGa61gmuvPhdLxV' 'sjndEbLyjtCKgGv'\n",
      " 'uHbuxQJl8lW7ozc' 'wCURE6d3bPkepu2' 'z9Y9gH1T5YWrNuG' 'zBIq5rxdHJRwDNY'\n",
      " 'zVJPv84UY57bAof' 'YxYtjZvoooNbGkE']\n",
      "['4UPUqMRk7TRMgml' '81aHJ1q11NBPMrL' '9kRcWv60rDACzjR' 'Et9kgGMDl729KT4'\n",
      " 'IQ2d7wF4YD8zU1Q' 'LYwnQax7tkwH5Cb' 'LlT2YUhhzqhg5Sw' 'Mx2yZCDsyf6DPfv'\n",
      " 'NgDl19wMapZy17u' 'PeE6FRyGXUgsRhN' 'Qf4GUc1pJu5T6c6' 'Quc1TzYxW2pYoWX'\n",
      " 'V94E5Ben1TlhnDV' 'WcxssY2VbP4hApt' 'mqwcsP2rE7J0TFp' 'oZ35aAeoifZaQzV'\n",
      " 'oZZkBaNadn6DNKz' 'q49J1IKaHRwDQnt' 'rrq4fwE8jgrTyWY' 'vOuJvMaM2sgwLmb'\n",
      " 'xMbIugepa2P7lBB' 'xoJJ8DcxJEcupym']\n"
     ]
    }
   ]
  },
  {
   "cell_type": "code",
   "execution_count": 13,
   "metadata": {
    "id": "dyX4YlYui-Uq"
   },
   "outputs": [
    {
     "name": "stdout",
     "output_type": "stream",
     "text": [
      "# of inverters at Plant 1: 22\n",
      "# of inverters at Plant 2: 22\n"
     ]
    }
   ],
   "source": [
    "# Count the number of inverters\n",
    "plant_1_inverters_count=len(plant_1_inverters)\n",
    "plant_2_inverters_count=len(plant_2_inverters)\n",
    "print(\"# of inverters at Plant 1: {}\".format(plant_1_inverters_count))\n",
    "print(\"# of inverters at Plant 2: {}\".format(plant_2_inverters_count))"
   ]
  },
  {
   "cell_type": "code",
   "execution_count": 14,
   "metadata": {},
   "outputs": [],
   "source": [
    "def get_yields( df : pd.core.frame.DataFrame) -> pd.core.frame.DataFrame:\n",
    "    result = df.groupby('INVERTER_ID')['TOTAL_YIELD'].agg(['max','min'])\n",
    "    result['delta'] = result['max']-result['min']\n",
    "    alias = np.zeros(result.shape[0]).astype(int)\n",
    "    for i in range(result.shape[0]):\n",
    "        alias[i] = i+1\n",
    "    result['alias'] = alias\n",
    "    return result\n",
    "      "
   ]
  },
  {
   "cell_type": "code",
   "execution_count": 15,
   "metadata": {
    "id": "5v4qdwq0i-Uq",
    "tags": []
   },
   "outputs": [
    {
     "data": {
      "text/plain": "                       max        min     delta  alias\nINVERTER_ID                                           \n1BY6WEcLGh8j5v7  6485319.0  6259559.0  225760.0      1\n1IF53ai7Xc0U56Y  6433566.0  6183645.0  249921.0      2\n3PZuoBAID5Wc2HD  7237425.0  6987759.0  249666.0      3\n7JYdWkrLSPkdwr4  7846821.0  7602960.0  243861.0      4\nMcdE0feGgRqW7Ca  7408587.0  7158964.0  249623.0      5\nVHMLBKoKgIrUVDU  7456208.0  7206408.0  249800.0      6\nWRmjgnKYAwPKWDb  7273532.0  7028673.0  244859.0      7\nYxYtjZvoooNbGkE  7425442.0  7179966.0  245476.0      8\nZnxXDlPa8U1GXgE  6770737.0  6522172.0  248565.0      9\nZoEaEvLYb1n2sOq  7341753.0  7098099.0  243654.0     10\nadLQvlD726eNBSB  6524508.0  6271355.0  253153.0     11\nbvBOhCH3iADSZry  6539009.0  6316803.0  222206.0     12\niCRJl6heRkivqQ3  7426263.0  7177992.0  248271.0     13\nih0vzX44oOqAx2f  6426129.0  6185184.0  240945.0     14\npkci93gMrogZuBj  7415430.0  7169102.0  246328.0     15\nrGa61gmuvPhdLxV  7356897.0  7111493.0  245404.0     16\nsjndEbLyjtCKgGv  7261681.0  7016832.0  244849.0     17\nuHbuxQJl8lW7ozc  7287002.0  7038681.0  248321.0     18\nwCURE6d3bPkepu2  7028601.0  6782598.0  246003.0     19\nz9Y9gH1T5YWrNuG  7251204.0  7007866.0  243338.0     20\nzBIq5rxdHJRwDNY  6583369.0  6339380.0  243989.0     21\nzVJPv84UY57bAof  7363272.0  7116151.0  247121.0     22",
      "text/html": "<div>\n<style scoped>\n    .dataframe tbody tr th:only-of-type {\n        vertical-align: middle;\n    }\n\n    .dataframe tbody tr th {\n        vertical-align: top;\n    }\n\n    .dataframe thead th {\n        text-align: right;\n    }\n</style>\n<table border=\"1\" class=\"dataframe\">\n  <thead>\n    <tr style=\"text-align: right;\">\n      <th></th>\n      <th>max</th>\n      <th>min</th>\n      <th>delta</th>\n      <th>alias</th>\n    </tr>\n    <tr>\n      <th>INVERTER_ID</th>\n      <th></th>\n      <th></th>\n      <th></th>\n      <th></th>\n    </tr>\n  </thead>\n  <tbody>\n    <tr>\n      <th>1BY6WEcLGh8j5v7</th>\n      <td>6485319.0</td>\n      <td>6259559.0</td>\n      <td>225760.0</td>\n      <td>1</td>\n    </tr>\n    <tr>\n      <th>1IF53ai7Xc0U56Y</th>\n      <td>6433566.0</td>\n      <td>6183645.0</td>\n      <td>249921.0</td>\n      <td>2</td>\n    </tr>\n    <tr>\n      <th>3PZuoBAID5Wc2HD</th>\n      <td>7237425.0</td>\n      <td>6987759.0</td>\n      <td>249666.0</td>\n      <td>3</td>\n    </tr>\n    <tr>\n      <th>7JYdWkrLSPkdwr4</th>\n      <td>7846821.0</td>\n      <td>7602960.0</td>\n      <td>243861.0</td>\n      <td>4</td>\n    </tr>\n    <tr>\n      <th>McdE0feGgRqW7Ca</th>\n      <td>7408587.0</td>\n      <td>7158964.0</td>\n      <td>249623.0</td>\n      <td>5</td>\n    </tr>\n    <tr>\n      <th>VHMLBKoKgIrUVDU</th>\n      <td>7456208.0</td>\n      <td>7206408.0</td>\n      <td>249800.0</td>\n      <td>6</td>\n    </tr>\n    <tr>\n      <th>WRmjgnKYAwPKWDb</th>\n      <td>7273532.0</td>\n      <td>7028673.0</td>\n      <td>244859.0</td>\n      <td>7</td>\n    </tr>\n    <tr>\n      <th>YxYtjZvoooNbGkE</th>\n      <td>7425442.0</td>\n      <td>7179966.0</td>\n      <td>245476.0</td>\n      <td>8</td>\n    </tr>\n    <tr>\n      <th>ZnxXDlPa8U1GXgE</th>\n      <td>6770737.0</td>\n      <td>6522172.0</td>\n      <td>248565.0</td>\n      <td>9</td>\n    </tr>\n    <tr>\n      <th>ZoEaEvLYb1n2sOq</th>\n      <td>7341753.0</td>\n      <td>7098099.0</td>\n      <td>243654.0</td>\n      <td>10</td>\n    </tr>\n    <tr>\n      <th>adLQvlD726eNBSB</th>\n      <td>6524508.0</td>\n      <td>6271355.0</td>\n      <td>253153.0</td>\n      <td>11</td>\n    </tr>\n    <tr>\n      <th>bvBOhCH3iADSZry</th>\n      <td>6539009.0</td>\n      <td>6316803.0</td>\n      <td>222206.0</td>\n      <td>12</td>\n    </tr>\n    <tr>\n      <th>iCRJl6heRkivqQ3</th>\n      <td>7426263.0</td>\n      <td>7177992.0</td>\n      <td>248271.0</td>\n      <td>13</td>\n    </tr>\n    <tr>\n      <th>ih0vzX44oOqAx2f</th>\n      <td>6426129.0</td>\n      <td>6185184.0</td>\n      <td>240945.0</td>\n      <td>14</td>\n    </tr>\n    <tr>\n      <th>pkci93gMrogZuBj</th>\n      <td>7415430.0</td>\n      <td>7169102.0</td>\n      <td>246328.0</td>\n      <td>15</td>\n    </tr>\n    <tr>\n      <th>rGa61gmuvPhdLxV</th>\n      <td>7356897.0</td>\n      <td>7111493.0</td>\n      <td>245404.0</td>\n      <td>16</td>\n    </tr>\n    <tr>\n      <th>sjndEbLyjtCKgGv</th>\n      <td>7261681.0</td>\n      <td>7016832.0</td>\n      <td>244849.0</td>\n      <td>17</td>\n    </tr>\n    <tr>\n      <th>uHbuxQJl8lW7ozc</th>\n      <td>7287002.0</td>\n      <td>7038681.0</td>\n      <td>248321.0</td>\n      <td>18</td>\n    </tr>\n    <tr>\n      <th>wCURE6d3bPkepu2</th>\n      <td>7028601.0</td>\n      <td>6782598.0</td>\n      <td>246003.0</td>\n      <td>19</td>\n    </tr>\n    <tr>\n      <th>z9Y9gH1T5YWrNuG</th>\n      <td>7251204.0</td>\n      <td>7007866.0</td>\n      <td>243338.0</td>\n      <td>20</td>\n    </tr>\n    <tr>\n      <th>zBIq5rxdHJRwDNY</th>\n      <td>6583369.0</td>\n      <td>6339380.0</td>\n      <td>243989.0</td>\n      <td>21</td>\n    </tr>\n    <tr>\n      <th>zVJPv84UY57bAof</th>\n      <td>7363272.0</td>\n      <td>7116151.0</td>\n      <td>247121.0</td>\n      <td>22</td>\n    </tr>\n  </tbody>\n</table>\n</div>"
     },
     "execution_count": 15,
     "metadata": {},
     "output_type": "execute_result"
    }
   ],
   "source": [
    "plant_1_yields = get_yields(plant1.generation_df)\n",
    "plant_1_yields"
   ]
  },
  {
   "cell_type": "code",
   "execution_count": 24,
   "metadata": {},
   "outputs": [
    {
     "data": {
      "text/plain": "Text(0, 0.5, 'Energy Generated')"
     },
     "execution_count": 24,
     "metadata": {},
     "output_type": "execute_result"
    },
    {
     "data": {
      "text/plain": "<Figure size 432x288 with 1 Axes>",
      "image/png": "[encoded data removed]"
     },
     "metadata": {},
     "output_type": "display_data"
    }
   ],
   "source": [
    "sns.set_style(\"whitegrid\")\n",
    "sns.barplot(x=plant_1_yields.alias,y=plant_1_yields.delta,)\n",
    "plt.xlabel(\"Inverters\")\n",
    "plt.ylabel(\"Energy Generated\")\n"
   ]
  },
  {
   "cell_type": "code",
   "execution_count": 26,
   "metadata": {},
   "outputs": [
    {
     "data": {
      "text/plain": "                          max  min         delta  alias\nINVERTER_ID                                            \n4UPUqMRk7TRMgml  2.653495e+06  0.0  2.653495e+06      1\n81aHJ1q11NBPMrL  1.215486e+09  0.0  1.215486e+09      2\n9kRcWv60rDACzjR  2.247916e+09  0.0  2.247916e+09      3\nEt9kgGMDl729KT4  1.854162e+06  0.0  1.854162e+06      4\nIQ2d7wF4YD8zU1Q  2.018506e+07  0.0  2.018506e+07      5\nLYwnQax7tkwH5Cb  1.795116e+09  0.0  1.795116e+09      6\nLlT2YUhhzqhg5Sw  2.827890e+08  0.0  2.827890e+08      7\nMx2yZCDsyf6DPfv  2.683351e+06  0.0  2.683351e+06      8\nNgDl19wMapZy17u  1.117460e+08  0.0  1.117460e+08      9\nPeE6FRyGXUgsRhN  1.348549e+09  0.0  1.348549e+09     10\nQf4GUc1pJu5T6c6  8.386467e+08  0.0  8.386467e+08     11\nQuc1TzYxW2pYoWX  3.296459e+08  0.0  3.296459e+08     12\nV94E5Ben1TlhnDV  1.412293e+09  0.0  1.412293e+09     13\nWcxssY2VbP4hApt  1.819119e+08  0.0  1.819119e+08     14\nmqwcsP2rE7J0TFp  5.938150e+08  0.0  5.938150e+08     15\noZ35aAeoifZaQzV  1.660189e+09  0.0  1.660189e+09     16\noZZkBaNadn6DNKz  1.708288e+09  0.0  1.708288e+09     17\nq49J1IKaHRwDQnt  5.207580e+05  0.0  5.207580e+05     18\nrrq4fwE8jgrTyWY  1.211314e+08  0.0  1.211314e+08     19\nvOuJvMaM2sgwLmb  2.427691e+06  0.0  2.427691e+06     20\nxMbIugepa2P7lBB  1.068964e+08  0.0  1.068964e+08     21\nxoJJ8DcxJEcupym  2.093357e+08  0.0  2.093357e+08     22",
      "text/html": "<div>\n<style scoped>\n    .dataframe tbody tr th:only-of-type {\n        vertical-align: middle;\n    }\n\n    .dataframe tbody tr th {\n        vertical-align: top;\n    }\n\n    .dataframe thead th {\n        text-align: right;\n    }\n</style>\n<table border=\"1\" class=\"dataframe\">\n  <thead>\n    <tr style=\"text-align: right;\">\n      <th></th>\n      <th>max</th>\n      <th>min</th>\n      <th>delta</th>\n      <th>alias</th>\n    </tr>\n    <tr>\n      <th>INVERTER_ID</th>\n      <th></th>\n      <th></th>\n      <th></th>\n      <th></th>\n    </tr>\n  </thead>\n  <tbody>\n    <tr>\n      <th>4UPUqMRk7TRMgml</th>\n      <td>2.653495e+06</td>\n      <td>0.0</td>\n      <td>2.653495e+06</td>\n      <td>1</td>\n    </tr>\n    <tr>\n      <th>81aHJ1q11NBPMrL</th>\n      <td>1.215486e+09</td>\n      <td>0.0</td>\n      <td>1.215486e+09</td>\n      <td>2</td>\n    </tr>\n    <tr>\n      <th>9kRcWv60rDACzjR</th>\n      <td>2.247916e+09</td>\n      <td>0.0</td>\n      <td>2.247916e+09</td>\n      <td>3</td>\n    </tr>\n    <tr>\n      <th>Et9kgGMDl729KT4</th>\n      <td>1.854162e+06</td>\n      <td>0.0</td>\n      <td>1.854162e+06</td>\n      <td>4</td>\n    </tr>\n    <tr>\n      <th>IQ2d7wF4YD8zU1Q</th>\n      <td>2.018506e+07</td>\n      <td>0.0</td>\n      <td>2.018506e+07</td>\n      <td>5</td>\n    </tr>\n    <tr>\n      <th>LYwnQax7tkwH5Cb</th>\n      <td>1.795116e+09</td>\n      <td>0.0</td>\n      <td>1.795116e+09</td>\n      <td>6</td>\n    </tr>\n    <tr>\n      <th>LlT2YUhhzqhg5Sw</th>\n      <td>2.827890e+08</td>\n      <td>0.0</td>\n      <td>2.827890e+08</td>\n      <td>7</td>\n    </tr>\n    <tr>\n      <th>Mx2yZCDsyf6DPfv</th>\n      <td>2.683351e+06</td>\n      <td>0.0</td>\n      <td>2.683351e+06</td>\n      <td>8</td>\n    </tr>\n    <tr>\n      <th>NgDl19wMapZy17u</th>\n      <td>1.117460e+08</td>\n      <td>0.0</td>\n      <td>1.117460e+08</td>\n      <td>9</td>\n    </tr>\n    <tr>\n      <th>PeE6FRyGXUgsRhN</th>\n      <td>1.348549e+09</td>\n      <td>0.0</td>\n      <td>1.348549e+09</td>\n      <td>10</td>\n    </tr>\n    <tr>\n      <th>Qf4GUc1pJu5T6c6</th>\n      <td>8.386467e+08</td>\n      <td>0.0</td>\n      <td>8.386467e+08</td>\n      <td>11</td>\n    </tr>\n    <tr>\n      <th>Quc1TzYxW2pYoWX</th>\n      <td>3.296459e+08</td>\n      <td>0.0</td>\n      <td>3.296459e+08</td>\n      <td>12</td>\n    </tr>\n    <tr>\n      <th>V94E5Ben1TlhnDV</th>\n      <td>1.412293e+09</td>\n      <td>0.0</td>\n      <td>1.412293e+09</td>\n      <td>13</td>\n    </tr>\n    <tr>\n      <th>WcxssY2VbP4hApt</th>\n      <td>1.819119e+08</td>\n      <td>0.0</td>\n      <td>1.819119e+08</td>\n      <td>14</td>\n    </tr>\n    <tr>\n      <th>mqwcsP2rE7J0TFp</th>\n      <td>5.938150e+08</td>\n      <td>0.0</td>\n      <td>5.938150e+08</td>\n      <td>15</td>\n    </tr>\n    <tr>\n      <th>oZ35aAeoifZaQzV</th>\n      <td>1.660189e+09</td>\n      <td>0.0</td>\n      <td>1.660189e+09</td>\n      <td>16</td>\n    </tr>\n    <tr>\n      <th>oZZkBaNadn6DNKz</th>\n      <td>1.708288e+09</td>\n      <td>0.0</td>\n      <td>1.708288e+09</td>\n      <td>17</td>\n    </tr>\n    <tr>\n      <th>q49J1IKaHRwDQnt</th>\n      <td>5.207580e+05</td>\n      <td>0.0</td>\n      <td>5.207580e+05</td>\n      <td>18</td>\n    </tr>\n    <tr>\n      <th>rrq4fwE8jgrTyWY</th>\n      <td>1.211314e+08</td>\n      <td>0.0</td>\n      <td>1.211314e+08</td>\n      <td>19</td>\n    </tr>\n    <tr>\n      <th>vOuJvMaM2sgwLmb</th>\n      <td>2.427691e+06</td>\n      <td>0.0</td>\n      <td>2.427691e+06</td>\n      <td>20</td>\n    </tr>\n    <tr>\n      <th>xMbIugepa2P7lBB</th>\n      <td>1.068964e+08</td>\n      <td>0.0</td>\n      <td>1.068964e+08</td>\n      <td>21</td>\n    </tr>\n    <tr>\n      <th>xoJJ8DcxJEcupym</th>\n      <td>2.093357e+08</td>\n      <td>0.0</td>\n      <td>2.093357e+08</td>\n      <td>22</td>\n    </tr>\n  </tbody>\n</table>\n</div>"
     },
     "execution_count": 26,
     "metadata": {},
     "output_type": "execute_result"
    }
   ],
   "source": [
    "plant_2_yields = get_yields(plant2.generation_df)\n",
    "plant_2_yields"
   ]
  },
  {
   "cell_type": "code",
   "execution_count": 28,
   "metadata": {},
   "outputs": [
    {
     "data": {
      "text/plain": "Text(0, 0.5, 'Energy Generated')"
     },
     "execution_count": 28,
     "metadata": {},
     "output_type": "execute_result"
    },
    {
     "data": {
      "text/plain": "<Figure size 432x288 with 1 Axes>",
      "image/png": "[encoded data removed]"
     },
     "metadata": {},
     "output_type": "display_data"
    }
   ],
   "source": [
    "sns.barplot(x=plant_2_yields.alias, y=plant_2_yields.delta)\n",
    "plt.xlabel(\"Inverters\")\n",
    "plt.ylabel(\"Energy Generated\")"
   ]
  },
  {
   "cell_type": "code",
   "execution_count": null,
   "metadata": {
    "id": "yZzF_nc0i-Uq"
   },
   "outputs": [],
   "source": [
    "commit()"
   ]
  },
  {
   "cell_type": "markdown",
   "metadata": {
    "id": "VkqoTN9fi-Uq"
   },
   "source": [
    "## Asking and Answering Questions\n",
    "\n",
    "**TODO**\n",
    "\n",
    "1.   [Can we identify faulty or suboptimally performing equipment during the time period?](https://www.kaggle.com/anikannal/solar-power-generation-data?select=Plant_2_Weather_Sensor_Data.csv)\n",
    "2.   [Can we identify the need for panel cleaning/maintenance during the time period?](https://www.kaggle.com/anikannal/solar-power-generation-data?select=Plant_2_Weather_Sensor_Data.csv)\n",
    "\n"
   ]
  },
  {
   "cell_type": "code",
   "execution_count": null,
   "metadata": {
    "id": "jJrnDiO-i-Uq"
   },
   "outputs": [],
   "source": []
  },
  {
   "cell_type": "code",
   "execution_count": null,
   "metadata": {
    "id": "e1FI8qE6i-Uq"
   },
   "outputs": [],
   "source": []
  },
  {
   "cell_type": "code",
   "execution_count": null,
   "metadata": {
    "id": "a50z-ePii-Uq"
   },
   "outputs": [],
   "source": []
  },
  {
   "cell_type": "code",
   "execution_count": null,
   "metadata": {
    "id": "UYMPOlqZi-Uq"
   },
   "outputs": [],
   "source": []
  },
  {
   "cell_type": "code",
   "execution_count": null,
   "metadata": {
    "id": "G9RfCjR-i-Uq"
   },
   "outputs": [],
   "source": []
  },
  {
   "cell_type": "code",
   "execution_count": null,
   "metadata": {
    "id": "NNBwU4KMi-Uq"
   },
   "outputs": [],
   "source": []
  },
  {
   "cell_type": "code",
   "execution_count": null,
   "metadata": {
    "id": "oTxLLV5gi-Uq"
   },
   "outputs": [],
   "source": []
  },
  {
   "cell_type": "code",
   "execution_count": null,
   "metadata": {
    "id": "KJfeEG7Fi-Uq"
   },
   "outputs": [],
   "source": [
    "#commit()"
   ]
  },
  {
   "cell_type": "markdown",
   "metadata": {
    "id": "xj3srQ4Ri-Uq"
   },
   "source": [
    "## Inferences and Conclusion\n",
    "\n"
   ]
  },
  {
   "cell_type": "code",
   "execution_count": null,
   "metadata": {
    "id": "4js0mZx3i-Uq"
   },
   "outputs": [],
   "source": [
    "#commit()"
   ]
  },
  {
   "cell_type": "markdown",
   "metadata": {
    "id": "3x_zyDCFi-Ur"
   },
   "source": [
    "## References and Future Work\n",
    "\n"
   ]
  },
  {
   "cell_type": "code",
   "execution_count": null,
   "metadata": {
    "id": "ezzi4hrJi-Ur"
   },
   "outputs": [],
   "source": [
    "#commit()"
   ]
  },
  {
   "cell_type": "code",
   "execution_count": null,
   "metadata": {
    "id": "NXUiVbbli-Ur"
   },
   "outputs": [],
   "source": []
  }
 ],
 "metadata": {
  "colab": {
   "collapsed_sections": [
    "iG1u7rq1i-Uq",
    "VkqoTN9fi-Uq",
    "xj3srQ4Ri-Uq",
    "3x_zyDCFi-Ur"
   ],
   "name": "solar-india.ipynb",
   "provenance": []
  },
  "kernelspec": {
   "display_name": "solar-india",
   "language": "python",
   "name": "solar-india"
  },
  "language_info": {
   "codemirror_mode": {
    "name": "ipython",
    "version": 3
   },
   "file_extension": ".py",
   "mimetype": "text/x-python",
   "name": "python",
   "nbconvert_exporter": "python",
   "pygments_lexer": "ipython3",
   "version": "3.8.5-final"
  }
 },
 "nbformat": 4,
 "nbformat_minor": 1
}