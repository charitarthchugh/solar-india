{
 "cells": [
  {
   "cell_type": "markdown",
   "metadata": {
    "id": "DqupkZYoi-Un"
   },
   "source": [
    "### Data Analysis with Python: Zero to Pandas - Course Project Guidelines\n",
    "#### (remove this cell before submission)\n",
    "\n",
    "Make submissions here:  https://jovian.ml/learn/data-analysis-with-python-zero-to-pandas/assignment/course-project\n",
    "\n",
    "This is the starter notebook for the course project for [Data Analysis with Python: Zero to Pandas](https://jovian.ml/learn/data-analysis-with-python-zero-to-pandas). For the course project, you will pick a real-world dataset of your choice and apply the concepts learned in this course to perform exploratory data analysis. Use this starter notebook as an outline for your project (you can also start with an empty new notebook). Focus on the documentation and presentation - this Jupyter notebook will also serve as a project report, so make sure to include detailed explanations wherever possible using Markdown cells.\n",
    "\n",
    "#### Step 1: Select a real-world dataset \n",
    "\n",
    "- Find and download an interesting real-world dataset (see the Recommended Datasets section below for ideas). \n",
    "\n",
    "- The dataset should contain tabular data (rows & columns), preferably in CSV/JSON/XLS or other formats that can be read using Pandas. If it's not in a compatible format, you may have to write some code to convert it to a desired format.\n",
    "- The dataset should contain at least 3 columns and 150 rows of data. You can also combine data from multiple sources to create a large enough dataset.\n",
    "\n",
    "\n",
    "#### Step 2: Perform data preparation & cleaning\n",
    "\n",
    "- Load the dataset into a data frame using Pandas\n",
    "- Explore the number of rows & columns, ranges of values etc.\n",
    "- Handle missing, incorrect and invalid data\n",
    "- Perform any additional steps (parsing dates, creating additional columns, merging multiple dataset etc.)\n",
    "\n",
    "\n",
    "#### Step 3: Perform exploratory Analysis & Visualization\n",
    "\n",
    "- Compute the mean, sum, range and other interesting statistics for numeric columns\n",
    "- Explore distributions of numeric columns using histograms etc.\n",
    "- Explore relationship between columns using scatter plots, bar charts etc.\n",
    "- Make a note of interesting insights from the exploratory analysis\n",
    "\n",
    "#### Step 4: Ask & answer questions about the data\n",
    "\n",
    "- Ask at least 5 interesting questions about your dataset\n",
    "- Answer the questions either by computing the results using Numpy/Pandas or by plotting graphs using Matplotlib/Seaborn\n",
    "- Create new columns, merge multiple datasets and perform grouping/aggregation wherever necessary\n",
    "- Wherever you're using a library function from Pandas/Numpy/Matplotlib etc. explain briefly what it does\n",
    "\n",
    "\n",
    "#### Step 5: Summarize your inferences & write a conclusion\n",
    "\n",
    "- Write a summary of what you've learned from the analysis\n",
    "- Include interesting insights and graphs from previous sections\n",
    "- Share ideas for future work on the same topic using other relevant datasets\n",
    "- Share links to resources you found useful during your analysis\n",
    "\n",
    "\n",
    "#### Step 6: Make a submission & share your work\n",
    "\n",
    "- Upload your notebook to your Jovian.ml profile using `jovian.commit`.\n",
    "- **Make a submission here**: https://jovian.ml/learn/data-analysis-with-python-zero-to-pandas/assignment/course-project\n",
    "- Share your work on the forum: https://jovian.ml/forum/t/course-project-on-exploratory-data-analysis-discuss-and-share-your-work/11684\n",
    "\n",
    "- Browse through projects shared by other participants and give feedback\n",
    "\n",
    "\n",
    "#### (Optional) Step 7: Write a blog post\n",
    "\n",
    "- A blog post is a great way to present and showcase your work.  \n",
    "- Sign up on [Medium.com](https://medium.com) to write a blog post for your project.\n",
    "- Copy over the explanations from your Jupyter notebook into your blog post, and [embed code cells & outputs](https://medium.com/jovianml/share-and-embed-jupyter-notebooks-online-with-jovian-ml-df709a03064e)\n",
    "- Check out the Jovian.ml Medium publication for inspiration: https://medium.com/jovianml\n",
    "\n",
    "\n",
    "\n",
    "### Recommended Datasets\n",
    "\n",
    "\n",
    "Use the following resources for finding interesting datasets:\n",
    "\n",
    "- [Recommended datasets for the course project](https://jovian.ml/forum/t/recommended-datasets-for-course-project/11711)\n",
    "- [Kaggle datasets](https://www.kaggle.com/datasets)\n",
    "- [UCI Machine Learning Repository](http://archive.ics.uci.edu/ml/index.php)\n",
    "- [awesome-public-datasets](https://github.com/awesomedata/awesome-public-datasets)\n",
    "- [Google Dataset Search](https://datasetsearch.research.google.com)\n",
    "- [Your personal data from online services](https://www.popsci.com/download-digital-personal-information/)\n",
    "\n",
    "\n",
    "\n",
    "### Example Projects\n",
    "\n",
    "Refer to these projects for inspiration:\n",
    "\n",
    "* [Analyzing your browser history using Pandas & Seaborn](https://medium.com/free-code-camp/understanding-my-browsing-pattern-using-pandas-and-seaborn-162b97e33e51)\n",
    "\n",
    "* [WhatsApp Chat Data Analysis](https://jovian.ml/PrajwalPrashanth/whatsapp-chat-data-analysis)\n",
    "\n",
    "* [Analyzing Covid-19 data using Pandas](https://jovian.ml/aakashns/python-pandas-data-analysis) \n",
    "\n",
    "* [Understanding the Gender Divide in Data Science Roles](https://medium.com/datadriveninvestor/exploratory-data-analysis-eda-understanding-the-gender-divide-in-data-science-roles-9faa5da44f5b)\n",
    "\n",
    "* [2019 State of Javascript Survey Results](https://2019.stateofjs.com/demographics/)\n",
    "\n",
    "* [2020 Stack Overflow Developer Survey Results](https://insights.stackoverflow.com/survey/2020)\n",
    "\n",
    "\n",
    "### Evaluation Criteria\n",
    "\n",
    "Your submission will be evaluated using the following criteria:\n",
    "\n",
    "* Dataset must contain at least 3 columns and 150 rows of data\n",
    "* You must ask and answer at least 5 questions about the dataset\n",
    "* Your submission must include at least 5 visualizations (graphs)\n",
    "* Your submission must include explanations using markdown cells, apart from the code.\n",
    "* Your work must not be plagiarized i.e. copy-pasted from somewhere else.\n",
    "\n",
    "\n",
    "**NOTE**: Remove this cell containing the instructions before making your submission. You can do using the \"Edit > Delete Cells\" menu option."
   ]
  },
  {
   "cell_type": "markdown",
   "metadata": {
    "id": "UlnMnt-li-Un"
   },
   "source": [
    "# Solar India\n",
    "\n",
    "An analysis of a solar plant in India, based on the awesome Solar Power Generation Dataset.\n",
    "I am only focusing on the first plant in an effort to increase the quality of the analysis.\n",
    "\n"
   ]
  },
  {
   "cell_type": "code",
   "execution_count": 1,
   "metadata": {
    "id": "UE9uY5hzi-Un"
   },
   "outputs": [],
   "source": [
    "project_name = \"solar-india\"; filename=project_name+\".ipynb\""
   ]
  },
  {
   "cell_type": "markdown",
   "metadata": {
    "pycharm": {
     "name": "#%% md\n"
    }
   },
   "source": [
    "### Dataset Information\n",
    "\"This data has been gathered at two solar power plants in India over a 34-day period. It has two pairs of files - each pair has one power generation dataset and one sensor readings dataset.\n",
    "The power generation datasets are gathered at the inverter level - each inverter has multiple lines of solar panels attached to it.\n",
    "The sensor data is gathered at a plant level - single array of sensors optimally placed at the plant.\"(Kaggle dataset description. Author: Ani Kannal)\n",
    "Here is the dataset column information, split into two sections- Generation and Weather.\n",
    "\n",
    "**Generation Data**: The solar energy generation and conversion data collected by sensors at the plant\n",
    "\n",
    "| Field                                | Description                                                                                          |\n",
    "|:------------------------------------:|:---------------------------------------------------------------------------------------------------- |\n",
    "| `DATE_TIME`                          | Date and time for each observation. Observations recorded at 15 minute intervals.                    |\n",
    "| `PLANT_ID`                           | Unique numerical ID for each solar plant.                                                            |\n",
    "| `SOURCE_KEY` (used as `INVERTER_ID`) | Unique alphanumerical ID for each inverter                                                           |\n",
    "| `DC_POWER`                           | Amount of DC power generated by the inverter `SOURCE_KEY`, in kilowatts, in this 15 minute interval. |\n",
    "| `AC_POWER`                           | Amount of AC power generated by the inverter `SOURCE_KEY`, in kilowatts, in this 15 minute interval. |\n",
    "| `TOTAL_YEILD`                        | This is the total yield of power converted  for the inverter till that point in time. Does not start at 0.               |\n",
    "\n",
    "**Weather Data**: The weather data collected by the sensors of the plant. \n",
    "\n",
    "| Field                                      | Description                                                                                                                 |\n",
    "|:------------------------------------------:| --------------------------------------------------------------------------------------------------------------------------- |\n",
    "| `DATE_TIME`                                | Date and time for each observation. Observations recorded at 15 minute intervals.                                           |\n",
    "| `PLANT_ID`                                 | Unique numerical ID for each solar plant.                                                                                   |\n",
    "| `SOURCE_KEY` (used as `sensor_panel_id`) | Stands for the sensor panel id. This will be common for the entire file because there's only one sensor panel for the plant |\n",
    "| `AMBIENT_TEMPERATURE`                      | This is the ambient temperature at the plant.                                                                               |\n",
    "| `MODULE_TEMPERATURE`                       | There's a module (solar panel) attached to the sensor panel. This is the temperature reading for that module.               |\n",
    "| `IRRIDATION`                               | Amount of irradiation for the 15 minute interval.                                                                           |  \n",
    "\n",
    "**Before** we start doing any analysis of the data, it is necessary to install some packages from pip, the Python package manager."
   ]
  },
  {
   "cell_type": "code",
   "execution_count": 2,
   "metadata": {
    "id": "qOM9hODEi-Un"
   },
   "outputs": [],
   "source": [
    "!pip install jovian opendatasets gitpython  -U -q"
   ]
  },
  {
   "cell_type": "code",
   "execution_count": 3,
   "metadata": {
    "id": "dSXuHjzyi-Uo"
   },
   "outputs": [
    {
     "output_type": "display_data",
     "data": {
      "text/plain": "<IPython.core.display.Javascript object>",
      "application/javascript": "if (window.IPython && IPython.notebook.kernel) IPython.notebook.kernel.execute('jovian.utils.jupyter.get_notebook_name_saved = lambda: \"' + IPython.notebook.notebook_name + '\"')"
     },
     "metadata": {}
    }
   ],
   "source": [
    "import jovian\n",
    "import opendatasets as od\n",
    "import matplotlib.pyplot as plt\n",
    "import seaborn as sns\n",
    "import pandas as pd\n",
    "import numpy as np\n",
    "import os\n",
    "import warnings as warn\n",
    "#import datetime as dt\n",
    "from os.path import isfile, join\n",
    "from git import Repo\n",
    "warn.filterwarnings(\"ignore\")\n",
    "%matplotlib inline"
   ]
  },
  {
   "cell_type": "markdown",
   "metadata": {
    "pycharm": {
     "name": "#%% md\n"
    }
   },
   "source": [
    "#### **Sidenote**: Commit method\n",
    "This Jupyter Notebook lives both on Jovian and in a GitHub repository. This is a commit method that will simultaniously update on [Jovian](https://jovian.ai/charitarthchugh/solar-india) and [github.com](https://github.com/charitarthchugh/solar-india).\n",
    "This will only update in Github when there is a Git repository present because the Jovian library's commit feature only works when a git repository is detected (i.e. when you have forked the repository and doing development locally). This still requires an account on Jovian though. This function is able to push directly to the origin repository from the remote."
   ]
  },
  {
   "cell_type": "code",
   "execution_count": 4,
   "metadata": {
    "id": "eHRgI1aei-Up"
   },
   "outputs": [],
   "source": [
    "files=[f for f in os.listdir(os.getcwd()+ \"/data\") if isfile(join(os.getcwd()+ \"/data\", f))]\n",
    "def commit():\n",
    "    jovian.commit(\n",
    "        project=project_name, \n",
    "        filename=filename,\n",
    "        files=files,\n",
    "        git_commit=True,\n",
    "        environment=\"conda\")\n",
    "    # We have to perform a manual check ourselves if there is a git repository present.\n",
    "    git_dir = os.getcwd()+\"/.git\"\n",
    "    if os.path.exists(git_dir):\n",
    "        try:\n",
    "            repo = Repo(git_dir)\n",
    "            origin = repo.remote(name=\"origin\")\n",
    "            origin.push()\n",
    "            print(\"Pushed Successfully!\")\n",
    "        # If there is a failure in pushing to origin.\n",
    "        except EnvironmentError:\n",
    "            print(\"Error occurred while pushing repository to origin\")\n",
    "    else:\n",
    "        print(\"Not in a git repository, skipping\")"
   ]
  },
  {
   "cell_type": "markdown",
   "metadata": {
    "id": "wnEowoDVi-Up"
   },
   "source": [
    "## Data Preparation and Cleaning\n",
    "  \n",
    "**TODO:**\n",
    "    \n",
    "1.  Download the dataset\n",
    "2.  Import into Pandas\n",
    "3.  Clean redundant data\n",
    "4.  Create Class for each plant\n",
    "\n",
    "\n",
    "\n"
   ]
  },
  {
   "cell_type": "code",
   "execution_count": 5,
   "metadata": {
    "colab": {
     "base_uri": "https://localhost:8080/",
     "height": 647
    },
    "id": "TX7jfyphi-Up",
    "outputId": "9ebe6533-efe9-4e26-d1e2-3108df0d1836"
   },
   "outputs": [],
   "source": [
    "# Download the dataset from Kaggle using opendatasets only if it does not exist already. Needs a Kaggle Account.\n",
    "data_dir=os.getcwd()+\"/data/solar-power-generation/\"\n",
    "if not os.path.isdir(data_dir):\n",
    "    od.download(\"https://www.kaggle.com/anikannal/solar-power-generation-data\",data_dir=data_dir)\n"
   ]
  },
  {
   "cell_type": "markdown",
   "metadata": {
    "pycharm": {
     "name": "#%% md\n"
    }
   },
   "source": [
    "### Load the Data"
   ]
  },
  {
   "cell_type": "markdown",
   "metadata": {
    "pycharm": {
     "name": "#%% md\n"
    }
   },
   "source": [
    "#### Pandas Library\n",
    "I am going to be using the [Pandas](https://pandas.pydata.org) library to interact with my dataset. It is a high performance library for Python for data manipulation and analysis. "
   ]
  },
  {
   "cell_type": "code",
   "execution_count": 6,
   "metadata": {
    "id": "a2IGvzyri-Up",
    "pycharm": {
     "name": "#%%\n"
    }
   },
   "outputs": [],
   "source": [
    "def weather_sensor_df() -> pd.core.frame.DataFrame:\n",
    "    tmp=pd.read_csv(data_dir+\"Plant_1_Weather_Sensor_Data.csv\")\n",
    "    \n",
    "    # Dropping source key because it is the same throughout the dataset\n",
    "    tmp.drop(columns=[\"PLANT_ID\",\"SOURCE_KEY\"], inplace=True)\n",
    "    # Convert DATE_TIME to Panda's date time format.  \n",
    "    tmp[\"DATE_TIME\"]=pd.to_datetime(tmp[\"DATE_TIME\"])\n",
    "    return tmp\n",
    "\n",
    "def generation_df() -> pd.core.frame.DataFrame:\n",
    "\n",
    "    tmp=pd.read_csv(data_dir+\"Plant_1_Generation_Data.csv\")\n",
    "    # Plant ID stays constant throughout the dataset and it is a\n",
    "    tmp.drop(columns=[\"PLANT_ID\"], inplace=True)\n",
    "    tmp[\"DATE_TIME\"]=pd.to_datetime(tmp[\"DATE_TIME\"])\n",
    "    # Rename SOURCE_KEY to INVERTER_ID to make it clearer\n",
    "    tmp.rename(columns={ \"SOURCE_KEY\":\"INVERTER_ID\"},inplace=True)\n",
    "    return tmp"
   ]
  },
  {
   "cell_type": "markdown",
   "metadata": {
    "pycharm": {
     "name": "#%% md\n"
    }
   },
   "source": [
    "#### Create Class for Plant 1 and initialize it"
   ]
  },
  {
   "cell_type": "code",
   "execution_count": 7,
   "metadata": {
    "pycharm": {
     "name": "#%%\n"
    }
   },
   "outputs": [],
   "source": [
    "class Plant1:\n",
    "    \"\"\"\n",
    "    Contains properties and data of the first plant in the dataset. \n",
    "    \"\"\"\n",
    "    id = 4135001\n",
    "    sensor_panel_id = \"HmiyD2TTLFNqkNe\"\n",
    "    generation_df = generation_df()\n",
    "    weather_sensor_df = weather_sensor_df()\n",
    "# Initalize the class\n",
    "plant1=Plant1()"
   ]
  },
  {
   "cell_type": "markdown",
   "metadata": {},
   "source": [
    "#### Customize Matplotlib\n",
    "Matplotlib is a statistical software that creates vizualizations of data. Here I will be customizing it slightly to have better vizualizations. "
   ]
  },
  {
   "cell_type": "code",
   "execution_count": 8,
   "metadata": {},
   "outputs": [],
   "source": [
    "plt.rcParams[\"font.family\"]='sans-serif'\n",
    "plt.rcParams['font.sans-serif']='Ubuntu'\n",
    "plt.rcParams['axes.edgecolor']='#333F4B'\n",
    "plt.rcParams['axes.linewidth']=2\n",
    "plt.rcParams['xtick.color']='#333F4B'\n",
    "plt.rcParams['ytick.color']='#333F4B'\n",
    "sns.set_style(\"white\")"
   ]
  },
  {
   "cell_type": "markdown",
   "metadata": {
    "id": "5rEc8REjx8Bs"
   },
   "source": [
    "#### Update in Jovian"
   ]
  },
  {
   "cell_type": "code",
   "execution_count": 11,
   "metadata": {
    "id": "_SGX48qri-Up"
   },
   "outputs": [
    {
     "output_type": "display_data",
     "data": {
      "text/plain": "<IPython.core.display.Javascript object>",
      "application/javascript": "window.require && require([\"base/js/namespace\"],function(Jupyter){Jupyter.notebook.save_checkpoint()})"
     },
     "metadata": {}
    },
    {
     "output_type": "stream",
     "name": "stdout",
     "text": [
      "[jovian] Attempting to save notebook..\u001b[0m\n"
     ]
    },
    {
     "output_type": "error",
     "ename": "ConnectionError",
     "evalue": "HTTPSConnectionPool(host='api.jovian.ai', port=443): Max retries exceeded with url: /user/profile (Caused by NewConnectionError('<urllib3.connection.HTTPSConnection object at 0x7f4ad5589670>: Failed to establish a new connection: [Errno -3] Temporary failure in name resolution'))",
     "traceback": [
      "\u001b[0;31m---------------------------------------------------------------------------\u001b[0m",
      "\u001b[0;31mgaierror\u001b[0m                                  Traceback (most recent call last)",
      "\u001b[0;32m~/miniconda3/envs/solar-india/lib/python3.8/site-packages/urllib3/connection.py\u001b[0m in \u001b[0;36m_new_conn\u001b[0;34m(self)\u001b[0m\n\u001b[1;32m    158\u001b[0m         \u001b[0;32mtry\u001b[0m\u001b[0;34m:\u001b[0m\u001b[0;34m\u001b[0m\u001b[0;34m\u001b[0m\u001b[0m\n\u001b[0;32m--> 159\u001b[0;31m             conn = connection.create_connection(\n\u001b[0m\u001b[1;32m    160\u001b[0m                 \u001b[0;34m(\u001b[0m\u001b[0mself\u001b[0m\u001b[0;34m.\u001b[0m\u001b[0m_dns_host\u001b[0m\u001b[0;34m,\u001b[0m \u001b[0mself\u001b[0m\u001b[0;34m.\u001b[0m\u001b[0mport\u001b[0m\u001b[0;34m)\u001b[0m\u001b[0;34m,\u001b[0m \u001b[0mself\u001b[0m\u001b[0;34m.\u001b[0m\u001b[0mtimeout\u001b[0m\u001b[0;34m,\u001b[0m \u001b[0;34m**\u001b[0m\u001b[0mextra_kw\u001b[0m\u001b[0;34m\u001b[0m\u001b[0;34m\u001b[0m\u001b[0m\n",
      "\u001b[0;32m~/miniconda3/envs/solar-india/lib/python3.8/site-packages/urllib3/util/connection.py\u001b[0m in \u001b[0;36mcreate_connection\u001b[0;34m(address, timeout, source_address, socket_options)\u001b[0m\n\u001b[1;32m     60\u001b[0m \u001b[0;34m\u001b[0m\u001b[0m\n\u001b[0;32m---> 61\u001b[0;31m     \u001b[0;32mfor\u001b[0m \u001b[0mres\u001b[0m \u001b[0;32min\u001b[0m \u001b[0msocket\u001b[0m\u001b[0;34m.\u001b[0m\u001b[0mgetaddrinfo\u001b[0m\u001b[0;34m(\u001b[0m\u001b[0mhost\u001b[0m\u001b[0;34m,\u001b[0m \u001b[0mport\u001b[0m\u001b[0;34m,\u001b[0m \u001b[0mfamily\u001b[0m\u001b[0;34m,\u001b[0m \u001b[0msocket\u001b[0m\u001b[0;34m.\u001b[0m\u001b[0mSOCK_STREAM\u001b[0m\u001b[0;34m)\u001b[0m\u001b[0;34m:\u001b[0m\u001b[0;34m\u001b[0m\u001b[0;34m\u001b[0m\u001b[0m\n\u001b[0m\u001b[1;32m     62\u001b[0m         \u001b[0maf\u001b[0m\u001b[0;34m,\u001b[0m \u001b[0msocktype\u001b[0m\u001b[0;34m,\u001b[0m \u001b[0mproto\u001b[0m\u001b[0;34m,\u001b[0m \u001b[0mcanonname\u001b[0m\u001b[0;34m,\u001b[0m \u001b[0msa\u001b[0m \u001b[0;34m=\u001b[0m \u001b[0mres\u001b[0m\u001b[0;34m\u001b[0m\u001b[0;34m\u001b[0m\u001b[0m\n",
      "\u001b[0;32m~/miniconda3/envs/solar-india/lib/python3.8/socket.py\u001b[0m in \u001b[0;36mgetaddrinfo\u001b[0;34m(host, port, family, type, proto, flags)\u001b[0m\n\u001b[1;32m    917\u001b[0m     \u001b[0maddrlist\u001b[0m \u001b[0;34m=\u001b[0m \u001b[0;34m[\u001b[0m\u001b[0;34m]\u001b[0m\u001b[0;34m\u001b[0m\u001b[0;34m\u001b[0m\u001b[0m\n\u001b[0;32m--> 918\u001b[0;31m     \u001b[0;32mfor\u001b[0m \u001b[0mres\u001b[0m \u001b[0;32min\u001b[0m \u001b[0m_socket\u001b[0m\u001b[0;34m.\u001b[0m\u001b[0mgetaddrinfo\u001b[0m\u001b[0;34m(\u001b[0m\u001b[0mhost\u001b[0m\u001b[0;34m,\u001b[0m \u001b[0mport\u001b[0m\u001b[0;34m,\u001b[0m \u001b[0mfamily\u001b[0m\u001b[0;34m,\u001b[0m \u001b[0mtype\u001b[0m\u001b[0;34m,\u001b[0m \u001b[0mproto\u001b[0m\u001b[0;34m,\u001b[0m \u001b[0mflags\u001b[0m\u001b[0;34m)\u001b[0m\u001b[0;34m:\u001b[0m\u001b[0;34m\u001b[0m\u001b[0;34m\u001b[0m\u001b[0m\n\u001b[0m\u001b[1;32m    919\u001b[0m         \u001b[0maf\u001b[0m\u001b[0;34m,\u001b[0m \u001b[0msocktype\u001b[0m\u001b[0;34m,\u001b[0m \u001b[0mproto\u001b[0m\u001b[0;34m,\u001b[0m \u001b[0mcanonname\u001b[0m\u001b[0;34m,\u001b[0m \u001b[0msa\u001b[0m \u001b[0;34m=\u001b[0m \u001b[0mres\u001b[0m\u001b[0;34m\u001b[0m\u001b[0;34m\u001b[0m\u001b[0m\n",
      "\u001b[0;31mgaierror\u001b[0m: [Errno -3] Temporary failure in name resolution",
      "\nDuring handling of the above exception, another exception occurred:\n",
      "\u001b[0;31mNewConnectionError\u001b[0m                        Traceback (most recent call last)",
      "\u001b[0;32m~/miniconda3/envs/solar-india/lib/python3.8/site-packages/urllib3/connectionpool.py\u001b[0m in \u001b[0;36murlopen\u001b[0;34m(self, method, url, body, headers, retries, redirect, assert_same_host, timeout, pool_timeout, release_conn, chunked, body_pos, **response_kw)\u001b[0m\n\u001b[1;32m    669\u001b[0m             \u001b[0;31m# Make the request on the httplib connection object.\u001b[0m\u001b[0;34m\u001b[0m\u001b[0;34m\u001b[0m\u001b[0;34m\u001b[0m\u001b[0m\n\u001b[0;32m--> 670\u001b[0;31m             httplib_response = self._make_request(\n\u001b[0m\u001b[1;32m    671\u001b[0m                 \u001b[0mconn\u001b[0m\u001b[0;34m,\u001b[0m\u001b[0;34m\u001b[0m\u001b[0;34m\u001b[0m\u001b[0m\n",
      "\u001b[0;32m~/miniconda3/envs/solar-india/lib/python3.8/site-packages/urllib3/connectionpool.py\u001b[0m in \u001b[0;36m_make_request\u001b[0;34m(self, conn, method, url, timeout, chunked, **httplib_request_kw)\u001b[0m\n\u001b[1;32m    380\u001b[0m         \u001b[0;32mtry\u001b[0m\u001b[0;34m:\u001b[0m\u001b[0;34m\u001b[0m\u001b[0;34m\u001b[0m\u001b[0m\n\u001b[0;32m--> 381\u001b[0;31m             \u001b[0mself\u001b[0m\u001b[0;34m.\u001b[0m\u001b[0m_validate_conn\u001b[0m\u001b[0;34m(\u001b[0m\u001b[0mconn\u001b[0m\u001b[0;34m)\u001b[0m\u001b[0;34m\u001b[0m\u001b[0;34m\u001b[0m\u001b[0m\n\u001b[0m\u001b[1;32m    382\u001b[0m         \u001b[0;32mexcept\u001b[0m \u001b[0;34m(\u001b[0m\u001b[0mSocketTimeout\u001b[0m\u001b[0;34m,\u001b[0m \u001b[0mBaseSSLError\u001b[0m\u001b[0;34m)\u001b[0m \u001b[0;32mas\u001b[0m \u001b[0me\u001b[0m\u001b[0;34m:\u001b[0m\u001b[0;34m\u001b[0m\u001b[0;34m\u001b[0m\u001b[0m\n",
      "\u001b[0;32m~/miniconda3/envs/solar-india/lib/python3.8/site-packages/urllib3/connectionpool.py\u001b[0m in \u001b[0;36m_validate_conn\u001b[0;34m(self, conn)\u001b[0m\n\u001b[1;32m    977\u001b[0m         \u001b[0;32mif\u001b[0m \u001b[0;32mnot\u001b[0m \u001b[0mgetattr\u001b[0m\u001b[0;34m(\u001b[0m\u001b[0mconn\u001b[0m\u001b[0;34m,\u001b[0m \u001b[0;34m\"sock\"\u001b[0m\u001b[0;34m,\u001b[0m \u001b[0;32mNone\u001b[0m\u001b[0;34m)\u001b[0m\u001b[0;34m:\u001b[0m  \u001b[0;31m# AppEngine might not have  `.sock`\u001b[0m\u001b[0;34m\u001b[0m\u001b[0;34m\u001b[0m\u001b[0m\n\u001b[0;32m--> 978\u001b[0;31m             \u001b[0mconn\u001b[0m\u001b[0;34m.\u001b[0m\u001b[0mconnect\u001b[0m\u001b[0;34m(\u001b[0m\u001b[0;34m)\u001b[0m\u001b[0;34m\u001b[0m\u001b[0;34m\u001b[0m\u001b[0m\n\u001b[0m\u001b[1;32m    979\u001b[0m \u001b[0;34m\u001b[0m\u001b[0m\n",
      "\u001b[0;32m~/miniconda3/envs/solar-india/lib/python3.8/site-packages/urllib3/connection.py\u001b[0m in \u001b[0;36mconnect\u001b[0;34m(self)\u001b[0m\n\u001b[1;32m    308\u001b[0m         \u001b[0;31m# Add certificate verification\u001b[0m\u001b[0;34m\u001b[0m\u001b[0;34m\u001b[0m\u001b[0;34m\u001b[0m\u001b[0m\n\u001b[0;32m--> 309\u001b[0;31m         \u001b[0mconn\u001b[0m \u001b[0;34m=\u001b[0m \u001b[0mself\u001b[0m\u001b[0;34m.\u001b[0m\u001b[0m_new_conn\u001b[0m\u001b[0;34m(\u001b[0m\u001b[0;34m)\u001b[0m\u001b[0;34m\u001b[0m\u001b[0;34m\u001b[0m\u001b[0m\n\u001b[0m\u001b[1;32m    310\u001b[0m         \u001b[0mhostname\u001b[0m \u001b[0;34m=\u001b[0m \u001b[0mself\u001b[0m\u001b[0;34m.\u001b[0m\u001b[0mhost\u001b[0m\u001b[0;34m\u001b[0m\u001b[0;34m\u001b[0m\u001b[0m\n",
      "\u001b[0;32m~/miniconda3/envs/solar-india/lib/python3.8/site-packages/urllib3/connection.py\u001b[0m in \u001b[0;36m_new_conn\u001b[0;34m(self)\u001b[0m\n\u001b[1;32m    170\u001b[0m         \u001b[0;32mexcept\u001b[0m \u001b[0mSocketError\u001b[0m \u001b[0;32mas\u001b[0m \u001b[0me\u001b[0m\u001b[0;34m:\u001b[0m\u001b[0;34m\u001b[0m\u001b[0;34m\u001b[0m\u001b[0m\n\u001b[0;32m--> 171\u001b[0;31m             raise NewConnectionError(\n\u001b[0m\u001b[1;32m    172\u001b[0m                 \u001b[0mself\u001b[0m\u001b[0;34m,\u001b[0m \u001b[0;34m\"Failed to establish a new connection: %s\"\u001b[0m \u001b[0;34m%\u001b[0m \u001b[0me\u001b[0m\u001b[0;34m\u001b[0m\u001b[0;34m\u001b[0m\u001b[0m\n",
      "\u001b[0;31mNewConnectionError\u001b[0m: <urllib3.connection.HTTPSConnection object at 0x7f4ad5589670>: Failed to establish a new connection: [Errno -3] Temporary failure in name resolution",
      "\nDuring handling of the above exception, another exception occurred:\n",
      "\u001b[0;31mMaxRetryError\u001b[0m                             Traceback (most recent call last)",
      "\u001b[0;32m~/miniconda3/envs/solar-india/lib/python3.8/site-packages/requests/adapters.py\u001b[0m in \u001b[0;36msend\u001b[0;34m(self, request, stream, timeout, verify, cert, proxies)\u001b[0m\n\u001b[1;32m    438\u001b[0m             \u001b[0;32mif\u001b[0m \u001b[0;32mnot\u001b[0m \u001b[0mchunked\u001b[0m\u001b[0;34m:\u001b[0m\u001b[0;34m\u001b[0m\u001b[0;34m\u001b[0m\u001b[0m\n\u001b[0;32m--> 439\u001b[0;31m                 resp = conn.urlopen(\n\u001b[0m\u001b[1;32m    440\u001b[0m                     \u001b[0mmethod\u001b[0m\u001b[0;34m=\u001b[0m\u001b[0mrequest\u001b[0m\u001b[0;34m.\u001b[0m\u001b[0mmethod\u001b[0m\u001b[0;34m,\u001b[0m\u001b[0;34m\u001b[0m\u001b[0;34m\u001b[0m\u001b[0m\n",
      "\u001b[0;32m~/miniconda3/envs/solar-india/lib/python3.8/site-packages/urllib3/connectionpool.py\u001b[0m in \u001b[0;36murlopen\u001b[0;34m(self, method, url, body, headers, retries, redirect, assert_same_host, timeout, pool_timeout, release_conn, chunked, body_pos, **response_kw)\u001b[0m\n\u001b[1;32m    725\u001b[0m \u001b[0;34m\u001b[0m\u001b[0m\n\u001b[0;32m--> 726\u001b[0;31m             retries = retries.increment(\n\u001b[0m\u001b[1;32m    727\u001b[0m                 \u001b[0mmethod\u001b[0m\u001b[0;34m,\u001b[0m \u001b[0murl\u001b[0m\u001b[0;34m,\u001b[0m \u001b[0merror\u001b[0m\u001b[0;34m=\u001b[0m\u001b[0me\u001b[0m\u001b[0;34m,\u001b[0m \u001b[0m_pool\u001b[0m\u001b[0;34m=\u001b[0m\u001b[0mself\u001b[0m\u001b[0;34m,\u001b[0m \u001b[0m_stacktrace\u001b[0m\u001b[0;34m=\u001b[0m\u001b[0msys\u001b[0m\u001b[0;34m.\u001b[0m\u001b[0mexc_info\u001b[0m\u001b[0;34m(\u001b[0m\u001b[0;34m)\u001b[0m\u001b[0;34m[\u001b[0m\u001b[0;36m2\u001b[0m\u001b[0;34m]\u001b[0m\u001b[0;34m\u001b[0m\u001b[0;34m\u001b[0m\u001b[0m\n",
      "\u001b[0;32m~/miniconda3/envs/solar-india/lib/python3.8/site-packages/urllib3/util/retry.py\u001b[0m in \u001b[0;36mincrement\u001b[0;34m(self, method, url, response, error, _pool, _stacktrace)\u001b[0m\n\u001b[1;32m    438\u001b[0m         \u001b[0;32mif\u001b[0m \u001b[0mnew_retry\u001b[0m\u001b[0;34m.\u001b[0m\u001b[0mis_exhausted\u001b[0m\u001b[0;34m(\u001b[0m\u001b[0;34m)\u001b[0m\u001b[0;34m:\u001b[0m\u001b[0;34m\u001b[0m\u001b[0;34m\u001b[0m\u001b[0m\n\u001b[0;32m--> 439\u001b[0;31m             \u001b[0;32mraise\u001b[0m \u001b[0mMaxRetryError\u001b[0m\u001b[0;34m(\u001b[0m\u001b[0m_pool\u001b[0m\u001b[0;34m,\u001b[0m \u001b[0murl\u001b[0m\u001b[0;34m,\u001b[0m \u001b[0merror\u001b[0m \u001b[0;32mor\u001b[0m \u001b[0mResponseError\u001b[0m\u001b[0;34m(\u001b[0m\u001b[0mcause\u001b[0m\u001b[0;34m)\u001b[0m\u001b[0;34m)\u001b[0m\u001b[0;34m\u001b[0m\u001b[0;34m\u001b[0m\u001b[0m\n\u001b[0m\u001b[1;32m    440\u001b[0m \u001b[0;34m\u001b[0m\u001b[0m\n",
      "\u001b[0;31mMaxRetryError\u001b[0m: HTTPSConnectionPool(host='api.jovian.ai', port=443): Max retries exceeded with url: /user/profile (Caused by NewConnectionError('<urllib3.connection.HTTPSConnection object at 0x7f4ad5589670>: Failed to establish a new connection: [Errno -3] Temporary failure in name resolution'))",
      "\nDuring handling of the above exception, another exception occurred:\n",
      "\u001b[0;31mConnectionError\u001b[0m                           Traceback (most recent call last)",
      "\u001b[0;32m<ipython-input-11-32481e69e353>\u001b[0m in \u001b[0;36m<module>\u001b[0;34m\u001b[0m\n\u001b[0;32m----> 1\u001b[0;31m \u001b[0mcommit\u001b[0m\u001b[0;34m(\u001b[0m\u001b[0;34m)\u001b[0m\u001b[0;34m\u001b[0m\u001b[0;34m\u001b[0m\u001b[0m\n\u001b[0m",
      "\u001b[0;32m<ipython-input-4-cfe3c2a64a24>\u001b[0m in \u001b[0;36mcommit\u001b[0;34m()\u001b[0m\n\u001b[1;32m      1\u001b[0m \u001b[0mfiles\u001b[0m\u001b[0;34m=\u001b[0m\u001b[0;34m[\u001b[0m\u001b[0mf\u001b[0m \u001b[0;32mfor\u001b[0m \u001b[0mf\u001b[0m \u001b[0;32min\u001b[0m \u001b[0mos\u001b[0m\u001b[0;34m.\u001b[0m\u001b[0mlistdir\u001b[0m\u001b[0;34m(\u001b[0m\u001b[0mos\u001b[0m\u001b[0;34m.\u001b[0m\u001b[0mgetcwd\u001b[0m\u001b[0;34m(\u001b[0m\u001b[0;34m)\u001b[0m\u001b[0;34m+\u001b[0m \u001b[0;34m\"/data\"\u001b[0m\u001b[0;34m)\u001b[0m \u001b[0;32mif\u001b[0m \u001b[0misfile\u001b[0m\u001b[0;34m(\u001b[0m\u001b[0mjoin\u001b[0m\u001b[0;34m(\u001b[0m\u001b[0mos\u001b[0m\u001b[0;34m.\u001b[0m\u001b[0mgetcwd\u001b[0m\u001b[0;34m(\u001b[0m\u001b[0;34m)\u001b[0m\u001b[0;34m+\u001b[0m \u001b[0;34m\"/data\"\u001b[0m\u001b[0;34m,\u001b[0m \u001b[0mf\u001b[0m\u001b[0;34m)\u001b[0m\u001b[0;34m)\u001b[0m\u001b[0;34m]\u001b[0m\u001b[0;34m\u001b[0m\u001b[0;34m\u001b[0m\u001b[0m\n\u001b[1;32m      2\u001b[0m \u001b[0;32mdef\u001b[0m \u001b[0mcommit\u001b[0m\u001b[0;34m(\u001b[0m\u001b[0;34m)\u001b[0m\u001b[0;34m:\u001b[0m\u001b[0;34m\u001b[0m\u001b[0;34m\u001b[0m\u001b[0m\n\u001b[0;32m----> 3\u001b[0;31m     jovian.commit(\n\u001b[0m\u001b[1;32m      4\u001b[0m         \u001b[0mproject\u001b[0m\u001b[0;34m=\u001b[0m\u001b[0mproject_name\u001b[0m\u001b[0;34m,\u001b[0m\u001b[0;34m\u001b[0m\u001b[0;34m\u001b[0m\u001b[0m\n\u001b[1;32m      5\u001b[0m         \u001b[0mfilename\u001b[0m\u001b[0;34m=\u001b[0m\u001b[0mfilename\u001b[0m\u001b[0;34m,\u001b[0m\u001b[0;34m\u001b[0m\u001b[0;34m\u001b[0m\u001b[0m\n",
      "\u001b[0;32m~/.local/lib/python3.8/site-packages/jovian/utils/commit.py\u001b[0m in \u001b[0;36mcommit\u001b[0;34m(message, files, outputs, environment, privacy, filename, project, new_project, git_commit, git_message, **kwargs)\u001b[0m\n\u001b[1;32m    192\u001b[0m \u001b[0;34m\u001b[0m\u001b[0m\n\u001b[1;32m    193\u001b[0m     \u001b[0;31m# Retrieve Gist ID & title\u001b[0m\u001b[0;34m\u001b[0m\u001b[0;34m\u001b[0m\u001b[0;34m\u001b[0m\u001b[0m\n\u001b[0;32m--> 194\u001b[0;31m     \u001b[0mproject_title\u001b[0m\u001b[0;34m,\u001b[0m \u001b[0mproject_id\u001b[0m \u001b[0;34m=\u001b[0m \u001b[0m_parse_project\u001b[0m\u001b[0;34m(\u001b[0m\u001b[0mproject\u001b[0m\u001b[0;34m,\u001b[0m \u001b[0mfilename\u001b[0m\u001b[0;34m,\u001b[0m \u001b[0mnew_project\u001b[0m\u001b[0;34m)\u001b[0m\u001b[0;34m\u001b[0m\u001b[0;34m\u001b[0m\u001b[0m\n\u001b[0m\u001b[1;32m    195\u001b[0m \u001b[0;34m\u001b[0m\u001b[0m\n\u001b[1;32m    196\u001b[0m     \u001b[0;31m# Create or update gist (with title and )\u001b[0m\u001b[0;34m\u001b[0m\u001b[0;34m\u001b[0m\u001b[0;34m\u001b[0m\u001b[0m\n",
      "\u001b[0;32m~/.local/lib/python3.8/site-packages/jovian/utils/commit.py\u001b[0m in \u001b[0;36m_parse_project\u001b[0;34m(project, filename, new_project)\u001b[0m\n\u001b[1;32m    286\u001b[0m     \u001b[0;32melse\u001b[0m\u001b[0;34m:\u001b[0m\u001b[0;34m\u001b[0m\u001b[0;34m\u001b[0m\u001b[0m\n\u001b[1;32m    287\u001b[0m         \u001b[0mproject_title\u001b[0m \u001b[0;34m=\u001b[0m \u001b[0mproject\u001b[0m\u001b[0;34m\u001b[0m\u001b[0;34m\u001b[0m\u001b[0m\n\u001b[0;32m--> 288\u001b[0;31m         \u001b[0musername\u001b[0m \u001b[0;34m=\u001b[0m \u001b[0mapi\u001b[0m\u001b[0;34m.\u001b[0m\u001b[0mget_current_user\u001b[0m\u001b[0;34m(\u001b[0m\u001b[0;34m)\u001b[0m\u001b[0;34m[\u001b[0m\u001b[0;34m'username'\u001b[0m\u001b[0;34m]\u001b[0m\u001b[0;34m\u001b[0m\u001b[0;34m\u001b[0m\u001b[0m\n\u001b[0m\u001b[1;32m    289\u001b[0m         \u001b[0mmetadata\u001b[0m \u001b[0;34m=\u001b[0m \u001b[0mapi\u001b[0m\u001b[0;34m.\u001b[0m\u001b[0mget_gist\u001b[0m\u001b[0;34m(\u001b[0m\u001b[0musername\u001b[0m \u001b[0;34m+\u001b[0m \u001b[0;34m'/'\u001b[0m \u001b[0;34m+\u001b[0m \u001b[0mproject\u001b[0m\u001b[0;34m)\u001b[0m\u001b[0;34m\u001b[0m\u001b[0;34m\u001b[0m\u001b[0m\n\u001b[1;32m    290\u001b[0m \u001b[0;34m\u001b[0m\u001b[0m\n",
      "\u001b[0;32m~/.local/lib/python3.8/site-packages/jovian/utils/api.py\u001b[0m in \u001b[0;36mget_current_user\u001b[0;34m()\u001b[0m\n\u001b[1;32m     18\u001b[0m \u001b[0;34m\u001b[0m\u001b[0m\n\u001b[1;32m     19\u001b[0m \u001b[0;32mdef\u001b[0m \u001b[0mget_current_user\u001b[0m\u001b[0;34m(\u001b[0m\u001b[0;34m)\u001b[0m\u001b[0;34m:\u001b[0m\u001b[0;34m\u001b[0m\u001b[0;34m\u001b[0m\u001b[0m\n\u001b[0;32m---> 20\u001b[0;31m     \u001b[0mres\u001b[0m \u001b[0;34m=\u001b[0m \u001b[0mget\u001b[0m\u001b[0;34m(\u001b[0m\u001b[0murl\u001b[0m\u001b[0;34m=\u001b[0m\u001b[0m_u\u001b[0m\u001b[0;34m(\u001b[0m\u001b[0;34m'/user/profile'\u001b[0m\u001b[0;34m)\u001b[0m\u001b[0;34m,\u001b[0m \u001b[0mheaders\u001b[0m\u001b[0;34m=\u001b[0m\u001b[0m_h\u001b[0m\u001b[0;34m(\u001b[0m\u001b[0;34m)\u001b[0m\u001b[0;34m)\u001b[0m\u001b[0;34m\u001b[0m\u001b[0;34m\u001b[0m\u001b[0m\n\u001b[0m\u001b[1;32m     21\u001b[0m     \u001b[0;32mif\u001b[0m \u001b[0mres\u001b[0m\u001b[0;34m.\u001b[0m\u001b[0mstatus_code\u001b[0m \u001b[0;34m==\u001b[0m \u001b[0;36m200\u001b[0m\u001b[0;34m:\u001b[0m\u001b[0;34m\u001b[0m\u001b[0;34m\u001b[0m\u001b[0m\n\u001b[1;32m     22\u001b[0m         \u001b[0;32mreturn\u001b[0m \u001b[0mres\u001b[0m\u001b[0;34m.\u001b[0m\u001b[0mjson\u001b[0m\u001b[0;34m(\u001b[0m\u001b[0;34m)\u001b[0m\u001b[0;34m[\u001b[0m\u001b[0;34m'data'\u001b[0m\u001b[0;34m]\u001b[0m\u001b[0;34m\u001b[0m\u001b[0;34m\u001b[0m\u001b[0m\n",
      "\u001b[0;32m~/.local/lib/python3.8/site-packages/jovian/utils/request.py\u001b[0m in \u001b[0;36m_request_wrapper\u001b[0;34m(*args, **kwargs)\u001b[0m\n\u001b[1;32m     12\u001b[0m     \u001b[0;32mdef\u001b[0m \u001b[0m_request_wrapper\u001b[0m\u001b[0;34m(\u001b[0m\u001b[0;34m*\u001b[0m\u001b[0margs\u001b[0m\u001b[0;34m,\u001b[0m \u001b[0;34m**\u001b[0m\u001b[0mkwargs\u001b[0m\u001b[0;34m)\u001b[0m\u001b[0;34m:\u001b[0m\u001b[0;34m\u001b[0m\u001b[0;34m\u001b[0m\u001b[0m\n\u001b[1;32m     13\u001b[0m         \u001b[0;32mfor\u001b[0m \u001b[0mi\u001b[0m \u001b[0;32min\u001b[0m \u001b[0mrange\u001b[0m\u001b[0;34m(\u001b[0m\u001b[0;36m2\u001b[0m\u001b[0;34m)\u001b[0m\u001b[0;34m:\u001b[0m\u001b[0;34m\u001b[0m\u001b[0;34m\u001b[0m\u001b[0m\n\u001b[0;32m---> 14\u001b[0;31m             \u001b[0mres\u001b[0m \u001b[0;34m=\u001b[0m \u001b[0mrequest\u001b[0m\u001b[0;34m(\u001b[0m\u001b[0;34m*\u001b[0m\u001b[0margs\u001b[0m\u001b[0;34m,\u001b[0m \u001b[0;34m**\u001b[0m\u001b[0mkwargs\u001b[0m\u001b[0;34m)\u001b[0m\u001b[0;34m\u001b[0m\u001b[0;34m\u001b[0m\u001b[0m\n\u001b[0m\u001b[1;32m     15\u001b[0m             \u001b[0;32mif\u001b[0m \u001b[0mres\u001b[0m\u001b[0;34m.\u001b[0m\u001b[0mstatus_code\u001b[0m \u001b[0;34m==\u001b[0m \u001b[0;36m401\u001b[0m\u001b[0;34m:\u001b[0m\u001b[0;34m\u001b[0m\u001b[0;34m\u001b[0m\u001b[0m\n\u001b[1;32m     16\u001b[0m                 \u001b[0mlog\u001b[0m\u001b[0;34m(\u001b[0m\u001b[0;34m'The current API key is invalid or expired.'\u001b[0m\u001b[0;34m,\u001b[0m \u001b[0merror\u001b[0m\u001b[0;34m=\u001b[0m\u001b[0;32mTrue\u001b[0m\u001b[0;34m)\u001b[0m\u001b[0;34m\u001b[0m\u001b[0;34m\u001b[0m\u001b[0m\n",
      "\u001b[0;32m~/.local/lib/python3.8/site-packages/jovian/utils/request.py\u001b[0m in \u001b[0;36mget\u001b[0;34m(url, params, **kwargs)\u001b[0m\n\u001b[1;32m     30\u001b[0m \u001b[0;32mdef\u001b[0m \u001b[0mget\u001b[0m\u001b[0;34m(\u001b[0m\u001b[0murl\u001b[0m\u001b[0;34m,\u001b[0m \u001b[0mparams\u001b[0m\u001b[0;34m=\u001b[0m\u001b[0;32mNone\u001b[0m\u001b[0;34m,\u001b[0m \u001b[0;34m**\u001b[0m\u001b[0mkwargs\u001b[0m\u001b[0;34m)\u001b[0m\u001b[0;34m:\u001b[0m\u001b[0;34m\u001b[0m\u001b[0;34m\u001b[0m\u001b[0m\n\u001b[1;32m     31\u001b[0m     \u001b[0;34m\"\"\"Retryable GET request\"\"\"\u001b[0m\u001b[0;34m\u001b[0m\u001b[0;34m\u001b[0m\u001b[0m\n\u001b[0;32m---> 32\u001b[0;31m     \u001b[0;32mreturn\u001b[0m \u001b[0mrequests\u001b[0m\u001b[0;34m.\u001b[0m\u001b[0mget\u001b[0m\u001b[0;34m(\u001b[0m\u001b[0murl\u001b[0m\u001b[0;34m,\u001b[0m \u001b[0mparams\u001b[0m\u001b[0;34m=\u001b[0m\u001b[0mparams\u001b[0m\u001b[0;34m,\u001b[0m \u001b[0;34m**\u001b[0m\u001b[0mkwargs\u001b[0m\u001b[0;34m)\u001b[0m\u001b[0;34m\u001b[0m\u001b[0;34m\u001b[0m\u001b[0m\n\u001b[0m\u001b[1;32m     33\u001b[0m \u001b[0;34m\u001b[0m\u001b[0m\n\u001b[1;32m     34\u001b[0m \u001b[0;34m\u001b[0m\u001b[0m\n",
      "\u001b[0;32m~/miniconda3/envs/solar-india/lib/python3.8/site-packages/requests/api.py\u001b[0m in \u001b[0;36mget\u001b[0;34m(url, params, **kwargs)\u001b[0m\n\u001b[1;32m     74\u001b[0m \u001b[0;34m\u001b[0m\u001b[0m\n\u001b[1;32m     75\u001b[0m     \u001b[0mkwargs\u001b[0m\u001b[0;34m.\u001b[0m\u001b[0msetdefault\u001b[0m\u001b[0;34m(\u001b[0m\u001b[0;34m'allow_redirects'\u001b[0m\u001b[0;34m,\u001b[0m \u001b[0;32mTrue\u001b[0m\u001b[0;34m)\u001b[0m\u001b[0;34m\u001b[0m\u001b[0;34m\u001b[0m\u001b[0m\n\u001b[0;32m---> 76\u001b[0;31m     \u001b[0;32mreturn\u001b[0m \u001b[0mrequest\u001b[0m\u001b[0;34m(\u001b[0m\u001b[0;34m'get'\u001b[0m\u001b[0;34m,\u001b[0m \u001b[0murl\u001b[0m\u001b[0;34m,\u001b[0m \u001b[0mparams\u001b[0m\u001b[0;34m=\u001b[0m\u001b[0mparams\u001b[0m\u001b[0;34m,\u001b[0m \u001b[0;34m**\u001b[0m\u001b[0mkwargs\u001b[0m\u001b[0;34m)\u001b[0m\u001b[0;34m\u001b[0m\u001b[0;34m\u001b[0m\u001b[0m\n\u001b[0m\u001b[1;32m     77\u001b[0m \u001b[0;34m\u001b[0m\u001b[0m\n\u001b[1;32m     78\u001b[0m \u001b[0;34m\u001b[0m\u001b[0m\n",
      "\u001b[0;32m~/miniconda3/envs/solar-india/lib/python3.8/site-packages/requests/api.py\u001b[0m in \u001b[0;36mrequest\u001b[0;34m(method, url, **kwargs)\u001b[0m\n\u001b[1;32m     59\u001b[0m     \u001b[0;31m# cases, and look like a memory leak in others.\u001b[0m\u001b[0;34m\u001b[0m\u001b[0;34m\u001b[0m\u001b[0;34m\u001b[0m\u001b[0m\n\u001b[1;32m     60\u001b[0m     \u001b[0;32mwith\u001b[0m \u001b[0msessions\u001b[0m\u001b[0;34m.\u001b[0m\u001b[0mSession\u001b[0m\u001b[0;34m(\u001b[0m\u001b[0;34m)\u001b[0m \u001b[0;32mas\u001b[0m \u001b[0msession\u001b[0m\u001b[0;34m:\u001b[0m\u001b[0;34m\u001b[0m\u001b[0;34m\u001b[0m\u001b[0m\n\u001b[0;32m---> 61\u001b[0;31m         \u001b[0;32mreturn\u001b[0m \u001b[0msession\u001b[0m\u001b[0;34m.\u001b[0m\u001b[0mrequest\u001b[0m\u001b[0;34m(\u001b[0m\u001b[0mmethod\u001b[0m\u001b[0;34m=\u001b[0m\u001b[0mmethod\u001b[0m\u001b[0;34m,\u001b[0m \u001b[0murl\u001b[0m\u001b[0;34m=\u001b[0m\u001b[0murl\u001b[0m\u001b[0;34m,\u001b[0m \u001b[0;34m**\u001b[0m\u001b[0mkwargs\u001b[0m\u001b[0;34m)\u001b[0m\u001b[0;34m\u001b[0m\u001b[0;34m\u001b[0m\u001b[0m\n\u001b[0m\u001b[1;32m     62\u001b[0m \u001b[0;34m\u001b[0m\u001b[0m\n\u001b[1;32m     63\u001b[0m \u001b[0;34m\u001b[0m\u001b[0m\n",
      "\u001b[0;32m~/miniconda3/envs/solar-india/lib/python3.8/site-packages/requests/sessions.py\u001b[0m in \u001b[0;36mrequest\u001b[0;34m(self, method, url, params, data, headers, cookies, files, auth, timeout, allow_redirects, proxies, hooks, stream, verify, cert, json)\u001b[0m\n\u001b[1;32m    528\u001b[0m         }\n\u001b[1;32m    529\u001b[0m         \u001b[0msend_kwargs\u001b[0m\u001b[0;34m.\u001b[0m\u001b[0mupdate\u001b[0m\u001b[0;34m(\u001b[0m\u001b[0msettings\u001b[0m\u001b[0;34m)\u001b[0m\u001b[0;34m\u001b[0m\u001b[0;34m\u001b[0m\u001b[0m\n\u001b[0;32m--> 530\u001b[0;31m         \u001b[0mresp\u001b[0m \u001b[0;34m=\u001b[0m \u001b[0mself\u001b[0m\u001b[0;34m.\u001b[0m\u001b[0msend\u001b[0m\u001b[0;34m(\u001b[0m\u001b[0mprep\u001b[0m\u001b[0;34m,\u001b[0m \u001b[0;34m**\u001b[0m\u001b[0msend_kwargs\u001b[0m\u001b[0;34m)\u001b[0m\u001b[0;34m\u001b[0m\u001b[0;34m\u001b[0m\u001b[0m\n\u001b[0m\u001b[1;32m    531\u001b[0m \u001b[0;34m\u001b[0m\u001b[0m\n\u001b[1;32m    532\u001b[0m         \u001b[0;32mreturn\u001b[0m \u001b[0mresp\u001b[0m\u001b[0;34m\u001b[0m\u001b[0;34m\u001b[0m\u001b[0m\n",
      "\u001b[0;32m~/miniconda3/envs/solar-india/lib/python3.8/site-packages/requests/sessions.py\u001b[0m in \u001b[0;36msend\u001b[0;34m(self, request, **kwargs)\u001b[0m\n\u001b[1;32m    641\u001b[0m \u001b[0;34m\u001b[0m\u001b[0m\n\u001b[1;32m    642\u001b[0m         \u001b[0;31m# Send the request\u001b[0m\u001b[0;34m\u001b[0m\u001b[0;34m\u001b[0m\u001b[0;34m\u001b[0m\u001b[0m\n\u001b[0;32m--> 643\u001b[0;31m         \u001b[0mr\u001b[0m \u001b[0;34m=\u001b[0m \u001b[0madapter\u001b[0m\u001b[0;34m.\u001b[0m\u001b[0msend\u001b[0m\u001b[0;34m(\u001b[0m\u001b[0mrequest\u001b[0m\u001b[0;34m,\u001b[0m \u001b[0;34m**\u001b[0m\u001b[0mkwargs\u001b[0m\u001b[0;34m)\u001b[0m\u001b[0;34m\u001b[0m\u001b[0;34m\u001b[0m\u001b[0m\n\u001b[0m\u001b[1;32m    644\u001b[0m \u001b[0;34m\u001b[0m\u001b[0m\n\u001b[1;32m    645\u001b[0m         \u001b[0;31m# Total elapsed time of the request (approximately)\u001b[0m\u001b[0;34m\u001b[0m\u001b[0;34m\u001b[0m\u001b[0;34m\u001b[0m\u001b[0m\n",
      "\u001b[0;32m~/miniconda3/envs/solar-india/lib/python3.8/site-packages/requests/adapters.py\u001b[0m in \u001b[0;36msend\u001b[0;34m(self, request, stream, timeout, verify, cert, proxies)\u001b[0m\n\u001b[1;32m    514\u001b[0m                 \u001b[0;32mraise\u001b[0m \u001b[0mSSLError\u001b[0m\u001b[0;34m(\u001b[0m\u001b[0me\u001b[0m\u001b[0;34m,\u001b[0m \u001b[0mrequest\u001b[0m\u001b[0;34m=\u001b[0m\u001b[0mrequest\u001b[0m\u001b[0;34m)\u001b[0m\u001b[0;34m\u001b[0m\u001b[0;34m\u001b[0m\u001b[0m\n\u001b[1;32m    515\u001b[0m \u001b[0;34m\u001b[0m\u001b[0m\n\u001b[0;32m--> 516\u001b[0;31m             \u001b[0;32mraise\u001b[0m \u001b[0mConnectionError\u001b[0m\u001b[0;34m(\u001b[0m\u001b[0me\u001b[0m\u001b[0;34m,\u001b[0m \u001b[0mrequest\u001b[0m\u001b[0;34m=\u001b[0m\u001b[0mrequest\u001b[0m\u001b[0;34m)\u001b[0m\u001b[0;34m\u001b[0m\u001b[0;34m\u001b[0m\u001b[0m\n\u001b[0m\u001b[1;32m    517\u001b[0m \u001b[0;34m\u001b[0m\u001b[0m\n\u001b[1;32m    518\u001b[0m         \u001b[0;32mexcept\u001b[0m \u001b[0mClosedPoolError\u001b[0m \u001b[0;32mas\u001b[0m \u001b[0me\u001b[0m\u001b[0;34m:\u001b[0m\u001b[0;34m\u001b[0m\u001b[0;34m\u001b[0m\u001b[0m\n",
      "\u001b[0;31mConnectionError\u001b[0m: HTTPSConnectionPool(host='api.jovian.ai', port=443): Max retries exceeded with url: /user/profile (Caused by NewConnectionError('<urllib3.connection.HTTPSConnection object at 0x7f4ad5589670>: Failed to establish a new connection: [Errno -3] Temporary failure in name resolution'))"
     ]
    }
   ],
   "source": [
    "commit()"
   ]
  },
  {
   "cell_type": "markdown",
   "metadata": {
    "id": "iG1u7rq1i-Uq"
   },
   "source": [
    "## Exploratory Analysis and Visualization\n",
    "\n",
    "Let's learn and dive into the dataset!  \n",
    "\n",
    "**TODO**  \n",
    "Answer these exploratory questions:  \n",
    "\n",
    "    1.   What is the distribution of ambient and module temperature in May to June of 2020?\n",
    "    2.   How many unique inverters are at the plant? What is the total yeild of each inverter over a period of 34 days?    \n",
    "    3.   What is the average total yeild for the inverters at the plant?  \n"
   ]
  },
  {
   "cell_type": "markdown",
   "metadata": {},
   "source": [
    "### Question 1: What is the change in ambient and module temperature during May to June 2020 at the solar plant?"
   ]
  },
  {
   "cell_type": "code",
   "execution_count": 10,
   "metadata": {},
   "outputs": [
    {
     "output_type": "execute_result",
     "data": {
      "text/plain": [
       "[<matplotlib.lines.Line2D at 0x7f4ad2af9910>]"
      ]
     },
     "metadata": {},
     "execution_count": 10
    },
    {
     "output_type": "display_data",
     "data": {
      "text/plain": "<Figure size 432x288 with 1 Axes>",
      "image/svg+xml": "<?xml version=\"1.0\" encoding=\"utf-8\" standalone=\"no\"?>\n<!DOCTYPE svg PUBLIC \"-//W3C//DTD SVG 1.1//EN\"\n  \"http://www.w3.org/Graphics/SVG/1.1/DTD/svg11.dtd\">\n<!-- Created with matplotlib (https://matplotlib.org/) -->\n<svg height=\"248.518125pt\" version=\"1.1\" viewBox=\"0 0 373.903293 248.518125\" width=\"373.903293pt\" xmlns=\"http://www.w3.org/2000/svg\" xmlns:xlink=\"http://www.w3.org/1999/xlink\">\n <metadata>\n  <rdf:RDF xmlns:cc=\"http://creativecommons.org/ns#\" xmlns:dc=\"http://purl.org/dc/elements/1.1/\" xmlns:rdf=\"http://www.w3.org/1999/02/22-rdf-syntax-ns#\">\n   <cc:Work>\n    <dc:type rdf:resource=\"http://purl.org/dc/dcmitype/StillImage\"/>\n    <dc:date>2020-12-25T18:01:43.932838</dc:date>\n    <dc:format>image/svg+xml</dc:format>\n    <dc:creator>\n     <cc:Agent>\n      <dc:title>Matplotlib v3.3.0, https://matplotlib.org/</dc:title>\n     </cc:Agent>\n    </dc:creator>\n   </cc:Work>\n  </rdf:RDF>\n </metadata>\n <defs>\n  <style type=\"text/css\">*{stroke-linecap:butt;stroke-linejoin:round;}</style>\n </defs>\n <g id=\"figure_1\">\n  <g id=\"patch_1\">\n   <path d=\"M -0 248.518125 \nL 373.903293 248.518125 \nL 373.903293 0 \nL -0 0 \nz\n\" style=\"fill:#ffffff;\"/>\n  </g>\n  <g id=\"axes_1\">\n   <g id=\"patch_2\">\n    <path d=\"M 26.925 224.64 \nL 361.725 224.64 \nL 361.725 7.2 \nL 26.925 7.2 \nz\n\" style=\"fill:#ffffff;\"/>\n   </g>\n   <g id=\"matplotlib.axis_1\">\n    <g id=\"xtick_1\">\n     <g id=\"text_1\">\n      <!-- 2020-05-17 -->\n      <g style=\"fill:#262626;\" transform=\"translate(30.9946 239.238437)scale(0.1 -0.1)\">\n       <defs>\n        <path d=\"M 19.1875 8.296875 \nL 53.609375 8.296875 \nL 53.609375 0 \nL 7.328125 0 \nL 7.328125 8.296875 \nQ 12.9375 14.109375 22.625 23.890625 \nQ 32.328125 33.6875 34.8125 36.53125 \nQ 39.546875 41.84375 41.421875 45.53125 \nQ 43.3125 49.21875 43.3125 52.78125 \nQ 43.3125 58.59375 39.234375 62.25 \nQ 35.15625 65.921875 28.609375 65.921875 \nQ 23.96875 65.921875 18.8125 64.3125 \nQ 13.671875 62.703125 7.8125 59.421875 \nL 7.8125 69.390625 \nQ 13.765625 71.78125 18.9375 73 \nQ 24.125 74.21875 28.421875 74.21875 \nQ 39.75 74.21875 46.484375 68.546875 \nQ 53.21875 62.890625 53.21875 53.421875 \nQ 53.21875 48.921875 51.53125 44.890625 \nQ 49.859375 40.875 45.40625 35.40625 \nQ 44.1875 33.984375 37.640625 27.21875 \nQ 31.109375 20.453125 19.1875 8.296875 \nz\n\" id=\"DejaVuSans-50\"/>\n        <path d=\"M 31.78125 66.40625 \nQ 24.171875 66.40625 20.328125 58.90625 \nQ 16.5 51.421875 16.5 36.375 \nQ 16.5 21.390625 20.328125 13.890625 \nQ 24.171875 6.390625 31.78125 6.390625 \nQ 39.453125 6.390625 43.28125 13.890625 \nQ 47.125 21.390625 47.125 36.375 \nQ 47.125 51.421875 43.28125 58.90625 \nQ 39.453125 66.40625 31.78125 66.40625 \nz\nM 31.78125 74.21875 \nQ 44.046875 74.21875 50.515625 64.515625 \nQ 56.984375 54.828125 56.984375 36.375 \nQ 56.984375 17.96875 50.515625 8.265625 \nQ 44.046875 -1.421875 31.78125 -1.421875 \nQ 19.53125 -1.421875 13.0625 8.265625 \nQ 6.59375 17.96875 6.59375 36.375 \nQ 6.59375 54.828125 13.0625 64.515625 \nQ 19.53125 74.21875 31.78125 74.21875 \nz\n\" id=\"DejaVuSans-48\"/>\n        <path d=\"M 4.890625 31.390625 \nL 31.203125 31.390625 \nL 31.203125 23.390625 \nL 4.890625 23.390625 \nz\n\" id=\"DejaVuSans-45\"/>\n        <path d=\"M 10.796875 72.90625 \nL 49.515625 72.90625 \nL 49.515625 64.59375 \nL 19.828125 64.59375 \nL 19.828125 46.734375 \nQ 21.96875 47.46875 24.109375 47.828125 \nQ 26.265625 48.1875 28.421875 48.1875 \nQ 40.625 48.1875 47.75 41.5 \nQ 54.890625 34.8125 54.890625 23.390625 \nQ 54.890625 11.625 47.5625 5.09375 \nQ 40.234375 -1.421875 26.90625 -1.421875 \nQ 22.3125 -1.421875 17.546875 -0.640625 \nQ 12.796875 0.140625 7.71875 1.703125 \nL 7.71875 11.625 \nQ 12.109375 9.234375 16.796875 8.0625 \nQ 21.484375 6.890625 26.703125 6.890625 \nQ 35.15625 6.890625 40.078125 11.328125 \nQ 45.015625 15.765625 45.015625 23.390625 \nQ 45.015625 31 40.078125 35.4375 \nQ 35.15625 39.890625 26.703125 39.890625 \nQ 22.75 39.890625 18.8125 39.015625 \nQ 14.890625 38.140625 10.796875 36.28125 \nz\n\" id=\"DejaVuSans-53\"/>\n        <path d=\"M 12.40625 8.296875 \nL 28.515625 8.296875 \nL 28.515625 63.921875 \nL 10.984375 60.40625 \nL 10.984375 69.390625 \nL 28.421875 72.90625 \nL 38.28125 72.90625 \nL 38.28125 8.296875 \nL 54.390625 8.296875 \nL 54.390625 0 \nL 12.40625 0 \nz\n\" id=\"DejaVuSans-49\"/>\n        <path d=\"M 8.203125 72.90625 \nL 55.078125 72.90625 \nL 55.078125 68.703125 \nL 28.609375 0 \nL 18.3125 0 \nL 43.21875 64.59375 \nL 8.203125 64.59375 \nz\n\" id=\"DejaVuSans-55\"/>\n       </defs>\n       <use xlink:href=\"#DejaVuSans-50\"/>\n       <use x=\"63.623047\" xlink:href=\"#DejaVuSans-48\"/>\n       <use x=\"127.246094\" xlink:href=\"#DejaVuSans-50\"/>\n       <use x=\"190.869141\" xlink:href=\"#DejaVuSans-48\"/>\n       <use x=\"254.492188\" xlink:href=\"#DejaVuSans-45\"/>\n       <use x=\"290.576172\" xlink:href=\"#DejaVuSans-48\"/>\n       <use x=\"354.199219\" xlink:href=\"#DejaVuSans-53\"/>\n       <use x=\"417.822266\" xlink:href=\"#DejaVuSans-45\"/>\n       <use x=\"453.90625\" xlink:href=\"#DejaVuSans-49\"/>\n       <use x=\"517.529297\" xlink:href=\"#DejaVuSans-55\"/>\n      </g>\n     </g>\n    </g>\n    <g id=\"xtick_2\">\n     <g id=\"text_2\">\n      <!-- 2020-05-21 -->\n      <g style=\"fill:#262626;\" transform=\"translate(66.81306 239.238437)scale(0.1 -0.1)\">\n       <use xlink:href=\"#DejaVuSans-50\"/>\n       <use x=\"63.623047\" xlink:href=\"#DejaVuSans-48\"/>\n       <use x=\"127.246094\" xlink:href=\"#DejaVuSans-50\"/>\n       <use x=\"190.869141\" xlink:href=\"#DejaVuSans-48\"/>\n       <use x=\"254.492188\" xlink:href=\"#DejaVuSans-45\"/>\n       <use x=\"290.576172\" xlink:href=\"#DejaVuSans-48\"/>\n       <use x=\"354.199219\" xlink:href=\"#DejaVuSans-53\"/>\n       <use x=\"417.822266\" xlink:href=\"#DejaVuSans-45\"/>\n       <use x=\"453.90625\" xlink:href=\"#DejaVuSans-50\"/>\n       <use x=\"517.529297\" xlink:href=\"#DejaVuSans-49\"/>\n      </g>\n     </g>\n    </g>\n    <g id=\"xtick_3\">\n     <g id=\"text_3\">\n      <!-- 2020-05-25 -->\n      <g style=\"fill:#262626;\" transform=\"translate(102.63152 239.238437)scale(0.1 -0.1)\">\n       <use xlink:href=\"#DejaVuSans-50\"/>\n       <use x=\"63.623047\" xlink:href=\"#DejaVuSans-48\"/>\n       <use x=\"127.246094\" xlink:href=\"#DejaVuSans-50\"/>\n       <use x=\"190.869141\" xlink:href=\"#DejaVuSans-48\"/>\n       <use x=\"254.492188\" xlink:href=\"#DejaVuSans-45\"/>\n       <use x=\"290.576172\" xlink:href=\"#DejaVuSans-48\"/>\n       <use x=\"354.199219\" xlink:href=\"#DejaVuSans-53\"/>\n       <use x=\"417.822266\" xlink:href=\"#DejaVuSans-45\"/>\n       <use x=\"453.90625\" xlink:href=\"#DejaVuSans-50\"/>\n       <use x=\"517.529297\" xlink:href=\"#DejaVuSans-53\"/>\n      </g>\n     </g>\n    </g>\n    <g id=\"xtick_4\">\n     <g id=\"text_4\">\n      <!-- 2020-05-29 -->\n      <g style=\"fill:#262626;\" transform=\"translate(138.449981 239.238437)scale(0.1 -0.1)\">\n       <defs>\n        <path d=\"M 10.984375 1.515625 \nL 10.984375 10.5 \nQ 14.703125 8.734375 18.5 7.8125 \nQ 22.3125 6.890625 25.984375 6.890625 \nQ 35.75 6.890625 40.890625 13.453125 \nQ 46.046875 20.015625 46.78125 33.40625 \nQ 43.953125 29.203125 39.59375 26.953125 \nQ 35.25 24.703125 29.984375 24.703125 \nQ 19.046875 24.703125 12.671875 31.3125 \nQ 6.296875 37.9375 6.296875 49.421875 \nQ 6.296875 60.640625 12.9375 67.421875 \nQ 19.578125 74.21875 30.609375 74.21875 \nQ 43.265625 74.21875 49.921875 64.515625 \nQ 56.59375 54.828125 56.59375 36.375 \nQ 56.59375 19.140625 48.40625 8.859375 \nQ 40.234375 -1.421875 26.421875 -1.421875 \nQ 22.703125 -1.421875 18.890625 -0.6875 \nQ 15.09375 0.046875 10.984375 1.515625 \nz\nM 30.609375 32.421875 \nQ 37.25 32.421875 41.125 36.953125 \nQ 45.015625 41.5 45.015625 49.421875 \nQ 45.015625 57.28125 41.125 61.84375 \nQ 37.25 66.40625 30.609375 66.40625 \nQ 23.96875 66.40625 20.09375 61.84375 \nQ 16.21875 57.28125 16.21875 49.421875 \nQ 16.21875 41.5 20.09375 36.953125 \nQ 23.96875 32.421875 30.609375 32.421875 \nz\n\" id=\"DejaVuSans-57\"/>\n       </defs>\n       <use xlink:href=\"#DejaVuSans-50\"/>\n       <use x=\"63.623047\" xlink:href=\"#DejaVuSans-48\"/>\n       <use x=\"127.246094\" xlink:href=\"#DejaVuSans-50\"/>\n       <use x=\"190.869141\" xlink:href=\"#DejaVuSans-48\"/>\n       <use x=\"254.492188\" xlink:href=\"#DejaVuSans-45\"/>\n       <use x=\"290.576172\" xlink:href=\"#DejaVuSans-48\"/>\n       <use x=\"354.199219\" xlink:href=\"#DejaVuSans-53\"/>\n       <use x=\"417.822266\" xlink:href=\"#DejaVuSans-45\"/>\n       <use x=\"453.90625\" xlink:href=\"#DejaVuSans-50\"/>\n       <use x=\"517.529297\" xlink:href=\"#DejaVuSans-57\"/>\n      </g>\n     </g>\n    </g>\n    <g id=\"xtick_5\">\n     <g id=\"text_5\">\n      <!-- 2020-06-01 -->\n      <g style=\"fill:#262626;\" transform=\"translate(165.313826 239.238437)scale(0.1 -0.1)\">\n       <defs>\n        <path d=\"M 33.015625 40.375 \nQ 26.375 40.375 22.484375 35.828125 \nQ 18.609375 31.296875 18.609375 23.390625 \nQ 18.609375 15.53125 22.484375 10.953125 \nQ 26.375 6.390625 33.015625 6.390625 \nQ 39.65625 6.390625 43.53125 10.953125 \nQ 47.40625 15.53125 47.40625 23.390625 \nQ 47.40625 31.296875 43.53125 35.828125 \nQ 39.65625 40.375 33.015625 40.375 \nz\nM 52.59375 71.296875 \nL 52.59375 62.3125 \nQ 48.875 64.0625 45.09375 64.984375 \nQ 41.3125 65.921875 37.59375 65.921875 \nQ 27.828125 65.921875 22.671875 59.328125 \nQ 17.53125 52.734375 16.796875 39.40625 \nQ 19.671875 43.65625 24.015625 45.921875 \nQ 28.375 48.1875 33.59375 48.1875 \nQ 44.578125 48.1875 50.953125 41.515625 \nQ 57.328125 34.859375 57.328125 23.390625 \nQ 57.328125 12.15625 50.6875 5.359375 \nQ 44.046875 -1.421875 33.015625 -1.421875 \nQ 20.359375 -1.421875 13.671875 8.265625 \nQ 6.984375 17.96875 6.984375 36.375 \nQ 6.984375 53.65625 15.1875 63.9375 \nQ 23.390625 74.21875 37.203125 74.21875 \nQ 40.921875 74.21875 44.703125 73.484375 \nQ 48.484375 72.75 52.59375 71.296875 \nz\n\" id=\"DejaVuSans-54\"/>\n       </defs>\n       <use xlink:href=\"#DejaVuSans-50\"/>\n       <use x=\"63.623047\" xlink:href=\"#DejaVuSans-48\"/>\n       <use x=\"127.246094\" xlink:href=\"#DejaVuSans-50\"/>\n       <use x=\"190.869141\" xlink:href=\"#DejaVuSans-48\"/>\n       <use x=\"254.492188\" xlink:href=\"#DejaVuSans-45\"/>\n       <use x=\"290.576172\" xlink:href=\"#DejaVuSans-48\"/>\n       <use x=\"354.199219\" xlink:href=\"#DejaVuSans-54\"/>\n       <use x=\"417.822266\" xlink:href=\"#DejaVuSans-45\"/>\n       <use x=\"453.90625\" xlink:href=\"#DejaVuSans-48\"/>\n       <use x=\"517.529297\" xlink:href=\"#DejaVuSans-49\"/>\n      </g>\n     </g>\n    </g>\n    <g id=\"xtick_6\">\n     <g id=\"text_6\">\n      <!-- 2020-06-05 -->\n      <g style=\"fill:#262626;\" transform=\"translate(201.132287 239.238437)scale(0.1 -0.1)\">\n       <use xlink:href=\"#DejaVuSans-50\"/>\n       <use x=\"63.623047\" xlink:href=\"#DejaVuSans-48\"/>\n       <use x=\"127.246094\" xlink:href=\"#DejaVuSans-50\"/>\n       <use x=\"190.869141\" xlink:href=\"#DejaVuSans-48\"/>\n       <use x=\"254.492188\" xlink:href=\"#DejaVuSans-45\"/>\n       <use x=\"290.576172\" xlink:href=\"#DejaVuSans-48\"/>\n       <use x=\"354.199219\" xlink:href=\"#DejaVuSans-54\"/>\n       <use x=\"417.822266\" xlink:href=\"#DejaVuSans-45\"/>\n       <use x=\"453.90625\" xlink:href=\"#DejaVuSans-48\"/>\n       <use x=\"517.529297\" xlink:href=\"#DejaVuSans-53\"/>\n      </g>\n     </g>\n    </g>\n    <g id=\"xtick_7\">\n     <g id=\"text_7\">\n      <!-- 2020-06-09 -->\n      <g style=\"fill:#262626;\" transform=\"translate(236.950747 239.238437)scale(0.1 -0.1)\">\n       <use xlink:href=\"#DejaVuSans-50\"/>\n       <use x=\"63.623047\" xlink:href=\"#DejaVuSans-48\"/>\n       <use x=\"127.246094\" xlink:href=\"#DejaVuSans-50\"/>\n       <use x=\"190.869141\" xlink:href=\"#DejaVuSans-48\"/>\n       <use x=\"254.492188\" xlink:href=\"#DejaVuSans-45\"/>\n       <use x=\"290.576172\" xlink:href=\"#DejaVuSans-48\"/>\n       <use x=\"354.199219\" xlink:href=\"#DejaVuSans-54\"/>\n       <use x=\"417.822266\" xlink:href=\"#DejaVuSans-45\"/>\n       <use x=\"453.90625\" xlink:href=\"#DejaVuSans-48\"/>\n       <use x=\"517.529297\" xlink:href=\"#DejaVuSans-57\"/>\n      </g>\n     </g>\n    </g>\n    <g id=\"xtick_8\">\n     <g id=\"text_8\">\n      <!-- 2020-06-13 -->\n      <g style=\"fill:#262626;\" transform=\"translate(272.769207 239.238437)scale(0.1 -0.1)\">\n       <defs>\n        <path d=\"M 40.578125 39.3125 \nQ 47.65625 37.796875 51.625 33 \nQ 55.609375 28.21875 55.609375 21.1875 \nQ 55.609375 10.40625 48.1875 4.484375 \nQ 40.765625 -1.421875 27.09375 -1.421875 \nQ 22.515625 -1.421875 17.65625 -0.515625 \nQ 12.796875 0.390625 7.625 2.203125 \nL 7.625 11.71875 \nQ 11.71875 9.328125 16.59375 8.109375 \nQ 21.484375 6.890625 26.8125 6.890625 \nQ 36.078125 6.890625 40.9375 10.546875 \nQ 45.796875 14.203125 45.796875 21.1875 \nQ 45.796875 27.640625 41.28125 31.265625 \nQ 36.765625 34.90625 28.71875 34.90625 \nL 20.21875 34.90625 \nL 20.21875 43.015625 \nL 29.109375 43.015625 \nQ 36.375 43.015625 40.234375 45.921875 \nQ 44.09375 48.828125 44.09375 54.296875 \nQ 44.09375 59.90625 40.109375 62.90625 \nQ 36.140625 65.921875 28.71875 65.921875 \nQ 24.65625 65.921875 20.015625 65.03125 \nQ 15.375 64.15625 9.8125 62.3125 \nL 9.8125 71.09375 \nQ 15.4375 72.65625 20.34375 73.4375 \nQ 25.25 74.21875 29.59375 74.21875 \nQ 40.828125 74.21875 47.359375 69.109375 \nQ 53.90625 64.015625 53.90625 55.328125 \nQ 53.90625 49.265625 50.4375 45.09375 \nQ 46.96875 40.921875 40.578125 39.3125 \nz\n\" id=\"DejaVuSans-51\"/>\n       </defs>\n       <use xlink:href=\"#DejaVuSans-50\"/>\n       <use x=\"63.623047\" xlink:href=\"#DejaVuSans-48\"/>\n       <use x=\"127.246094\" xlink:href=\"#DejaVuSans-50\"/>\n       <use x=\"190.869141\" xlink:href=\"#DejaVuSans-48\"/>\n       <use x=\"254.492188\" xlink:href=\"#DejaVuSans-45\"/>\n       <use x=\"290.576172\" xlink:href=\"#DejaVuSans-48\"/>\n       <use x=\"354.199219\" xlink:href=\"#DejaVuSans-54\"/>\n       <use x=\"417.822266\" xlink:href=\"#DejaVuSans-45\"/>\n       <use x=\"453.90625\" xlink:href=\"#DejaVuSans-49\"/>\n       <use x=\"517.529297\" xlink:href=\"#DejaVuSans-51\"/>\n      </g>\n     </g>\n    </g>\n    <g id=\"xtick_9\">\n     <g id=\"text_9\">\n      <!-- 2020-06-17 -->\n      <g style=\"fill:#262626;\" transform=\"translate(308.587668 239.238437)scale(0.1 -0.1)\">\n       <use xlink:href=\"#DejaVuSans-50\"/>\n       <use x=\"63.623047\" xlink:href=\"#DejaVuSans-48\"/>\n       <use x=\"127.246094\" xlink:href=\"#DejaVuSans-50\"/>\n       <use x=\"190.869141\" xlink:href=\"#DejaVuSans-48\"/>\n       <use x=\"254.492188\" xlink:href=\"#DejaVuSans-45\"/>\n       <use x=\"290.576172\" xlink:href=\"#DejaVuSans-48\"/>\n       <use x=\"354.199219\" xlink:href=\"#DejaVuSans-54\"/>\n       <use x=\"417.822266\" xlink:href=\"#DejaVuSans-45\"/>\n       <use x=\"453.90625\" xlink:href=\"#DejaVuSans-49\"/>\n       <use x=\"517.529297\" xlink:href=\"#DejaVuSans-55\"/>\n      </g>\n     </g>\n    </g>\n   </g>\n   <g id=\"matplotlib.axis_2\">\n    <g id=\"ytick_1\">\n     <g id=\"text_10\">\n      <!-- 20 -->\n      <g style=\"fill:#262626;\" transform=\"translate(7.2 210.801404)scale(0.1 -0.1)\">\n       <use xlink:href=\"#DejaVuSans-50\"/>\n       <use x=\"63.623047\" xlink:href=\"#DejaVuSans-48\"/>\n      </g>\n     </g>\n    </g>\n    <g id=\"ytick_2\">\n     <g id=\"text_11\">\n      <!-- 30 -->\n      <g style=\"fill:#262626;\" transform=\"translate(7.2 169.102958)scale(0.1 -0.1)\">\n       <use xlink:href=\"#DejaVuSans-51\"/>\n       <use x=\"63.623047\" xlink:href=\"#DejaVuSans-48\"/>\n      </g>\n     </g>\n    </g>\n    <g id=\"ytick_3\">\n     <g id=\"text_12\">\n      <!-- 40 -->\n      <g style=\"fill:#262626;\" transform=\"translate(7.2 127.404512)scale(0.1 -0.1)\">\n       <defs>\n        <path d=\"M 37.796875 64.3125 \nL 12.890625 25.390625 \nL 37.796875 25.390625 \nz\nM 35.203125 72.90625 \nL 47.609375 72.90625 \nL 47.609375 25.390625 \nL 58.015625 25.390625 \nL 58.015625 17.1875 \nL 47.609375 17.1875 \nL 47.609375 0 \nL 37.796875 0 \nL 37.796875 17.1875 \nL 4.890625 17.1875 \nL 4.890625 26.703125 \nz\n\" id=\"DejaVuSans-52\"/>\n       </defs>\n       <use xlink:href=\"#DejaVuSans-52\"/>\n       <use x=\"63.623047\" xlink:href=\"#DejaVuSans-48\"/>\n      </g>\n     </g>\n    </g>\n    <g id=\"ytick_4\">\n     <g id=\"text_13\">\n      <!-- 50 -->\n      <g style=\"fill:#262626;\" transform=\"translate(7.2 85.706065)scale(0.1 -0.1)\">\n       <use xlink:href=\"#DejaVuSans-53\"/>\n       <use x=\"63.623047\" xlink:href=\"#DejaVuSans-48\"/>\n      </g>\n     </g>\n    </g>\n    <g id=\"ytick_5\">\n     <g id=\"text_14\">\n      <!-- 60 -->\n      <g style=\"fill:#262626;\" transform=\"translate(7.2 44.007619)scale(0.1 -0.1)\">\n       <use xlink:href=\"#DejaVuSans-54\"/>\n       <use x=\"63.623047\" xlink:href=\"#DejaVuSans-48\"/>\n      </g>\n     </g>\n    </g>\n   </g>\n   <g id=\"line2d_1\">\n    <path clip-path=\"url(#p94346c0246)\" d=\"M 42.143182 195.086823 \nL 42.329736 196.192674 \nL 42.609568 198.79355 \nL 43.262509 188.721021 \nL 43.355786 188.857074 \nL 43.54234 191.53292 \nL 43.728895 199.564673 \nL 43.822172 199.277444 \nL 44.195281 192.606295 \nL 44.288558 194.089461 \nL 44.381836 197.800353 \nL 44.475113 197.188628 \nL 44.56839 194.937649 \nL 45.221331 142.249874 \nL 45.314608 122.279038 \nL 45.407885 127.433403 \nL 45.59444 96.010485 \nL 45.687717 127.206679 \nL 45.780994 119.724932 \nL 45.874271 71.283185 \nL 45.967549 91.773792 \nL 46.060826 85.035384 \nL 46.154103 106.724404 \nL 46.340658 81.877705 \nL 46.433935 82.568336 \nL 46.527212 90.928793 \nL 46.807044 72.094138 \nL 47.180153 95.793001 \nL 47.27343 92.261054 \nL 47.366707 82.724535 \nL 47.459985 60.929972 \nL 47.553262 63.062749 \nL 47.739816 98.464961 \nL 47.833094 105.732955 \nL 47.926371 95.482688 \nL 48.206202 119.404458 \nL 48.29948 118.265429 \nL 49.138975 182.141794 \nL 49.325529 185.315464 \nL 49.418807 183.045311 \nL 49.605361 205.789904 \nL 49.698638 203.930691 \nL 49.885193 205.697836 \nL 49.97847 204.286501 \nL 50.071747 204.366484 \nL 50.258302 203.18921 \nL 50.351579 203.267239 \nL 50.444856 203.949084 \nL 50.538133 203.541831 \nL 50.724688 201.826088 \nL 51.937292 207.339093 \nL 52.030569 208.700596 \nL 52.123847 208.56642 \nL 52.310401 206.534495 \nL 52.590233 203.608305 \nL 52.68351 204.030586 \nL 52.776787 203.974721 \nL 52.870064 203.681309 \nL 53.056619 205.032478 \nL 53.149896 203.832299 \nL 53.336451 205.93131 \nL 53.429728 205.207537 \nL 53.802837 189.31495 \nL 53.989391 173.904143 \nL 54.3625 128.225436 \nL 54.455778 129.001488 \nL 54.642332 124.105873 \nL 55.108718 81.264199 \nL 55.38855 96.425181 \nL 55.481827 94.233365 \nL 55.575104 81.523974 \nL 55.668382 87.430716 \nL 55.854936 64.256956 \nL 55.948213 70.015274 \nL 56.041491 73.344141 \nL 56.321322 96.188998 \nL 56.507877 88.764214 \nL 56.694431 99.544418 \nL 56.787709 99.251159 \nL 57.160818 139.028891 \nL 57.347372 145.366728 \nL 57.813758 172.132801 \nL 58.09359 184.054619 \nL 58.466699 186.357409 \nL 58.839808 191.898169 \nL 59.399471 198.316757 \nL 59.492749 198.757741 \nL 59.77258 197.816336 \nL 59.865858 198.192879 \nL 60.052412 200.199125 \nL 60.145689 200.129119 \nL 60.238967 200.796513 \nL 60.332244 200.682182 \nL 60.425521 200.582471 \nL 60.518798 201.184144 \nL 60.612075 199.198448 \nL 60.79863 201.426164 \nL 60.891907 201.340836 \nL 60.985184 201.23675 \nL 61.078462 201.76831 \nL 61.171739 200.744119 \nL 61.265016 200.897942 \nL 61.451571 203.628336 \nL 61.544848 203.853118 \nL 61.731402 202.186698 \nL 61.82468 202.51922 \nL 61.917957 203.467658 \nL 62.011234 203.194595 \nL 62.384343 199.957038 \nL 62.47762 199.119768 \nL 62.664175 191.021437 \nL 62.944006 161.224151 \nL 63.410393 89.510842 \nL 63.50367 102.26649 \nL 63.783502 73.194084 \nL 63.876779 86.358151 \nL 63.970056 78.91123 \nL 64.249888 39.338698 \nL 64.343165 27.091814 \nL 64.436442 32.694376 \nL 64.622997 60.664707 \nL 64.809551 54.56652 \nL 64.902829 66.029921 \nL 64.996106 109.465565 \nL 65.089383 64.019671 \nL 65.18266 73.450747 \nL 65.275938 59.681971 \nL 65.462492 103.148163 \nL 65.555769 91.765078 \nL 65.649046 64.998879 \nL 65.928878 109.470704 \nL 66.022155 106.73691 \nL 66.301987 141.933835 \nL 66.675096 173.987369 \nL 66.954928 185.954141 \nL 67.23476 190.219672 \nL 67.421314 189.654434 \nL 67.514591 188.977609 \nL 67.701146 191.201247 \nL 67.8877 187.958826 \nL 68.074255 205.217667 \nL 68.167532 205.429649 \nL 68.540641 204.121309 \nL 68.633918 204.539523 \nL 68.820473 204.364786 \nL 68.91375 204.654084 \nL 69.007027 204.502781 \nL 69.100304 205.017496 \nL 69.286859 204.778336 \nL 69.566691 205.430858 \nL 69.659968 205.362701 \nL 69.9398 206.065505 \nL 70.033077 205.92623 \nL 70.126354 205.555957 \nL 70.312909 202.80152 \nL 70.406186 203.409452 \nL 70.499463 203.320935 \nL 70.779295 209.180799 \nL 70.965849 206.727538 \nL 71.152404 207.101289 \nL 71.338958 203.417962 \nL 71.61879 193.90597 \nL 71.898622 169.222343 \nL 72.085176 181.122679 \nL 72.365008 174.224043 \nL 72.64484 179.353822 \nL 72.738117 178.591326 \nL 72.831394 176.812161 \nL 72.924671 170.164324 \nL 73.204503 125.471619 \nL 73.391057 133.56615 \nL 73.577612 97.965728 \nL 73.670889 98.709458 \nL 73.764166 106.671365 \nL 73.857444 102.745644 \nL 73.950721 107.491647 \nL 74.137275 70.043592 \nL 74.230553 65.491256 \nL 74.417107 125.878296 \nL 74.510384 128.526231 \nL 74.696939 111.827383 \nL 74.790216 107.661831 \nL 74.883493 110.869672 \nL 75.629711 179.930144 \nL 75.909543 191.507512 \nL 76.096097 193.718984 \nL 76.375929 194.507956 \nL 76.749038 199.793806 \nL 76.935593 200.637318 \nL 77.02887 200.759932 \nL 77.308702 203.833599 \nL 77.495256 203.966857 \nL 77.681811 202.473918 \nL 77.868365 204.340278 \nL 77.961642 204.458972 \nL 78.148197 204.967435 \nL 78.241474 204.980253 \nL 78.521306 204.095671 \nL 79.080969 203.491531 \nL 79.174246 203.699794 \nL 79.360801 203.632128 \nL 79.454078 203.787599 \nL 79.73391 202.901702 \nL 79.827187 201.782066 \nL 79.920464 201.915597 \nL 80.013742 203.106402 \nL 80.107019 201.97897 \nL 80.386851 196.355592 \nL 80.480128 194.636185 \nL 80.853237 160.691281 \nL 80.946514 162.041763 \nL 81.039791 164.855624 \nL 81.226346 145.222874 \nL 81.4129 125.119042 \nL 81.599455 98.043692 \nL 81.786009 110.882319 \nL 81.879286 105.276597 \nL 81.972564 107.496214 \nL 82.065841 90.18733 \nL 82.159118 91.558903 \nL 82.252395 120.581638 \nL 82.812059 74.202051 \nL 82.998613 104.788809 \nL 83.185168 85.288984 \nL 83.278445 84.174079 \nL 83.371722 80.407927 \nL 83.464999 81.490313 \nL 83.744831 119.854333 \nL 83.931386 120.678827 \nL 84.024663 118.626388 \nL 84.677604 184.375781 \nL 84.864158 203.932166 \nL 85.050713 203.893652 \nL 85.14399 204.142823 \nL 85.423821 206.743055 \nL 85.517099 206.048784 \nL 85.890208 200.901632 \nL 86.170039 202.072968 \nL 86.263317 200.504516 \nL 86.916257 206.538821 \nL 87.009535 206.542775 \nL 87.102812 206.121548 \nL 87.196089 206.949451 \nL 87.289366 206.851772 \nL 87.382644 207.010284 \nL 87.475921 208.167191 \nL 87.569198 207.856294 \nL 87.662475 208.134208 \nL 87.84903 209.577654 \nL 87.942307 209.902761 \nL 88.035584 209.79468 \nL 88.222139 208.987655 \nL 88.315416 209.096686 \nL 88.50197 208.875408 \nL 88.688525 209.724554 \nL 89.061634 213.288893 \nL 89.154911 211.95721 \nL 89.52802 199.733894 \nL 89.901129 157.216029 \nL 90.180961 121.951743 \nL 90.55407 96.326129 \nL 90.833901 75.445334 \nL 90.927179 75.750075 \nL 91.020456 73.041447 \nL 91.486842 45.647372 \nL 91.580119 42.847327 \nL 91.673397 45.677599 \nL 91.859951 55.734758 \nL 94.005328 190.126557 \nL 94.751546 198.495193 \nL 94.844823 198.623718 \nL 94.9381 199.172876 \nL 95.124655 200.661208 \nL 95.217932 200.66551 \nL 95.311209 200.903095 \nL 95.684318 204.613354 \nL 95.777595 204.408113 \nL 95.870872 204.566425 \nL 96.057427 206.251856 \nL 98.762467 163.62228 \nL 99.601962 67.240661 \nL 99.695239 94.979267 \nL 99.881794 74.412435 \nL 100.068348 55.036795 \nL 100.161626 34.137881 \nL 100.34818 50.981449 \nL 100.441457 45.846928 \nL 100.534734 78.221541 \nL 100.628012 74.043891 \nL 100.907843 50.932131 \nL 101.001121 58.153282 \nL 101.094398 55.094547 \nL 101.37423 97.826724 \nL 101.467507 69.432579 \nL 101.654061 97.523595 \nL 101.747339 102.132595 \nL 101.933893 133.493794 \nL 102.120448 138.620807 \nL 102.307002 166.462849 \nL 102.680111 180.850578 \nL 103.519606 194.993453 \nL 103.892715 198.261486 \nL 103.985992 198.498407 \nL 104.359101 201.286319 \nL 104.638933 202.303093 \nL 104.73221 202.185511 \nL 104.825488 201.851572 \nL 105.012042 202.008722 \nL 105.105319 201.837879 \nL 105.291874 197.671326 \nL 105.385151 198.31187 \nL 105.664983 196.764398 \nL 105.944814 199.328677 \nL 106.131369 201.60397 \nL 106.224646 201.444395 \nL 106.317923 201.716844 \nL 106.504478 200.942337 \nL 106.691032 201.151516 \nL 106.78431 200.968127 \nL 106.970864 201.422905 \nL 107.157419 197.815183 \nL 107.43725 187.216709 \nL 107.810359 142.107673 \nL 107.903637 135.329247 \nL 108.090191 155.377943 \nL 108.370023 124.130798 \nL 108.4633 126.371844 \nL 108.743132 104.053501 \nL 108.836409 112.144915 \nL 108.929686 80.871689 \nL 109.022963 105.297655 \nL 109.302795 30.984327 \nL 109.48935 63.557893 \nL 109.582627 57.332337 \nL 109.675904 61.652202 \nL 109.769181 46.691267 \nL 109.862459 49.135102 \nL 109.955736 67.187826 \nL 110.14229 60.689453 \nL 110.235568 69.530327 \nL 110.328845 56.804021 \nL 110.422122 58.417833 \nL 110.888508 136.006738 \nL 111.16834 154.971945 \nL 111.728003 179.372307 \nL 112.007835 183.230329 \nL 112.19439 184.623451 \nL 112.474221 186.450134 \nL 112.567499 186.533093 \nL 112.660776 186.331829 \nL 112.84733 185.211404 \nL 112.940608 187.072692 \nL 113.127162 195.692816 \nL 113.220439 195.956975 \nL 113.500271 205.635872 \nL 113.593548 206.14179 \nL 113.87338 204.491809 \nL 114.153212 205.310044 \nL 114.339766 205.665735 \nL 114.619598 204.684771 \nL 114.712875 204.554403 \nL 114.806152 204.798475 \nL 114.89943 205.377259 \nL 115.272539 202.458546 \nL 115.365816 202.135763 \nL 115.459093 202.233794 \nL 115.738925 202.853211 \nL 116.298588 198.301127 \nL 116.485143 186.585369 \nL 116.858252 131.787552 \nL 117.044806 107.733288 \nL 117.138083 104.501158 \nL 117.324638 91.136302 \nL 117.417915 101.776854 \nL 117.511192 86.251716 \nL 117.60447 92.713328 \nL 117.791024 85.72336 \nL 118.164133 39.40805 \nL 118.25741 46.252902 \nL 118.443965 17.083636 \nL 118.630519 58.818317 \nL 118.910351 29.464882 \nL 119.003628 38.581199 \nL 119.190183 76.371638 \nL 119.376737 97.061354 \nL 119.470014 97.123676 \nL 119.563292 82.900129 \nL 119.656569 83.938721 \nL 119.749846 86.453325 \nL 119.936401 108.41047 \nL 120.496064 158.981477 \nL 120.869173 181.075078 \nL 121.055727 183.511509 \nL 121.149005 183.681639 \nL 121.335559 185.555209 \nL 121.708668 191.191456 \nL 121.801945 190.22813 \nL 122.081777 192.619242 \nL 122.361609 195.821476 \nL 122.454886 196.602091 \nL 122.548163 196.537016 \nL 122.641441 196.714405 \nL 122.921272 200.188733 \nL 123.014549 200.074756 \nL 123.107827 199.597555 \nL 123.201104 199.641771 \nL 123.480936 193.877508 \nL 123.66749 197.984685 \nL 123.854045 202.025994 \nL 124.040599 201.312278 \nL 124.133876 200.342624 \nL 124.413708 201.840646 \nL 124.600263 204.353317 \nL 124.880094 206.611051 \nL 124.973372 206.527182 \nL 125.159926 198.272141 \nL 125.439758 173.631059 \nL 125.719589 142.796809 \nL 125.812867 143.18254 \nL 125.999421 127.477143 \nL 126.279253 108.202649 \nL 126.37253 111.306946 \nL 126.465807 110.850431 \nL 126.559085 107.808613 \nL 127.025471 47.746334 \nL 127.118748 50.292181 \nL 127.212025 47.204072 \nL 127.39858 38.4119 \nL 127.585134 32.937343 \nL 127.678412 36.207972 \nL 127.771689 33.638263 \nL 127.864966 50.518441 \nL 127.958243 43.653299 \nL 128.05152 47.421098 \nL 128.238075 71.580458 \nL 128.331352 69.458972 \nL 128.424629 65.198845 \nL 128.611184 123.207363 \nL 128.704461 129.397324 \nL 128.797738 113.255778 \nL 128.984293 127.268311 \nL 129.07757 122.063506 \nL 129.730511 176.72858 \nL 129.917065 180.494038 \nL 130.10362 182.179376 \nL 130.196897 181.734947 \nL 130.383452 184.166017 \nL 130.476729 184.313443 \nL 130.570006 186.26721 \nL 130.75656 193.581179 \nL 130.943115 193.893728 \nL 131.036392 193.455374 \nL 131.129669 193.663179 \nL 131.222947 193.38205 \nL 131.316224 193.797973 \nL 131.502778 194.797841 \nL 131.78261 196.498023 \nL 131.969165 195.562913 \nL 132.155719 195.649106 \nL 132.342274 196.492662 \nL 132.435551 196.315271 \nL 133.181769 197.955051 \nL 133.275046 198.354262 \nL 133.368323 197.926342 \nL 133.4616 197.974631 \nL 133.741432 202.873833 \nL 133.834709 202.397031 \nL 133.927987 202.753434 \nL 134.207818 195.45792 \nL 134.301096 192.092454 \nL 134.767482 144.487856 \nL 135.047314 100.461654 \nL 135.327145 77.140361 \nL 135.980086 37.769256 \nL 136.073363 47.979301 \nL 136.16664 44.511021 \nL 136.259918 47.471677 \nL 136.353195 45.770484 \nL 136.446472 37.070426 \nL 136.539749 39.780744 \nL 136.633027 36.586902 \nL 136.912858 45.175523 \nL 137.006136 43.636306 \nL 137.19269 61.099416 \nL 137.285967 50.435566 \nL 137.472522 82.132969 \nL 137.565799 78.215152 \nL 137.659076 73.588052 \nL 138.032185 151.899808 \nL 138.312017 161.833381 \nL 138.685126 185.606739 \nL 138.964958 191.033034 \nL 139.151512 196.105404 \nL 139.244789 194.508753 \nL 139.524621 184.804457 \nL 139.617898 184.249469 \nL 139.711176 186.036924 \nL 139.89773 198.928788 \nL 140.550671 208.168362 \nL 140.643948 207.964842 \nL 140.830502 207.13743 \nL 140.92378 207.216972 \nL 141.203611 208.721727 \nL 141.296889 208.469291 \nL 141.390166 208.614852 \nL 141.483443 209.207184 \nL 141.669998 211.543042 \nL 141.763275 211.618028 \nL 141.856552 211.159652 \nL 142.043107 209.824983 \nL 142.229661 212.102456 \nL 142.416216 210.090722 \nL 142.509493 210.781463 \nL 142.882602 206.044284 \nL 143.069156 201.656305 \nL 143.255711 190.878133 \nL 143.62882 142.375464 \nL 143.908651 109.15912 \nL 144.095206 86.149422 \nL 144.654869 42.60904 \nL 144.841424 59.568706 \nL 144.934701 52.587406 \nL 145.027978 70.927859 \nL 145.121256 67.676026 \nL 145.214533 43.822563 \nL 145.30781 65.051002 \nL 145.494365 39.474022 \nL 145.587642 81.722794 \nL 145.774196 33.685401 \nL 145.867473 41.610056 \nL 146.054028 105.009323 \nL 146.147305 107.863426 \nL 146.240582 116.542999 \nL 146.33386 111.815591 \nL 146.520414 89.279595 \nL 146.893523 111.924512 \nL 146.9868 112.754797 \nL 147.266632 164.255458 \nL 147.639741 179.82046 \nL 147.919573 184.828566 \nL 148.199404 195.011956 \nL 148.292682 194.224299 \nL 148.665791 182.35468 \nL 148.852345 189.102742 \nL 149.132177 192.156748 \nL 149.225454 191.091521 \nL 149.69184 199.704397 \nL 149.785118 200.10948 \nL 150.158227 197.750809 \nL 150.344781 200.455014 \nL 150.438058 201.960645 \nL 150.71789 197.603692 \nL 150.997722 200.737814 \nL 151.090999 200.873713 \nL 151.184276 200.322994 \nL 151.277553 200.828895 \nL 151.370831 200.802392 \nL 151.650662 199.909284 \nL 151.837217 201.137755 \nL 151.930494 200.083953 \nL 152.303603 184.105953 \nL 152.769989 121.359004 \nL 152.863267 119.087231 \nL 153.236375 77.894468 \nL 153.42293 94.577156 \nL 153.516207 91.405799 \nL 153.609484 92.672455 \nL 153.796039 78.929173 \nL 153.982593 33.89452 \nL 154.075871 30.113766 \nL 154.169148 40.419005 \nL 154.262425 73.852325 \nL 154.355702 68.018343 \nL 154.44898 71.188086 \nL 154.728811 114.418028 \nL 154.822089 115.628387 \nL 154.915366 112.108536 \nL 155.10192 82.391566 \nL 155.288475 109.563686 \nL 155.381752 105.110837 \nL 155.475029 89.711595 \nL 155.661584 110.115517 \nL 155.754861 112.163943 \nL 156.12797 158.81105 \nL 156.594356 181.94573 \nL 156.687633 183.949594 \nL 156.780911 182.908047 \nL 157.15402 201.096822 \nL 157.247297 202.289222 \nL 157.340574 202.189447 \nL 157.433851 201.574638 \nL 157.620406 203.702967 \nL 157.80696 204.773458 \nL 157.900238 204.825344 \nL 158.086792 201.483343 \nL 158.273346 196.984166 \nL 158.366624 197.213808 \nL 158.553178 198.467994 \nL 158.739733 199.957225 \nL 158.83301 199.803476 \nL 159.112842 206.054791 \nL 159.392673 204.536071 \nL 159.485951 204.763897 \nL 159.579228 204.280291 \nL 159.765782 204.602964 \nL 159.952337 202.045778 \nL 160.138891 205.952742 \nL 160.232169 205.857446 \nL 160.418723 208.064184 \nL 160.512 207.024989 \nL 160.605277 207.611433 \nL 160.698555 210.330266 \nL 160.791832 209.832338 \nL 160.978386 205.477441 \nL 161.164941 192.127423 \nL 161.631327 127.18077 \nL 162.5641 60.808988 \nL 162.657377 77.063322 \nL 162.843931 42.277417 \nL 162.937209 40.249546 \nL 163.030486 41.866751 \nL 163.123763 40.038508 \nL 163.310317 47.676521 \nL 163.496872 34.0341 \nL 163.590149 82.86511 \nL 163.683426 82.657117 \nL 163.776704 54.596515 \nL 163.869981 95.184002 \nL 163.963258 88.100787 \nL 164.056535 95.106428 \nL 164.149813 75.844454 \nL 164.24309 77.805533 \nL 164.429644 94.176871 \nL 164.616199 122.335846 \nL 164.709476 123.298306 \nL 165.642248 176.393548 \nL 166.015357 183.945767 \nL 166.295189 186.171185 \nL 166.481744 188.867674 \nL 166.668298 208.864786 \nL 166.94813 205.846987 \nL 167.134684 205.585981 \nL 167.321239 205.534128 \nL 167.507793 206.015546 \nL 167.694348 206.20668 \nL 167.97418 207.859068 \nL 168.160734 207.83912 \nL 169.839724 206.307264 \nL 170.026279 198.985652 \nL 170.399388 172.883988 \nL 170.679219 143.378248 \nL 170.865774 123.072593 \nL 170.959051 93.111709 \nL 171.052328 93.76379 \nL 171.145606 94.106441 \nL 171.238883 90.821562 \nL 171.425437 42.928267 \nL 171.518715 49.312638 \nL 171.611992 46.269324 \nL 171.705269 49.679561 \nL 171.798546 65.024065 \nL 171.985101 34.249786 \nL 172.078378 47.571045 \nL 172.171655 46.737874 \nL 172.35821 27.103956 \nL 172.451487 26.897873 \nL 172.731319 81.246095 \nL 172.917873 66.667249 \nL 173.011151 69.31458 \nL 173.104428 70.374467 \nL 173.664091 108.820687 \nL 174.0372 156.526205 \nL 174.410309 180.926659 \nL 174.876695 195.047562 \nL 175.156527 188.516307 \nL 175.343082 189.585067 \nL 175.436359 189.049983 \nL 175.529636 189.299383 \nL 175.622913 189.971103 \nL 175.71619 189.696618 \nL 175.809468 192.751635 \nL 175.996022 203.290044 \nL 176.275854 204.286875 \nL 176.369131 203.218004 \nL 176.462408 203.415603 \nL 176.74224 204.896452 \nL 176.928795 205.773857 \nL 177.115349 205.027591 \nL 177.208626 205.069865 \nL 177.301904 204.936903 \nL 177.488458 204.125339 \nL 177.675013 204.783865 \nL 177.76829 204.779574 \nL 177.861567 204.961971 \nL 178.141399 204.633377 \nL 178.327953 206.382935 \nL 178.42123 206.013926 \nL 178.514508 206.34464 \nL 178.701062 208.055047 \nL 178.794339 206.583555 \nL 179.074171 194.715998 \nL 179.633835 147.364533 \nL 179.727112 148.942402 \nL 179.820389 151.616593 \nL 179.913666 146.915143 \nL 180.006944 133.784821 \nL 180.380053 163.63038 \nL 180.566607 142.535804 \nL 181.032993 28.047328 \nL 181.12627 36.702737 \nL 181.219548 30.425991 \nL 181.312825 66.763063 \nL 181.406102 56.750991 \nL 181.499379 67.779775 \nL 181.592657 60.948279 \nL 181.779211 62.802862 \nL 181.872488 73.199565 \nL 181.965766 71.442841 \nL 182.525429 113.800084 \nL 183.085092 162.804835 \nL 183.458201 187.634312 \nL 183.644756 192.004072 \nL 183.738033 190.117139 \nL 183.924588 192.61942 \nL 184.017865 193.702593 \nL 184.111142 193.563675 \nL 184.204419 192.490452 \nL 184.484251 201.85136 \nL 184.577528 202.139623 \nL 184.670806 201.740479 \nL 184.764083 201.779376 \nL 184.85736 202.44168 \nL 184.950637 201.453412 \nL 185.043915 201.885641 \nL 185.137192 200.856356 \nL 185.230469 200.891554 \nL 185.417024 202.72902 \nL 185.790132 196.091532 \nL 186.163241 199.363959 \nL 186.256519 200.051595 \nL 186.349796 202.2795 \nL 186.443073 202.170181 \nL 186.53635 202.864383 \nL 186.722905 202.026234 \nL 186.816182 203.880671 \nL 186.909459 203.793699 \nL 187.002737 203.613533 \nL 187.096014 204.146666 \nL 187.189291 203.839349 \nL 187.375846 205.267583 \nL 187.748955 201.877371 \nL 188.495172 169.222419 \nL 188.775004 111.324841 \nL 188.961559 113.553686 \nL 189.054836 114.158056 \nL 189.148113 116.176706 \nL 189.24139 114.991818 \nL 189.334668 70.638789 \nL 189.427945 71.863623 \nL 189.521222 93.579442 \nL 189.614499 92.873338 \nL 189.707777 89.023578 \nL 189.801054 76.208314 \nL 189.894331 83.335607 \nL 189.987608 76.648704 \nL 190.080886 87.447569 \nL 190.26744 47.289552 \nL 190.453995 89.971489 \nL 190.547272 116.242604 \nL 190.640549 59.844243 \nL 190.733826 61.924492 \nL 190.920381 143.280306 \nL 191.106935 164.919959 \nL 191.29349 150.480839 \nL 191.386767 149.723212 \nL 191.666599 161.063243 \nL 191.759876 160.91331 \nL 191.853153 161.35859 \nL 192.039708 168.300967 \nL 192.599371 191.407516 \nL 193.065757 198.431446 \nL 193.159034 198.228052 \nL 193.345589 197.913685 \nL 193.811975 201.24861 \nL 193.99853 198.379874 \nL 194.464916 205.578481 \nL 194.744748 206.644136 \nL 194.838025 205.902901 \nL 194.931302 206.161667 \nL 195.117857 207.247361 \nL 195.211134 206.716366 \nL 195.397688 206.926817 \nL 195.490966 208.620511 \nL 195.584243 208.471251 \nL 195.770797 208.885538 \nL 195.864074 207.301689 \nL 195.957352 207.75858 \nL 196.050629 207.688336 \nL 196.237183 209.985806 \nL 196.423738 208.536362 \nL 196.517015 209.164164 \nL 196.70357 203.846466 \nL 196.983401 193.080935 \nL 197.076679 186.510342 \nL 197.543065 120.920523 \nL 197.636342 119.693358 \nL 197.729619 102.313855 \nL 197.822897 114.012937 \nL 197.916174 109.556856 \nL 198.009451 110.824743 \nL 198.289283 62.633625 \nL 198.475837 46.057178 \nL 198.848946 112.276468 \nL 199.035501 82.520556 \nL 199.222055 123.729263 \nL 199.315332 77.880807 \nL 199.40861 137.693601 \nL 199.501887 113.721558 \nL 199.595164 123.366072 \nL 199.688441 178.200547 \nL 199.781719 153.745384 \nL 199.874996 154.243657 \nL 200.341382 171.715901 \nL 200.527937 167.048462 \nL 200.621214 168.808089 \nL 200.994323 181.984433 \nL 201.180877 186.621001 \nL 201.367432 192.800977 \nL 202.11365 202.443361 \nL 202.206927 202.173014 \nL 202.300204 202.840434 \nL 202.393481 202.561876 \nL 202.486759 203.111034 \nL 202.673313 205.382154 \nL 203.232976 206.913252 \nL 203.419531 205.4196 \nL 203.606085 207.000913 \nL 203.699363 206.410247 \nL 203.979194 207.238114 \nL 204.259026 209.059579 \nL 204.352303 208.05727 \nL 204.538858 209.48816 \nL 204.725412 207.717986 \nL 204.911967 208.11204 \nL 205.191799 205.458031 \nL 205.47163 207.067763 \nL 205.564908 206.956408 \nL 205.844739 195.499005 \nL 206.124571 185.117195 \nL 206.311125 163.848933 \nL 206.49768 92.32619 \nL 206.684234 110.817921 \nL 206.964066 77.155182 \nL 207.057343 79.938671 \nL 207.243898 120.930355 \nL 207.430452 97.724175 \nL 207.52373 104.830932 \nL 207.710284 124.079778 \nL 207.803561 123.121885 \nL 207.896839 101.807843 \nL 207.990116 106.263983 \nL 208.17667 89.067377 \nL 208.269947 85.790522 \nL 208.363225 100.112954 \nL 208.456502 84.673032 \nL 208.643056 124.390128 \nL 208.736334 126.003971 \nL 208.829611 102.309961 \nL 209.109443 138.826939 \nL 209.295997 130.841601 \nL 209.389274 132.560852 \nL 209.669106 166.428287 \nL 210.042215 188.323534 \nL 210.322047 193.975458 \nL 211.161542 205.307151 \nL 211.348096 205.370142 \nL 211.441374 205.656784 \nL 211.814483 201.486074 \nL 211.90776 202.737409 \nL 212.001037 201.520425 \nL 212.094314 201.698137 \nL 212.187592 202.110295 \nL 212.467423 205.091294 \nL 212.560701 204.745852 \nL 212.747255 199.81754 \nL 213.027087 201.972802 \nL 213.120364 202.865316 \nL 213.213641 202.366932 \nL 213.306918 201.167974 \nL 213.400196 201.565311 \nL 213.58675 204.850412 \nL 213.680027 205.118765 \nL 213.959859 203.350542 \nL 214.053136 201.97824 \nL 214.146414 202.657868 \nL 214.239691 202.110702 \nL 214.332968 202.792601 \nL 214.519523 205.576886 \nL 214.6128 204.097148 \nL 214.892632 189.718862 \nL 215.452295 145.254152 \nL 215.545572 146.512748 \nL 215.732127 134.83793 \nL 215.918681 139.00658 \nL 216.011958 138.422314 \nL 216.105236 137.472317 \nL 216.385067 90.488758 \nL 216.478345 97.776951 \nL 216.571622 99.541366 \nL 216.664899 61.9692 \nL 216.851454 91.016097 \nL 217.038008 75.930511 \nL 217.131285 75.042545 \nL 217.411117 95.953221 \nL 217.597672 79.292176 \nL 217.784226 102.471812 \nL 217.970781 78.543433 \nL 218.437167 155.719477 \nL 218.530444 156.150799 \nL 218.623721 137.584046 \nL 218.99683 180.871762 \nL 219.276662 196.214934 \nL 219.556494 200.797632 \nL 219.649771 201.225188 \nL 219.836325 200.543286 \nL 220.02288 202.662287 \nL 220.209434 202.830595 \nL 220.395989 203.983883 \nL 220.489266 203.331174 \nL 220.67582 200.830429 \nL 220.769098 201.07468 \nL 221.142207 198.152242 \nL 221.235484 199.708894 \nL 221.328761 198.297685 \nL 221.422038 198.347738 \nL 221.70187 203.74166 \nL 221.795147 204.299902 \nL 221.888425 202.827548 \nL 221.981702 198.906034 \nL 222.168256 202.496612 \nL 222.354811 207.380994 \nL 222.448088 207.44468 \nL 222.634643 210.436419 \nL 222.914474 210.03848 \nL 223.287583 206.117722 \nL 223.474138 204.789051 \nL 223.567415 204.73528 \nL 223.753969 199.371613 \nL 223.940524 185.7989 \nL 224.40691 122.412391 \nL 224.500187 129.456122 \nL 224.686742 112.895269 \nL 224.780019 114.677277 \nL 224.873296 113.692553 \nL 224.966574 102.556204 \nL 225.059851 108.72864 \nL 225.43296 65.268741 \nL 225.526237 86.058952 \nL 225.712791 65.105449 \nL 225.806069 66.554588 \nL 225.899346 70.810982 \nL 225.992623 92.792098 \nL 226.179178 49.336357 \nL 226.365732 82.297506 \nL 226.459009 83.76939 \nL 226.552287 113.380801 \nL 226.645564 108.442166 \nL 226.738841 101.95729 \nL 226.832118 81.740026 \nL 227.018673 103.257644 \nL 227.11195 96.472841 \nL 228.138 190.733165 \nL 228.417831 199.783855 \nL 228.511109 200.119787 \nL 228.604386 199.424032 \nL 228.79094 201.848849 \nL 228.884218 201.802698 \nL 228.977495 201.987665 \nL 229.257327 203.78656 \nL 229.723713 207.199658 \nL 229.910267 209.250772 \nL 230.003545 209.164314 \nL 230.283376 207.111657 \nL 230.376654 206.942054 \nL 230.84304 210.515248 \nL 231.029594 209.102725 \nL 231.122871 209.074153 \nL 231.309426 208.237139 \nL 231.49598 209.116834 \nL 231.682535 208.286088 \nL 231.869089 209.683926 \nL 231.962367 210.009491 \nL 232.055644 209.961628 \nL 232.148921 209.528601 \nL 232.242198 207.732391 \nL 232.335476 208.037757 \nL 232.428753 208.45744 \nL 232.52203 207.886868 \nL 232.615307 205.90799 \nL 233.268248 159.703064 \nL 233.54808 105.026129 \nL 233.641357 110.154473 \nL 233.734634 90.271784 \nL 233.827911 99.654585 \nL 233.921189 98.191139 \nL 234.014466 86.965998 \nL 234.107743 99.571218 \nL 234.20102 62.376393 \nL 234.294298 90.873134 \nL 234.574129 37.051622 \nL 234.853961 176.585759 \nL 234.947238 177.524806 \nL 235.320347 58.456501 \nL 235.413625 50.618415 \nL 235.600179 83.533496 \nL 235.693456 70.032206 \nL 235.786733 74.677249 \nL 235.973288 131.698746 \nL 236.159842 105.352469 \nL 237.372447 196.589153 \nL 237.652278 200.290405 \nL 237.93211 202.648086 \nL 238.118665 204.255731 \nL 238.678328 207.965148 \nL 238.771605 208.662658 \nL 239.051437 207.860129 \nL 239.144714 208.438208 \nL 239.237991 208.085571 \nL 239.517823 209.036537 \nL 239.6111 208.419765 \nL 239.704378 208.74119 \nL 239.797655 209.66376 \nL 239.984209 208.955739 \nL 240.077487 209.290026 \nL 240.357318 210.951244 \nL 240.450596 210.02282 \nL 240.543873 210.184125 \nL 240.730427 211.425316 \nL 240.823704 211.069387 \nL 241.196813 214.756364 \nL 241.290091 214.33149 \nL 241.383368 214.28248 \nL 241.6632 202.643777 \nL 242.409418 111.84888 \nL 242.595972 137.419999 \nL 242.969081 67.231296 \nL 243.062358 96.992043 \nL 243.34219 63.428697 \nL 243.528744 110.385931 \nL 243.622022 110.122546 \nL 243.715299 69.326779 \nL 243.808576 88.221144 \nL 243.995131 58.864002 \nL 244.181685 162.216533 \nL 244.274962 96.23216 \nL 244.36824 108.421611 \nL 244.461517 81.737718 \nL 244.554794 90.175903 \nL 244.741349 179.374504 \nL 244.927903 147.169478 \nL 245.207735 168.146838 \nL 245.487567 180.672219 \nL 245.767398 189.406887 \nL 246.793448 206.442979 \nL 246.886725 206.393218 \nL 247.166557 204.882293 \nL 247.259834 205.066955 \nL 247.446389 206.204398 \nL 247.539666 206.246968 \nL 247.72622 205.850986 \nL 247.912775 206.383707 \nL 248.099329 205.76299 \nL 248.285884 204.838874 \nL 248.472438 203.794038 \nL 248.658993 203.631866 \nL 248.75227 203.989075 \nL 248.938824 205.376139 \nL 249.218656 205.511842 \nL 249.311933 205.729361 \nL 249.498488 206.608021 \nL 249.77832 205.191384 \nL 249.871597 205.305581 \nL 250.058151 204.222815 \nL 250.244706 202.887287 \nL 250.337983 203.065699 \nL 250.43126 202.315513 \nL 250.524538 200.385339 \nL 251.177478 162.728984 \nL 251.270755 163.50177 \nL 251.364033 157.137742 \nL 251.550587 113.828843 \nL 251.643864 115.102822 \nL 251.737142 130.578744 \nL 251.923696 124.30516 \nL 252.296805 47.429828 \nL 252.390082 52.003795 \nL 252.48336 67.214973 \nL 252.669914 40.259394 \nL 252.763191 43.756341 \nL 253.043023 54.445393 \nL 253.1363 57.578876 \nL 253.322855 90.065963 \nL 253.416132 73.105663 \nL 253.602686 112.376303 \nL 253.789241 100.759605 \nL 253.882518 102.255318 \nL 253.975795 97.624376 \nL 254.255627 127.166805 \nL 255.001845 189.059578 \nL 255.281677 196.198671 \nL 255.561509 198.580508 \nL 255.654786 198.477732 \nL 255.84134 197.782376 \nL 255.934617 197.227101 \nL 256.494281 202.207856 \nL 256.680835 200.534404 \nL 256.960667 197.614393 \nL 257.053944 197.754578 \nL 257.240499 199.427909 \nL 257.520331 204.057538 \nL 257.706885 201.775644 \nL 257.800162 201.705697 \nL 258.079994 202.566406 \nL 258.173271 202.242986 \nL 258.826212 204.986514 \nL 259.012766 206.090939 \nL 259.106044 206.304427 \nL 259.199321 206.151682 \nL 259.292598 205.636317 \nL 259.479153 200.113068 \nL 259.665707 193.606288 \nL 260.225371 149.031903 \nL 260.411925 117.560078 \nL 260.505202 113.475451 \nL 260.691757 70.350441 \nL 260.785034 66.57919 \nL 260.878311 68.258658 \nL 261.064866 79.241859 \nL 261.158143 72.646487 \nL 261.624529 96.810648 \nL 261.811084 88.049492 \nL 261.904361 88.214304 \nL 261.997638 66.17572 \nL 262.090915 89.787007 \nL 262.27747 66.412166 \nL 262.370747 77.069915 \nL 262.464024 67.267522 \nL 262.557302 71.793208 \nL 263.210242 143.481721 \nL 263.303519 129.707177 \nL 263.396797 134.775529 \nL 263.583351 159.30963 \nL 263.769906 171.475451 \nL 264.143015 190.877726 \nL 264.609401 201.759093 \nL 264.795955 204.463536 \nL 264.98251 203.458259 \nL 265.169064 205.844144 \nL 265.355619 204.626005 \nL 265.542173 202.698995 \nL 266.195114 210.152186 \nL 266.474946 208.661232 \nL 266.568223 208.751845 \nL 266.754777 211.227258 \nL 266.848055 211.065491 \nL 267.034609 209.308037 \nL 267.127886 209.577526 \nL 267.221164 209.427103 \nL 267.314441 209.79238 \nL 267.407718 210.697857 \nL 267.68755 207.5357 \nL 267.780827 207.866084 \nL 267.874104 207.596086 \nL 267.967382 208.284272 \nL 268.153936 211.499954 \nL 268.34049 207.605978 \nL 268.527045 200.617968 \nL 268.993431 151.530348 \nL 269.179986 119.293459 \nL 269.646372 85.78645 \nL 269.739649 120.871623 \nL 270.206035 49.253626 \nL 270.299313 89.13418 \nL 270.39259 54.791828 \nL 270.579144 75.381166 \nL 270.672422 87.108752 \nL 270.952253 41.012452 \nL 271.325362 112.940467 \nL 271.418639 95.301676 \nL 271.511917 103.002187 \nL 271.605194 90.860069 \nL 271.698471 103.395401 \nL 271.791748 102.796245 \nL 271.978303 112.851198 \nL 273.004353 188.378101 \nL 273.190907 194.052167 \nL 273.75057 198.815064 \nL 273.937125 200.345721 \nL 274.216957 202.956964 \nL 274.403511 204.253746 \nL 274.590066 204.955379 \nL 275.056452 203.56717 \nL 275.149729 203.429878 \nL 275.243006 202.944782 \nL 275.616115 204.870477 \nL 275.80267 204.399892 \nL 275.895947 203.954869 \nL 275.989224 204.092278 \nL 276.362333 207.245027 \nL 276.548888 207.799038 \nL 276.735442 207.626737 \nL 276.921997 208.52452 \nL 277.108551 210.328823 \nL 277.201828 209.812283 \nL 277.388383 203.916948 \nL 277.668215 181.852674 \nL 277.948046 142.44441 \nL 278.134601 153.266351 \nL 278.321155 115.773498 \nL 278.414432 116.795681 \nL 278.50771 109.372075 \nL 278.600987 115.737859 \nL 278.694264 137.582678 \nL 278.787541 130.831887 \nL 278.880819 113.649416 \nL 279.067373 128.513801 \nL 279.16065 125.27474 \nL 279.253928 93.557037 \nL 279.347205 100.391029 \nL 279.533759 64.228231 \nL 279.627037 66.352329 \nL 279.720314 62.350621 \nL 279.906868 95.259002 \nL 280.093423 76.26196 \nL 280.1867 98.405677 \nL 280.279977 87.909234 \nL 280.373255 89.605085 \nL 280.559809 192.448347 \nL 281.119472 142.913568 \nL 281.306027 163.256951 \nL 281.399304 162.379588 \nL 281.958968 190.226916 \nL 282.425354 196.42856 \nL 282.705186 201.563386 \nL 282.985017 202.422465 \nL 283.264849 205.048452 \nL 283.451403 203.430382 \nL 283.544681 203.498895 \nL 283.637958 203.107514 \nL 284.011067 199.351064 \nL 284.197621 201.478183 \nL 284.290899 201.294932 \nL 284.477453 203.2794 \nL 284.757285 204.196626 \nL 285.223671 208.674976 \nL 285.410226 208.381919 \nL 285.503503 208.394263 \nL 285.59678 209.108087 \nL 285.690057 208.963876 \nL 285.876612 205.823563 \nL 285.969889 205.795516 \nL 286.249721 204.184393 \nL 286.436275 199.57124 \nL 286.809384 183.615127 \nL 287.089216 167.528495 \nL 288.021988 129.380637 \nL 288.30182 114.729179 \nL 288.395097 108.699039 \nL 288.488374 109.140975 \nL 288.581652 113.102039 \nL 288.674929 124.87055 \nL 288.861483 120.501433 \nL 289.048038 133.105705 \nL 289.32787 96.895696 \nL 289.514424 119.355711 \nL 289.607701 119.999317 \nL 289.887533 133.630794 \nL 290.260642 176.68791 \nL 290.353919 171.206055 \nL 291.100137 195.097139 \nL 291.286692 196.320367 \nL 291.566523 195.185471 \nL 291.846355 197.153473 \nL 291.939632 197.530524 \nL 292.219464 197.13094 \nL 292.406019 197.824243 \nL 292.592573 200.247905 \nL 292.872405 204.799629 \nL 292.965682 204.213262 \nL 293.058959 202.255068 \nL 293.432068 204.957339 \nL 293.525345 204.680894 \nL 293.618623 205.159199 \nL 293.805177 208.522704 \nL 293.898454 209.625534 \nL 293.991732 209.536059 \nL 294.271563 200.932623 \nL 294.551395 209.346247 \nL 294.73795 206.73956 \nL 294.831227 206.894868 \nL 295.017781 207.781486 \nL 295.297613 203.208511 \nL 295.670722 192.533066 \nL 295.763999 191.75457 \nL 296.137108 173.803769 \nL 296.41694 144.453846 \nL 296.696772 132.837539 \nL 296.790049 134.508276 \nL 296.883326 130.533172 \nL 296.976603 140.607477 \nL 297.069881 136.136453 \nL 297.349712 93.759125 \nL 297.629544 119.68702 \nL 297.722821 114.240009 \nL 297.816099 112.981292 \nL 297.909376 114.316767 \nL 298.09593 100.693409 \nL 298.469039 130.581554 \nL 298.655594 137.728885 \nL 298.748871 137.516609 \nL 298.935425 159.102682 \nL 299.12198 161.755418 \nL 299.308534 170.228222 \nL 299.401812 169.743768 \nL 299.495089 169.794109 \nL 299.868198 188.997223 \nL 300.427861 200.361093 \nL 300.614416 202.475776 \nL 300.80097 202.622568 \nL 300.987525 203.175925 \nL 301.174079 202.936256 \nL 301.267356 202.143058 \nL 301.360634 202.572175 \nL 301.733743 209.752796 \nL 301.82702 209.681186 \nL 302.013574 208.825228 \nL 302.106852 208.840328 \nL 302.200129 207.890118 \nL 302.479961 209.052941 \nL 302.573238 207.325545 \nL 302.666515 208.5639 \nL 302.946347 207.415886 \nL 303.132901 207.64798 \nL 303.226179 207.46795 \nL 303.785842 209.652241 \nL 304.065674 213.291229 \nL 304.158951 212.302356 \nL 304.345505 205.671418 \nL 304.718614 154.341498 \nL 305.091723 117.110753 \nL 305.185001 110.143106 \nL 305.278278 110.809354 \nL 305.55811 96.717235 \nL 305.651387 98.883752 \nL 305.837941 79.827479 \nL 305.931218 83.594621 \nL 306.117773 65.423057 \nL 306.21105 61.348127 \nL 306.304327 62.824157 \nL 306.397605 66.788149 \nL 306.490882 75.569416 \nL 306.584159 74.548231 \nL 306.677436 69.553741 \nL 306.770714 122.778272 \nL 306.863991 110.00535 \nL 306.957268 126.76902 \nL 307.143823 89.283226 \nL 307.330377 97.085032 \nL 307.423654 90.466329 \nL 307.610209 97.586665 \nL 307.796763 122.164962 \nL 308.356427 171.784228 \nL 308.91609 199.306611 \nL 309.009367 198.878267 \nL 309.102645 197.612119 \nL 309.195922 197.726809 \nL 309.289199 198.747654 \nL 309.475754 195.844525 \nL 309.848863 204.471018 \nL 309.94214 204.645169 \nL 310.315249 207.725103 \nL 310.408526 207.717867 \nL 310.501803 205.622638 \nL 310.595081 206.950207 \nL 310.781635 201.641239 \nL 310.874912 203.614187 \nL 310.968189 203.49355 \nL 311.061467 203.753129 \nL 311.154744 205.265072 \nL 311.248021 205.096317 \nL 311.434576 199.848253 \nL 311.527853 199.481551 \nL 311.62113 199.639142 \nL 311.807685 203.835683 \nL 311.900962 203.197076 \nL 312.087516 206.261315 \nL 312.274071 204.403879 \nL 312.367348 204.534425 \nL 312.553903 205.515804 \nL 312.740457 201.50444 \nL 312.833734 202.13069 \nL 313.113566 198.880329 \nL 313.30012 190.382692 \nL 313.766507 158.49933 \nL 313.859784 172.039677 \nL 313.953061 166.542888 \nL 314.32617 118.399358 \nL 314.512725 109.948305 \nL 314.699279 128.0775 \nL 314.885834 93.268783 \nL 314.979111 107.137476 \nL 315.072388 98.455052 \nL 315.258943 132.712547 \nL 315.445497 141.890765 \nL 315.538774 135.460157 \nL 315.632052 145.369037 \nL 315.818606 98.729734 \nL 315.911883 90.412365 \nL 316.00516 42.768354 \nL 316.098438 46.060165 \nL 316.378269 115.995844 \nL 316.471547 90.489361 \nL 316.844656 140.679963 \nL 317.124487 168.861265 \nL 317.311042 173.659954 \nL 317.590874 187.306871 \nL 317.777428 190.019234 \nL 318.05726 195.445993 \nL 318.150537 195.502815 \nL 318.430369 196.914083 \nL 318.523646 196.133197 \nL 318.7102 193.300319 \nL 318.896755 197.193854 \nL 318.990032 198.666975 \nL 319.083309 196.805129 \nL 319.363141 202.198541 \nL 319.456418 200.870743 \nL 319.549696 196.763173 \nL 319.642973 196.79505 \nL 319.73625 195.7702 \nL 320.016082 198.1997 \nL 320.202636 196.856751 \nL 320.389191 201.988786 \nL 320.482468 202.123801 \nL 320.669023 203.793724 \nL 320.7623 203.304969 \nL 320.855577 203.771649 \nL 321.135409 200.302157 \nL 321.228686 200.665476 \nL 321.508518 206.106006 \nL 321.788349 207.724002 \nL 322.068181 203.496996 \nL 322.627845 165.824189 \nL 322.907676 112.786513 \nL 323.094231 114.036257 \nL 323.187508 106.872248 \nL 323.280785 109.967843 \nL 323.374062 102.979986 \nL 323.46734 107.548372 \nL 323.653894 81.470257 \nL 323.747171 98.368222 \nL 323.840449 79.190195 \nL 324.027003 99.73653 \nL 324.12028 104.928236 \nL 324.213558 103.99059 \nL 324.306835 106.157982 \nL 324.400112 124.636402 \nL 324.493389 117.991773 \nL 324.679944 100.65838 \nL 324.866498 145.480434 \nL 324.959776 148.628653 \nL 325.053053 145.533051 \nL 325.14633 108.728191 \nL 325.239607 109.666404 \nL 325.519439 130.233148 \nL 325.612716 122.289644 \nL 325.799271 158.655598 \nL 325.985825 149.2496 \nL 326.079102 150.081421 \nL 326.452211 175.234107 \nL 326.732043 186.011143 \nL 326.918598 202.104425 \nL 327.198429 196.624589 \nL 327.291707 196.774081 \nL 327.664816 202.423509 \nL 327.758093 202.194927 \nL 327.944647 202.626394 \nL 328.224479 194.995857 \nL 328.317756 195.045076 \nL 328.504311 194.170624 \nL 328.597588 194.278797 \nL 328.784142 200.009415 \nL 329.063974 204.09523 \nL 329.157251 203.323248 \nL 329.343806 200.398142 \nL 329.437083 200.397793 \nL 329.623638 199.251816 \nL 329.996747 202.875216 \nL 330.090024 202.574635 \nL 330.369856 199.692995 \nL 330.55641 198.129015 \nL 330.836242 200.869411 \nL 331.022796 198.448948 \nL 331.116073 196.785116 \nL 331.862291 144.685617 \nL 331.955569 134.087381 \nL 332.048846 135.99649 \nL 332.2354 124.811299 \nL 332.515232 83.729924 \nL 332.701787 98.96852 \nL 332.795064 68.351475 \nL 333.168173 129.923611 \nL 333.26145 135.956202 \nL 333.448004 98.402233 \nL 333.634559 119.236161 \nL 333.727836 100.614298 \nL 333.821113 117.561181 \nL 333.914391 111.039149 \nL 334.007668 128.66671 \nL 334.194222 90.496298 \nL 334.380777 137.453586 \nL 334.567331 127.85926 \nL 335.500104 185.737301 \nL 335.779936 194.096664 \nL 335.873213 192.510957 \nL 335.96649 194.205881 \nL 336.153044 200.103795 \nL 336.432876 201.739207 \nL 336.526153 201.634921 \nL 336.619431 199.602221 \nL 337.085817 204.763133 \nL 337.272371 200.303354 \nL 337.365649 201.471927 \nL 337.458926 202.145621 \nL 337.552203 201.929154 \nL 337.64548 200.890138 \nL 337.832035 201.955487 \nL 338.018589 200.863974 \nL 338.298421 202.430881 \nL 338.484975 201.51212 \nL 338.764807 196.599843 \nL 338.858084 196.633158 \nL 339.231193 199.011637 \nL 339.417748 201.130162 \nL 339.511025 201.08307 \nL 339.604302 199.756911 \nL 339.69758 200.308639 \nL 339.884134 204.502116 \nL 339.977411 203.570496 \nL 340.35052 182.76459 \nL 340.630352 160.780537 \nL 340.723629 158.610109 \nL 340.816906 153.493727 \nL 340.910184 155.887433 \nL 341.190015 133.522655 \nL 341.283293 135.03844 \nL 341.37657 133.54193 \nL 341.656402 118.952775 \nL 341.749679 135.71151 \nL 341.842956 114.08542 \nL 341.936233 115.5712 \nL 342.216065 66.171783 \nL 342.40262 90.917307 \nL 342.589174 112.849772 \nL 342.775729 102.542004 \nL 342.962283 126.091539 \nL 343.148838 102.961942 \nL 343.521946 192.256814 \nL 343.615224 186.208555 \nL 343.801778 167.500654 \nL 343.988333 184.016323 \nL 344.174887 178.386862 \nL 344.734551 196.897192 \nL 344.827828 195.506421 \nL 344.921105 195.670196 \nL 345.200937 203.729995 \nL 345.574046 200.48397 \nL 345.7606 198.137159 \nL 345.947155 204.853577 \nL 346.133709 200.829242 \nL 346.226986 201.210171 \nL 346.320264 204.044884 \nL 346.413541 203.937504 \nL 346.506818 205.217607 \nL 346.506818 205.217607 \n\" style=\"fill:none;stroke:#8dd3c7;stroke-linecap:round;stroke-width:1.5;\"/>\n   </g>\n   <g id=\"patch_3\">\n    <path d=\"M 26.925 224.64 \nL 26.925 7.2 \n\" style=\"fill:none;stroke:#262626;stroke-linecap:square;stroke-linejoin:miter;stroke-width:2;\"/>\n   </g>\n   <g id=\"patch_4\">\n    <path d=\"M 361.725 224.64 \nL 361.725 7.2 \n\" style=\"fill:none;stroke:#262626;stroke-linecap:square;stroke-linejoin:miter;stroke-width:2;\"/>\n   </g>\n   <g id=\"patch_5\">\n    <path d=\"M 26.925 224.64 \nL 361.725 224.64 \n\" style=\"fill:none;stroke:#262626;stroke-linecap:square;stroke-linejoin:miter;stroke-width:2;\"/>\n   </g>\n   <g id=\"patch_6\">\n    <path d=\"M 26.925 7.2 \nL 361.725 7.2 \n\" style=\"fill:none;stroke:#262626;stroke-linecap:square;stroke-linejoin:miter;stroke-width:2;\"/>\n   </g>\n  </g>\n </g>\n <defs>\n  <clipPath id=\"p94346c0246\">\n   <rect height=\"217.44\" width=\"334.8\" x=\"26.925\" y=\"7.2\"/>\n  </clipPath>\n </defs>\n</svg>\n",
      "image/png": "[encoded data removed]"
     },
     "metadata": {}
    }
   ],
   "source": [
    "#fig, ax =plt.subplot(figsize=(10,,10))\n",
    "pd."
   ]
  },
  {
   "cell_type": "code",
   "execution_count": null,
   "metadata": {},
   "outputs": [],
   "source": []
  },
  {
   "cell_type": "code",
   "execution_count": null,
   "metadata": {},
   "outputs": [],
   "source": []
  },
  {
   "cell_type": "code",
   "execution_count": null,
   "metadata": {},
   "outputs": [],
   "source": []
  },
  {
   "cell_type": "code",
   "execution_count": null,
   "metadata": {},
   "outputs": [],
   "source": []
  },
  {
   "cell_type": "code",
   "execution_count": null,
   "metadata": {},
   "outputs": [],
   "source": []
  },
  {
   "cell_type": "code",
   "execution_count": null,
   "metadata": {},
   "outputs": [],
   "source": []
  },
  {
   "cell_type": "code",
   "execution_count": null,
   "metadata": {},
   "outputs": [],
   "source": []
  },
  {
   "cell_type": "markdown",
   "metadata": {
    "pycharm": {
     "name": "#%% md\n"
    }
   },
   "source": [
    "### Question 2: How many unique inverters are there for each plant? How much energy does each inverter convert(DC to AC) during a period of 34 days?\n",
    "\n",
    "**STEPS**  \n",
    "\n",
    "1. Get and save the list of unique inverters using `pd.dataframe.unique` for each plant\n",
    "    * I will be storing this in NumPy arrays. NumPy is a high performace library for numerical computing and analysis. \n",
    "2. Count the number of inverters.\n",
    "3. For every inverter in the list, do final yeild-initial yeild to find the change in the yeild.\n"
   ]
  },
  {
   "cell_type": "code",
   "execution_count": null,
   "metadata": {
    "id": "GAdrhcUDi-Uq",
    "pycharm": {
     "name": "#%%\n"
    }
   },
   "outputs": [
    {
     "name": "stdout",
     "output_type": "stream",
     "text": [
      "Inverters at plant 1:\n",
      "['1BY6WEcLGh8j5v7' '1IF53ai7Xc0U56Y' '3PZuoBAID5Wc2HD' '7JYdWkrLSPkdwr4'\n",
      " 'McdE0feGgRqW7Ca' 'VHMLBKoKgIrUVDU' 'WRmjgnKYAwPKWDb' 'ZnxXDlPa8U1GXgE'\n",
      " 'ZoEaEvLYb1n2sOq' 'adLQvlD726eNBSB' 'bvBOhCH3iADSZry' 'iCRJl6heRkivqQ3'\n",
      " 'ih0vzX44oOqAx2f' 'pkci93gMrogZuBj' 'rGa61gmuvPhdLxV' 'sjndEbLyjtCKgGv'\n",
      " 'uHbuxQJl8lW7ozc' 'wCURE6d3bPkepu2' 'z9Y9gH1T5YWrNuG' 'zBIq5rxdHJRwDNY'\n",
      " 'zVJPv84UY57bAof' 'YxYtjZvoooNbGkE']\n"
     ]
    }
   ],
   "source": [
    "# Get the list of inverters at every plant.\n",
    "plant_1_inverters = plant1.generation_df.INVERTER_ID.unique()\n",
    "print(\"Inverters at plant 1:\\n{}\".format(plant_1_inverters))"
   ]
  },
  {
   "cell_type": "code",
   "execution_count": null,
   "metadata": {
    "id": "dyX4YlYui-Uq"
   },
   "outputs": [
    {
     "name": "stdout",
     "output_type": "stream",
     "text": [
      "# of inverters at Plant 1: 22\n"
     ]
    }
   ],
   "source": [
    "# Count the number of inverters\n",
    "plant_1_inverters_count=len(plant_1_inverters)\n",
    "print(\"# of inverters at Plant 1: {}\".format(plant_1_inverters_count))"
   ]
  },
  {
   "cell_type": "markdown",
   "metadata": {},
   "source": [
    "#### Get the Yeilds for each inverter at each plant.  \n",
    "**STEPS**  \n",
    "1. Get the minimum and maximum values of each inverter using `pd.groupby()`  \n",
    "2. Compute the delta and add it to the dataframe.  \n",
    "3. Create numerical aliases for each inverter.  \n"
   ]
  },
  {
   "cell_type": "code",
   "execution_count": null,
   "metadata": {},
   "outputs": [],
   "source": [
    "plant_1_yields=plant1.generation_df.groupby('INVERTER_ID')['TOTAL_YIELD'].agg(['max','min'])\n",
    "plant_1_yields['delta']=plant_1_yields['max']-plant_1_yields['min']\n",
    "alias = np.zeros(plant_1_yields.shape[0]).astype(int)\n",
    "for i in range(plant_1_yields.shape[0]):\n",
    "    alias[i] = i+1\n",
    "plant_1_yields['alias']=alias"
   ]
  },
  {
   "cell_type": "code",
   "execution_count": null,
   "metadata": {
    "id": "5v4qdwq0i-Uq",
    "tags": []
   },
   "outputs": [],
   "source": []
  },
  {
   "cell_type": "code",
   "execution_count": null,
   "metadata": {},
   "outputs": [
    {
     "data": {
      "text/plain": [
       "Text(0, 0.5, 'Inverters')"
      ]
     },
     "execution_count": 14,
     "metadata": {},
     "output_type": "execute_result"
    },
    {
     "data": {
      "image/png": "[encoded data removed]",
      "text/plain": [
       "<Figure size 720x720 with 1 Axes>"
      ]
     },
     "metadata": {},
     "output_type": "display_data"
    }
   ],
   "source": [
    "fig,ax=plt.subplots(figsize=(10,10))\n",
    "plt.hlines(y=plant_1_yields.alias,xmin=200000,xmax=plant_1_yields.delta,color='#007acc', alpha=0.2, linewidth=5,)\n",
    "plt.plot(plant_1_yields.delta,plant_1_yields.alias,\"o\", markersize=5, color='#007ACC', alpha=0.6)\n",
    "ax.set_xlabel(\"Energy Generated\",fontsize=15, fontweight='black', color = '#333F4B')\n",
    "ax.set_ylabel('Inverters', fontsize=15, fontweight='black', color = '#333F4B')"
   ]
  },
  {
   "cell_type": "code",
   "execution_count": null,
   "metadata": {},
   "outputs": [],
   "source": []
  },
  {
   "cell_type": "code",
   "execution_count": null,
   "metadata": {},
   "outputs": [],
   "source": []
  },
  {
   "cell_type": "code",
   "execution_count": null,
   "metadata": {
    "id": "e1FI8qE6i-Uq"
   },
   "outputs": [],
   "source": [
    "avg=0\n",
    "for i in plant_1_yields.delta:\n",
    "    avg+=i\n",
    "avg=avg/22\n"
   ]
  },
  {
   "cell_type": "code",
   "execution_count": null,
   "metadata": {
    "id": "yZzF_nc0i-Uq"
   },
   "outputs": [],
   "source": [
    "#commit()"
   ]
  },
  {
   "cell_type": "markdown",
   "metadata": {
    "id": "VkqoTN9fi-Uq"
   },
   "source": [
    "## Asking and Answering Questions\n",
    "\n",
    "**TODO**\n",
    "\n",
    "1.   [Can we identify faulty or suboptimally performing equipment during the time period?](https://www.kaggle.com/anikannal/solar-power-generation-data?select=Plant_2_Weather_Sensor_Data.csv)\n",
    "2.   [Can we identify the need for panel cleaning/maintenance during the time period?](https://www.kaggle.com/anikannal/solar-power-generation-data?select=Plant_2_Weather_Sensor_Data.csv)\n",
    "\n"
   ]
  },
  {
   "cell_type": "markdown",
   "metadata": {
    "id": "jJrnDiO-i-Uq",
    "pycharm": {
     "name": "#%% md\n"
    }
   },
   "source": [
    "### Can we identify faulty or suboptimally performing equipment during the time period?  \n",
    "\n",
    "**At Plant 1:**  \n",
    "1.\n",
    "There is a clear indication that two inverters (with the id: `1IF53ai7Xc0U56Y` and `ih0vzX44oOqAx2f` respectively) are likely undeperforming.\n",
    "Their total yields over the 34-day period are 16% and 17.5% respectivlely less than the average of the dataset."
   ]
  },
  {
   "cell_type": "code",
   "execution_count": null,
   "metadata": {
    "id": "a50z-ePii-Uq"
   },
   "outputs": [
    {
     "name": "stdout",
     "output_type": "stream",
     "text": [
      "Plant 1 Inverter 1BY6WEcLGh8j5v7 percent difference: -7.700878981727381 %\n",
      "Plant 1 Inverter iCRJl6heRkivqQ3 percent difference: -9.153886937516452 %\n"
     ]
    }
   ],
   "source": [
    "print(\"Plant 1 Inverter {} percent difference: {} %\".format(plant_1_inverters[0],(100*(plant_1_yields[\"delta\"][0]-avg)/avg)))\n",
    "print(\"Plant 1 Inverter {} percent difference: {} %\".format(plant_1_inverters[11],(100*(plant_1_yields[\"delta\"][11]-avg)/avg)))"
   ]
  },
  {
   "cell_type": "code",
   "execution_count": null,
   "metadata": {
    "id": "UYMPOlqZi-Uq"
   },
   "outputs": [],
   "source": []
  },
  {
   "cell_type": "code",
   "execution_count": null,
   "metadata": {
    "id": "G9RfCjR-i-Uq"
   },
   "outputs": [],
   "source": []
  },
  {
   "cell_type": "code",
   "execution_count": null,
   "metadata": {
    "id": "NNBwU4KMi-Uq"
   },
   "outputs": [],
   "source": []
  },
  {
   "cell_type": "code",
   "execution_count": null,
   "metadata": {
    "id": "oTxLLV5gi-Uq"
   },
   "outputs": [],
   "source": []
  },
  {
   "cell_type": "code",
   "execution_count": null,
   "metadata": {
    "id": "KJfeEG7Fi-Uq"
   },
   "outputs": [],
   "source": [
    "#commit()"
   ]
  },
  {
   "cell_type": "markdown",
   "metadata": {
    "id": "xj3srQ4Ri-Uq"
   },
   "source": [
    "## Inferences and Conclusion\n",
    "\n"
   ]
  },
  {
   "cell_type": "code",
   "execution_count": null,
   "metadata": {
    "id": "4js0mZx3i-Uq"
   },
   "outputs": [],
   "source": [
    "#commit()"
   ]
  },
  {
   "cell_type": "markdown",
   "metadata": {
    "id": "3x_zyDCFi-Ur"
   },
   "source": [
    "## References and Future Work\n",
    "\n"
   ]
  },
  {
   "cell_type": "markdown",
   "metadata": {
    "id": "NXUiVbbli-Ur"
   },
   "source": [
    "Firstly, I would like to thank [Aakash NS and the rest of the team](https://www.linkedin.com/company/jovianai) at [Jovian](https://jovian.ai) for creating both the Zero to Pandas and Zero To GANs courses in collaboration with FreeCodeCamp.  \n",
    "\n",
    "Major thanks to [Ani Kannal](https://www.kaggle.com/anikannal) on Kaggle for sharing this fantastic dataset with good descriptions.\n",
    "\n",
    "In addition, I would like to thank [Aero Engy on Stack Overflow](https://stackoverflow.com/users/1106634/aero-engy) for helping me with one of my questions. I would also like to thank (Carmine Minichini)[https://www.kaggle.com/virosky] for publishing [this](https://www.kaggle.com/virosky/how-to-manage-a-solar-power-plant) great analysis on Plant 1. \n",
    "\n",
    "In the future, I hope to use machine learning on this dataset to create a model that detects when the solar panels need to be cleaned and that predicts the solar power generation for the next couple of days.  "
   ]
  },
  {
   "cell_type": "code",
   "execution_count": null,
   "metadata": {
    "id": "ezzi4hrJi-Ur"
   },
   "outputs": [],
   "source": [
    "#commit()"
   ]
  }
 ],
 "metadata": {
  "kernelspec": {
   "display_name": "solar-india",
   "language": "python",
   "name": "solar-india"
  },
  "language_info": {
   "codemirror_mode": {
    "name": "ipython",
    "version": 3
   },
   "file_extension": ".py",
   "mimetype": "text/x-python",
   "name": "python",
   "nbconvert_exporter": "python",
   "pygments_lexer": "ipython3",
   "version": "3.8.5-final"
  }
 },
 "nbformat": 4,
 "nbformat_minor": 1
}