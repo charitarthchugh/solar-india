{
 "cells": [
  {
   "cell_type": "markdown",
   "metadata": {
    "id": "DqupkZYoi-Un"
   },
   "source": [
    "### Data Analysis with Python: Zero to Pandas - Course Project Guidelines\n",
    "#### (remove this cell before submission)\n",
    "\n",
    "Make submissions here:  https://jovian.ml/learn/data-analysis-with-python-zero-to-pandas/assignment/course-project\n",
    "\n",
    "This is the starter notebook for the course project for [Data Analysis with Python: Zero to Pandas](https://jovian.ml/learn/data-analysis-with-python-zero-to-pandas). For the course project, you will pick a real-world dataset of your choice and apply the concepts learned in this course to perform exploratory data analysis. Use this starter notebook as an outline for your project (you can also start with an empty new notebook). Focus on the documentation and presentation - this Jupyter notebook will also serve as a project report, so make sure to include detailed explanations wherever possible using Markdown cells.\n",
    "\n",
    "#### Step 1: Select a real-world dataset \n",
    "\n",
    "- Find and download an interesting real-world dataset (see the Recommended Datasets section below for ideas). \n",
    "\n",
    "- The dataset should contain tabular data (rows & columns), preferably in CSV/JSON/XLS or other formats that can be read using Pandas. If it's not in a compatible format, you may have to write some code to convert it to a desired format.\n",
    "- The dataset should contain at least 3 columns and 150 rows of data. You can also combine data from multiple sources to create a large enough dataset.\n",
    "\n",
    "\n",
    "#### Step 2: Perform data preparation & cleaning\n",
    "\n",
    "- Load the dataset into a data frame using Pandas\n",
    "- Explore the number of rows & columns, ranges of values etc.\n",
    "- Handle missing, incorrect and invalid data\n",
    "- Perform any additional steps (parsing dates, creating additional columns, merging multiple dataset etc.)\n",
    "\n",
    "\n",
    "#### Step 3: Perform exploratory Analysis & Visualization\n",
    "\n",
    "- Compute the mean, sum, range and other interesting statistics for numeric columns\n",
    "- Explore distributions of numeric columns using histograms etc.\n",
    "- Explore relationship between columns using scatter plots, bar charts etc.\n",
    "- Make a note of interesting insights from the exploratory analysis\n",
    "\n",
    "#### Step 4: Ask & answer questions about the data\n",
    "\n",
    "- Ask at least 5 interesting questions about your dataset\n",
    "- Answer the questions either by computing the results using Numpy/Pandas or by plotting graphs using Matplotlib/Seaborn\n",
    "- Create new columns, merge multiple datasets and perform grouping/aggregation wherever necessary\n",
    "- Wherever you're using a library function from Pandas/Numpy/Matplotlib etc. explain briefly what it does\n",
    "\n",
    "\n",
    "#### Step 5: Summarize your inferences & write a conclusion\n",
    "\n",
    "- Write a summary of what you've learned from the analysis\n",
    "- Include interesting insights and graphs from previous sections\n",
    "- Share ideas for future work on the same topic using other relevant datasets\n",
    "- Share links to resources you found useful during your analysis\n",
    "\n",
    "\n",
    "#### Step 6: Make a submission & share your work\n",
    "\n",
    "- Upload your notebook to your Jovian.ml profile using `jovian.commit`.\n",
    "- **Make a submission here**: https://jovian.ml/learn/data-analysis-with-python-zero-to-pandas/assignment/course-project\n",
    "- Share your work on the forum: https://jovian.ml/forum/t/course-project-on-exploratory-data-analysis-discuss-and-share-your-work/11684\n",
    "\n",
    "- Browse through projects shared by other participants and give feedback\n",
    "\n",
    "\n",
    "#### (Optional) Step 7: Write a blog post\n",
    "\n",
    "- A blog post is a great way to present and showcase your work.  \n",
    "- Sign up on [Medium.com](https://medium.com) to write a blog post for your project.\n",
    "- Copy over the explanations from your Jupyter notebook into your blog post, and [embed code cells & outputs](https://medium.com/jovianml/share-and-embed-jupyter-notebooks-online-with-jovian-ml-df709a03064e)\n",
    "- Check out the Jovian.ml Medium publication for inspiration: https://medium.com/jovianml\n",
    "\n",
    "\n",
    "\n",
    "### Recommended Datasets\n",
    "\n",
    "\n",
    "Use the following resources for finding interesting datasets:\n",
    "\n",
    "- [Recommended datasets for the course project](https://jovian.ml/forum/t/recommended-datasets-for-course-project/11711)\n",
    "- [Kaggle datasets](https://www.kaggle.com/datasets)\n",
    "- [UCI Machine Learning Repository](http://archive.ics.uci.edu/ml/index.php)\n",
    "- [awesome-public-datasets](https://github.com/awesomedata/awesome-public-datasets)\n",
    "- [Google Dataset Search](https://datasetsearch.research.google.com)\n",
    "- [Your personal data from online services](https://www.popsci.com/download-digital-personal-information/)\n",
    "\n",
    "\n",
    "\n",
    "### Example Projects\n",
    "\n",
    "Refer to these projects for inspiration:\n",
    "\n",
    "* [Analyzing your browser history using Pandas & Seaborn](https://medium.com/free-code-camp/understanding-my-browsing-pattern-using-pandas-and-seaborn-162b97e33e51)\n",
    "\n",
    "* [WhatsApp Chat Data Analysis](https://jovian.ml/PrajwalPrashanth/whatsapp-chat-data-analysis)\n",
    "\n",
    "* [Analyzing Covid-19 data using Pandas](https://jovian.ml/aakashns/python-pandas-data-analysis) \n",
    "\n",
    "* [Understanding the Gender Divide in Data Science Roles](https://medium.com/datadriveninvestor/exploratory-data-analysis-eda-understanding-the-gender-divide-in-data-science-roles-9faa5da44f5b)\n",
    "\n",
    "* [2019 State of Javascript Survey Results](https://2019.stateofjs.com/demographics/)\n",
    "\n",
    "* [2020 Stack Overflow Developer Survey Results](https://insights.stackoverflow.com/survey/2020)\n",
    "\n",
    "\n",
    "### Evaluation Criteria\n",
    "\n",
    "Your submission will be evaluated using the following criteria:\n",
    "\n",
    "* Dataset must contain at least 3 columns and 150 rows of data\n",
    "* You must ask and answer at least 5 questions about the dataset\n",
    "* Your submission must include at least 5 visualizations (graphs)\n",
    "* Your submission must include explanations using markdown cells, apart from the code.\n",
    "* Your work must not be plagiarized i.e. copy-pasted from somewhere else.\n",
    "\n",
    "\n",
    "**NOTE**: Remove this cell containing the instructions before making your submission. You can do using the \"Edit > Delete Cells\" menu option."
   ]
  },
  {
   "cell_type": "markdown",
   "metadata": {
    "id": "UlnMnt-li-Un"
   },
   "source": [
    "# Solar India\n",
    "\n",
    "An analysis of two solar plants in India, based on the awesome Solar Power Generation Dataset.\n",
    "\n"
   ]
  },
  {
   "cell_type": "code",
   "execution_count": 1,
   "metadata": {
    "id": "UE9uY5hzi-Un"
   },
   "outputs": [],
   "source": [
    "project_name = \"solar-india\" \n",
    "filename=project_name+\".ipynb\""
   ]
  },
  {
   "source": [
    "Install and import all the needed packages"
   ],
   "cell_type": "markdown",
   "metadata": {}
  },
  {
   "cell_type": "code",
   "execution_count": 2,
   "metadata": {
    "id": "qOM9hODEi-Un"
   },
   "outputs": [
    {
     "output_type": "stream",
     "name": "stdout",
     "text": [
      "\u001b[33mWARNING: You are using pip version 20.2.4; however, version 20.3.1 is available.\nYou should consider upgrading via the '/usr/bin/python3.8 -m pip install --upgrade pip' command.\u001b[0m\n"
     ]
    }
   ],
   "source": [
    "!pip install jovian opendatasets gitpython  -U -q"
   ]
  },
  {
   "cell_type": "code",
   "execution_count": 3,
   "metadata": {
    "id": "dSXuHjzyi-Uo"
   },
   "outputs": [
    {
     "output_type": "display_data",
     "data": {
      "text/plain": "<IPython.core.display.Javascript object>",
      "application/javascript": "if (window.IPython && IPython.notebook.kernel) IPython.notebook.kernel.execute('jovian.utils.jupyter.get_notebook_name_saved = lambda: \"' + IPython.notebook.notebook_name + '\"')"
     },
     "metadata": {}
    }
   ],
   "source": [
    "import jovian\n",
    "import opendatasets as od\n",
    "import matplotlib as plt\n",
    "import seaborn as sns\n",
    "import pandas as pd\n",
    "import numpy as np\n",
    "import os\n",
    "from os.path import isfile, join\n",
    "from git import Repo\n",
    "%matplotlib inline"
   ]
  },
  {
   "cell_type": "markdown",
   "source": [
    "#### Commit method\n",
    "This is a commit method that will simultaniously upload to [jovian.ai](https://jovian.ai/charitarthchugh/solar-india) and [github.com](https://github.com/charitarthchugh/solar-india).\n",
    "This will only update in Github when there is a Git repository present because the Jovian library's commit feature only works when a git repository is detected. This function is able to push directly to the origin repository from the remote."
   ],
   "metadata": {
    "collapsed": false,
    "pycharm": {
     "name": "#%% md\n"
    }
   }
  },
  {
   "cell_type": "code",
   "execution_count": 4,
   "metadata": {
    "id": "eHRgI1aei-Up"
   },
   "outputs": [],
   "source": [
    "def commit():\n",
    "    \"\"\"\n",
    "\n",
    "    :return: None\n",
    "    \"\"\"\n",
    "    path=os.getcwd()+ \"/data\"\n",
    "    files=[f for f in os.listdir(path) if isfile(join(path, f))]\n",
    "    jovian.commit(\n",
    "        project=project_name, \n",
    "        filename=filename,\n",
    "        files=files,\n",
    "        git_commit=True,\n",
    "        environment=\"conda\")\n",
    "    # We have to perform a manual check ourselves if there is a git repository present.\n",
    "    git_dir = os.getcwd()+\"/.git\"\n",
    "    if os.path.exists(git_dir):\n",
    "        #\n",
    "        # noinspection PyBroadException\n",
    "        try:\n",
    "            repo = Repo(git_dir)\n",
    "            origin = repo.remote(name=\"origin\")\n",
    "            origin.push()\n",
    "            print(\"Pushed Successfully!\")\n",
    "        # If there is a Failure in pushing to origin.\n",
    "        except:\n",
    "            print(\"Error occurred while pushing repository to origin\")\n",
    "    else:\n",
    "        print(\"Not in a git repository, skipping\")"
   ]
  },
  {
   "cell_type": "markdown",
   "metadata": {
    "id": "wnEowoDVi-Up"
   },
   "source": [
    "## Data Preparation and Cleaning\n",
    "  \n",
    "**TODO:**\n",
    "    \n",
    "1.   Download the dataset\n",
    "2.   Import into Pandas\n",
    "3.   Clean redundant data\n",
    "4.   Create Class for each plant\n",
    "\n",
    "\n"
   ]
  },
  {
   "cell_type": "code",
   "execution_count": 5,
   "metadata": {
    "colab": {
     "base_uri": "https://localhost:8080/",
     "height": 647
    },
    "id": "TX7jfyphi-Up",
    "outputId": "9ebe6533-efe9-4e26-d1e2-3108df0d1836"
   },
   "outputs": [],
   "source": [
    "# Download the dataset from Kaggle using opendatasets. Needs a Kaggle Account. \n",
    "#od.download(\"https://www.kaggle.com/anikannal/solar-power-generation-data\", data_dir=os.getcwd().join(\"/data\"))"
   ]
  },
  {
   "cell_type": "markdown",
   "source": [
    "### Dataset Information\n",
    "\n",
    "Here is the dataset column information, split into two sections- Generation and Weather.\n",
    "\n",
    "**Generation Data**\n",
    "\n",
    "| Field                                | Description                                                                                          |\n",
    "|:------------------------------------:|:---------------------------------------------------------------------------------------------------- |\n",
    "| `DATE_TIME`                          | Date and time for each observation. Observations recorded at 15 minute intervals.                    |\n",
    "| `PLANT_ID`                           | Unique numerical ID for each solar plant.                                                            |\n",
    "| `SOURCE_KEY` (used as `INVERTER_ID`) | Unique alphanumerical ID for each inverter                                                           |\n",
    "| `DC_POWER`                           | Amount of DC power generated by the inverter `SOURCE_KEY`, in kilowatts, in this 15 minute interval. |\n",
    "| `AC_POWER`                           | Amount of AC power generated by the inverter `SOURCE_KEY`, in kilowatts, in this 15 minute interval. |\n",
    "| `TOTAL_YEILD`                        | This is the total yield for the inverter till that point in time. Does not start at 0.               |\n",
    "\n",
    "**Weather Data**\n",
    "\n",
    "| Field                                      | Description                                                                                                                 |\n",
    "|:------------------------------------------:| --------------------------------------------------------------------------------------------------------------------------- |\n",
    "| `DATE_TIME`                                | Date and time for each observation. Observations recorded at 15 minute intervals.                                           |\n",
    "| `PLANT_ID`                                 | Unique numerical ID for each solar plant.                                                                                   |\n",
    "| `SOURCE_KEY`   (used as `sensor_panel_id`) | Stands for the sensor panel id. This will be common for the entire file because there's only one sensor panel for the plant |\n",
    "| `AMBIENT_TEMPERATURE`                      | This is the ambient temperature at the plant.                                                                               |\n",
    "| `MODULE_TEMPERATURE`                       | There's a module (solar panel) attached to the sensor panel. This is the temperature reading for that module.               |\n",
    "| `IRRIDATION`                               | Amount of irradiation for the 15 minute interval.                                                                           |"
   ],
   "metadata": {
    "collapsed": false,
    "pycharm": {
     "name": "#%% md\n"
    }
   }
  },
  {
   "cell_type": "markdown",
   "source": [
    "### Pandas Library\n",
    "I am going to be using the [Pandas](https://pandas.pydata.org) library to interact with my dataset.\n",
    "It is a high performance library for Python to interact with datasets of many sizes that "
   ],
   "metadata": {
    "collapsed": false,
    "pycharm": {
     "name": "#%% md\n"
    }
   }
  },
  {
   "cell_type": "code",
   "metadata": {
    "id": "a2IGvzyri-Up",
    "pycharm": {
     "name": "#%%\n"
    }
   },
   "source": [
    "def weather_sensor_df(dataset):\n",
    "    tmp=pd.core.frame.DataFrame\n",
    "    if dataset==1:\n",
    "        tmp=pd.read_csv(os.getcwd()+(\"/data/solar-power-generation/Plant_1_Weather_Sensor_Data.csv\"))\n",
    "    elif dataset==2:\n",
    "        tmp=pd.read_csv(os.getcwd()+(\"/data/solar-power-generation/Plant_2_Weather_Sensor_Data.csv\"))\n",
    "    # Drop SOURCE_KEY too for same reason--> now it is sensor_panel_id, a property of this class\n",
    "    tmp.drop(columns=[\"PLANT_ID\",\"SOURCE_KEY\"], inplace=True)\n",
    "    return tmp\n",
    "def generation_df(dataset):\n",
    "    tmp=pd.core.frame.DataFrame\n",
    "    if dataset==1:\n",
    "        tmp=pd.read_csv(os.getcwd()+(\"/data/solar-power-generation/Plant_1_Generation_Data.csv\"))\n",
    "    elif dataset==2:\n",
    "        tmp=pd.read_csv(os.getcwd()+(\"/data/solar-power-generation/Plant_2_Generation_Data.csv\"))\n",
    "    # Have already saved the PLANT_ID as id, a property of this class\n",
    "    tmp.drop(columns=[\"PLANT_ID\"], inplace=True)\n",
    "    # Rename SOURCE_KEY to INVERTER_ID to make it clearer\n",
    "    tmp.rename(columns={ \"SOURCE_KEY\":\"INVERTER_ID\"},inplace=True)\n",
    "    return tmp"
   ],
   "execution_count": 6,
   "outputs": []
  },
  {
   "cell_type": "code",
   "execution_count": 7,
   "outputs": [],
   "source": [
    "# Create Plant 1 class\n",
    "class Plant1:\n",
    "    id = 4135001\n",
    "    sensor_panel_id = \"HmiyD2TTLFNqkNe\"\n",
    "    generation_df = generation_df(1)\n",
    "    weather_sensor_df = weather_sensor_df(1)"
   ],
   "metadata": {
    "collapsed": false,
    "pycharm": {
     "name": "#%%\n"
    }
   }
  },
  {
   "cell_type": "code",
   "metadata": {
    "colab": {
     "base_uri": "https://localhost:8080/",
     "height": 307
    },
    "id": "eRRdcG96i-Up",
    "outputId": "e5336529-7028-4766-a246-467fc0bc2f0c",
    "pycharm": {
     "name": "#%%\n"
    }
   },
   "source": [
    "plant1=Plant1()\n",
    "plant1.generation_df"
   ],
   "execution_count": 8,
   "outputs": [
    {
     "output_type": "execute_result",
     "data": {
      "text/plain": [
       "              DATE_TIME      INVERTER_ID  DC_POWER  AC_POWER  DAILY_YIELD  \\\n",
       "0      15-05-2020 00:00  1BY6WEcLGh8j5v7       0.0       0.0        0.000   \n",
       "1      15-05-2020 00:00  1IF53ai7Xc0U56Y       0.0       0.0        0.000   \n",
       "2      15-05-2020 00:00  3PZuoBAID5Wc2HD       0.0       0.0        0.000   \n",
       "3      15-05-2020 00:00  7JYdWkrLSPkdwr4       0.0       0.0        0.000   \n",
       "4      15-05-2020 00:00  McdE0feGgRqW7Ca       0.0       0.0        0.000   \n",
       "...                 ...              ...       ...       ...          ...   \n",
       "68773  17-06-2020 23:45  uHbuxQJl8lW7ozc       0.0       0.0     5967.000   \n",
       "68774  17-06-2020 23:45  wCURE6d3bPkepu2       0.0       0.0     5147.625   \n",
       "68775  17-06-2020 23:45  z9Y9gH1T5YWrNuG       0.0       0.0     5819.000   \n",
       "68776  17-06-2020 23:45  zBIq5rxdHJRwDNY       0.0       0.0     5817.000   \n",
       "68777  17-06-2020 23:45  zVJPv84UY57bAof       0.0       0.0     5910.000   \n",
       "\n",
       "       TOTAL_YIELD  \n",
       "0        6259559.0  \n",
       "1        6183645.0  \n",
       "2        6987759.0  \n",
       "3        7602960.0  \n",
       "4        7158964.0  \n",
       "...            ...  \n",
       "68773    7287002.0  \n",
       "68774    7028601.0  \n",
       "68775    7251204.0  \n",
       "68776    6583369.0  \n",
       "68777    7363272.0  \n",
       "\n",
       "[68778 rows x 6 columns]"
      ],
      "text/html": "<div>\n<style scoped>\n    .dataframe tbody tr th:only-of-type {\n        vertical-align: middle;\n    }\n\n    .dataframe tbody tr th {\n        vertical-align: top;\n    }\n\n    .dataframe thead th {\n        text-align: right;\n    }\n</style>\n<table border=\"1\" class=\"dataframe\">\n  <thead>\n    <tr style=\"text-align: right;\">\n      <th></th>\n      <th>DATE_TIME</th>\n      <th>INVERTER_ID</th>\n      <th>DC_POWER</th>\n      <th>AC_POWER</th>\n      <th>DAILY_YIELD</th>\n      <th>TOTAL_YIELD</th>\n    </tr>\n  </thead>\n  <tbody>\n    <tr>\n      <th>0</th>\n      <td>15-05-2020 00:00</td>\n      <td>1BY6WEcLGh8j5v7</td>\n      <td>0.0</td>\n      <td>0.0</td>\n      <td>0.000</td>\n      <td>6259559.0</td>\n    </tr>\n    <tr>\n      <th>1</th>\n      <td>15-05-2020 00:00</td>\n      <td>1IF53ai7Xc0U56Y</td>\n      <td>0.0</td>\n      <td>0.0</td>\n      <td>0.000</td>\n      <td>6183645.0</td>\n    </tr>\n    <tr>\n      <th>2</th>\n      <td>15-05-2020 00:00</td>\n      <td>3PZuoBAID5Wc2HD</td>\n      <td>0.0</td>\n      <td>0.0</td>\n      <td>0.000</td>\n      <td>6987759.0</td>\n    </tr>\n    <tr>\n      <th>3</th>\n      <td>15-05-2020 00:00</td>\n      <td>7JYdWkrLSPkdwr4</td>\n      <td>0.0</td>\n      <td>0.0</td>\n      <td>0.000</td>\n      <td>7602960.0</td>\n    </tr>\n    <tr>\n      <th>4</th>\n      <td>15-05-2020 00:00</td>\n      <td>McdE0feGgRqW7Ca</td>\n      <td>0.0</td>\n      <td>0.0</td>\n      <td>0.000</td>\n      <td>7158964.0</td>\n    </tr>\n    <tr>\n      <th>...</th>\n      <td>...</td>\n      <td>...</td>\n      <td>...</td>\n      <td>...</td>\n      <td>...</td>\n      <td>...</td>\n    </tr>\n    <tr>\n      <th>68773</th>\n      <td>17-06-2020 23:45</td>\n      <td>uHbuxQJl8lW7ozc</td>\n      <td>0.0</td>\n      <td>0.0</td>\n      <td>5967.000</td>\n      <td>7287002.0</td>\n    </tr>\n    <tr>\n      <th>68774</th>\n      <td>17-06-2020 23:45</td>\n      <td>wCURE6d3bPkepu2</td>\n      <td>0.0</td>\n      <td>0.0</td>\n      <td>5147.625</td>\n      <td>7028601.0</td>\n    </tr>\n    <tr>\n      <th>68775</th>\n      <td>17-06-2020 23:45</td>\n      <td>z9Y9gH1T5YWrNuG</td>\n      <td>0.0</td>\n      <td>0.0</td>\n      <td>5819.000</td>\n      <td>7251204.0</td>\n    </tr>\n    <tr>\n      <th>68776</th>\n      <td>17-06-2020 23:45</td>\n      <td>zBIq5rxdHJRwDNY</td>\n      <td>0.0</td>\n      <td>0.0</td>\n      <td>5817.000</td>\n      <td>6583369.0</td>\n    </tr>\n    <tr>\n      <th>68777</th>\n      <td>17-06-2020 23:45</td>\n      <td>zVJPv84UY57bAof</td>\n      <td>0.0</td>\n      <td>0.0</td>\n      <td>5910.000</td>\n      <td>7363272.0</td>\n    </tr>\n  </tbody>\n</table>\n<p>68778 rows × 6 columns</p>\n</div>"
     },
     "metadata": {},
     "execution_count": 8
    }
   ]
  },
  {
   "cell_type": "code",
   "metadata": {
    "colab": {
     "base_uri": "https://localhost:8080/"
    },
    "id": "875xyL3ui-Up",
    "outputId": "80be6da6-ac8a-4caa-8eb2-7b29febb8d56",
    "pycharm": {
     "name": "#%%\n"
    }
   },
   "source": [
    "# Create Class for plant 2\n",
    "class Plant2:\n",
    "    id = 4136001\n",
    "    sensor_panel_id = \"iq8k7ZNt4Mwm3w0\"\n",
    "    generation_df = generation_df(2)\n",
    "    weather_sensor_df = weather_sensor_df(2)"
   ],
   "execution_count": 9,
   "outputs": []
  },
  {
   "cell_type": "code",
   "execution_count": 10,
   "metadata": {},
   "outputs": [
    {
     "output_type": "execute_result",
     "data": {
      "text/plain": [
       "                DATE_TIME  AMBIENT_TEMPERATURE  MODULE_TEMPERATURE  \\\n",
       "0     2020-05-15 00:00:00            27.004764           25.060789   \n",
       "1     2020-05-15 00:15:00            26.880811           24.421869   \n",
       "2     2020-05-15 00:30:00            26.682055           24.427290   \n",
       "3     2020-05-15 00:45:00            26.500589           24.420678   \n",
       "4     2020-05-15 01:00:00            26.596148           25.088210   \n",
       "...                   ...                  ...                 ...   \n",
       "3254  2020-06-17 22:45:00            23.511703           22.856201   \n",
       "3255  2020-06-17 23:00:00            23.482282           22.744190   \n",
       "3256  2020-06-17 23:15:00            23.354743           22.492245   \n",
       "3257  2020-06-17 23:30:00            23.291048           22.373909   \n",
       "3258  2020-06-17 23:45:00            23.202871           22.535908   \n",
       "\n",
       "      IRRADIATION  \n",
       "0             0.0  \n",
       "1             0.0  \n",
       "2             0.0  \n",
       "3             0.0  \n",
       "4             0.0  \n",
       "...           ...  \n",
       "3254          0.0  \n",
       "3255          0.0  \n",
       "3256          0.0  \n",
       "3257          0.0  \n",
       "3258          0.0  \n",
       "\n",
       "[3259 rows x 4 columns]"
      ],
      "text/html": "<div>\n<style scoped>\n    .dataframe tbody tr th:only-of-type {\n        vertical-align: middle;\n    }\n\n    .dataframe tbody tr th {\n        vertical-align: top;\n    }\n\n    .dataframe thead th {\n        text-align: right;\n    }\n</style>\n<table border=\"1\" class=\"dataframe\">\n  <thead>\n    <tr style=\"text-align: right;\">\n      <th></th>\n      <th>DATE_TIME</th>\n      <th>AMBIENT_TEMPERATURE</th>\n      <th>MODULE_TEMPERATURE</th>\n      <th>IRRADIATION</th>\n    </tr>\n  </thead>\n  <tbody>\n    <tr>\n      <th>0</th>\n      <td>2020-05-15 00:00:00</td>\n      <td>27.004764</td>\n      <td>25.060789</td>\n      <td>0.0</td>\n    </tr>\n    <tr>\n      <th>1</th>\n      <td>2020-05-15 00:15:00</td>\n      <td>26.880811</td>\n      <td>24.421869</td>\n      <td>0.0</td>\n    </tr>\n    <tr>\n      <th>2</th>\n      <td>2020-05-15 00:30:00</td>\n      <td>26.682055</td>\n      <td>24.427290</td>\n      <td>0.0</td>\n    </tr>\n    <tr>\n      <th>3</th>\n      <td>2020-05-15 00:45:00</td>\n      <td>26.500589</td>\n      <td>24.420678</td>\n      <td>0.0</td>\n    </tr>\n    <tr>\n      <th>4</th>\n      <td>2020-05-15 01:00:00</td>\n      <td>26.596148</td>\n      <td>25.088210</td>\n      <td>0.0</td>\n    </tr>\n    <tr>\n      <th>...</th>\n      <td>...</td>\n      <td>...</td>\n      <td>...</td>\n      <td>...</td>\n    </tr>\n    <tr>\n      <th>3254</th>\n      <td>2020-06-17 22:45:00</td>\n      <td>23.511703</td>\n      <td>22.856201</td>\n      <td>0.0</td>\n    </tr>\n    <tr>\n      <th>3255</th>\n      <td>2020-06-17 23:00:00</td>\n      <td>23.482282</td>\n      <td>22.744190</td>\n      <td>0.0</td>\n    </tr>\n    <tr>\n      <th>3256</th>\n      <td>2020-06-17 23:15:00</td>\n      <td>23.354743</td>\n      <td>22.492245</td>\n      <td>0.0</td>\n    </tr>\n    <tr>\n      <th>3257</th>\n      <td>2020-06-17 23:30:00</td>\n      <td>23.291048</td>\n      <td>22.373909</td>\n      <td>0.0</td>\n    </tr>\n    <tr>\n      <th>3258</th>\n      <td>2020-06-17 23:45:00</td>\n      <td>23.202871</td>\n      <td>22.535908</td>\n      <td>0.0</td>\n    </tr>\n  </tbody>\n</table>\n<p>3259 rows × 4 columns</p>\n</div>"
     },
     "metadata": {},
     "execution_count": 10
    }
   ],
   "source": [
    "plant2=Plant2()\n",
    "plant2.weather_sensor_df"
   ]
  },
  {
   "cell_type": "markdown",
   "metadata": {
    "id": "5rEc8REjx8Bs"
   },
   "source": [
    "Update in Jovian"
   ]
  },
  {
   "cell_type": "code",
   "execution_count": 17,
   "metadata": {
    "id": "_SGX48qri-Up"
   },
   "outputs": [
    {
     "output_type": "display_data",
     "data": {
      "text/plain": "<IPython.core.display.Javascript object>",
      "application/javascript": "window.require && require([\"base/js/namespace\"],function(Jupyter){Jupyter.notebook.save_checkpoint()})"
     },
     "metadata": {}
    },
    {
     "output_type": "stream",
     "name": "stdout",
     "text": [
      "[jovian] Attempting to save notebook..\u001b[0m\n",
      "[jovian] Updating notebook \"charitarthchugh/solar-india\" on https://jovian.ml/\u001b[0m\n",
      "[jovian] Uploading notebook..\u001b[0m\n",
      "[jovian] Capturing environment..\u001b[0m\n",
      "[jovian] Git repository identified. Performing git commit...\u001b[0m\n",
      "[jovian] Attaching records (metrics, hyperparameters, dataset etc.)\u001b[0m\n",
      "[jovian] Committed successfully! https://jovian.ml/charitarthchugh/solar-india\u001b[0m\n",
      "Pushed Successfully!\n"
     ]
    }
   ],
   "source": [
    "commit()"
   ]
  },
  {
   "cell_type": "markdown",
   "metadata": {
    "id": "iG1u7rq1i-Uq"
   },
   "source": [
    "## Exploratory Analysis and Visualization\n",
    "\n",
    "**TODO**\n",
    "Answer exploratory questions.\n",
    "1.   What is the distribution of ambient temperature in May-June 2015 for each of the solar plants?\n",
    "2.   How many unique inverters are there for each plant? On average, how much energy(DC and AC) does each inverter generate during a period of 34 days?  \n",
    "3.   What is the average total yeild for the inverters at each plant?\n"
   ]
  },
  {
   "cell_type": "markdown",
   "source": [
    "### Question 2: How many unique inverters are there for each plant? On average, how much energy(DC and AC) does each inverter generate during a period of 34 days?\n",
    "\n",
    "**STEPS**\n",
    "1. Get and save the list of unique inverters using `pd.dataframe.unique` plant"
   ],
   "metadata": {
    "collapsed": false,
    "pycharm": {
     "name": "#%% md\n"
    }
   }
  },
  {
   "cell_type": "code",
   "execution_count": 12,
   "metadata": {
    "id": "GAdrhcUDi-Uq"
   },
   "outputs": [],
   "source": [
    "plant_1_inverters = np.array(plant1.generation_df.INVERTER_ID.unique())\n",
    "plant_2_inverters = np.array(plant2.generation_df.INVERTER_ID.unique())"
   ]
  },
  {
   "cell_type": "code",
   "execution_count": null,
   "metadata": {
    "id": "dyX4YlYui-Uq"
   },
   "outputs": [],
   "source": []
  },
  {
   "cell_type": "code",
   "execution_count": null,
   "metadata": {
    "id": "5v4qdwq0i-Uq"
   },
   "outputs": [],
   "source": []
  },
  {
   "cell_type": "code",
   "execution_count": null,
   "metadata": {
    "id": "1ugTMMqCi-Uq"
   },
   "outputs": [],
   "source": []
  },
  {
   "cell_type": "code",
   "execution_count": null,
   "metadata": {
    "id": "raefaLbxi-Uq"
   },
   "outputs": [],
   "source": []
  },
  {
   "cell_type": "code",
   "execution_count": null,
   "metadata": {
    "id": "yZzF_nc0i-Uq"
   },
   "outputs": [],
   "source": [
    "commit()"
   ]
  },
  {
   "cell_type": "markdown",
   "metadata": {
    "id": "VkqoTN9fi-Uq"
   },
   "source": [
    "## Asking and Answering Questions\n",
    "\n",
    "**TODO**\n",
    "\n",
    "1.   [Can we identify faulty or suboptimally performing equipment during the time period?](https://www.kaggle.com/anikannal/solar-power-generation-data?select=Plant_2_Weather_Sensor_Data.csv)\n",
    "2.   [Can we identify the need for panel cleaning/maintenance during the time period?](https://www.kaggle.com/anikannal/solar-power-generation-data?select=Plant_2_Weather_Sensor_Data.csv)\n",
    "\n"
   ]
  },
  {
   "cell_type": "code",
   "execution_count": null,
   "metadata": {
    "id": "jJrnDiO-i-Uq"
   },
   "outputs": [],
   "source": []
  },
  {
   "cell_type": "code",
   "execution_count": null,
   "metadata": {
    "id": "e1FI8qE6i-Uq"
   },
   "outputs": [],
   "source": []
  },
  {
   "cell_type": "code",
   "execution_count": null,
   "metadata": {
    "id": "a50z-ePii-Uq"
   },
   "outputs": [],
   "source": []
  },
  {
   "cell_type": "code",
   "execution_count": null,
   "metadata": {
    "id": "UYMPOlqZi-Uq"
   },
   "outputs": [],
   "source": []
  },
  {
   "cell_type": "code",
   "execution_count": null,
   "metadata": {
    "id": "G9RfCjR-i-Uq"
   },
   "outputs": [],
   "source": []
  },
  {
   "cell_type": "code",
   "execution_count": null,
   "metadata": {
    "id": "NNBwU4KMi-Uq"
   },
   "outputs": [],
   "source": []
  },
  {
   "cell_type": "code",
   "execution_count": null,
   "metadata": {
    "id": "oTxLLV5gi-Uq"
   },
   "outputs": [],
   "source": []
  },
  {
   "cell_type": "code",
   "execution_count": null,
   "metadata": {
    "id": "KJfeEG7Fi-Uq"
   },
   "outputs": [],
   "source": [
    "commit()"
   ]
  },
  {
   "cell_type": "markdown",
   "metadata": {
    "id": "xj3srQ4Ri-Uq"
   },
   "source": [
    "## Inferences and Conclusion\n",
    "\n",
    "**TODO**\n",
    "\n",
    "1.   List item\n",
    "2.   List item\n",
    "\n"
   ]
  },
  {
   "cell_type": "code",
   "execution_count": null,
   "metadata": {
    "id": "r3qcsFXni-Uq"
   },
   "outputs": [],
   "source": []
  },
  {
   "cell_type": "code",
   "execution_count": null,
   "metadata": {
    "id": "4gkQNle1i-Uq"
   },
   "outputs": [],
   "source": []
  },
  {
   "cell_type": "code",
   "execution_count": null,
   "metadata": {
    "id": "NGgHhU-ti-Uq"
   },
   "outputs": [],
   "source": []
  },
  {
   "cell_type": "code",
   "execution_count": null,
   "metadata": {
    "id": "4js0mZx3i-Uq"
   },
   "outputs": [],
   "source": [
    "commit()"
   ]
  },
  {
   "cell_type": "markdown",
   "metadata": {
    "id": "3x_zyDCFi-Ur"
   },
   "source": [
    "## References and Future Work\n",
    "\n",
    "**TODO**\n",
    "\n",
    "1.   List item\n",
    "2.   List item\n",
    "\n"
   ]
  },
  {
   "cell_type": "code",
   "execution_count": null,
   "metadata": {
    "id": "ezzi4hrJi-Ur"
   },
   "outputs": [],
   "source": [
    "commit()"
   ]
  },
  {
   "cell_type": "code",
   "execution_count": null,
   "metadata": {
    "id": "NXUiVbbli-Ur"
   },
   "outputs": [],
   "source": []
  }
 ],
 "metadata": {
  "colab": {
   "collapsed_sections": [
    "iG1u7rq1i-Uq",
    "VkqoTN9fi-Uq",
    "xj3srQ4Ri-Uq",
    "3x_zyDCFi-Ur"
   ],
   "name": "solar-india.ipynb",
   "provenance": []
  },
  "kernelspec": {
   "display_name": "solar-india",
   "language": "python",
   "name": "solar-india"
  },
  "language_info": {
   "codemirror_mode": {
    "name": "ipython",
    "version": 3
   },
   "file_extension": ".py",
   "mimetype": "text/x-python",
   "name": "python",
   "nbconvert_exporter": "python",
   "pygments_lexer": "ipython3",
   "version": "3.8.5-final"
  }
 },
 "nbformat": 4,
 "nbformat_minor": 1
}