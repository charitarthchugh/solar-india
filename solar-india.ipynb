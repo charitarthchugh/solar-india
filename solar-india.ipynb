{
 "cells": [
  {
   "cell_type": "markdown",
   "metadata": {
    "id": "DqupkZYoi-Un"
   },
   "source": [
    "### Data Analysis with Python: Zero to Pandas - Course Project Guidelines\n",
    "#### (remove this cell before submission)\n",
    "\n",
    "Make submissions here:  https://jovian.ml/learn/data-analysis-with-python-zero-to-pandas/assignment/course-project\n",
    "\n",
    "This is the starter notebook for the course project for [Data Analysis with Python: Zero to Pandas](https://jovian.ml/learn/data-analysis-with-python-zero-to-pandas). For the course project, you will pick a real-world dataset of your choice and apply the concepts learned in this course to perform exploratory data analysis. Use this starter notebook as an outline for your project (you can also start with an empty new notebook). Focus on documentation and presentation - this Jupyter notebook will also serve as a project report, so make sure to include detailed explanations whererver possible using Markdown cells.\n",
    "\n",
    "#### Step 1: Select a real-world dataset \n",
    "\n",
    "- Find and download an interesting real-world dataset (see the Recommended Datasets section below for ideas). \n",
    "\n",
    "- The dataset should contain tabular data (rowsn & columns), preferably in CSV/JSON/XLS or other formats that can be read using Pandas. If it's not in a compatible format, you may have to write some code to convert it to a desired format.\n",
    "- The dataset should contain at least 3 columns and 150 rows of data. You can also combine data from multiple sources to create a large enough dataset.\n",
    "\n",
    "\n",
    "#### Step 2: Perform data preparation & cleaning\n",
    "\n",
    "- Load the dataset into a data frame using Pandas\n",
    "- Explore the number of rows & columns, ranges of values etc.\n",
    "- Handle missing, incorrect and invalid data\n",
    "- Perform any additional steps (parsing dates, creating additional columns, merging multiple dataset etc.)\n",
    "\n",
    "\n",
    "#### Step 3: Perform exploratory Analysis & Visualization\n",
    "\n",
    "- Compute the mean, sum, range and other interesting statistics for numeric columns\n",
    "- Explore distributions of numeric columns using histograms etc.\n",
    "- Explore relationship between columns using scatter plots, bar charts etc.\n",
    "- Make a note of interesting insights from the exploratory analysis\n",
    "\n",
    "#### Step 4: Ask & answer questions about the data\n",
    "\n",
    "- Ask at least 5 interesting questions about your dataset\n",
    "- Answer the questions either by computing the results using Numpy/Pandas or by plotting graphs using Matplotlib/Seaborn\n",
    "- Create new columns, merge multiple dataset and perform grouping/aggregation wherever necessary\n",
    "- Wherever you're using a library function from Pandas/Numpy/Matplotlib etc. explain briefly what it does\n",
    "\n",
    "\n",
    "#### Step 5: Summarize your inferences & write a conclusion\n",
    "\n",
    "- Write a summary of what you've learned from the analysis\n",
    "- Include interesting insights and graphs from previous sections\n",
    "- Share ideas for future work on the same topic using other relevant datasets\n",
    "- Share links to resources you found useful during your analysis\n",
    "\n",
    "\n",
    "#### Step 6: Make a submission & share your work\n",
    "\n",
    "- Upload your notebook to your Jovian.ml profile using `jovian.commit`.\n",
    "- **Make a submission here**: https://jovian.ml/learn/data-analysis-with-python-zero-to-pandas/assignment/course-project\n",
    "- Share your work on the forum: https://jovian.ml/forum/t/course-project-on-exploratory-data-analysis-discuss-and-share-your-work/11684\n",
    "\n",
    "- Browse through projects shared by other participants and give feedback\n",
    "\n",
    "\n",
    "#### (Optional) Step 7: Write a blog post\n",
    "\n",
    "- A blog post is a great way to present and showcase your work.  \n",
    "- Sign up on [Medium.com](https://medium.com) to write a blog post for your project.\n",
    "- Copy over the explanations from your Jupyter notebook into your blog post, and [embed code cells & outputs](https://medium.com/jovianml/share-and-embed-jupyter-notebooks-online-with-jovian-ml-df709a03064e)\n",
    "- Check out the Jovian.ml Medium publication for inspiration: https://medium.com/jovianml\n",
    "\n",
    "\n",
    "\n",
    "### Recommended Datasets\n",
    "\n",
    "\n",
    "Use the following resources for finding interesting datasets:\n",
    "\n",
    "- [Recommended datasets for the course project](https://jovian.ml/forum/t/recommended-datasets-for-course-project/11711)\n",
    "- [Kaggle datasets](https://www.kaggle.com/datasets)\n",
    "- [UCI Machine Learning Repository](http://archive.ics.uci.edu/ml/index.php)\n",
    "- [awesome-public-datasets](https://github.com/awesomedata/awesome-public-datasets)\n",
    "- [Google Dataset Search](https://datasetsearch.research.google.com)\n",
    "- [Your personal data from online services](https://www.popsci.com/download-digital-personal-information/)\n",
    "\n",
    "\n",
    "\n",
    "### Example Projects\n",
    "\n",
    "Refer to these projects for inspiration:\n",
    "\n",
    "* [Analyzing your browser history using Pandas & Seaborn](https://medium.com/free-code-camp/understanding-my-browsing-pattern-using-pandas-and-seaborn-162b97e33e51) by Kartik Godawat\n",
    "\n",
    "* [WhatsApp Chat Data Analysis](https://jovian.ml/PrajwalPrashanth/whatsapp-chat-data-analysis) by Prajwal Prashanth\n",
    "\n",
    "* [Analyzing Covid-19 data using Pandas](https://jovian.ml/aakashns/python-pandas-data-analysis) \n",
    "\n",
    "* [Understanding the Gender Divide in Data Science Roles](https://medium.com/datadriveninvestor/exploratory-data-analysis-eda-understanding-the-gender-divide-in-data-science-roles-9faa5da44f5b) by Aakanksha N S\n",
    "\n",
    "* [2019 State of Javscript Survey Results](https://2019.stateofjs.com/demographics/)\n",
    "\n",
    "* [2020 Stack Overflow Developer Survey Results](https://insights.stackoverflow.com/survey/2020)\n",
    "\n",
    "\n",
    "### Evaluation Criteria\n",
    "\n",
    "Your submission will be evaluated using the following criteria:\n",
    "\n",
    "* Dataset must contain at least 3 columns and 150 rows of data\n",
    "* You must ask and answer at least 5 questions about the dataset\n",
    "* Your submission must include at least 5 visualizations (graphs)\n",
    "* Your submission must include explanations using markdown cells, apart from the code.\n",
    "* Your work must not be plagiarized i.e. copy-pasted for somewhere else.\n",
    "\n",
    "\n",
    "**NOTE**: Remove this cell containing the instructions before making your submission. You can do using the \"Edit > Delete Cells\" menu option."
   ]
  },
  {
   "cell_type": "markdown",
   "metadata": {
    "id": "UlnMnt-li-Un"
   },
   "source": [
    "# Solar India\n",
    "\n",
    "An analysis of two solar plants in India, based on the awesome Solar Power Generation Dataset.\n",
    "\n"
   ]
  },
  {
   "cell_type": "code",
   "execution_count": 1,
   "metadata": {
    "id": "UE9uY5hzi-Un"
   },
   "outputs": [],
   "source": [
    "project_name = \"solar-india\" \n",
    "filename=project_name+\".ipynb\""
   ]
  },
  {
   "source": [
    "** Install and import all the "
   ],
   "cell_type": "markdown",
   "metadata": {}
  },
  {
   "cell_type": "code",
   "execution_count": 2,
   "metadata": {
    "id": "qOM9hODEi-Un"
   },
   "outputs": [],
   "source": [
    "!pip install jovian opendatasets gitpython  -U -q"
   ]
  },
  {
   "cell_type": "code",
   "execution_count": 3,
   "metadata": {
    "id": "dSXuHjzyi-Uo"
   },
   "outputs": [
    {
     "output_type": "display_data",
     "data": {
      "text/plain": "<IPython.core.display.Javascript object>",
      "application/javascript": "if (window.IPython && IPython.notebook.kernel) IPython.notebook.kernel.execute('jovian.utils.jupyter.get_notebook_name_saved = lambda: \"' + IPython.notebook.notebook_name + '\"')"
     },
     "metadata": {}
    }
   ],
   "source": [
    "import jovian\n",
    "import opendatasets as od\n",
    "import matplotlib as plt\n",
    "import seaborn as sns\n",
    "import pandas as pd\n",
    "import numpy as np\n",
    "import os\n",
    "from git import Repo"
   ]
  },
  {
   "cell_type": "code",
   "execution_count": 4,
   "metadata": {
    "id": "eHRgI1aei-Up"
   },
   "outputs": [],
   "source": [
    "def commit():\n",
    "    jovian.commit(project=project_name, filename=filename, git_commit=True)\n",
    "    git_dir = os.getcwd()+ \"/.git\"\n",
    "    if(os.path.exists(git_dir)):\n",
    "        try:\n",
    "            repo = Repo(git_dir)\n",
    "            origin =repo.remote(name=\"origin\")\n",
    "            origin.push()\n",
    "            print(\"Pushed Sucessfully!\")\n",
    "        except:\n",
    "            print(\"Error occured while pushing repository to origin\")\n",
    "    else:\n",
    "        print(\"Not in a git repository, skipping\") "
   ]
  },
  {
   "cell_type": "markdown",
   "metadata": {
    "id": "wnEowoDVi-Up"
   },
   "source": [
    "## Data Preparation and Cleaning\n",
    "  \n",
    "  **TODO:**  \n",
    "    \n",
    "1.   Download the dataset\n",
    "2.   Import into Pandas\n",
    "3.   Clean redundant data\n",
    "4.   Create Class for each plant\n",
    "\n",
    "\n"
   ]
  },
  {
   "cell_type": "code",
   "execution_count": null,
   "metadata": {
    "colab": {
     "base_uri": "https://localhost:8080/",
     "height": 647
    },
    "id": "TX7jfyphi-Up",
    "outputId": "9ebe6533-efe9-4e26-d1e2-3108df0d1836"
   },
   "outputs": [],
   "source": [
    "# Download the dataset from Kaggle using opendatasets. Needs a Kaggle Account. \n",
    "#od.download(\"https://www.kaggle.com/anikannal/solar-power-generation-data\", data_dir=\"/content/datasets\")"
   ]
  },
  {
   "cell_type": "code",
   "execution_count": null,
   "metadata": {
    "id": "VWHYkO7Qi-Up"
   },
   "outputs": [],
   "source": [
    "# Import the raw data into Pandas\n",
    "plant_1_generation_raw = pd.read_csv(\"content/datasets/solar-power-generation-data/Plant_1_Generation_Data.csv\")\n",
    "plant_1_weather_sensor_raw = pd.read_csv(\"content/datasets/solar-power-generation-data/Plant_1_Weather_Sensor_Data.csv\")\n",
    "plant_2_generation_raw = pd.read_csv(\"content/datasets/solar-power-generation-data/Plant_2_Generation_Data.csv\")\n",
    "plant_2_weather_sensor_raw = pd.read_csv(\"content/datasets/solar-power-generation-data/Plant_2_Weather_Sensor_Data.csv\")"
   ]
  },
  {
   "cell_type": "code",
   "execution_count": null,
   "metadata": {
    "id": "a2IGvzyri-Up"
   },
   "outputs": [],
   "source": [
    "# Create Plant 1 class\n",
    "class plant1:\n",
    "  id=4135001\n",
    "  sensor_panel_id=\"HmiyD2TTLFNqkNe\"\n",
    "  generation_df = pd.read_csv(\"content/datasets/solar-power-generation-data/Plant_1_Generation_Data.csv\").drop(columns=[\"PLANT_ID\"])\n",
    "  weather_sensor_df = pd.read_csv(\"content/datasets/solar-power-generation-data/Plant_1_Weather_Sensor_Data.csv\").drop(columns=[\"PLANT_ID\",\"SOURCE_KEY\"])\n",
    "  def combined_df():\n",
    "    temp1 = pd.read_csv(\"content/datasets/solar-power-generation-data/Plant_1_Generation_Data.csv\")\n",
    "    temp2 = pd.read_csv(\"content/datasets/solar-power-generation-data/Plant_1_Weather_Sensor_Data.csv\").drop(columns=[\"SOURCE_KEY\"])\n",
    "    combined = pd.merge(temp1,temp2,on=\"PLANT_ID\").drop(columns=\"PLANT_ID\")\n",
    "    return combined\n",
    "  df=combined_df()"
   ]
  },
  {
   "cell_type": "code",
   "execution_count": 28,
   "metadata": {
    "colab": {
     "base_uri": "https://localhost:8080/",
     "height": 307
    },
    "id": "eRRdcG96i-Up",
    "outputId": "e5336529-7028-4766-a246-467fc0bc2f0c"
   },
   "outputs": [
    {
     "output_type": "execute_result",
     "data": {
      "text/plain": [
       "                DATE_TIME_x       SOURCE_KEY  DC_POWER  AC_POWER  DAILY_YIELD  \\\n",
       "0          15-05-2020 00:00  1BY6WEcLGh8j5v7       0.0       0.0          0.0   \n",
       "1          15-05-2020 00:00  1BY6WEcLGh8j5v7       0.0       0.0          0.0   \n",
       "2          15-05-2020 00:00  1BY6WEcLGh8j5v7       0.0       0.0          0.0   \n",
       "3          15-05-2020 00:00  1BY6WEcLGh8j5v7       0.0       0.0          0.0   \n",
       "4          15-05-2020 00:00  1BY6WEcLGh8j5v7       0.0       0.0          0.0   \n",
       "...                     ...              ...       ...       ...          ...   \n",
       "218851591  17-06-2020 23:45  zVJPv84UY57bAof       0.0       0.0       5910.0   \n",
       "218851592  17-06-2020 23:45  zVJPv84UY57bAof       0.0       0.0       5910.0   \n",
       "218851593  17-06-2020 23:45  zVJPv84UY57bAof       0.0       0.0       5910.0   \n",
       "218851594  17-06-2020 23:45  zVJPv84UY57bAof       0.0       0.0       5910.0   \n",
       "218851595  17-06-2020 23:45  zVJPv84UY57bAof       0.0       0.0       5910.0   \n",
       "\n",
       "           TOTAL_YIELD          DATE_TIME_y  AMBIENT_TEMPERATURE  \\\n",
       "0            6259559.0  2020-05-15 00:00:00            25.184316   \n",
       "1            6259559.0  2020-05-15 00:15:00            25.084589   \n",
       "2            6259559.0  2020-05-15 00:30:00            24.935753   \n",
       "3            6259559.0  2020-05-15 00:45:00            24.846130   \n",
       "4            6259559.0  2020-05-15 01:00:00            24.621525   \n",
       "...                ...                  ...                  ...   \n",
       "218851591    7363272.0  2020-06-17 22:45:00            22.150570   \n",
       "218851592    7363272.0  2020-06-17 23:00:00            22.129816   \n",
       "218851593    7363272.0  2020-06-17 23:15:00            22.008275   \n",
       "218851594    7363272.0  2020-06-17 23:30:00            21.969495   \n",
       "218851595    7363272.0  2020-06-17 23:45:00            21.909288   \n",
       "\n",
       "           MODULE_TEMPERATURE  IRRADIATION  \n",
       "0                   22.857507          0.0  \n",
       "1                   22.761668          0.0  \n",
       "2                   22.592306          0.0  \n",
       "3                   22.360852          0.0  \n",
       "4                   22.165423          0.0  \n",
       "...                       ...          ...  \n",
       "218851591           21.480377          0.0  \n",
       "218851592           21.389024          0.0  \n",
       "218851593           20.709211          0.0  \n",
       "218851594           20.734963          0.0  \n",
       "218851595           20.427972          0.0  \n",
       "\n",
       "[218851596 rows x 10 columns]"
      ],
      "text/html": "<div>\n<style scoped>\n    .dataframe tbody tr th:only-of-type {\n        vertical-align: middle;\n    }\n\n    .dataframe tbody tr th {\n        vertical-align: top;\n    }\n\n    .dataframe thead th {\n        text-align: right;\n    }\n</style>\n<table border=\"1\" class=\"dataframe\">\n  <thead>\n    <tr style=\"text-align: right;\">\n      <th></th>\n      <th>DATE_TIME_x</th>\n      <th>SOURCE_KEY</th>\n      <th>DC_POWER</th>\n      <th>AC_POWER</th>\n      <th>DAILY_YIELD</th>\n      <th>TOTAL_YIELD</th>\n      <th>DATE_TIME_y</th>\n      <th>AMBIENT_TEMPERATURE</th>\n      <th>MODULE_TEMPERATURE</th>\n      <th>IRRADIATION</th>\n    </tr>\n  </thead>\n  <tbody>\n    <tr>\n      <th>0</th>\n      <td>15-05-2020 00:00</td>\n      <td>1BY6WEcLGh8j5v7</td>\n      <td>0.0</td>\n      <td>0.0</td>\n      <td>0.0</td>\n      <td>6259559.0</td>\n      <td>2020-05-15 00:00:00</td>\n      <td>25.184316</td>\n      <td>22.857507</td>\n      <td>0.0</td>\n    </tr>\n    <tr>\n      <th>1</th>\n      <td>15-05-2020 00:00</td>\n      <td>1BY6WEcLGh8j5v7</td>\n      <td>0.0</td>\n      <td>0.0</td>\n      <td>0.0</td>\n      <td>6259559.0</td>\n      <td>2020-05-15 00:15:00</td>\n      <td>25.084589</td>\n      <td>22.761668</td>\n      <td>0.0</td>\n    </tr>\n    <tr>\n      <th>2</th>\n      <td>15-05-2020 00:00</td>\n      <td>1BY6WEcLGh8j5v7</td>\n      <td>0.0</td>\n      <td>0.0</td>\n      <td>0.0</td>\n      <td>6259559.0</td>\n      <td>2020-05-15 00:30:00</td>\n      <td>24.935753</td>\n      <td>22.592306</td>\n      <td>0.0</td>\n    </tr>\n    <tr>\n      <th>3</th>\n      <td>15-05-2020 00:00</td>\n      <td>1BY6WEcLGh8j5v7</td>\n      <td>0.0</td>\n      <td>0.0</td>\n      <td>0.0</td>\n      <td>6259559.0</td>\n      <td>2020-05-15 00:45:00</td>\n      <td>24.846130</td>\n      <td>22.360852</td>\n      <td>0.0</td>\n    </tr>\n    <tr>\n      <th>4</th>\n      <td>15-05-2020 00:00</td>\n      <td>1BY6WEcLGh8j5v7</td>\n      <td>0.0</td>\n      <td>0.0</td>\n      <td>0.0</td>\n      <td>6259559.0</td>\n      <td>2020-05-15 01:00:00</td>\n      <td>24.621525</td>\n      <td>22.165423</td>\n      <td>0.0</td>\n    </tr>\n    <tr>\n      <th>...</th>\n      <td>...</td>\n      <td>...</td>\n      <td>...</td>\n      <td>...</td>\n      <td>...</td>\n      <td>...</td>\n      <td>...</td>\n      <td>...</td>\n      <td>...</td>\n      <td>...</td>\n    </tr>\n    <tr>\n      <th>218851591</th>\n      <td>17-06-2020 23:45</td>\n      <td>zVJPv84UY57bAof</td>\n      <td>0.0</td>\n      <td>0.0</td>\n      <td>5910.0</td>\n      <td>7363272.0</td>\n      <td>2020-06-17 22:45:00</td>\n      <td>22.150570</td>\n      <td>21.480377</td>\n      <td>0.0</td>\n    </tr>\n    <tr>\n      <th>218851592</th>\n      <td>17-06-2020 23:45</td>\n      <td>zVJPv84UY57bAof</td>\n      <td>0.0</td>\n      <td>0.0</td>\n      <td>5910.0</td>\n      <td>7363272.0</td>\n      <td>2020-06-17 23:00:00</td>\n      <td>22.129816</td>\n      <td>21.389024</td>\n      <td>0.0</td>\n    </tr>\n    <tr>\n      <th>218851593</th>\n      <td>17-06-2020 23:45</td>\n      <td>zVJPv84UY57bAof</td>\n      <td>0.0</td>\n      <td>0.0</td>\n      <td>5910.0</td>\n      <td>7363272.0</td>\n      <td>2020-06-17 23:15:00</td>\n      <td>22.008275</td>\n      <td>20.709211</td>\n      <td>0.0</td>\n    </tr>\n    <tr>\n      <th>218851594</th>\n      <td>17-06-2020 23:45</td>\n      <td>zVJPv84UY57bAof</td>\n      <td>0.0</td>\n      <td>0.0</td>\n      <td>5910.0</td>\n      <td>7363272.0</td>\n      <td>2020-06-17 23:30:00</td>\n      <td>21.969495</td>\n      <td>20.734963</td>\n      <td>0.0</td>\n    </tr>\n    <tr>\n      <th>218851595</th>\n      <td>17-06-2020 23:45</td>\n      <td>zVJPv84UY57bAof</td>\n      <td>0.0</td>\n      <td>0.0</td>\n      <td>5910.0</td>\n      <td>7363272.0</td>\n      <td>2020-06-17 23:45:00</td>\n      <td>21.909288</td>\n      <td>20.427972</td>\n      <td>0.0</td>\n    </tr>\n  </tbody>\n</table>\n<p>218851596 rows × 10 columns</p>\n</div>"
     },
     "metadata": {},
     "execution_count": 28
    }
   ],
   "source": [
    "plant1.df"
   ]
  },
  {
   "cell_type": "code",
   "execution_count": 29,
   "metadata": {
    "colab": {
     "base_uri": "https://localhost:8080/"
    },
    "id": "875xyL3ui-Up",
    "outputId": "80be6da6-ac8a-4caa-8eb2-7b29febb8d56"
   },
   "outputs": [],
   "source": [
    "# Create Class for plant 2\n",
    "class plant2:\n",
    "  id =4136001\n",
    "  sensor_panel_id = \"iq8k7ZNt4Mwm3w0\"\n",
    "  generation_df = pd.read_csv(\"content/datasets/solar-power-generation-data/Plant_2_Generation_Data.csv\").drop(columns=[\"PLANT_ID\"])\n",
    "  weather_sensor_df = pd.read_csv(\"content/datasets/solar-power-generation-data/Plant_2_Weather_Sensor_Data.csv\").drop(columns=[\"PLANT_ID\",\"SOURCE_KEY\"])\n",
    "  def combined_df():\n",
    "    temp1 = pd.read_csv(\"content/datasets/solar-power-generation-data/Plant_2_Generation_Data.csv\")\n",
    "    temp2 = pd.read_csv(\"content/datasets/solar-power-generation-data/Plant_2_Weather_Sensor_Data.csv\").drop(columns=[\"SOURCE_KEY\"])\n",
    "    combined = pd.merge(temp1,temp2,on=\"PLANT_ID\").drop(columns=\"PLANT_ID\")\n",
    "    return combined\n",
    "  df=combined_df()"
   ]
  },
  {
   "cell_type": "code",
   "execution_count": 30,
   "metadata": {
    "id": "BJNKXPFBi-Up"
   },
   "outputs": [
    {
     "output_type": "execute_result",
     "data": {
      "text/plain": [
       "                   DATE_TIME_x       SOURCE_KEY  DC_POWER  AC_POWER  \\\n",
       "0          2020-05-15 00:00:00  4UPUqMRk7TRMgml       0.0       0.0   \n",
       "1          2020-05-15 00:00:00  4UPUqMRk7TRMgml       0.0       0.0   \n",
       "2          2020-05-15 00:00:00  4UPUqMRk7TRMgml       0.0       0.0   \n",
       "3          2020-05-15 00:00:00  4UPUqMRk7TRMgml       0.0       0.0   \n",
       "4          2020-05-15 00:00:00  4UPUqMRk7TRMgml       0.0       0.0   \n",
       "...                        ...              ...       ...       ...   \n",
       "220627777  2020-06-17 23:45:00  xoJJ8DcxJEcupym       0.0       0.0   \n",
       "220627778  2020-06-17 23:45:00  xoJJ8DcxJEcupym       0.0       0.0   \n",
       "220627779  2020-06-17 23:45:00  xoJJ8DcxJEcupym       0.0       0.0   \n",
       "220627780  2020-06-17 23:45:00  xoJJ8DcxJEcupym       0.0       0.0   \n",
       "220627781  2020-06-17 23:45:00  xoJJ8DcxJEcupym       0.0       0.0   \n",
       "\n",
       "           DAILY_YIELD  TOTAL_YIELD          DATE_TIME_y  AMBIENT_TEMPERATURE  \\\n",
       "0               9425.0    2429011.0  2020-05-15 00:00:00            27.004764   \n",
       "1               9425.0    2429011.0  2020-05-15 00:15:00            26.880811   \n",
       "2               9425.0    2429011.0  2020-05-15 00:30:00            26.682055   \n",
       "3               9425.0    2429011.0  2020-05-15 00:45:00            26.500589   \n",
       "4               9425.0    2429011.0  2020-05-15 01:00:00            26.596148   \n",
       "...                ...          ...                  ...                  ...   \n",
       "220627777       4316.0  209335741.0  2020-06-17 22:45:00            23.511703   \n",
       "220627778       4316.0  209335741.0  2020-06-17 23:00:00            23.482282   \n",
       "220627779       4316.0  209335741.0  2020-06-17 23:15:00            23.354743   \n",
       "220627780       4316.0  209335741.0  2020-06-17 23:30:00            23.291048   \n",
       "220627781       4316.0  209335741.0  2020-06-17 23:45:00            23.202871   \n",
       "\n",
       "           MODULE_TEMPERATURE  IRRADIATION  \n",
       "0                   25.060789          0.0  \n",
       "1                   24.421869          0.0  \n",
       "2                   24.427290          0.0  \n",
       "3                   24.420678          0.0  \n",
       "4                   25.088210          0.0  \n",
       "...                       ...          ...  \n",
       "220627777           22.856201          0.0  \n",
       "220627778           22.744190          0.0  \n",
       "220627779           22.492245          0.0  \n",
       "220627780           22.373909          0.0  \n",
       "220627781           22.535908          0.0  \n",
       "\n",
       "[220627782 rows x 10 columns]"
      ],
      "text/html": "<div>\n<style scoped>\n    .dataframe tbody tr th:only-of-type {\n        vertical-align: middle;\n    }\n\n    .dataframe tbody tr th {\n        vertical-align: top;\n    }\n\n    .dataframe thead th {\n        text-align: right;\n    }\n</style>\n<table border=\"1\" class=\"dataframe\">\n  <thead>\n    <tr style=\"text-align: right;\">\n      <th></th>\n      <th>DATE_TIME_x</th>\n      <th>SOURCE_KEY</th>\n      <th>DC_POWER</th>\n      <th>AC_POWER</th>\n      <th>DAILY_YIELD</th>\n      <th>TOTAL_YIELD</th>\n      <th>DATE_TIME_y</th>\n      <th>AMBIENT_TEMPERATURE</th>\n      <th>MODULE_TEMPERATURE</th>\n      <th>IRRADIATION</th>\n    </tr>\n  </thead>\n  <tbody>\n    <tr>\n      <th>0</th>\n      <td>2020-05-15 00:00:00</td>\n      <td>4UPUqMRk7TRMgml</td>\n      <td>0.0</td>\n      <td>0.0</td>\n      <td>9425.0</td>\n      <td>2429011.0</td>\n      <td>2020-05-15 00:00:00</td>\n      <td>27.004764</td>\n      <td>25.060789</td>\n      <td>0.0</td>\n    </tr>\n    <tr>\n      <th>1</th>\n      <td>2020-05-15 00:00:00</td>\n      <td>4UPUqMRk7TRMgml</td>\n      <td>0.0</td>\n      <td>0.0</td>\n      <td>9425.0</td>\n      <td>2429011.0</td>\n      <td>2020-05-15 00:15:00</td>\n      <td>26.880811</td>\n      <td>24.421869</td>\n      <td>0.0</td>\n    </tr>\n    <tr>\n      <th>2</th>\n      <td>2020-05-15 00:00:00</td>\n      <td>4UPUqMRk7TRMgml</td>\n      <td>0.0</td>\n      <td>0.0</td>\n      <td>9425.0</td>\n      <td>2429011.0</td>\n      <td>2020-05-15 00:30:00</td>\n      <td>26.682055</td>\n      <td>24.427290</td>\n      <td>0.0</td>\n    </tr>\n    <tr>\n      <th>3</th>\n      <td>2020-05-15 00:00:00</td>\n      <td>4UPUqMRk7TRMgml</td>\n      <td>0.0</td>\n      <td>0.0</td>\n      <td>9425.0</td>\n      <td>2429011.0</td>\n      <td>2020-05-15 00:45:00</td>\n      <td>26.500589</td>\n      <td>24.420678</td>\n      <td>0.0</td>\n    </tr>\n    <tr>\n      <th>4</th>\n      <td>2020-05-15 00:00:00</td>\n      <td>4UPUqMRk7TRMgml</td>\n      <td>0.0</td>\n      <td>0.0</td>\n      <td>9425.0</td>\n      <td>2429011.0</td>\n      <td>2020-05-15 01:00:00</td>\n      <td>26.596148</td>\n      <td>25.088210</td>\n      <td>0.0</td>\n    </tr>\n    <tr>\n      <th>...</th>\n      <td>...</td>\n      <td>...</td>\n      <td>...</td>\n      <td>...</td>\n      <td>...</td>\n      <td>...</td>\n      <td>...</td>\n      <td>...</td>\n      <td>...</td>\n      <td>...</td>\n    </tr>\n    <tr>\n      <th>220627777</th>\n      <td>2020-06-17 23:45:00</td>\n      <td>xoJJ8DcxJEcupym</td>\n      <td>0.0</td>\n      <td>0.0</td>\n      <td>4316.0</td>\n      <td>209335741.0</td>\n      <td>2020-06-17 22:45:00</td>\n      <td>23.511703</td>\n      <td>22.856201</td>\n      <td>0.0</td>\n    </tr>\n    <tr>\n      <th>220627778</th>\n      <td>2020-06-17 23:45:00</td>\n      <td>xoJJ8DcxJEcupym</td>\n      <td>0.0</td>\n      <td>0.0</td>\n      <td>4316.0</td>\n      <td>209335741.0</td>\n      <td>2020-06-17 23:00:00</td>\n      <td>23.482282</td>\n      <td>22.744190</td>\n      <td>0.0</td>\n    </tr>\n    <tr>\n      <th>220627779</th>\n      <td>2020-06-17 23:45:00</td>\n      <td>xoJJ8DcxJEcupym</td>\n      <td>0.0</td>\n      <td>0.0</td>\n      <td>4316.0</td>\n      <td>209335741.0</td>\n      <td>2020-06-17 23:15:00</td>\n      <td>23.354743</td>\n      <td>22.492245</td>\n      <td>0.0</td>\n    </tr>\n    <tr>\n      <th>220627780</th>\n      <td>2020-06-17 23:45:00</td>\n      <td>xoJJ8DcxJEcupym</td>\n      <td>0.0</td>\n      <td>0.0</td>\n      <td>4316.0</td>\n      <td>209335741.0</td>\n      <td>2020-06-17 23:30:00</td>\n      <td>23.291048</td>\n      <td>22.373909</td>\n      <td>0.0</td>\n    </tr>\n    <tr>\n      <th>220627781</th>\n      <td>2020-06-17 23:45:00</td>\n      <td>xoJJ8DcxJEcupym</td>\n      <td>0.0</td>\n      <td>0.0</td>\n      <td>4316.0</td>\n      <td>209335741.0</td>\n      <td>2020-06-17 23:45:00</td>\n      <td>23.202871</td>\n      <td>22.535908</td>\n      <td>0.0</td>\n    </tr>\n  </tbody>\n</table>\n<p>220627782 rows × 10 columns</p>\n</div>"
     },
     "metadata": {},
     "execution_count": 30
    }
   ],
   "source": [
    "plant2.df"
   ]
  },
  {
   "cell_type": "markdown",
   "metadata": {
    "id": "5rEc8REjx8Bs"
   },
   "source": [
    "Update in Jovian"
   ]
  },
  {
   "cell_type": "code",
   "execution_count": 27,
   "metadata": {
    "id": "_SGX48qri-Up"
   },
   "outputs": [
    {
     "output_type": "display_data",
     "data": {
      "text/plain": "<IPython.core.display.Javascript object>",
      "application/javascript": "window.require && require([\"base/js/namespace\"],function(Jupyter){Jupyter.notebook.save_checkpoint()})"
     },
     "metadata": {}
    },
    {
     "output_type": "stream",
     "name": "stdout",
     "text": [
      "[jovian] Attempting to save notebook..\u001b[0m\n",
      "[jovian] Updating notebook \"charitarthchugh/solar-india\" on https://jovian.ai/\u001b[0m\n",
      "[jovian] Uploading notebook..\u001b[0m\n",
      "[jovian] Capturing environment..\u001b[0m\n",
      "[jovian] Git repository identified. Performing git commit...\u001b[0m\n",
      "[jovian] Attaching records (metrics, hyperparameters, dataset etc.)\u001b[0m\n",
      "[jovian] Committed successfully! https://jovian.ai/charitarthchugh/solar-india\u001b[0m\n",
      "Pushed Sucessfully\n"
     ]
    }
   ],
   "source": [
    "commit()"
   ]
  },
  {
   "cell_type": "markdown",
   "metadata": {
    "id": "iG1u7rq1i-Uq"
   },
   "source": [
    "## Exploratory Analysis and Visualization\n",
    "\n",
    "**TODO**\n",
    "\n",
    "1.   List item\n",
    "2.   List item\n",
    "\n"
   ]
  },
  {
   "cell_type": "code",
   "execution_count": null,
   "metadata": {
    "id": "GAdrhcUDi-Uq"
   },
   "outputs": [],
   "source": []
  },
  {
   "cell_type": "code",
   "execution_count": null,
   "metadata": {
    "id": "dyX4YlYui-Uq"
   },
   "outputs": [],
   "source": []
  },
  {
   "cell_type": "code",
   "execution_count": null,
   "metadata": {
    "id": "5v4qdwq0i-Uq"
   },
   "outputs": [],
   "source": []
  },
  {
   "cell_type": "code",
   "execution_count": null,
   "metadata": {
    "id": "1ugTMMqCi-Uq"
   },
   "outputs": [],
   "source": []
  },
  {
   "cell_type": "code",
   "execution_count": null,
   "metadata": {
    "id": "raefaLbxi-Uq"
   },
   "outputs": [],
   "source": []
  },
  {
   "cell_type": "code",
   "execution_count": null,
   "metadata": {
    "id": "yZzF_nc0i-Uq"
   },
   "outputs": [],
   "source": [
    "jovian.commit()"
   ]
  },
  {
   "cell_type": "markdown",
   "metadata": {
    "id": "VkqoTN9fi-Uq"
   },
   "source": [
    "## Asking and Answering Questions\n",
    "\n",
    "**TODO**\n",
    "\n",
    "1.   List item\n",
    "2.   List item\n",
    "\n"
   ]
  },
  {
   "cell_type": "code",
   "execution_count": null,
   "metadata": {
    "id": "jJrnDiO-i-Uq"
   },
   "outputs": [],
   "source": []
  },
  {
   "cell_type": "code",
   "execution_count": null,
   "metadata": {
    "id": "e1FI8qE6i-Uq"
   },
   "outputs": [],
   "source": []
  },
  {
   "cell_type": "code",
   "execution_count": null,
   "metadata": {
    "id": "a50z-ePii-Uq"
   },
   "outputs": [],
   "source": []
  },
  {
   "cell_type": "code",
   "execution_count": null,
   "metadata": {
    "id": "UYMPOlqZi-Uq"
   },
   "outputs": [],
   "source": []
  },
  {
   "cell_type": "code",
   "execution_count": null,
   "metadata": {
    "id": "G9RfCjR-i-Uq"
   },
   "outputs": [],
   "source": []
  },
  {
   "cell_type": "code",
   "execution_count": null,
   "metadata": {
    "id": "NNBwU4KMi-Uq"
   },
   "outputs": [],
   "source": []
  },
  {
   "cell_type": "code",
   "execution_count": null,
   "metadata": {
    "id": "oTxLLV5gi-Uq"
   },
   "outputs": [],
   "source": []
  },
  {
   "cell_type": "code",
   "execution_count": null,
   "metadata": {
    "id": "XuH8J9Phi-Uq"
   },
   "outputs": [],
   "source": [
    "import jovian"
   ]
  },
  {
   "cell_type": "code",
   "execution_count": null,
   "metadata": {
    "id": "KJfeEG7Fi-Uq"
   },
   "outputs": [],
   "source": [
    "jovian.commit()"
   ]
  },
  {
   "cell_type": "markdown",
   "metadata": {
    "id": "xj3srQ4Ri-Uq"
   },
   "source": [
    "## Inferences and Conclusion\n",
    "\n",
    "**TODO**\n",
    "\n",
    "1.   List item\n",
    "2.   List item\n",
    "\n"
   ]
  },
  {
   "cell_type": "code",
   "execution_count": null,
   "metadata": {
    "id": "r3qcsFXni-Uq"
   },
   "outputs": [],
   "source": []
  },
  {
   "cell_type": "code",
   "execution_count": null,
   "metadata": {
    "id": "4gkQNle1i-Uq"
   },
   "outputs": [],
   "source": []
  },
  {
   "cell_type": "code",
   "execution_count": null,
   "metadata": {
    "id": "NGgHhU-ti-Uq"
   },
   "outputs": [],
   "source": []
  },
  {
   "cell_type": "code",
   "execution_count": null,
   "metadata": {
    "id": "CCyzjqR6i-Uq"
   },
   "outputs": [],
   "source": [
    "import jovian"
   ]
  },
  {
   "cell_type": "code",
   "execution_count": null,
   "metadata": {
    "id": "4js0mZx3i-Uq"
   },
   "outputs": [],
   "source": [
    "jovian.commit()"
   ]
  },
  {
   "cell_type": "markdown",
   "metadata": {
    "id": "3x_zyDCFi-Ur"
   },
   "source": [
    "## References and Future Work\n",
    "\n",
    "**TODO**\n",
    "\n",
    "1.   List item\n",
    "2.   List item\n",
    "\n"
   ]
  },
  {
   "cell_type": "code",
   "execution_count": null,
   "metadata": {
    "id": "khAr1UIRi-Ur"
   },
   "outputs": [],
   "source": [
    "import jovian"
   ]
  },
  {
   "cell_type": "code",
   "execution_count": null,
   "metadata": {
    "id": "ezzi4hrJi-Ur"
   },
   "outputs": [],
   "source": [
    "jovian.commit()"
   ]
  },
  {
   "cell_type": "code",
   "execution_count": null,
   "metadata": {
    "id": "NXUiVbbli-Ur"
   },
   "outputs": [],
   "source": []
  }
 ],
 "metadata": {
  "colab": {
   "collapsed_sections": [
    "iG1u7rq1i-Uq",
    "VkqoTN9fi-Uq",
    "xj3srQ4Ri-Uq",
    "3x_zyDCFi-Ur"
   ],
   "name": "solar-india.ipynb",
   "provenance": []
  },
  "kernelspec": {
   "display_name": "solar-india",
   "language": "python",
   "name": "solar-india"
  },
  "language_info": {
   "codemirror_mode": {
    "name": "ipython",
    "version": 3
   },
   "file_extension": ".py",
   "mimetype": "text/x-python",
   "name": "python",
   "nbconvert_exporter": "python",
   "pygments_lexer": "ipython3",
   "version": "3.8.5-final"
  }
 },
 "nbformat": 4,
 "nbformat_minor": 1
}